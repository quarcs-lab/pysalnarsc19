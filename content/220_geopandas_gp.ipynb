{
  "nbformat": 4,
  "nbformat_minor": 0,
  "metadata": {
    "jupytext": {
      "formats": "ipynb,md"
    },
    "kernelspec": {
      "display_name": "Python 3",
      "language": "python",
      "name": "python3"
    },
    "language_info": {
      "codemirror_mode": {
        "name": "ipython",
        "version": 3
      },
      "file_extension": ".py",
      "mimetype": "text/x-python",
      "name": "python",
      "nbconvert_exporter": "python",
      "pygments_lexer": "ipython3",
      "version": "3.6.7"
    },
    "colab": {
      "name": "220_geopandas_gp.ipynb",
      "provenance": [],
      "toc_visible": true,
      "include_colab_link": true
    }
  },
  "cells": [
    {
      "cell_type": "markdown",
      "metadata": {
        "id": "view-in-github",
        "colab_type": "text"
      },
      "source": [
        "<a href=\"https://colab.research.google.com/github/quarcs-lab/pysalnarsc19/blob/master/content/220_geopandas_gp.ipynb\" target=\"_parent\"><img src=\"https://colab.research.google.com/assets/colab-badge.svg\" alt=\"Open In Colab\"/></a>"
      ]
    },
    {
      "cell_type": "markdown",
      "metadata": {
        "id": "tAjlAAm2_z_R",
        "colab_type": "text"
      },
      "source": [
        "Geoprocessing with GeoPandas\n",
        "============================\n",
        "\n",
        "We continue exploring geopandas and more of its geoprocessing\n",
        "capabilities. In this notebook we assume the role of a social scientist\n",
        "who is interested in the topic of environmental equity. They are broadly\n",
        "concerned with the question of whether different racial groups are\n",
        "exposed to different levels of environmental hazards in urban settings.\n",
        "\n",
        "Their empirical analysis will focus on the case of Riverside County, CA,\n",
        "where the spatial unit of analysis is the Census tract which we\n",
        "encountered and processed in the previous notebook. The researcher will\n",
        "examine the spatial relationships between the highway network and the\n",
        "census tracts to develop operational measures that feed into their\n",
        "environmental equity analysis.\n",
        "\n",
        "In this notebook we focus on generating new features that will be used\n",
        "in subsequent econometric modeling to test various hypothesis about\n",
        "environmental justice. We want to create new variables that express the\n",
        "exposure to the highway network for census tracts in Riverside, CA.\n",
        "\n",
        "Objectives\n",
        "----------\n",
        "\n",
        "-   Processing polyline shapefiles to represent road networks\n",
        "-   Learn about geographical clipping\n",
        "-   Integrate spatial data sources with different coordinate reference\n",
        "    systems\n",
        "-   Apply buffering to derive new features for subsequent analysis\n",
        "\n"
      ]
    },
    {
      "cell_type": "markdown",
      "metadata": {
        "id": "bs7_I4z8yH-2",
        "colab_type": "text"
      },
      "source": [
        "# Setup"
      ]
    },
    {
      "cell_type": "markdown",
      "metadata": {
        "id": "2w2i9A11xbtY",
        "colab_type": "text"
      },
      "source": [
        "## Install libraries"
      ]
    },
    {
      "cell_type": "code",
      "metadata": {
        "id": "mMqi_v_toYMF",
        "colab_type": "code",
        "colab": {
          "base_uri": "https://localhost:8080/",
          "height": 68
        },
        "outputId": "9c000098-8306-443c-eddd-31bb8c7554c4"
      },
      "source": [
        "!pip install -q geopandas\n",
        "!pip install -q seaborn\n",
        "!pip install -q shapely\n"
      ],
      "execution_count": 1,
      "outputs": [
        {
          "output_type": "stream",
          "text": [
            "\u001b[K     |████████████████████████████████| 931kB 2.9MB/s \n",
            "\u001b[K     |████████████████████████████████| 10.4MB 37.8MB/s \n",
            "\u001b[K     |████████████████████████████████| 14.7MB 29.3MB/s \n",
            "\u001b[?25h"
          ],
          "name": "stdout"
        }
      ]
    },
    {
      "cell_type": "markdown",
      "metadata": {
        "id": "ENUAqJcJu1vT",
        "colab_type": "text"
      },
      "source": [
        "## Load libraries"
      ]
    },
    {
      "cell_type": "code",
      "metadata": {
        "id": "C3Z6_puSwpoy",
        "colab_type": "code",
        "colab": {}
      },
      "source": [
        "%matplotlib inline\n",
        "import matplotlib\n",
        "import matplotlib.pyplot as plt\n",
        "import numpy as np\n",
        "import geopandas as gpd"
      ],
      "execution_count": 0,
      "outputs": []
    },
    {
      "cell_type": "markdown",
      "metadata": {
        "id": "js3juPjqxafU",
        "colab_type": "text"
      },
      "source": [
        "## Load data from Github "
      ]
    },
    {
      "cell_type": "code",
      "metadata": {
        "id": "MqL5dsWjrjh_",
        "colab_type": "code",
        "colab": {
          "base_uri": "https://localhost:8080/",
          "height": 153
        },
        "outputId": "9b479fcf-a11b-469e-9d91-0f9c10afa30d"
      },
      "source": [
        "# It will be cloned for about a 12 hours. That is, you have to re-run this code only after 12 hours\n",
        " !git clone --recursive https://github.com/quarcs-lab/pysalnarsc19.git"
      ],
      "execution_count": 3,
      "outputs": [
        {
          "output_type": "stream",
          "text": [
            "Cloning into 'pysalnarsc19'...\n",
            "remote: Enumerating objects: 69, done.\u001b[K\n",
            "remote: Counting objects: 100% (69/69), done.\u001b[K\n",
            "remote: Compressing objects: 100% (55/55), done.\u001b[K\n",
            "remote: Total 387 (delta 35), reused 31 (delta 14), pack-reused 318\u001b[K\n",
            "Receiving objects: 100% (387/387), 73.52 MiB | 10.32 MiB/s, done.\n",
            "Resolving deltas: 100% (160/160), done.\n",
            "Checking out files: 100% (148/148), done.\n"
          ],
          "name": "stdout"
        }
      ]
    },
    {
      "cell_type": "code",
      "metadata": {
        "id": "V_VCfrX_sppt",
        "colab_type": "code",
        "outputId": "b71710ef-e983-4845-e355-590559f773de",
        "colab": {
          "base_uri": "https://localhost:8080/",
          "height": 680
        }
      },
      "source": [
        "# Let us see what we have inside content/data Folder\n",
        " !ls pysalnarsc19/content/data"
      ],
      "execution_count": 4,
      "outputs": [
        {
          "output_type": "stream",
          "text": [
            "airbnb.cpg\t\t\t  participants2016.csv\n",
            "airbnb.dbf\t\t\t  participants2017.csv\n",
            "airbnb.prj\t\t\t  participants2018.csv\n",
            "airbnb.shp\t\t\t  README.md\n",
            "airbnb.shx\t\t\t  riverside_city.dbf\n",
            "airports.csv\t\t\t  riverside_city.prj\n",
            "b500.cpg\t\t\t  riverside_city.qpj\n",
            "b500.dbf\t\t\t  riverside_city.shp\n",
            "b500.prj\t\t\t  riverside_city.shx\n",
            "b500.shp\t\t\t  san_diego.cpg\n",
            "b500.shx\t\t\t  san_diego.dbf\n",
            "behavioralHealth.dbf\t\t  san_diego.prj\n",
            "behavioralHealth.prj\t\t  san_diego.shp\n",
            "behavioralHealth.qpj\t\t  san_diego.shx\n",
            "behavioralHealth.shp\t\t  san_diego.tif\n",
            "behavioralHealth.shx\t\t  sd_tracts_acs_clean.dbf\n",
            "CAINC1__ALL_STATES_1969_2017.csv  sd_tracts_acs_clean.prj\n",
            "CAINC1__definition.xml\t\t  sd_tracts_acs_clean.qpj\n",
            "CAINC1__Footnotes.html\t\t  sd_tracts_acs_clean.shp\n",
            "california_tracts.cpg\t\t  sd_tracts_acs_clean.shx\n",
            "california_tracts.dbf\t\t  texas.dbf\n",
            "california_tracts.prj\t\t  texas.geojson\n",
            "california_tracts.shp\t\t  texas.prj\n",
            "california_tracts.shx\t\t  texas.qgs\n",
            "city_tracts.cpg\t\t\t  texas.qpj\n",
            "city_tracts.dbf\t\t\t  texas.shp\n",
            "city_tracts.prj\t\t\t  texas.shx\n",
            "city_tracts.shp\t\t\t  tracts_routes.cpg\n",
            "city_tracts.shx\t\t\t  tracts_routes.dbf\n",
            "clinics.cpg\t\t\t  tracts_routes.prj\n",
            "clinics.dbf\t\t\t  tracts_routes.shp\n",
            "clinics.prj\t\t\t  tracts_routes.shx\n",
            "clinics.shp\t\t\t  Truck_Route_Network\n",
            "clinics.shx\t\t\t  Truck_Route_Network.cpg\n",
            "continents.geojson\t\t  Truck_Route_Network.dbf\n",
            "listings.gpkg\t\t\t  Truck_Route_Network.prj\n",
            "neighborhoods.csv\t\t  Truck_Route_Network.shp\n",
            "neighborhoods.gpkg\t\t  Truck_Route_Network.shp.xml\n",
            "neighbourhoods.geojson\t\t  Truck_Route_Network.shx\n"
          ],
          "name": "stdout"
        }
      ]
    },
    {
      "cell_type": "code",
      "metadata": {
        "id": "6pgJJFoToI4O",
        "colab_type": "code",
        "colab": {}
      },
      "source": [
        "# Load data (from cloned repository)\n",
        "# db = geopandas.read_file('pysalnarsc19/content/data/texas.shp')"
      ],
      "execution_count": 0,
      "outputs": []
    },
    {
      "cell_type": "markdown",
      "metadata": {
        "id": "KbJHL2Y4_z_m",
        "colab_type": "text"
      },
      "source": [
        "Read a LineString Shapefile\n",
        "===========================\n",
        "\n",
        "Thus far we have encountered two different types of geometries in our\n",
        "shapefiles, namely point and polygons. For our current research, are\n",
        "going to examine the data set [\\\"Sanctioned routes for commercial truck\n",
        "traffic located on the state highway\n",
        "system](http://www.dot.ca.gov/hq/tsip/gis/datalibrary/Metadata/Trknet.html)\\\"\n",
        "from the California Department of Transportation. That has been\n",
        "downloaded and stored in the `data` directory.\n",
        "\n",
        "We begin by reading this into a geopandas DataFrame:"
      ]
    },
    {
      "cell_type": "code",
      "metadata": {
        "id": "VVbZeXWq_z_p",
        "colab_type": "code",
        "colab": {}
      },
      "source": [
        "routes_df = gpd.read_file('pysalnarsc19/content/data/Truck_Route_Network.shp')"
      ],
      "execution_count": 0,
      "outputs": []
    },
    {
      "cell_type": "markdown",
      "metadata": {
        "id": "O5zoQ5iV_z_x",
        "colab_type": "text"
      },
      "source": [
        "and taking a view of the features"
      ]
    },
    {
      "cell_type": "code",
      "metadata": {
        "id": "jvM5H9EW_z_z",
        "colab_type": "code",
        "colab": {
          "base_uri": "https://localhost:8080/",
          "height": 282
        },
        "outputId": "b70cc182-96c6-4064-ffdf-3e28b547c74c"
      },
      "source": [
        "routes_df.plot()"
      ],
      "execution_count": 6,
      "outputs": [
        {
          "output_type": "execute_result",
          "data": {
            "text/plain": [
              "<matplotlib.axes._subplots.AxesSubplot at 0x7f414eac2898>"
            ]
          },
          "metadata": {
            "tags": []
          },
          "execution_count": 6
        },
        {
          "output_type": "display_data",
          "data": {
            "image/png": "[encoded data removed]",
            "text/plain": [
              "<Figure size 432x288 with 1 Axes>"
            ]
          },
          "metadata": {
            "tags": []
          }
        }
      ]
    },
    {
      "cell_type": "markdown",
      "metadata": {
        "id": "MFbBmkA8_z_5",
        "colab_type": "text"
      },
      "source": [
        "Futhter exploration reveals the geometries are LineStrings"
      ]
    },
    {
      "cell_type": "code",
      "metadata": {
        "id": "9-gY2umJ_z_8",
        "colab_type": "code",
        "colab": {
          "base_uri": "https://localhost:8080/",
          "height": 530
        },
        "outputId": "fbf9e617-c961-4df0-ed13-d12c9c54ed55"
      },
      "source": [
        "routes_df.head()"
      ],
      "execution_count": 7,
      "outputs": [
        {
          "output_type": "execute_result",
          "data": {
            "text/html": [
              "<div>\n",
              "<style scoped>\n",
              "    .dataframe tbody tr th:only-of-type {\n",
              "        vertical-align: middle;\n",
              "    }\n",
              "\n",
              "    .dataframe tbody tr th {\n",
              "        vertical-align: top;\n",
              "    }\n",
              "\n",
              "    .dataframe thead th {\n",
              "        text-align: right;\n",
              "    }\n",
              "</style>\n",
              "<table border=\"1\" class=\"dataframe\">\n",
              "  <thead>\n",
              "    <tr style=\"text-align: right;\">\n",
              "      <th></th>\n",
              "      <th>SHAPE_Leng</th>\n",
              "      <th>Beg_Latitu</th>\n",
              "      <th>Beg_Longit</th>\n",
              "      <th>End_Latitu</th>\n",
              "      <th>End_Longit</th>\n",
              "      <th>Route</th>\n",
              "      <th>District</th>\n",
              "      <th>County</th>\n",
              "      <th>Beg_PMPre</th>\n",
              "      <th>Beg_PM</th>\n",
              "      <th>EQ</th>\n",
              "      <th>End_PMPre</th>\n",
              "      <th>End_PM</th>\n",
              "      <th>Segment_Mi</th>\n",
              "      <th>Sp_Restr</th>\n",
              "      <th>Rstr_Type</th>\n",
              "      <th>Segmt_Type</th>\n",
              "      <th>KPRA</th>\n",
              "      <th>Beg_Locati</th>\n",
              "      <th>End_Locati</th>\n",
              "      <th>Comment</th>\n",
              "      <th>seg_length</th>\n",
              "      <th>geometry</th>\n",
              "    </tr>\n",
              "  </thead>\n",
              "  <tbody>\n",
              "    <tr>\n",
              "      <th>0</th>\n",
              "      <td>0.426140</td>\n",
              "      <td>33.467051</td>\n",
              "      <td>-117.669910</td>\n",
              "      <td>33.750992</td>\n",
              "      <td>-118.105912</td>\n",
              "      <td>1</td>\n",
              "      <td>12</td>\n",
              "      <td>ORA</td>\n",
              "      <td>R</td>\n",
              "      <td>0.129</td>\n",
              "      <td>E</td>\n",
              "      <td>None</td>\n",
              "      <td>33.719</td>\n",
              "      <td>33.740</td>\n",
              "      <td>None</td>\n",
              "      <td>0</td>\n",
              "      <td>TA</td>\n",
              "      <td>None</td>\n",
              "      <td>Jct 5</td>\n",
              "      <td>Orange / Los Angeles County Line</td>\n",
              "      <td>None</td>\n",
              "      <td>47438</td>\n",
              "      <td>MULTILINESTRING ((-117.67002 33.46688, -117.67...</td>\n",
              "    </tr>\n",
              "    <tr>\n",
              "      <th>1</th>\n",
              "      <td>0.420058</td>\n",
              "      <td>33.750992</td>\n",
              "      <td>-118.105912</td>\n",
              "      <td>33.931485</td>\n",
              "      <td>-118.395991</td>\n",
              "      <td>1</td>\n",
              "      <td>7</td>\n",
              "      <td>LA</td>\n",
              "      <td>None</td>\n",
              "      <td>0.000</td>\n",
              "      <td>E</td>\n",
              "      <td>None</td>\n",
              "      <td>25.924</td>\n",
              "      <td>25.858</td>\n",
              "      <td>None</td>\n",
              "      <td>0</td>\n",
              "      <td>TA</td>\n",
              "      <td>None</td>\n",
              "      <td>Pacific Coast Highway</td>\n",
              "      <td>Jct 105 (Imperial Hwy)</td>\n",
              "      <td>None</td>\n",
              "      <td>46761</td>\n",
              "      <td>LINESTRING (-118.10598 33.75104, -118.10618 33...</td>\n",
              "    </tr>\n",
              "    <tr>\n",
              "      <th>2</th>\n",
              "      <td>0.012263</td>\n",
              "      <td>33.931485</td>\n",
              "      <td>-118.395991</td>\n",
              "      <td>33.944521</td>\n",
              "      <td>-118.396115</td>\n",
              "      <td>1</td>\n",
              "      <td>7</td>\n",
              "      <td>LA</td>\n",
              "      <td>None</td>\n",
              "      <td>25.924</td>\n",
              "      <td>None</td>\n",
              "      <td>None</td>\n",
              "      <td>26.870</td>\n",
              "      <td>0.946</td>\n",
              "      <td>R</td>\n",
              "      <td>5</td>\n",
              "      <td>TA</td>\n",
              "      <td>None</td>\n",
              "      <td>Jct 105 (Imperial Hwy)</td>\n",
              "      <td>W. Century Blvd.</td>\n",
              "      <td>Sign on SB 1 at Century Blvd. says \"NO Tank Ve...</td>\n",
              "      <td>1365</td>\n",
              "      <td>LINESTRING (-118.39611 33.93223, -118.39614 33...</td>\n",
              "    </tr>\n",
              "    <tr>\n",
              "      <th>3</th>\n",
              "      <td>0.101036</td>\n",
              "      <td>33.944521</td>\n",
              "      <td>-118.396115</td>\n",
              "      <td>34.002761</td>\n",
              "      <td>-118.470584</td>\n",
              "      <td>1</td>\n",
              "      <td>7</td>\n",
              "      <td>LA</td>\n",
              "      <td>None</td>\n",
              "      <td>26.897</td>\n",
              "      <td>None</td>\n",
              "      <td>None</td>\n",
              "      <td>33.336</td>\n",
              "      <td>6.439</td>\n",
              "      <td>None</td>\n",
              "      <td>0</td>\n",
              "      <td>TA</td>\n",
              "      <td>None</td>\n",
              "      <td>W. Century Blvd.</td>\n",
              "      <td>Begin Route Break:  Lincoln Blvd. near Ozone Ave.</td>\n",
              "      <td>Rte 1 north of Ozone Ave relinquished to City ...</td>\n",
              "      <td>11247</td>\n",
              "      <td>LINESTRING (-118.39620 33.94487, -118.39619 33...</td>\n",
              "    </tr>\n",
              "    <tr>\n",
              "      <th>4</th>\n",
              "      <td>0.000513</td>\n",
              "      <td>34.002761</td>\n",
              "      <td>-118.470584</td>\n",
              "      <td>34.014809</td>\n",
              "      <td>-118.486011</td>\n",
              "      <td>1</td>\n",
              "      <td>7</td>\n",
              "      <td>LA</td>\n",
              "      <td>None</td>\n",
              "      <td>34.526</td>\n",
              "      <td>E</td>\n",
              "      <td>R</td>\n",
              "      <td>34.576</td>\n",
              "      <td>0.050</td>\n",
              "      <td>None</td>\n",
              "      <td>0</td>\n",
              "      <td>CL</td>\n",
              "      <td>40</td>\n",
              "      <td>End Route Break: Lincoln Blvd. near Olympic Av...</td>\n",
              "      <td>Lincoln Blvd. at I-10 overcrossing in Santa Mo...</td>\n",
              "      <td>None</td>\n",
              "      <td>57</td>\n",
              "      <td>LINESTRING (-118.48547 34.01443, -118.48547 34...</td>\n",
              "    </tr>\n",
              "  </tbody>\n",
              "</table>\n",
              "</div>"
            ],
            "text/plain": [
              "   SHAPE_Leng  ...                                           geometry\n",
              "0    0.426140  ...  MULTILINESTRING ((-117.67002 33.46688, -117.67...\n",
              "1    0.420058  ...  LINESTRING (-118.10598 33.75104, -118.10618 33...\n",
              "2    0.012263  ...  LINESTRING (-118.39611 33.93223, -118.39614 33...\n",
              "3    0.101036  ...  LINESTRING (-118.39620 33.94487, -118.39619 33...\n",
              "4    0.000513  ...  LINESTRING (-118.48547 34.01443, -118.48547 34...\n",
              "\n",
              "[5 rows x 23 columns]"
            ]
          },
          "metadata": {
            "tags": []
          },
          "execution_count": 7
        }
      ]
    },
    {
      "cell_type": "code",
      "metadata": {
        "id": "aIYzNpOl_0AD",
        "colab_type": "code",
        "colab": {
          "base_uri": "https://localhost:8080/",
          "height": 119
        },
        "outputId": "1b05c2d5-d844-4a4a-d500-9c4a00d53c5b"
      },
      "source": [
        "routes_df['geometry'].head()"
      ],
      "execution_count": 8,
      "outputs": [
        {
          "output_type": "execute_result",
          "data": {
            "text/plain": [
              "0    MULTILINESTRING ((-117.67002 33.46688, -117.67...\n",
              "1    LINESTRING (-118.10598 33.75104, -118.10618 33...\n",
              "2    LINESTRING (-118.39611 33.93223, -118.39614 33...\n",
              "3    LINESTRING (-118.39620 33.94487, -118.39619 33...\n",
              "4    LINESTRING (-118.48547 34.01443, -118.48547 34...\n",
              "Name: geometry, dtype: geometry"
            ]
          },
          "metadata": {
            "tags": []
          },
          "execution_count": 8
        }
      ]
    },
    {
      "cell_type": "markdown",
      "metadata": {
        "id": "5foWEa-O_0AM",
        "colab_type": "text"
      },
      "source": [
        "Since we will be using this layer with other spatial datasets, it is\n",
        "good practice to familiarlize ourselves with the Coordinate Reference\n",
        "System:"
      ]
    },
    {
      "cell_type": "code",
      "metadata": {
        "id": "cMpnfgbj_0AO",
        "colab_type": "code",
        "colab": {
          "base_uri": "https://localhost:8080/",
          "height": 204
        },
        "outputId": "25aeceb0-d612-4162-c29e-76ff6423bb54"
      },
      "source": [
        "routes_df.crs"
      ],
      "execution_count": 9,
      "outputs": [
        {
          "output_type": "execute_result",
          "data": {
            "text/plain": [
              "<Geographic 2D CRS: EPSG:4269>\n",
              "Name: NAD83\n",
              "Axis Info [ellipsoidal]:\n",
              "- Lat[north]: Geodetic latitude (degree)\n",
              "- Lon[east]: Geodetic longitude (degree)\n",
              "Area of Use:\n",
              "- name: North America - NAD83\n",
              "- bounds: (167.65, 14.92, -47.74, 86.46)\n",
              "Datum: North American Datum 1983\n",
              "- Ellipsoid: GRS 1980\n",
              "- Prime Meridian: Greenwich"
            ]
          },
          "metadata": {
            "tags": []
          },
          "execution_count": 9
        }
      ]
    },
    {
      "cell_type": "code",
      "metadata": {
        "id": "vsTnslwU_0AT",
        "colab_type": "code",
        "colab": {
          "base_uri": "https://localhost:8080/",
          "height": 34
        },
        "outputId": "2825398d-e488-4dd4-df5c-78350570337f"
      },
      "source": [
        "routes_df.shape"
      ],
      "execution_count": 10,
      "outputs": [
        {
          "output_type": "execute_result",
          "data": {
            "text/plain": [
              "(966, 23)"
            ]
          },
          "metadata": {
            "tags": []
          },
          "execution_count": 10
        }
      ]
    },
    {
      "cell_type": "markdown",
      "metadata": {
        "id": "mlEgiMmP_0Ap",
        "colab_type": "text"
      },
      "source": [
        "So the coordinates in our LineStrings are in longitude and latitude.\n",
        "\n",
        "Route Clipping\n",
        "==============\n",
        "\n",
        "The researcher has the truck route network for the entire state of\n",
        "California. However, her interest is on the specific case of Riverside\n",
        "County so she needs a way to extract the portions of the network that\n",
        "are within the county. This can be done using the geoprocessing\n",
        "operation *clipping*.\n",
        "\n",
        "To do this we need to create a layer that will serve to \\\"clip\\\" the\n",
        "road network layer to remove everything outside of Riverside County. We\n",
        "can use the polygon shapefile we created from the previous notebook:\n",
        "\n",
        "Read a Polygon Shapefile\n",
        "------------------------"
      ]
    },
    {
      "cell_type": "code",
      "metadata": {
        "id": "GQO9wvFS_0As",
        "colab_type": "code",
        "colab": {}
      },
      "source": [
        "tracts_df = gpd.read_file('pysalnarsc19/content/data/clinics.shp')"
      ],
      "execution_count": 0,
      "outputs": []
    },
    {
      "cell_type": "code",
      "metadata": {
        "id": "7hBrHMAs_0Ax",
        "colab_type": "code",
        "colab": {
          "base_uri": "https://localhost:8080/",
          "height": 593
        },
        "outputId": "e4a00212-cce0-49fd-d5c5-f4d7d9844633"
      },
      "source": [
        "tracts_df.head()"
      ],
      "execution_count": 12,
      "outputs": [
        {
          "output_type": "execute_result",
          "data": {
            "text/html": [
              "<div>\n",
              "<style scoped>\n",
              "    .dataframe tbody tr th:only-of-type {\n",
              "        vertical-align: middle;\n",
              "    }\n",
              "\n",
              "    .dataframe tbody tr th {\n",
              "        vertical-align: top;\n",
              "    }\n",
              "\n",
              "    .dataframe thead th {\n",
              "        text-align: right;\n",
              "    }\n",
              "</style>\n",
              "<table border=\"1\" class=\"dataframe\">\n",
              "  <thead>\n",
              "    <tr style=\"text-align: right;\">\n",
              "      <th></th>\n",
              "      <th>GEOID10</th>\n",
              "      <th>NAMELSAD10</th>\n",
              "      <th>ALAND10</th>\n",
              "      <th>AWATER10</th>\n",
              "      <th>INTPTLAT10</th>\n",
              "      <th>INTPTLON10</th>\n",
              "      <th>DP0010001</th>\n",
              "      <th>DP0010002</th>\n",
              "      <th>DP0010003</th>\n",
              "      <th>DP0010004</th>\n",
              "      <th>DP0010005</th>\n",
              "      <th>DP0010006</th>\n",
              "      <th>DP0010007</th>\n",
              "      <th>DP0010008</th>\n",
              "      <th>DP0010009</th>\n",
              "      <th>DP0010010</th>\n",
              "      <th>DP0010011</th>\n",
              "      <th>DP0010012</th>\n",
              "      <th>DP0010013</th>\n",
              "      <th>DP0010014</th>\n",
              "      <th>DP0010015</th>\n",
              "      <th>DP0010016</th>\n",
              "      <th>DP0010017</th>\n",
              "      <th>DP0010018</th>\n",
              "      <th>DP0010019</th>\n",
              "      <th>DP0010020</th>\n",
              "      <th>DP0010021</th>\n",
              "      <th>DP0010022</th>\n",
              "      <th>DP0010023</th>\n",
              "      <th>DP0010024</th>\n",
              "      <th>DP0010025</th>\n",
              "      <th>DP0010026</th>\n",
              "      <th>DP0010027</th>\n",
              "      <th>DP0010028</th>\n",
              "      <th>DP0010029</th>\n",
              "      <th>DP0010030</th>\n",
              "      <th>DP0010031</th>\n",
              "      <th>DP0010032</th>\n",
              "      <th>DP0010033</th>\n",
              "      <th>DP0010034</th>\n",
              "      <th>...</th>\n",
              "      <th>DP0130002</th>\n",
              "      <th>DP0130003</th>\n",
              "      <th>DP0130004</th>\n",
              "      <th>DP0130005</th>\n",
              "      <th>DP0130006</th>\n",
              "      <th>DP0130007</th>\n",
              "      <th>DP0130008</th>\n",
              "      <th>DP0130009</th>\n",
              "      <th>DP0130010</th>\n",
              "      <th>DP0130011</th>\n",
              "      <th>DP0130012</th>\n",
              "      <th>DP0130013</th>\n",
              "      <th>DP0130014</th>\n",
              "      <th>DP0130015</th>\n",
              "      <th>DP0140001</th>\n",
              "      <th>DP0150001</th>\n",
              "      <th>DP0160001</th>\n",
              "      <th>DP0170001</th>\n",
              "      <th>DP0180001</th>\n",
              "      <th>DP0180002</th>\n",
              "      <th>DP0180003</th>\n",
              "      <th>DP0180004</th>\n",
              "      <th>DP0180005</th>\n",
              "      <th>DP0180006</th>\n",
              "      <th>DP0180007</th>\n",
              "      <th>DP0180008</th>\n",
              "      <th>DP0180009</th>\n",
              "      <th>DP0190001</th>\n",
              "      <th>DP0200001</th>\n",
              "      <th>DP0210001</th>\n",
              "      <th>DP0210002</th>\n",
              "      <th>DP0210003</th>\n",
              "      <th>DP0220001</th>\n",
              "      <th>DP0220002</th>\n",
              "      <th>DP0230001</th>\n",
              "      <th>DP0230002</th>\n",
              "      <th>Shape_Leng</th>\n",
              "      <th>Shape_Area</th>\n",
              "      <th>clinics</th>\n",
              "      <th>geometry</th>\n",
              "    </tr>\n",
              "  </thead>\n",
              "  <tbody>\n",
              "    <tr>\n",
              "      <th>0</th>\n",
              "      <td>06065042012</td>\n",
              "      <td>Census Tract 420.12</td>\n",
              "      <td>2687173.0</td>\n",
              "      <td>0.0</td>\n",
              "      <td>+33.9108776</td>\n",
              "      <td>-117.3205065</td>\n",
              "      <td>6242</td>\n",
              "      <td>420</td>\n",
              "      <td>545</td>\n",
              "      <td>620</td>\n",
              "      <td>617</td>\n",
              "      <td>463</td>\n",
              "      <td>393</td>\n",
              "      <td>408</td>\n",
              "      <td>522</td>\n",
              "      <td>528</td>\n",
              "      <td>506</td>\n",
              "      <td>453</td>\n",
              "      <td>277</td>\n",
              "      <td>178</td>\n",
              "      <td>95</td>\n",
              "      <td>87</td>\n",
              "      <td>53</td>\n",
              "      <td>48</td>\n",
              "      <td>29</td>\n",
              "      <td>3018</td>\n",
              "      <td>217</td>\n",
              "      <td>294</td>\n",
              "      <td>303</td>\n",
              "      <td>329</td>\n",
              "      <td>230</td>\n",
              "      <td>193</td>\n",
              "      <td>198</td>\n",
              "      <td>238</td>\n",
              "      <td>231</td>\n",
              "      <td>231</td>\n",
              "      <td>220</td>\n",
              "      <td>139</td>\n",
              "      <td>73</td>\n",
              "      <td>47</td>\n",
              "      <td>...</td>\n",
              "      <td>1522</td>\n",
              "      <td>935</td>\n",
              "      <td>1047</td>\n",
              "      <td>661</td>\n",
              "      <td>128</td>\n",
              "      <td>70</td>\n",
              "      <td>347</td>\n",
              "      <td>204</td>\n",
              "      <td>446</td>\n",
              "      <td>329</td>\n",
              "      <td>152</td>\n",
              "      <td>19</td>\n",
              "      <td>177</td>\n",
              "      <td>37</td>\n",
              "      <td>1028</td>\n",
              "      <td>250</td>\n",
              "      <td>3.16</td>\n",
              "      <td>3.58</td>\n",
              "      <td>2055</td>\n",
              "      <td>1968</td>\n",
              "      <td>87</td>\n",
              "      <td>41</td>\n",
              "      <td>3</td>\n",
              "      <td>25</td>\n",
              "      <td>2</td>\n",
              "      <td>4</td>\n",
              "      <td>12</td>\n",
              "      <td>2.1</td>\n",
              "      <td>4.7</td>\n",
              "      <td>1968</td>\n",
              "      <td>1142</td>\n",
              "      <td>826</td>\n",
              "      <td>3927</td>\n",
              "      <td>2299</td>\n",
              "      <td>3.44</td>\n",
              "      <td>2.78</td>\n",
              "      <td>0.095958</td>\n",
              "      <td>0.000262</td>\n",
              "      <td>0.0</td>\n",
              "      <td>POLYGON ((-117.30046 33.91311, -117.30068 33.9...</td>\n",
              "    </tr>\n",
              "    <tr>\n",
              "      <th>1</th>\n",
              "      <td>06065041911</td>\n",
              "      <td>Census Tract 419.11</td>\n",
              "      <td>70257842.0</td>\n",
              "      <td>0.0</td>\n",
              "      <td>+33.7428832</td>\n",
              "      <td>-117.4957943</td>\n",
              "      <td>10258</td>\n",
              "      <td>840</td>\n",
              "      <td>844</td>\n",
              "      <td>806</td>\n",
              "      <td>652</td>\n",
              "      <td>446</td>\n",
              "      <td>500</td>\n",
              "      <td>695</td>\n",
              "      <td>958</td>\n",
              "      <td>837</td>\n",
              "      <td>727</td>\n",
              "      <td>657</td>\n",
              "      <td>585</td>\n",
              "      <td>617</td>\n",
              "      <td>480</td>\n",
              "      <td>282</td>\n",
              "      <td>174</td>\n",
              "      <td>100</td>\n",
              "      <td>58</td>\n",
              "      <td>5007</td>\n",
              "      <td>417</td>\n",
              "      <td>437</td>\n",
              "      <td>399</td>\n",
              "      <td>330</td>\n",
              "      <td>229</td>\n",
              "      <td>229</td>\n",
              "      <td>306</td>\n",
              "      <td>477</td>\n",
              "      <td>419</td>\n",
              "      <td>374</td>\n",
              "      <td>327</td>\n",
              "      <td>266</td>\n",
              "      <td>287</td>\n",
              "      <td>231</td>\n",
              "      <td>...</td>\n",
              "      <td>2695</td>\n",
              "      <td>1331</td>\n",
              "      <td>2336</td>\n",
              "      <td>1152</td>\n",
              "      <td>122</td>\n",
              "      <td>56</td>\n",
              "      <td>237</td>\n",
              "      <td>123</td>\n",
              "      <td>616</td>\n",
              "      <td>479</td>\n",
              "      <td>177</td>\n",
              "      <td>44</td>\n",
              "      <td>302</td>\n",
              "      <td>153</td>\n",
              "      <td>1447</td>\n",
              "      <td>794</td>\n",
              "      <td>3.10</td>\n",
              "      <td>3.42</td>\n",
              "      <td>3573</td>\n",
              "      <td>3311</td>\n",
              "      <td>262</td>\n",
              "      <td>19</td>\n",
              "      <td>0</td>\n",
              "      <td>133</td>\n",
              "      <td>24</td>\n",
              "      <td>47</td>\n",
              "      <td>39</td>\n",
              "      <td>4.4</td>\n",
              "      <td>4.2</td>\n",
              "      <td>3311</td>\n",
              "      <td>2881</td>\n",
              "      <td>430</td>\n",
              "      <td>8710</td>\n",
              "      <td>1543</td>\n",
              "      <td>3.02</td>\n",
              "      <td>3.59</td>\n",
              "      <td>0.466106</td>\n",
              "      <td>0.006836</td>\n",
              "      <td>0.0</td>\n",
              "      <td>POLYGON ((-117.51020 33.80027, -117.50851 33.8...</td>\n",
              "    </tr>\n",
              "    <tr>\n",
              "      <th>2</th>\n",
              "      <td>06065041910</td>\n",
              "      <td>Census Tract 419.10</td>\n",
              "      <td>11167489.0</td>\n",
              "      <td>64225.0</td>\n",
              "      <td>+33.7892199</td>\n",
              "      <td>-117.4949771</td>\n",
              "      <td>6342</td>\n",
              "      <td>404</td>\n",
              "      <td>453</td>\n",
              "      <td>447</td>\n",
              "      <td>436</td>\n",
              "      <td>330</td>\n",
              "      <td>355</td>\n",
              "      <td>418</td>\n",
              "      <td>469</td>\n",
              "      <td>454</td>\n",
              "      <td>425</td>\n",
              "      <td>382</td>\n",
              "      <td>358</td>\n",
              "      <td>490</td>\n",
              "      <td>367</td>\n",
              "      <td>261</td>\n",
              "      <td>149</td>\n",
              "      <td>86</td>\n",
              "      <td>58</td>\n",
              "      <td>3038</td>\n",
              "      <td>197</td>\n",
              "      <td>236</td>\n",
              "      <td>214</td>\n",
              "      <td>217</td>\n",
              "      <td>151</td>\n",
              "      <td>177</td>\n",
              "      <td>187</td>\n",
              "      <td>227</td>\n",
              "      <td>229</td>\n",
              "      <td>222</td>\n",
              "      <td>186</td>\n",
              "      <td>151</td>\n",
              "      <td>219</td>\n",
              "      <td>167</td>\n",
              "      <td>...</td>\n",
              "      <td>1689</td>\n",
              "      <td>711</td>\n",
              "      <td>1360</td>\n",
              "      <td>550</td>\n",
              "      <td>109</td>\n",
              "      <td>48</td>\n",
              "      <td>220</td>\n",
              "      <td>113</td>\n",
              "      <td>484</td>\n",
              "      <td>376</td>\n",
              "      <td>134</td>\n",
              "      <td>40</td>\n",
              "      <td>242</td>\n",
              "      <td>122</td>\n",
              "      <td>790</td>\n",
              "      <td>643</td>\n",
              "      <td>2.92</td>\n",
              "      <td>3.31</td>\n",
              "      <td>2306</td>\n",
              "      <td>2173</td>\n",
              "      <td>133</td>\n",
              "      <td>11</td>\n",
              "      <td>2</td>\n",
              "      <td>59</td>\n",
              "      <td>12</td>\n",
              "      <td>26</td>\n",
              "      <td>23</td>\n",
              "      <td>3.1</td>\n",
              "      <td>3.0</td>\n",
              "      <td>2173</td>\n",
              "      <td>1823</td>\n",
              "      <td>350</td>\n",
              "      <td>5177</td>\n",
              "      <td>1165</td>\n",
              "      <td>2.84</td>\n",
              "      <td>3.33</td>\n",
              "      <td>0.200974</td>\n",
              "      <td>0.001093</td>\n",
              "      <td>0.0</td>\n",
              "      <td>POLYGON ((-117.50298 33.82495, -117.50291 33.8...</td>\n",
              "    </tr>\n",
              "    <tr>\n",
              "      <th>3</th>\n",
              "      <td>06065040816</td>\n",
              "      <td>Census Tract 408.16</td>\n",
              "      <td>1788821.0</td>\n",
              "      <td>0.0</td>\n",
              "      <td>+33.9024569</td>\n",
              "      <td>-117.5246107</td>\n",
              "      <td>2594</td>\n",
              "      <td>162</td>\n",
              "      <td>161</td>\n",
              "      <td>227</td>\n",
              "      <td>212</td>\n",
              "      <td>193</td>\n",
              "      <td>191</td>\n",
              "      <td>180</td>\n",
              "      <td>202</td>\n",
              "      <td>218</td>\n",
              "      <td>237</td>\n",
              "      <td>226</td>\n",
              "      <td>136</td>\n",
              "      <td>97</td>\n",
              "      <td>53</td>\n",
              "      <td>41</td>\n",
              "      <td>23</td>\n",
              "      <td>18</td>\n",
              "      <td>17</td>\n",
              "      <td>1250</td>\n",
              "      <td>78</td>\n",
              "      <td>75</td>\n",
              "      <td>117</td>\n",
              "      <td>117</td>\n",
              "      <td>96</td>\n",
              "      <td>88</td>\n",
              "      <td>78</td>\n",
              "      <td>101</td>\n",
              "      <td>101</td>\n",
              "      <td>100</td>\n",
              "      <td>120</td>\n",
              "      <td>67</td>\n",
              "      <td>48</td>\n",
              "      <td>27</td>\n",
              "      <td>...</td>\n",
              "      <td>621</td>\n",
              "      <td>339</td>\n",
              "      <td>487</td>\n",
              "      <td>264</td>\n",
              "      <td>44</td>\n",
              "      <td>26</td>\n",
              "      <td>90</td>\n",
              "      <td>49</td>\n",
              "      <td>238</td>\n",
              "      <td>185</td>\n",
              "      <td>84</td>\n",
              "      <td>1</td>\n",
              "      <td>101</td>\n",
              "      <td>13</td>\n",
              "      <td>373</td>\n",
              "      <td>113</td>\n",
              "      <td>3.01</td>\n",
              "      <td>3.58</td>\n",
              "      <td>922</td>\n",
              "      <td>859</td>\n",
              "      <td>63</td>\n",
              "      <td>8</td>\n",
              "      <td>0</td>\n",
              "      <td>34</td>\n",
              "      <td>5</td>\n",
              "      <td>5</td>\n",
              "      <td>11</td>\n",
              "      <td>4.7</td>\n",
              "      <td>4.5</td>\n",
              "      <td>859</td>\n",
              "      <td>688</td>\n",
              "      <td>171</td>\n",
              "      <td>2133</td>\n",
              "      <td>451</td>\n",
              "      <td>3.10</td>\n",
              "      <td>2.64</td>\n",
              "      <td>0.082444</td>\n",
              "      <td>0.000174</td>\n",
              "      <td>0.0</td>\n",
              "      <td>POLYGON ((-117.51512 33.90097, -117.51532 33.9...</td>\n",
              "    </tr>\n",
              "    <tr>\n",
              "      <th>4</th>\n",
              "      <td>06065040815</td>\n",
              "      <td>Census Tract 408.15</td>\n",
              "      <td>1266779.0</td>\n",
              "      <td>0.0</td>\n",
              "      <td>+33.8930776</td>\n",
              "      <td>-117.5114997</td>\n",
              "      <td>3586</td>\n",
              "      <td>231</td>\n",
              "      <td>235</td>\n",
              "      <td>257</td>\n",
              "      <td>289</td>\n",
              "      <td>279</td>\n",
              "      <td>330</td>\n",
              "      <td>279</td>\n",
              "      <td>268</td>\n",
              "      <td>258</td>\n",
              "      <td>268</td>\n",
              "      <td>273</td>\n",
              "      <td>242</td>\n",
              "      <td>155</td>\n",
              "      <td>85</td>\n",
              "      <td>51</td>\n",
              "      <td>41</td>\n",
              "      <td>20</td>\n",
              "      <td>25</td>\n",
              "      <td>1733</td>\n",
              "      <td>112</td>\n",
              "      <td>105</td>\n",
              "      <td>139</td>\n",
              "      <td>138</td>\n",
              "      <td>150</td>\n",
              "      <td>162</td>\n",
              "      <td>134</td>\n",
              "      <td>130</td>\n",
              "      <td>121</td>\n",
              "      <td>125</td>\n",
              "      <td>129</td>\n",
              "      <td>111</td>\n",
              "      <td>82</td>\n",
              "      <td>36</td>\n",
              "      <td>...</td>\n",
              "      <td>875</td>\n",
              "      <td>412</td>\n",
              "      <td>635</td>\n",
              "      <td>304</td>\n",
              "      <td>70</td>\n",
              "      <td>42</td>\n",
              "      <td>170</td>\n",
              "      <td>66</td>\n",
              "      <td>280</td>\n",
              "      <td>201</td>\n",
              "      <td>87</td>\n",
              "      <td>13</td>\n",
              "      <td>114</td>\n",
              "      <td>17</td>\n",
              "      <td>485</td>\n",
              "      <td>171</td>\n",
              "      <td>3.10</td>\n",
              "      <td>3.56</td>\n",
              "      <td>1205</td>\n",
              "      <td>1155</td>\n",
              "      <td>50</td>\n",
              "      <td>17</td>\n",
              "      <td>1</td>\n",
              "      <td>16</td>\n",
              "      <td>2</td>\n",
              "      <td>4</td>\n",
              "      <td>10</td>\n",
              "      <td>2.1</td>\n",
              "      <td>4.1</td>\n",
              "      <td>1155</td>\n",
              "      <td>756</td>\n",
              "      <td>399</td>\n",
              "      <td>2462</td>\n",
              "      <td>1124</td>\n",
              "      <td>3.26</td>\n",
              "      <td>2.82</td>\n",
              "      <td>0.050637</td>\n",
              "      <td>0.000123</td>\n",
              "      <td>0.0</td>\n",
              "      <td>POLYGON ((-117.50386 33.89736, -117.50357 33.8...</td>\n",
              "    </tr>\n",
              "  </tbody>\n",
              "</table>\n",
              "<p>5 rows × 196 columns</p>\n",
              "</div>"
            ],
            "text/plain": [
              "       GEOID10  ...                                           geometry\n",
              "0  06065042012  ...  POLYGON ((-117.30046 33.91311, -117.30068 33.9...\n",
              "1  06065041911  ...  POLYGON ((-117.51020 33.80027, -117.50851 33.8...\n",
              "2  06065041910  ...  POLYGON ((-117.50298 33.82495, -117.50291 33.8...\n",
              "3  06065040816  ...  POLYGON ((-117.51512 33.90097, -117.51532 33.9...\n",
              "4  06065040815  ...  POLYGON ((-117.50386 33.89736, -117.50357 33.8...\n",
              "\n",
              "[5 rows x 196 columns]"
            ]
          },
          "metadata": {
            "tags": []
          },
          "execution_count": 12
        }
      ]
    },
    {
      "cell_type": "code",
      "metadata": {
        "id": "MJlqgK-P_0A2",
        "colab_type": "code",
        "colab": {
          "base_uri": "https://localhost:8080/",
          "height": 132
        },
        "outputId": "929cda93-6de5-4090-84fa-573ba6c0c8e4"
      },
      "source": [
        "tracts_df.plot()"
      ],
      "execution_count": 13,
      "outputs": [
        {
          "output_type": "execute_result",
          "data": {
            "text/plain": [
              "<matplotlib.axes._subplots.AxesSubplot at 0x7f414ea146d8>"
            ]
          },
          "metadata": {
            "tags": []
          },
          "execution_count": 13
        },
        {
          "output_type": "display_data",
          "data": {
            "image/png": "[encoded data removed]",
            "text/plain": [
              "<Figure size 432x288 with 1 Axes>"
            ]
          },
          "metadata": {
            "tags": []
          }
        }
      ]
    },
    {
      "cell_type": "markdown",
      "metadata": {
        "id": "3jqlDQrM_0A7",
        "colab_type": "text"
      },
      "source": [
        "Get routes intersecting Riverside County\n",
        "----------------------------------------\n",
        "\n",
        "To select only the routes within Riverside County we could take several\n",
        "approaches. We have the tract layer for the county that has 453 tracts,\n",
        "as well as the road network layer for the state. That has 966 segments.\n",
        "We could then use the intersects method for each tract to test if it\n",
        "intersects with a particular segment of the road network, and then keep\n",
        "all the segments where we find an intersection with the tract.\n",
        "\n",
        "While this would work, it turns out to be very inefficient as a brute\n",
        "force approach would require we compare each of 453 tracts against each\n",
        "of 966 segments and test for an intersection.\n",
        "\n",
        "We can do better.\n",
        "\n",
        "If we think about our problem from a slightly different perspective, we\n",
        "know that if we find a segment that intersects with a tract within\n",
        "Riverside county, it must, by definition, intersect with the County\n",
        "polygon, if we had such a thing.\n",
        "\n",
        "This would substantially reduce the number of intersection tests (or\n",
        "more broadly, \\\"hit tests\\\") we need to conduct. Rather than having to\n",
        "compare 453 tract polygons with 966 road segments, we now only need\n",
        "compare 1 polygon against each of the road segments. That is a 453X\n",
        "reduction in computation. Nice.\n",
        "\n",
        "### Dissolve\n",
        "\n",
        "Ok, but we do not yet have the magical county polygon. It seems worth it\n",
        "to get one, and using another method of the geopandas DataFrame for the\n",
        "tracts, we can. First, we can re-examine our DataFrame:"
      ]
    },
    {
      "cell_type": "code",
      "metadata": {
        "id": "n-Fp_0lZ_0A9",
        "colab_type": "code",
        "colab": {
          "base_uri": "https://localhost:8080/",
          "height": 132
        },
        "outputId": "a5371996-995f-4d5c-a2b1-1d9c91798bbd"
      },
      "source": [
        "tracts_df.plot(edgecolor='k')"
      ],
      "execution_count": 14,
      "outputs": [
        {
          "output_type": "execute_result",
          "data": {
            "text/plain": [
              "<matplotlib.axes._subplots.AxesSubplot at 0x7f414e9ea5c0>"
            ]
          },
          "metadata": {
            "tags": []
          },
          "execution_count": 14
        },
        {
          "output_type": "display_data",
          "data": {
            "image/png": "[encoded data removed]",
            "text/plain": [
              "<Figure size 432x288 with 1 Axes>"
            ]
          },
          "metadata": {
            "tags": []
          }
        }
      ]
    },
    {
      "cell_type": "markdown",
      "metadata": {
        "id": "tzLuq9fT_0BC",
        "colab_type": "text"
      },
      "source": [
        "What we are going to do is dissolve all the tract boundaries that do not\n",
        "coincide with the boundary of the DataFrame\\'s geometry collection.\n",
        "\n",
        "This is done by creating a new attribute that takes on the same values\n",
        "for each feature, and calling the `dissovle` method with that attribute\n",
        "as the argument to the `by` option:"
      ]
    },
    {
      "cell_type": "code",
      "metadata": {
        "id": "BBEOzB8f_0BE",
        "colab_type": "code",
        "colab": {}
      },
      "source": [
        "tracts_df['dummy'] = 1.0\n",
        "county = tracts_df.dissolve(by='dummy')"
      ],
      "execution_count": 0,
      "outputs": []
    },
    {
      "cell_type": "code",
      "metadata": {
        "id": "FWNiud81_0BM",
        "colab_type": "code",
        "colab": {
          "base_uri": "https://localhost:8080/",
          "height": 132
        },
        "outputId": "c29bd5fa-0d8f-498e-da00-d7fdc0533b8f"
      },
      "source": [
        "county.plot()"
      ],
      "execution_count": 16,
      "outputs": [
        {
          "output_type": "execute_result",
          "data": {
            "text/plain": [
              "<matplotlib.axes._subplots.AxesSubplot at 0x7f414e9b3e48>"
            ]
          },
          "metadata": {
            "tags": []
          },
          "execution_count": 16
        },
        {
          "output_type": "display_data",
          "data": {
            "image/png": "[encoded data removed]",
            "text/plain": [
              "<Figure size 432x288 with 1 Axes>"
            ]
          },
          "metadata": {
            "tags": []
          }
        }
      ]
    },
    {
      "cell_type": "code",
      "metadata": {
        "id": "qTWrSW-y_0BR",
        "colab_type": "code",
        "colab": {
          "base_uri": "https://localhost:8080/",
          "height": 34
        },
        "outputId": "46bed4ae-449d-493a-adcb-930d317497de"
      },
      "source": [
        "county.shape"
      ],
      "execution_count": 17,
      "outputs": [
        {
          "output_type": "execute_result",
          "data": {
            "text/plain": [
              "(1, 196)"
            ]
          },
          "metadata": {
            "tags": []
          },
          "execution_count": 17
        }
      ]
    },
    {
      "cell_type": "markdown",
      "metadata": {
        "id": "bmG1LiQQ_0BW",
        "colab_type": "text"
      },
      "source": [
        "Note that we could have also obtained this polygon by using the\n",
        "`unary_union` method of the GeoSeries:"
      ]
    },
    {
      "cell_type": "code",
      "metadata": {
        "id": "zp7ZKiXN_0BX",
        "colab_type": "code",
        "colab": {
          "base_uri": "https://localhost:8080/",
          "height": 121
        },
        "outputId": "98e6762d-b519-4069-a533-a119e3093b81"
      },
      "source": [
        "county_uu = tracts_df['geometry'].unary_union\n",
        "county_uu"
      ],
      "execution_count": 18,
      "outputs": [
        {
          "output_type": "execute_result",
          "data": {
            "text/plain": [
              "<shapely.geometry.polygon.Polygon at 0x7f414e988278>"
            ],
            "image/svg+xml": "<svg xmlns=\"http://www.w3.org/2000/svg\" xmlns:xlink=\"http://www.w3.org/1999/xlink\" width=\"100.0\" height=\"100.0\" viewBox=\"-117.80593947999989 33.296234520000105 3.500643959999877 0.9133029599999389\" preserveAspectRatio=\"xMinYMin meet\"><g transform=\"matrix(1,0,0,-1,0,67.50577200000015)\"><path fill-rule=\"evenodd\" fill=\"#66cc99\" stroke=\"#555555\" stroke-width=\"0.07001287919999755\" opacity=\"0.6\" d=\"M -117.089024,33.430286000000024 L -117.08905799999997,33.430286000000024 L -117.09012999999993,33.43032800000009 L -117.09345100000002,33.4304590000001 L -117.094558,33.43050499999998 L -117.0954109999999,33.43045600000005 L -117.09796999999998,33.43030699999997 L -117.098815,33.430259999999976 L -117.09882400000004,33.430259999999976 L -117.10049100000003,33.43033200000008 L -117.10549499999996,33.43055500000003 L -117.10716299999996,33.430630000000065 L -117.10881599999988,33.43072500000011 L -117.11377500000003,33.431010000000015 L -117.11542800000001,33.431107000000054 L -117.115677,33.43112000000008 L -117.11642499999999,33.43116399999997 L -117.11667499999999,33.431178999999986 L -117.11673999999994,33.431182000000035 L -117.11693600000001,33.431193000000064 L -117.11700199999996,33.43119799999994 L -117.11705799999999,33.431201000000044 L -117.11722800000001,33.43121000000008 L -117.11728499999992,33.43121400000007 L -117.11734000000001,33.431216000000006 L -117.11750799999999,33.43122599999998 L -117.11756400000002,33.43123000000014 L -117.11772400000001,33.43123000000014 L -117.11820399999993,33.43123000000014 L -117.11836399999993,33.43123000000014 L -117.1184429999999,33.431235000000015 L -117.11867999999998,33.43125199999997 L -117.11876000000001,33.43125800000013 L -117.11877300000003,33.43125800000013 L -117.11881499999993,33.431261000000006 L -117.11882899999995,33.431263 L -117.11911199999992,33.431283000000064 L -117.11996299999998,33.43134300000008 L -117.12024699999995,33.43136400000003 L -117.12031999999994,33.43136800000002 L -117.12053999999995,33.431384000000094 L -117.12061399999993,33.43139000000002 L -117.12062900000001,33.43139000000002 L -117.120677,33.43139300000013 L -117.1206929999999,33.43139600000001 L -117.12099499999994,33.431417000000124 L -117.12190299999992,33.43148200000002 L -117.12220599999995,33.431504000000075 L -117.131912,33.43219700000003 L -117.13510999999994,33.432331999999974 L -117.13961799999998,33.432523 L -117.139971,33.43254800000011 L -117.13998699999996,33.432548999999995 L -117.14014799999995,33.43255899999997 L -117.14027499999997,33.43256600000001 L -117.14063899999991,33.43257100000005 L -117.14086399999997,33.43258099999997 L -117.14121499999999,33.432593999999995 L -117.14157399999999,33.43261000000007 L -117.1430979999999,33.4326210000001 L -117.14372400000002,33.43263100000007 L -117.14392199999986,33.43262700000008 L -117.14434,33.43262000000004 L -117.144587,33.4326210000001 L -117.144904,33.43262000000004 L -117.14585799999998,33.43262000000004 L -117.14617599999991,33.43262200000004 L -117.14869599999997,33.43262300000009 L -117.15094899999997,33.43262500000009 L -117.15625699999993,33.43262599999997 L -117.15877799999998,33.43262900000008 L -117.15877899999998,33.43262900000008 L -117.15886699999999,33.43262900000008 L -117.15921500000002,33.43259900000004 L -117.16006499999997,33.43252899999993 L -117.16011199999997,33.43252899999993 L -117.160526,33.43252899999993 L -117.16096500000003,33.43252899999993 L -117.16125999999991,33.43253900000008 L -117.16214399999996,33.43257199999994 L -117.162398,33.432582999999966 L -117.16244,33.43258200000008 L -117.16326699999996,33.432550000000106 L -117.16574800000001,33.43245900000005 L -117.16657599999985,33.43242900000001 L -117.16681899999998,33.43242100000009 L -117.16755199999994,33.43241000000006 L -117.16779799999995,33.432408000000066 L -117.16909199999992,33.43238700000012 L -117.17297499999995,33.43232400000005 L -117.17426999999998,33.43230399999999 L -117.17507899999987,33.43229000000008 L -117.17750699999993,33.43225200000012 L -117.17831699999999,33.432238999999925 L -117.17833899999994,33.43223699999993 L -117.178406,33.43223699999993 L -117.17842699999994,33.43223699999993 L -117.17842899999994,33.43223699999993 L -117.17853600000001,33.43223400000005 L -117.17885799999999,33.43222900000001 L -117.17896599999995,33.43222900000001 L -117.179642,33.43222000000014 L -117.18167299999993,33.43219700000003 L -117.18234999999999,33.43218999999999 L -117.18238099999996,33.43218999999999 L -117.18266299999993,33.432186 L -117.183603,33.432176000000084 L -117.18391699999995,33.43217299999998 L -117.18467599999997,33.432164000000114 L -117.18695300000002,33.43213800000012 L -117.18771299999997,33.43213000000014 L -117.18780299999997,33.43212900000009 L -117.18807500000003,33.43212900000009 L -117.18816599999991,33.43212900000009 L -117.18917499999998,33.43214200000011 L -117.19220399999995,33.43218100000013 L -117.19321399999995,33.432193999999924 L -117.19352200000003,33.43218500000012 L -117.19359099999997,33.43218300000012 L -117.19361500000002,33.43218300000012 L -117.194727,33.43215600000002 L -117.19510700000001,33.432146999999986 L -117.195111,33.432146000000046 L -117.19552099999999,33.432141 L -117.19676800000002,33.43213000000014 L -117.19718499999999,33.43212900000009 L -117.19773399999991,33.43212799999998 L -117.199387,33.43212799999998 L -117.19993899999986,33.43212900000009 L -117.20149399999991,33.43212900000009 L -117.20615899999996,33.43212900000009 L -117.20668599999999,33.43212900000009 L -117.20771500000001,33.43212900000009 L -117.207716,33.43212900000009 L -117.208013,33.43212900000009 L -117.20890699999995,33.43212900000009 L -117.20920599999994,33.43212900000009 L -117.20926700000001,33.43212799999998 L -117.20985000000002,33.432127000000094 L -117.21178599999996,33.432123000000104 L -117.212422,33.432123000000104 L -117.21243200000004,33.432123000000104 L -117.21249599999993,33.432120000000054 L -117.21268900000001,33.43211500000001 L -117.21274899999997,33.43211500000001 L -117.21275299999996,33.43211400000007 L -117.21301700000004,33.43211400000007 L -117.21380899999986,33.432116000000065 L -117.21407299999993,33.43211699999995 L -117.21407699999997,33.432116000000065 L -117.21442200000001,33.432116000000065 L -117.21546899999998,33.43211899999994 L -117.21579500000001,33.432120000000054 L -117.21581999999995,33.43211899999994 L -117.21643799999993,33.43211800000006 L -117.21711199999993,33.43212100000011 L -117.21829199999996,33.43209999999999 L -117.21890999999994,33.43209000000007 L -117.21891199999999,33.43208900000013 L -117.220099,33.43207300000006 L -117.22366799999998,33.43202800000006 L -117.22485499999993,33.432015999999976 L -117.22485799999993,33.432015999999976 L -117.22498000000002,33.43201799999997 L -117.225347,33.43202400000007 L -117.22546999999986,33.432027000000005 L -117.22552799999994,33.43202800000006 L -117.22556699999996,33.432029 L -117.22570199999996,33.432015000000035 L -117.22575799999998,33.43200999999999 L -117.22575999999998,33.43200999999999 L -117.22590999999994,33.432015000000035 L -117.22636399999993,33.43203099999994 L -117.226516,33.432038000000034 L -117.22676999999993,33.432034000000044 L -117.22753799999998,33.432029 L -117.22779700000001,33.43202800000006 L -117.22843999999992,33.43202400000007 L -117.23037499999998,33.43202500000001 L -117.23102199999994,33.43202800000006 L -117.23234999999988,33.43200700000011 L -117.236086,33.43195100000008 L -117.23633699999999,33.43194699999992 L -117.23766799999999,33.43192799999997 L -117.23778199999998,33.431934000000126 L -117.23812399999997,33.43195300000008 L -117.23823899999996,33.43196000000012 L -117.23825199999999,33.43196100000006 L -117.23841700000003,33.43195300000008 L -117.23895299999998,33.431934000000126 L -117.23913199999998,33.43192799999997 L -117.23913900000002,33.43192799999997 L -117.23915999999997,33.43192799999997 L -117.239168,33.43192799999997 L -117.2396829999999,33.43194200000005 L -117.24122999999992,33.43198999999993 L -117.24127099999993,33.431993000000034 L -117.24146000000002,33.43242900000001 L -117.24146100000002,33.43243100000001 L -117.241466,33.43244200000004 L -117.241468,33.43244700000008 L -117.24143499999991,33.43279500000011 L -117.241424,33.43292800000012 L -117.24131999999997,33.433838000000094 L -117.241288,33.434126000000106 L -117.24129199999999,33.43418700000001 L -117.24134400000003,33.43632000000008 L -117.24150700000001,33.442724000000055 L -117.24156199999993,33.44486000000006 L -117.2415489999999,33.44494699999996 L -117.24151699999993,33.44520899999998 L -117.24150700000001,33.4452960000001 L -117.24150800000001,33.44529899999998 L -117.24153899999999,33.446021999999914 L -117.24163499999992,33.44820000000004 L -117.241668,33.44892800000002 L -117.242167,33.449014999999974 L -117.24218599999995,33.44901900000008 L -117.24267800000001,33.44916000000006 L -117.24313499999988,33.44930099999999 L -117.24358999999987,33.44951800000001 L -117.24359800000002,33.449519000000066 L -117.24408299999999,33.449676000000125 L -117.24435099999994,33.44972999999993 L -117.244708,33.449802000000034 L -117.24515600000001,33.449874000000136 L -117.24538799999993,33.44995100000011 L -117.24560199999996,33.45002199999993 L -117.24597699999993,33.45021700000012 L -117.24635099999995,33.45034900000002 L -117.24692299999987,33.4505410000001 L -117.24794199999997,33.4508350000001 L -117.24916000000002,33.45130500000005 L -117.24920900000001,33.45132400000006 L -117.24953,33.451428000000135 L -117.249908,33.45148399999994 L -117.25023099999999,33.45154200000013 L -117.25045699999998,33.45161600000006 L -117.250495,33.451629000000025 L -117.250655,33.45168999999993 L -117.25125100000002,33.45191799999998 L -117.25145099999997,33.451996000000065 L -117.25147200000004,33.45200199999999 L -117.25148399999995,33.45200700000004 L -117.25154299999986,33.452021 L -117.25156799999996,33.45202800000004 L -117.25188300000002,33.45213200000012 L -117.25282800000002,33.45244700000006 L -117.25287600000001,33.45246400000002 L -117.25306799999998,33.45252800000003 L -117.25314399999996,33.45255300000014 L -117.25533000000001,33.453246999999976 L -117.25930799999998,33.454513000000134 L -117.26188899999994,33.455335000000105 L -117.264073,33.45603100000011 L -117.26407599999999,33.45603200000005 L -117.26412800000003,33.45604800000012 L -117.26424500000002,33.456085000000144 L -117.26475299999993,33.456249000000014 L -117.2649219999999,33.45630399999999 L -117.2649229999999,33.45630399999999 L -117.265445,33.45647200000002 L -117.26701499999996,33.45697999999993 L -117.26754,33.457149999999956 L -117.268145,33.45736499999998 L -117.2699629999999,33.458011 L -117.27056900000002,33.45822700000008 L -117.271319,33.45846300000011 L -117.27356900000001,33.45917300000002 L -117.27431899999999,33.45941099999999 L -117.27432899999991,33.459414000000095 L -117.274358,33.45942300000013 L -117.27436899999987,33.45942700000006 L -117.274408,33.45944600000007 L -117.27452900000003,33.459506999999974 L -117.27456899999999,33.45952700000004 L -117.27520800000002,33.45972700000004 L -117.27712799999995,33.46032700000012 L -117.27765899999991,33.460492999999985 L -117.27776899999998,33.460526999999956 L -117.27883999999995,33.46088400000002 L -117.28098599999998,33.46159999999992 L -117.28205700000001,33.461958000000095 L -117.28286700000001,33.46222800000004 L -117.283139,33.46228200000007 L -117.28314,33.46228300000013 L -117.28314599999999,33.46228400000007 L -117.28316699999993,33.462288 L -117.28317299999998,33.462289999999996 L -117.28324499999991,33.462304000000074 L -117.2832919999999,33.46231299999994 L -117.28364599999998,33.46238599999998 L -117.28376600000001,33.46241100000009 L -117.28378299999991,33.46241399999997 L -117.283907,33.462469999999996 L -117.28432800000002,33.46266200000008 L -117.28446899999994,33.462727000000086 L -117.28490999999991,33.46285900000004 L -117.28623299999998,33.46326300000004 L -117.28667299999995,33.46339800000004 L -117.28667399999995,33.463399000000095 L -117.28851099999997,33.464008999999976 L -117.288727,33.46408100000002 L -117.29277000000002,33.46542599999998 L -117.29490199999987,33.46608600000002 L -117.29696999999999,33.466726999999935 L -117.29762999999997,33.46694600000012 L -117.29961000000003,33.4676070000001 L -117.30027000000001,33.467827 L -117.30039,33.467867000000126 L -117.30074999999994,33.46798700000011 L -117.30086999999992,33.46802700000006 L -117.30093999999991,33.46804400000002 L -117.30115299999989,33.468097 L -117.30122399999999,33.46811500000007 L -117.30126999999999,33.46812699999998 L -117.30163099999999,33.46824600000002 L -117.30285100000003,33.46865400000007 L -117.30325799999997,33.468790000000126 L -117.30336999999992,33.468826999999976 L -117.30728199999993,33.470089000000144 L -117.3095699999999,33.4708270000001 L -117.31461999999993,33.47257400000001 L -117.31465100000003,33.47258500000004 L -117.31469799999996,33.47260200000005 L -117.31476900000001,33.47262699999999 L -117.31487799999996,33.472654999999975 L -117.31527199999988,33.47275100000013 L -117.31557099999992,33.472826999999995 L -117.31644499999993,33.473096000000055 L -117.31683599999997,33.47321699999992 L -117.31687899999997,33.473230000000115 L -117.32240299999995,33.475031000000115 L -117.32637399999999,33.476327000000026 L -117.33321000000001,33.47850600000004 L -117.34345100000002,33.48173500000007 L -117.34598399999999,33.48254000000003 L -117.3517169999999,33.484361999999976 L -117.36028299999998,33.486986 L -117.363609,33.488056000000086 L -117.36755099999993,33.48939899999999 L -117.37092499999994,33.49054899999993 L -117.36713199999991,33.49864300000013 L -117.36650299999991,33.49998800000003 L -117.36544400000002,33.502454 L -117.36542899999995,33.50248799999997 L -117.36538599999994,33.502588999999944 L -117.36537199999987,33.50262500000008 L -117.36515199999997,33.50310400000012 L -117.36449199999998,33.50454499999995 L -117.36427199999997,33.5050250000001 L -117.36659199999991,33.5050250000001 L -117.37355199999996,33.5050250000001 L -117.37587300000001,33.5050250000001 L -117.38992099999996,33.50502399999999 L -117.423471,33.50502300000011 L -117.43206799999996,33.50502100000011 L -117.44611700000002,33.505022 L -117.447858,33.505022 L -117.44984299999993,33.50502100000011 L -117.454363,33.50502300000011 L -117.46102300000001,33.50502300000011 L -117.46474999999992,33.50502399999999 L -117.46746299999995,33.50502300000011 L -117.47561100000001,33.50502 L -117.47832800000003,33.505022 L -117.479198,33.50502 L -117.481811,33.50502 L -117.48268300000001,33.50502100000011 L -117.48520100000002,33.50502 L -117.49275399999999,33.50502 L -117.495273,33.50502 L -117.49694799999992,33.50501800000001 L -117.50197500000002,33.50501800000001 L -117.50365099999993,33.50501900000012 L -117.50486499999994,33.50501800000001 L -117.50850700000001,33.50501800000001 L -117.50972200000001,33.50501900000012 L -117.50972200000001,33.50533600000006 L -117.50972200000001,33.50628999999992 L -117.50972300000001,33.506384999999966 L -117.50972300000001,33.50660800000014 L -117.50972300000001,33.507097999999985 L -117.509724,33.50857100000002 L -117.509725,33.50906199999997 L -117.50718999999992,33.5090120000001 L -117.50375600000001,33.50894500000004 L -117.50350499999996,33.513108000000045 L -117.50347599999998,33.51359200000013 L -117.50336300000004,33.515458000000024 L -117.50335799999988,33.51563900000008 L -117.50337599999995,33.51564200000013 L -117.50343199999998,33.515656000000035 L -117.50345099999993,33.51566100000008 L -117.50344799999993,33.515663000000075 L -117.503442,33.51566900000006 L -117.50344000000001,33.51567200000011 L -117.503334,33.517606000000114 L -117.50318099999998,33.52040500000004 L -117.50618800000001,33.52052200000014 L -117.50668999999988,33.52054300000009 L -117.50750399999998,33.520576000000005 L -117.50812499999995,33.5206 L -117.50833399999999,33.52058500000004 L -117.50896399999999,33.5205390000001 L -117.50917500000003,33.52052400000014 L -117.50935600000003,33.520538000000045 L -117.50945099999996,33.52054599999997 L -117.50954199999995,33.52054599999997 L -117.50981699999994,33.52054599999997 L -117.50990899999994,33.52054599999997 L -117.50992600000001,33.52099800000008 L -117.50997999999993,33.52235400000001 L -117.509998,33.52280800000011 L -117.509999,33.52287200000006 L -117.51000199999999,33.523063000000036 L -117.51000399999998,33.52312899999998 L -117.51006100000001,33.526178000000016 L -117.51006999999993,33.52665900000005 L -117.51020999999997,33.53399900000005 L -117.50830300000001,33.536631 L -117.50665599999991,33.538908000000106 L -117.50623799999994,33.5394960000001 L -117.50565699999993,33.54020299999996 L -117.50391499999995,33.54232399999995 L -117.50345299999992,33.54288800000012 L -117.50333799999999,33.543034999999975 L -117.50292099999996,33.543565 L -117.50167199999999,33.54516000000012 L -117.501258,33.54569300000003 L -117.50116199999997,33.545814000000064 L -117.50068599999986,33.54653700000006 L -117.499007,33.54909700000013 L -117.4985309999999,33.54982400000006 L -117.49844899999994,33.54995300000007 L -117.49809900000002,33.55048500000004 L -117.49705,33.552081999999984 L -117.49670100000003,33.55261500000006 L -117.4959,33.55363399999999 L -117.49349699999993,33.55669400000005 L -117.49349299999994,33.55670100000009 L -117.49269700000002,33.557715000000144 L -117.49184299999996,33.55883 L -117.48928499999994,33.562178000000074 L -117.48843399999998,33.56329499999998 L -117.48765800000001,33.56431000000009 L -117.48587899999995,33.56649900000002 L -117.48152700000003,33.57185900000013 L -117.47813099999996,33.576040999999975 L -117.47554899999994,33.579222999999956 L -117.47369800000001,33.581594999999936 L -117.47090000000003,33.58518499999997 L -117.46814599999999,33.588713999999925 L -117.46629599999994,33.591087000000016 L -117.46539099999995,33.59224599999999 L -117.46410900000001,33.5938900000001 L -117.46267599999993,33.59572600000013 L -117.461772,33.59688600000004 L -117.46167000000003,33.597014000000115 L -117.461659,33.59702600000003 L -117.46132399999999,33.59744900000004 L -117.46128699999986,33.597496000000035 L -117.46121199999993,33.597590000000025 L -117.46090099999998,33.59803100000005 L -117.45811300000003,33.60196499999995 L -117.45793699999996,33.60218900000001 L -117.45743999999996,33.60281299999997 L -117.43922299999991,33.62576900000005 L -117.438154,33.627115999999944 L -117.430793,33.636391 L -117.42870099999999,33.63902699999994 L -117.4281039999999,33.63977700000004 L -117.42631599999993,33.64202700000004 L -117.42572000000001,33.64277800000002 L -117.42483600000003,33.64389700000004 L -117.42253899999997,33.64680499999997 L -117.4221869999999,33.64725900000002 L -117.42131299999994,33.64838700000013 L -117.421291,33.648414 L -117.42122599999988,33.648498000000075 L -117.42120499999999,33.64852600000006 L -117.421044,33.648745000000076 L -117.42079000000001,33.649062000000015 L -117.42017399999997,33.6498600000001 L -117.42011499999995,33.64990999999998 L -117.41945199999998,33.65064000000001 L -117.41866199999998,33.651616000000104 L -117.41757999999999,33.65300400000001 L -117.4158149999999,33.65526799999992 L -117.415595,33.65554800000001 L -117.41493400000002,33.65638800000005 L -117.414715,33.65666900000002 L -117.41457099999991,33.65685300000001 L -117.41452999999996,33.65690100000006 L -117.41395599999998,33.6575840000001 L -117.41389900000001,33.657653000000096 L -117.41378499999996,33.65782700000011 L -117.41357899999997,33.65814000000006 L -117.41298699999993,33.65904499999999 L -117.4130189999999,33.6590700000001 L -117.41331400000001,33.65930200000014 L -117.41398500000003,33.65982800000012 L -117.41443600000002,33.66018200000008 L -117.41607199999993,33.661467000000016 L -117.41786499999995,33.662739999999985 L -117.41902899999997,33.66356700000006 L -117.42002999999994,33.664257000000134 L -117.42303599999997,33.66632700000014 L -117.424038,33.667017000000044 L -117.42886199999998,33.67033900000007 L -117.42901699999993,33.670446000000084 L -117.43854799999991,33.677011999999934 L -117.44333599999999,33.68030900000008 L -117.44527899999997,33.681647999999996 L -117.44816100000003,33.68363299999993 L -117.44942000000003,33.68450000000007 L -117.452087,33.68633700000004 L -117.45319799999999,33.687102000000095 L -117.45445799999999,33.68796999999995 L -117.45474300000001,33.688166000000024 L -117.45560099999994,33.68875700000007 L -117.45588699999996,33.688954000000024 L -117.455941,33.688995000000034 L -117.45610299999998,33.68911800000012 L -117.45615800000002,33.689160000000015 L -117.45649800000001,33.68937100000005 L -117.45752099999999,33.690007000000094 L -117.45786199999998,33.69021900000007 L -117.45788500000003,33.69023299999998 L -117.45795699999991,33.690277000000094 L -117.45798099999996,33.690292000000056 L -117.45834799999994,33.690575000000024 L -117.459451,33.69142700000003 L -117.45974100000001,33.691651999999976 L -117.45981699999999,33.69171399999993 L -117.46634699999998,33.697067000000004 L -117.46956699999998,33.69970699999993 L -117.4745729999999,33.70381100000009 L -117.48922700000003,33.704912000000036 L -117.49711799999994,33.70550599999996 L -117.49764500000003,33.70557500000001 L -117.50100900000001,33.70600900000005 L -117.51110599999993,33.70731999999998 L -117.514475,33.70776000000012 L -117.51496700000001,33.707822000000135 L -117.51645299999996,33.7080150000001 L -117.51694899999995,33.70808100000005 L -117.51729599999999,33.70812600000005 L -117.51833899999997,33.70826099999999 L -117.51868699999989,33.708307000000104 L -117.51910899999996,33.70836099999997 L -117.520376,33.708524000000125 L -117.52079900000001,33.70857900000004 L -117.52343799999994,33.70893400000011 L -117.53135899999995,33.709999000000096 L -117.533999,33.710355000000106 L -117.53400599999986,33.71042100000005 L -117.53402899999998,33.71062100000006 L -117.53403700000001,33.71068800000012 L -117.53404899999987,33.710791000000086 L -117.53406299999995,33.710913999999946 L -117.53407299999998,33.71110600000003 L -117.53408000000002,33.71121300000004 L -117.534085,33.711325000000045 L -117.53410399999996,33.71166400000004 L -117.53411099999994,33.71177899999998 L -117.53410899999994,33.71186800000004 L -117.53410299999996,33.71213799999998 L -117.5341019999999,33.71222799999998 L -117.53410000000002,33.71230200000008 L -117.53409499999992,33.71252700000002 L -117.53409499999992,33.712547000000086 L -117.53413699999993,33.712584000000106 L -117.53439899999995,33.712819000000025 L -117.53439499999996,33.71294000000012 L -117.53434900000002,33.71436100000005 L -117.534335,33.71483500000005 L -117.53443300000004,33.71640999999994 L -117.53472699999992,33.72113900000011 L -117.534827,33.72271599999999 L -117.5348909999999,33.72377399999999 L -117.53492699999993,33.7243380000001 L -117.53501299999994,33.72695200000004 L -117.53504900000001,33.72801300000003 L -117.53510199999994,33.72961600000002 L -117.53511800000001,33.7300810000001 L -117.53526199999993,33.73442499999999 L -117.53531599999997,33.73602900000003 L -117.53538600000002,33.738130000000126 L -117.53559599999988,33.74443300000007 L -117.535663,33.74643400000008 L -117.53566699999999,33.74653500000011 L -117.53568299999995,33.74693300000001 L -117.53573099999994,33.748129000000006 L -117.53574700000001,33.748527999999965 L -117.53574700000001,33.748536000000115 L -117.53574800000001,33.748561999999936 L -117.53574900000001,33.74857099999997 L -117.53575999999993,33.74886000000009 L -117.53579500000001,33.749728000000005 L -117.53580699999992,33.75001800000001 L -117.53580799999992,33.75001800000001 L -117.53581099999991,33.75001800000001 L -117.53581199999996,33.75001800000001 L -117.535843,33.750226 L -117.53593899999993,33.750852000000066 L -117.53597100000002,33.751060999999936 L -117.536,33.75125300000002 L -117.53607999999997,33.751778000000115 L -117.53608400000002,33.7518290000001 L -117.53610299999991,33.75202299999995 L -117.53620799999999,33.75312200000013 L -117.53639799999996,33.75565599999999 L -117.53643199999993,33.75611400000008 L -117.53643199999993,33.756115000000136 L -117.53644800000001,33.757664999999974 L -117.537712,33.75788999999992 L -117.53806999999995,33.75795000000011 L -117.53914499999996,33.75813299999999 L -117.53950399999991,33.75819400000006 L -117.54123199999998,33.758578 L -117.54226499999993,33.758801000000005 L -117.544961,33.75938100000002 L -117.54789199999993,33.76001300000007 L -117.54835499999996,33.760112000000106 L -117.54904999999991,33.76026200000007 L -117.55305199999992,33.761123999999995 L -117.55574899999999,33.76170500000012 L -117.556105,33.761782000000096 L -117.55611399999998,33.76178400000009 L -117.55843399999998,33.76228300000014 L -117.56649199999998,33.764019000000076 L -117.56906900000001,33.76457399999998 L -117.56917499999997,33.76461000000012 L -117.56996699999996,33.764878000000124 L -117.57234499999998,33.76568300000008 L -117.57313799999997,33.76595199999997 L -117.57462799999996,33.76645500000001 L -117.57471099999992,33.76647799999995 L -117.57509199999998,33.766585000000134 L -117.57690400000001,33.76704000000012 L -117.577069,33.767089000000055 L -117.57934699999998,33.7677680000001 L -117.57950599999998,33.76781200000005 L -117.58013599999998,33.767988 L -117.58053899999993,33.76891000000012 L -117.58072399999998,33.769330000000025 L -117.58078899999992,33.76947700000011 L -117.581636,33.770354000000054 L -117.58195599999993,33.77068500000007 L -117.58273299999985,33.771490000000085 L -117.58353999999991,33.77232500000002 L -117.58505099999996,33.77392200000003 L -117.58582200000001,33.77473700000013 L -117.586344,33.77528899999999 L -117.58791499999995,33.77695000000011 L -117.58843999999999,33.77750400000008 L -117.58993299999997,33.77908200000013 L -117.59441699999996,33.78382099999999 L -117.59591199999994,33.78540200000009 L -117.59817800000002,33.78779700000001 L -117.601227,33.791021000000114 L -117.60166099999992,33.79148000000009 L -117.60497599999991,33.79498400000011 L -117.60548099999988,33.79551700000013 L -117.60726999999991,33.79735499999998 L -117.607639,33.797731 L -117.61100399999998,33.8014720000001 L -117.61545699999999,33.80642300000011 L -117.62215999999995,33.81387200000006 L -117.625879,33.818005000000085 L -117.62803299999996,33.82039800000001 L -117.62967300000003,33.82222100000001 L -117.632789,33.825684000000024 L -117.63449500000002,33.82758000000007 L -117.63664999999997,33.82997499999999 L -117.63736399999999,33.830768000000035 L -117.63831099999993,33.83179000000007 L -117.63909399999989,33.832636000000036 L -117.643327,33.837207999999976 L -117.64499999999998,33.83901400000002 L -117.64685199999997,33.84101399999997 L -117.65171299999992,33.846263000000135 L -117.65240799999998,33.84701400000006 L -117.65426099999996,33.849015000000065 L -117.654313,33.849071000000095 L -117.65446899999995,33.84924200000006 L -117.65452199999999,33.849298999999974 L -117.65477099999998,33.84956600000004 L -117.65501899999998,33.84983399999999 L -117.65504199999992,33.849859000000095 L -117.65604100000002,33.85093800000004 L -117.65717499999994,33.85216200000008 L -117.66059799999994,33.855857999999955 L -117.66211699999985,33.85749900000002 L -117.66241200000002,33.85750400000012 L -117.66329699999994,33.85752100000008 L -117.66359299999993,33.85752700000006 L -117.66573,33.85761200000013 L -117.672144,33.85786999999999 L -117.674282,33.857956 L -117.67434599999996,33.858940000000075 L -117.67453899999992,33.86189499999995 L -117.674555,33.862134000000026 L -117.67460399999999,33.86288000000013 L -117.67460800000003,33.86294099999998 L -117.67467899999997,33.86392599999999 L -117.674688,33.86404399999998 L -117.6749069999999,33.867064000000084 L -117.674983,33.868111 L -117.67505299999999,33.86872500000004 L -117.67398600000001,33.86892300000005 L -117.67357800000002,33.86906900000008 L -117.67249700000002,33.869432000000074 L -117.67252400000001,33.869466000000045 L -117.67275699999993,33.86979400000001 L -117.67275999999998,33.869798 L -117.67283799999996,33.869910000000004 L -117.67287399999992,33.86995400000012 L -117.67291299999994,33.87001800000007 L -117.67295799999994,33.87008700000007 L -117.67301199999997,33.870159 L -117.673115,33.87025200000005 L -117.67374899999993,33.87083100000001 L -117.67281200000002,33.87120500000003 L -117.6727489999999,33.87123100000008 L -117.67174899999992,33.87343100000004 L -117.671535,33.87392800000009 L -117.671449,33.874131000000034 L -117.671785,33.874815000000126 L -117.671808,33.874829000000034 L -117.67228999999992,33.87512600000014 L -117.67308499999996,33.875615000000096 L -117.67261500000001,33.8762210000001 L -117.67226899999997,33.87666999999999 L -117.67189400000001,33.877153000000135 L -117.670773,33.878603000000055 L -117.67039899999997,33.879087000000084 L -117.66994599999998,33.87967100000009 L -117.66898500000002,33.880915000000016 L -117.669242,33.88150600000006 L -117.66953699999988,33.88218400000005 L -117.66957200000002,33.88226400000008 L -117.66967699999998,33.88250700000009 L -117.66971199999995,33.882588000000055 L -117.66976599999998,33.88271300000008 L -117.66992999999997,33.88308899999993 L -117.669985,33.883215000000064 L -117.67021499999993,33.88341300000013 L -117.67029399999996,33.883480000000134 L -117.670613,33.88375300000001 L -117.67068499999999,33.88381500000014 L -117.67118699999997,33.88431600000001 L -117.671268,33.88439699999998 L -117.67129699999992,33.884426000000076 L -117.67147699999998,33.884605000000136 L -117.67155399999996,33.88468200000011 L -117.671785,33.88491300000004 L -117.67186200000003,33.88499100000013 L -117.672686,33.88581500000009 L -117.67278599999992,33.88691499999999 L -117.67412399999995,33.887642000000085 L -117.674554,33.88787500000001 L -117.67493099999996,33.888079000000005 L -117.67628599999989,33.888815000000136 L -117.67423500000001,33.888815000000136 L -117.674059,33.888815000000136 L -117.66736400000002,33.888815000000136 L -117.66357099999999,33.888815000000136 L -117.66183299999989,33.888815000000136 L -117.65947499999999,33.888815000000136 L -117.65662199999991,33.888815000000136 L -117.65488500000004,33.888815000000136 L -117.65493099999998,33.89220499999999 L -117.65501499999993,33.898257000000115 L -117.65507200000002,33.902378000000056 L -117.65510499999999,33.904749000000095 L -117.65511900000001,33.905769000000134 L -117.65513699999997,33.907071999999914 L -117.65516999999988,33.90950299999997 L -117.65520200000003,33.911783000000014 L -117.65525100000002,33.91532200000006 L -117.65527700000001,33.91721899999999 L -117.655325,33.92070600000005 L -117.65533199999987,33.92116400000009 L -117.65533500000004,33.92139700000001 L -117.65537699999993,33.924441 L -117.65538200000003,33.924807000000044 L -117.65538499999991,33.92504800000012 L -117.65538599999996,33.925114000000065 L -117.65518799999995,33.925110000000075 L -117.654784,33.925103000000036 L -117.650959,33.925036000000034 L -117.64968499999998,33.925013999999976 L -117.64914899999997,33.925021000000015 L -117.64754099999999,33.92504600000012 L -117.64700600000003,33.9250540000001 L -117.64628199999999,33.92506400000002 L -117.64611200000002,33.92506700000007 L -117.64410999999996,33.92509700000011 L -117.6433869999999,33.92510800000008 L -117.64310099999994,33.92511200000007 L -117.64298499999995,33.925114000000065 L -117.64224300000001,33.925114000000065 L -117.64195699999999,33.925114000000065 L -117.64083199999999,33.925114000000065 L -117.63745799999998,33.925114000000065 L -117.63633400000003,33.925114000000065 L -117.63501699999995,33.925114000000065 L -117.63106799999997,33.925114000000065 L -117.629752,33.925114000000065 L -117.628965,33.925114000000065 L -117.62660699999992,33.925114000000065 L -117.62582099999997,33.925114000000065 L -117.62284599999987,33.925114000000065 L -117.617707,33.925114000000065 L -117.61737199999999,33.925114000000065 L -117.61703799999998,33.925114000000065 L -117.613921,33.925114000000065 L -117.61094699999995,33.925114000000065 L -117.61094699999995,33.92558300000013 L -117.61094699999995,33.926383999999985 L -117.61094999999995,33.929959 L -117.61094499999996,33.93019700000002 L -117.61092200000002,33.931467999999995 L -117.61092200000002,33.9315380000001 L -117.61092200000002,33.93174899999997 L -117.61092200000002,33.931820000000016 L -117.61092200000002,33.931895 L -117.61092200000002,33.932122000000106 L -117.61092200000002,33.93219800000003 L -117.61092200000002,33.933178999999996 L -117.61092300000001,33.93414800000005 L -117.61092300000001,33.936125000000004 L -117.61092300000001,33.93710700000008 L -117.61092300000001,33.93888500000014 L -117.61092400000001,33.94421999999997 L -117.61092500000001,33.945999000000086 L -117.61091999999996,33.946622000000104 L -117.61089600000003,33.948053000000016 L -117.61090299999995,33.94832300000013 L -117.61090699999994,33.9484470000001 L -117.61091199999998,33.9486510000001 L -117.61091099999999,33.949338000000125 L -117.61091099999999,33.94942200000014 L -117.61091199999998,33.949647000000084 L -117.61091799999997,33.950574000000074 L -117.61092099999996,33.95088300000003 L -117.61092200000002,33.95106300000003 L -117.61092500000001,33.95160300000009 L -117.610927,33.95178300000009 L -117.610926,33.951888000000054 L -117.610926,33.9522060000001 L -117.610926,33.95231300000006 L -117.61092500000001,33.95263700000004 L -117.61092300000001,33.95361000000008 L -117.61092300000001,33.953934999999944 L -117.61092300000001,33.953951000000075 L -117.61092300000001,33.95399700000013 L -117.61092300000001,33.95401300000003 L -117.61092099999996,33.95464300000009 L -117.61091999999996,33.95522700000009 L -117.61091699999997,33.95709800000003 L -117.61091399999998,33.95886899999999 L -117.61091299999998,33.960083999999995 L -117.61064499999992,33.962799000000075 L -117.61048499999993,33.964413000000036 L -117.61048499999993,33.96527299999997 L -117.61048499999993,33.967853000000105 L -117.61048499999993,33.96871300000004 L -117.61048399999993,33.96873399999998 L -117.61048199999993,33.96879999999993 L -117.61048199999993,33.96882199999999 L -117.61047999999988,33.968861000000004 L -117.610476,33.96897700000005 L -117.61047500000001,33.96901699999995 L -117.61047200000002,33.96909100000005 L -117.61046399999998,33.96931500000011 L -117.61046199999998,33.96939000000009 L -117.61044699999997,33.96982300000002 L -117.61040199999991,33.97112299999998 L -117.610388,33.97155699999996 L -117.610386,33.9716140000001 L -117.61001299999998,33.97173600000008 L -117.60873500000002,33.97215799999998 L -117.6083089999999,33.97229900000008 L -117.60804199999995,33.972388000000024 L -117.60723999999993,33.97265600000014 L -117.60697399999998,33.97274600000014 L -117.60695299999998,33.97275200000007 L -117.60689300000001,33.972772000000134 L -117.60687299999995,33.972779 L -117.60583499999996,33.97312500000004 L -117.60272199999997,33.97416499999997 L -117.60168499999986,33.974512999999945 L -117.60106899999994,33.97477400000008 L -117.60098800000003,33.97480800000005 L -117.60090599999995,33.97484300000008 L -117.60080700000003,33.97489500000012 L -117.60051199999998,33.975051000000065 L -117.60006599999991,33.975316000000134 L -117.60000500000001,33.97533000000004 L -117.59735599999999,33.97616100000005 L -117.59427499999987,33.977143000000126 L -117.59393999999986,33.977269999999976 L -117.59382999999997,33.977327000000116 L -117.59365200000002,33.977453000000025 L -117.59337899999997,33.97757000000013 L -117.593232,33.97759599999995 L -117.57565999999991,33.98302000000007 L -117.57546899999994,33.983078999999975 L -117.56701199999998,33.985674000000074 L -117.56251899999995,33.98709300000007 L -117.55837700000001,33.988420000000076 L -117.55836199999999,33.98998599999999 L -117.55837500000001,33.991410999999914 L -117.55841499999991,33.99568599999998 L -117.55842899999993,33.997112000000016 L -117.55834300000004,33.99998399999998 L -117.55833200000001,34.000485000000026 L -117.55829800000004,34.00141400000001 L -117.55829800000004,34.0014690000001 L -117.55830499999996,34.003153 L -117.55829699999992,34.00425800000011 L -117.55827399999998,34.005311000000006 L -117.55828300000002,34.00630699999999 L -117.55828600000001,34.00761700000004 L -117.55827399999998,34.00885400000004 L -117.55826799999994,34.010252000000094 L -117.55822399999994,34.011908000000005 L -117.55822899999998,34.013147000000004 L -117.55821100000003,34.01418100000012 L -117.55820699999987,34.01454699999999 L -117.5582,34.015206000000035 L -117.558199,34.0161710000001 L -117.55822599999999,34.017224 L -117.55825400000003,34.018090000000086 L -117.558269,34.01890600000007 L -117.55826799999994,34.01961800000004 L -117.55826699999994,34.020550000000014 L -117.55829399999993,34.02175599999998 L -117.55831099999995,34.022469 L -117.558314,34.02258400000011 L -117.55832499999997,34.02293100000003 L -117.55832900000001,34.023047000000076 L -117.55833100000001,34.023236000000054 L -117.55833799999994,34.02380500000004 L -117.55834099999993,34.02399499999996 L -117.55833999999993,34.02402699999993 L -117.55833699999994,34.02412700000008 L -117.55833699999994,34.02416000000011 L -117.55834599999997,34.024458000000095 L -117.55836,34.02491199999997 L -117.55836,34.02496100000013 L -117.55836099999999,34.025108000000046 L -117.55836199999999,34.02515800000009 L -117.55836399999998,34.02535999999992 L -117.5583719999999,34.02616400000005 L -117.55837400000001,34.027707000000134 L -117.55841399999991,34.031774999999925 L -117.558358,34.03245300000009 L -117.558333,34.03276800000003 L -117.55832499999997,34.03285800000003 L -117.558312,34.03345100000007 L -117.55497499999996,34.03346099999999 L -117.55105999999995,34.03348100000005 L -117.55084299999993,34.03347700000006 L -117.55044499999997,34.03347000000002 L -117.55019199999998,34.03347200000002 L -117.54997599999996,34.03347500000007 L -117.54868499999998,34.03346699999997 L -117.54590400000001,34.033494000000076 L -117.545707,34.03349600000007 L -117.54438500000003,34.033492999999964 L -117.543115,34.03348900000003 L -117.5428369999999,34.03348800000009 L -117.54251999999997,34.03348700000004 L -117.54223499999995,34.033486000000096 L -117.54212100000001,34.033486000000096 L -117.54183,34.03348500000004 L -117.54172799999992,34.03348500000004 L -117.54070000000002,34.03348300000005 L -117.53947999999997,34.03348100000005 L -117.537619,34.033478 L -117.53659199999987,34.03347700000006 L -117.53587400000004,34.03347600000001 L -117.5337229999999,34.03347300000013 L -117.533006,34.03347200000002 L -117.52941199999998,34.033471000000134 L -117.52662499999997,34.03346899999997 L -117.52489100000003,34.03346899999997 L -117.52431299999995,34.03346899999997 L -117.524203,34.03346899999997 L -117.52416,34.03345400000012 L -117.52377199999995,34.03345500000006 L -117.51776100000001,34.03347900000006 L -117.51661299999995,34.03347700000006 L -117.51629400000002,34.03347900000006 L -117.51597600000002,34.03347900000006 L -117.51577799999995,34.03348 L -117.51558,34.03348100000005 L -117.51537299999995,34.03348100000005 L -117.51408900000001,34.03348500000004 L -117.51137099999994,34.03348900000003 L -117.51125300000001,34.03348900000003 L -117.51090099999993,34.03348900000003 L -117.51078399999994,34.03348900000003 L -117.51066099999997,34.03348900000003 L -117.51029399999999,34.03348900000003 L -117.51017200000001,34.033490000000086 L -117.50993599999987,34.033490000000086 L -117.50923,34.03349099999997 L -117.50899499999997,34.03349200000008 L -117.50870299999997,34.03349099999997 L -117.50782699999996,34.03348800000009 L -117.50753499999996,34.03348700000004 L -117.50740599999995,34.033486000000096 L -117.50701900000001,34.03348500000004 L -117.506891,34.03348500000004 L -117.5065259999999,34.03348700000004 L -117.50543199999998,34.03349500000013 L -117.50506799999994,34.033498000000066 L -117.50422500000002,34.03350399999999 L -117.50266499999998,34.03351500000002 L -117.50169800000003,34.03352200000006 L -117.500856,34.0335290000001 L -117.50072999999986,34.0335290000001 L -117.50035500000001,34.0335290000001 L -117.50022999999999,34.0335290000001 L -117.50012499999997,34.033535000000086 L -117.49999699999995,34.03354300000001 L -117.49985600000002,34.03356500000007 L -117.49981300000002,34.033567999999946 L -117.49970899999994,34.033576000000096 L -117.49954399999996,34.03356999999994 L -117.499462,34.03356300000007 L -117.49932599999994,34.03354300000001 L -117.49921599999999,34.03352800000005 L -117.49912299999994,34.03352499999994 L -117.498175,34.033533999999975 L -117.49803999999995,34.03353599999997 L -117.49794199999991,34.03353300000009 L -117.49779299999994,34.03351500000002 L -117.49773199999987,34.0335070000001 L -117.49748899999992,34.033460000000105 L -117.49731400000002,34.033449000000076 L -117.49701700000003,34.03344400000003 L -117.49685199999999,34.03344700000008 L -117.49579099999994,34.03346899999997 L -117.49451899999997,34.033447999999964 L -117.49401499999999,34.03345100000007 L -117.49347499999999,34.033456000000115 L -117.49321099999997,34.033447999999964 L -117.49306999999988,34.03343899999993 L -117.49295599999994,34.03343100000001 L -117.49283599999995,34.03342900000001 L -117.49266099999994,34.03342800000013 L -117.49254499999995,34.03343200000006 L -117.49232399999994,34.033457 L -117.49220899999995,34.0334620000001 L -117.49213499999996,34.03346099999999 L -117.49190199999987,34.03345899999999 L -117.49172199999998,34.033457 L -117.49167999999997,34.033457 L -117.491175,34.03345899999999 L -117.491016,34.03345400000012 L -117.49090499999988,34.033452000000125 L -117.49079499999993,34.03345500000006 L -117.48998,34.03348700000004 L -117.48753799999992,34.03358500000013 L -117.48672399999998,34.03361800000005 L -117.48561899999993,34.03362199999998 L -117.482305,34.033637 L -117.48131899999998,34.03364200000004 L -117.48120099999988,34.033642999999984 L -117.47920799999991,34.03365100000008 L -117.473232,34.03367800000001 L -117.472781,34.033680000000004 L -117.4712409999999,34.03368700000004 L -117.47008800000003,34.03369100000003 L -117.46663199999995,34.033707000000106 L -117.46548100000001,34.03371199999998 L -117.46463999999997,34.03371199999998 L -117.459,34.03371199999998 L -117.45408099999986,34.03371199999998 L -117.453285,34.03372400000006 L -117.43956199999997,34.03391199999999 L -117.43337500000001,34.033998 L -117.43308300000001,34.03400199999999 L -117.43237999999985,34.034013000000016 L -117.42973999999998,34.03405700000013 L -117.419712,34.03422499999999 L -117.41636999999997,34.034280999999964 L -117.415931,34.03428800000006 L -117.41461599999997,34.03431000000006 L -117.41448000000003,34.034313 L -117.41417799999999,34.03430600000013 L -117.41400899999996,34.03430200000014 L -117.41350299999999,34.03429 L -117.41333499999996,34.03428700000012 L -117.41281400000003,34.03427500000004 L -117.41125299999999,34.03423900000007 L -117.41073299999994,34.03422800000004 L -117.40884199999999,34.034185000000036 L -117.40316899999999,34.03405600000002 L -117.40127899999993,34.034013000000016 L -117.40123399999987,34.03401100000002 L -117.40109999999999,34.03400500000009 L -117.40105599999998,34.03400399999998 L -117.39866799999999,34.03386700000004 L -117.39725699999997,34.033938000000035 L -117.39673399999987,34.03390200000007 L -117.39524999999998,34.03380199999998 L -117.3942439999999,34.03388300000012 L -117.393934,34.03388799999999 L -117.393437,34.033856000000014 L -117.39156600000001,34.03387099999998 L -117.39070499999991,34.03387200000009 L -117.39058699999998,34.03387299999997 L -117.39006999999987,34.03386899999998 L -117.38949100000002,34.0338680000001 L -117.38867099999993,34.03386700000004 L -117.38621299999994,34.0338660000001 L -117.38539400000002,34.0338660000001 L -117.384974,34.03386500000005 L -117.38371399999994,34.03386500000005 L -117.38358999999997,34.03386500000005 L -117.38329499999992,34.033889000000045 L -117.38258399999995,34.033885999999995 L -117.38045099999988,34.03387700000013 L -117.37974099999991,34.03387500000014 L -117.37968599999999,34.03387500000014 L -117.378848,34.03387400000008 L -117.37616999999995,34.03387400000008 L -117.37601199999995,34.03387400000008 L -117.37527799999998,34.03387500000014 L -117.37527799999998,34.033492999999964 L -117.37527799999998,34.032347000000016 L -117.37527799999998,34.031966000000125 L -117.37527799999998,34.03187700000001 L -117.37527799999998,34.031611000000055 L -117.37527799999998,34.03152300000005 L -117.37507399999998,34.03152300000005 L -117.37485600000002,34.03152300000005 L -117.37485600000002,34.03113100000013 L -117.37485600000002,34.03092800000002 L -117.37485600000002,34.03084799999999 L -117.37479699999994,34.03084700000005 L -117.37456600000002,34.03084500000011 L -117.37442699999997,34.03072300000014 L -117.374323,34.030632000000026 L -117.37451499999997,34.03038100000009 L -117.37490600000001,34.02987500000012 L -117.37509299999994,34.029630999999995 L -117.37528600000002,34.029382 L -117.37559299999998,34.02898199999993 L -117.37561399999998,34.02895500000005 L -117.37562999999994,34.02893499999999 L -117.37649899999991,34.02777000000003 L -117.37680099999994,34.02736600000003 L -117.37689699999999,34.02723600000007 L -117.37718699999999,34.02684700000003 L -117.37728400000003,34.02671800000002 L -117.37698699999999,34.026567 L -117.37609799999996,34.02611399999995 L -117.37580199999996,34.02596399999999 L -117.375606,34.025806000000046 L -117.37558999999993,34.0257850000001 L -117.37548200000003,34.02564000000001 L -117.37538499999994,34.02540700000009 L -117.37536999999992,34.025171000000114 L -117.37537299999991,34.02500800000013 L -117.37537999999995,34.02473099999992 L -117.37540000000001,34.023794000000066 L -117.37540000000001,34.02366400000011 L -117.37541099999987,34.020465000000115 L -117.37541599999992,34.01939900000002 L -117.37513699999994,34.019400000000076 L -117.37478499999992,34.01940300000001 L -117.37430299999994,34.01940600000006 L -117.37402500000002,34.019408000000055 L -117.37384099999997,34.0194130000001 L -117.373537,34.019411000000105 L -117.372075,34.01940200000007 L -117.37158799999992,34.01939900000002 L -117.37143800000001,34.019404000000065 L -117.37132500000001,34.019406999999944 L -117.37128799999988,34.01940899999994 L -117.37078099999985,34.019426000000124 L -117.37053600000002,34.01943400000005 L -117.370274,34.01944400000002 L -117.36970200000002,34.019464000000085 L -117.3683779999999,34.01951300000002 L -117.36798899999997,34.019464000000085 L -117.36757799999987,34.01941400000004 L -117.36742100000004,34.01941400000004 L -117.36721199999994,34.01941400000004 L -117.36658599999993,34.01941400000004 L -117.36637799999994,34.01941400000004 L -117.36530299999993,34.019442000000026 L -117.36519199999998,34.01944400000002 L -117.365116,34.01944700000007 L -117.36503900000002,34.01944800000001 L -117.36496099999994,34.01944999999995 L -117.36488499999996,34.019453000000055 L -117.36255999999997,34.019512000000134 L -117.36231299999997,34.01951400000013 L -117.35915399999999,34.01951400000013 L -117.34943999999996,34.019512000000134 L -117.34941000000003,34.01951100000002 L -117.34763599999991,34.01943000000011 L -117.34756399999998,34.019426000000124 L -117.34734799999995,34.01941700000009 L -117.34727699999996,34.01941400000004 L -117.347216,34.01941400000004 L -117.347035,34.01941400000004 L -117.34697499999993,34.01941400000004 L -117.345777,34.01941400000004 L -117.34005899999994,34.01944800000001 L -117.33999900000003,34.019446000000016 L -117.339947,34.01944999999995 L -117.33973699999996,34.019426000000124 L -117.33974599999999,34.019405000000006 L -117.33972299999994,34.01940300000001 L -117.339654,34.019397000000026 L -117.339632,34.01939600000014 L -117.33961099999999,34.01939399999998 L -117.33955100000003,34.01939100000004 L -117.33953099999997,34.01938999999999 L -117.33951799999994,34.01938799999999 L -117.33947899999993,34.01938200000001 L -117.33946600000002,34.01938100000012 L -117.33945399999999,34.01937900000013 L -117.33942000000002,34.01937499999997 L -117.33940899999999,34.019374000000084 L -117.33939899999996,34.01937200000009 L -117.33936899999998,34.0193680000001 L -117.33935899999994,34.019367000000045 L -117.3393089999999,34.019360000000006 L -117.33623999999998,34.019377000000134 L -117.336161,34.019378000000074 L -117.33583099999998,34.01938000000007 L -117.33577499999996,34.01938100000012 L -117.33485999999994,34.019374000000084 L -117.33447399999989,34.019374000000084 L -117.33434799999992,34.01937499999997 L -117.33386299999995,34.01938000000007 L -117.33371999999991,34.01937900000013 L -117.33367499999986,34.01938000000007 L -117.33351900000002,34.01937600000008 L -117.33327899999995,34.019370000000094 L -117.332762,34.0193680000001 L -117.33228399999996,34.019371000000035 L -117.33118899999994,34.019377000000134 L -117.33107799999999,34.01937900000013 L -117.33086599999996,34.019374000000084 L -117.33054500000003,34.01937600000008 L -117.32997599999993,34.01938300000012 L -117.32957499999998,34.01938799999999 L -117.322386,34.019377000000134 L -117.32077899999996,34.01937499999997 L -117.32063,34.019374000000084 L -117.31969699999996,34.0193680000001 L -117.31924299999997,34.01936399999994 L -117.31870900000001,34.019360000000006 L -117.317519,34.01935100000014 L -117.3171079999999,34.019348000000036 L -117.31657499999994,34.0193440000001 L -117.31634700000001,34.01934200000011 L -117.31566299999997,34.01933600000012 L -117.31543599999992,34.01933500000007 L -117.315087,34.01932999999997 L -117.31404099999997,34.019318000000055 L -117.31369299999994,34.019315000000006 L -117.31347499999998,34.019314000000065 L -117.31282099999993,34.01931200000013 L -117.31260299999991,34.01931200000013 L -117.31204500000001,34.01931000000013 L -117.31037299999997,34.01930600000014 L -117.30981600000001,34.01930500000003 L -117.309728,34.01930399999998 L -117.30946399999999,34.01930399999998 L -117.30937599999999,34.01930399999998 L -117.309215,34.01930300000009 L -117.30873400000002,34.0193010000001 L -117.30857399999991,34.0193010000001 L -117.30797999999987,34.0192990000001 L -117.306396,34.01929400000006 L -117.30619799999994,34.01929300000012 L -117.30560500000001,34.019292000000064 L -117.30489499999999,34.0193010000001 L -117.3037389999999,34.01931600000006 L -117.29813999999999,34.0193890000001 L -117.29627499999987,34.01941400000004 L -117.29430500000001,34.01934699999998 L -117.28954399999992,34.01918599999999 L -117.28839600000003,34.019146000000035 L -117.28642699999995,34.01908000000009 L -117.28603599999991,34.019067000000064 L -117.28486499999991,34.01902800000005 L -117.28447499999999,34.019015000000024 L -117.28379499999994,34.01900000000006 L -117.28333599999996,34.01898900000003 L -117.28175499999992,34.01895500000006 L -117.28107599999987,34.018940999999984 L -117.28105199999999,34.01894000000004 L -117.280982,34.01893899999999 L -117.28095899999994,34.01893899999999 L -117.28056800000002,34.018930000000125 L -117.28038599999996,34.018926000000135 L -117.27866799999993,34.018888000000004 L -117.27809599999995,34.01887600000009 L -117.27805099999995,34.018874000000096 L -117.27791699999995,34.01887100000005 L -117.27787299999989,34.01887100000005 L -117.277488,34.01884100000001 L -117.27633400000002,34.01875200000012 L -117.27594999999991,34.01872300000002 L -117.27592299999992,34.01872100000003 L -117.27584199999995,34.01871799999998 L -117.27581499999997,34.018717000000095 L -117.275691,34.018699000000026 L -117.27531899999997,34.01864499999999 L -117.275195,34.01862799999998 L -117.27506299999999,34.01864899999998 L -117.2746699999999,34.01871399999999 L -117.274539,34.01873600000005 L -117.27439800000002,34.01873600000005 L -117.273977,34.01873800000004 L -117.2738369999999,34.018738999999925 L -117.27354799999995,34.018724000000134 L -117.27337499999993,34.0187150000001 L -117.27268199999997,34.0187150000001 L -117.27239399999996,34.0187150000001 L -117.27225599999991,34.0187150000001 L -117.27065700000003,34.018717000000095 L -117.27063699999997,34.01871599999998 L -117.270622,34.0187150000001 L -117.270602,34.0187150000001 L -117.27054599999991,34.0187150000001 L -117.26952599999998,34.01863300000008 L -117.26876899999996,34.018572000000006 L -117.26823200000001,34.01856299999997 L -117.26749899999987,34.01855000000012 L -117.266955,34.01856600000002 L -117.265896,34.01859700000011 L -117.26311799999985,34.01867700000014 L -117.2618389999999,34.0187150000001 L -117.25822299999993,34.0187150000001 L -117.24737500000003,34.0187150000001 L -117.24563599999993,34.0187150000001 L -117.24376000000001,34.0187150000001 L -117.24008200000003,34.0187150000001 L -117.23989799999993,34.0187150000001 L -117.23971799999987,34.0187150000001 L -117.23647299999993,34.0187150000001 L -117.22905000000003,34.0187150000001 L -117.22594499999997,34.0187150000001 L -117.22537299999999,34.0187150000001 L -117.225372,34.01612699999998 L -117.225372,34.01276899999999 L -117.225372,34.012729000000036 L -117.225372,34.00846100000007 L -117.225372,34.00836299999992 L -117.225372,34.00577599999997 L -117.22536899999994,34.00534700000014 L -117.225372,34.004314000000136 L -117.21237199999996,34.0042150000001 L -117.20704799999999,34.0042150000001 L -117.20318800000001,34.0042150000001 L -117.19957099999988,34.0042150000001 L -117.19892599999997,34.0042150000001 L -117.19188599999995,34.0042150000001 L -117.19107600000001,34.0042150000001 L -117.19100499999996,34.0042150000001 L -117.18592599999994,34.0042150000001 L -117.18575299999992,34.0042150000001 L -117.18546999999995,34.0042150000001 L -117.18480799999998,34.0042150000001 L -117.18319199999996,34.0042150000001 L -117.17550999999997,34.0042150000001 L -117.17520899999994,34.0042150000001 L -117.17484099999996,34.0042150000001 L -117.17295000000001,34.0042150000001 L -117.17200200000002,34.0042150000001 L -117.17187000000001,34.0042150000001 L -117.16916000000003,34.0042150000001 L -117.16821299999992,34.0042150000001 L -117.16813399999995,34.00421400000005 L -117.16789899999998,34.00421300000011 L -117.167821,34.00421300000011 L -117.16757000000001,34.00421300000011 L -117.16681899999998,34.00421400000005 L -117.16656899999998,34.0042150000001 L -117.16652199999999,34.0042150000001 L -117.16638099999994,34.0042150000001 L -117.166334,34.0042150000001 L -117.16611599999999,34.0042170000001 L -117.16596500000003,34.004219999999975 L -117.16559599999994,34.00422600000013 L -117.16546499999993,34.004227000000014 L -117.16542200000004,34.004228000000126 L -117.16524900000002,34.004231000000004 L -117.16435199999995,34.004221000000086 L -117.16166199999998,34.00419100000005 L -117.16151899999994,34.004189999999994 L -117.16076599999997,34.004186000000004 L -117.15976299999994,34.00419100000005 L -117.15675599999992,34.00420699999995 L -117.155754,34.00421300000011 L -117.15452799999997,34.0042170000001 L -117.15084999999993,34.00423000000012 L -117.15001499999994,34.004233 L -117.14962400000002,34.004234000000054 L -117.14913799999994,34.00424000000004 L -117.14767899999993,34.00425800000011 L -117.147381,34.004260999999985 L -117.147381,34.0042620000001 L -117.14719399999996,34.004264999999975 L -117.14619799999997,34.004269000000136 L -117.14320900000001,34.004283000000044 L -117.14221399999985,34.00428800000009 L -117.14209800000003,34.00428199999999 L -117.14009299999987,34.00419500000004 L -117.13874499999997,34.004135000000076 L -117.13373099999995,34.00391600000006 L -117.13161099999996,34.003824000000066 L -117.13136599999996,34.00381500000003 L -117.13133099999999,34.00381500000003 L -117.13025700000003,34.003830999999934 L -117.12619799999993,34.003894 L -117.12486699999994,34.00391499999995 L -117.124845,34.00391499999995 L -117.12452899999994,34.00391499999995 L -117.123582,34.00391499999995 L -117.123267,34.00391499999995 L -117.12306799999993,34.00391499999995 L -117.12247300000001,34.00391499999995 L -117.12227499999995,34.00391499999995 L -117.12207799999999,34.00391499999995 L -117.12148899999994,34.00391499999995 L -117.12129299999998,34.00391600000006 L -117.12011599999994,34.00391499999995 L -117.11658699999998,34.00391499999995 L -117.11541099999994,34.00391499999995 L -117.11386699999991,34.00391499999995 L -117.11327599999993,34.003922000000046 L -117.11125099999998,34.00394699999998 L -117.10687099999996,34.004004000000066 L -117.106066,34.004015000000095 L -117.10473699999989,34.004015000000095 L -117.103882,34.004015000000095 L -117.10131999999987,34.004015000000095 L -117.10046599999998,34.004015000000095 L -117.09972099999999,34.004008000000056 L -117.06833899999992,34.00369500000005 L -117.0677,34.00370700000002 L -117.06602699999996,34.00358700000004 L -117.06549999999987,34.00355300000007 L -117.06533699999989,34.00356899999997 L -117.06497699999994,34.003611999999976 L -117.06485199999997,34.003626000000054 L -117.06469299999998,34.00364600000012 L -117.06463899999994,34.00366100000008 L -117.06447899999995,34.003705000000025 L -117.06442600000003,34.0037210000001 L -117.06437299999999,34.003735000000006 L -117.06421599999993,34.003779000000065 L -117.064164,34.003794000000084 L -117.06403399999999,34.003828000000055 L -117.06394,34.00385299999999 L -117.06364499999995,34.003921000000105 L -117.06351299999994,34.003941 L -117.06331999999998,34.00397099999998 L -117.06325800000002,34.00397600000002 L -117.06304899999992,34.00399300000004 L -117.062837,34.00399700000003 L -117.06248599999998,34.00399300000004 L -117.06222899999995,34.00399100000004 L -117.06182899999999,34.00399700000003 L -117.06062800000001,34.004017999999974 L -117.06022899999994,34.004026000000124 L -117.05943899999994,34.00404000000003 L -117.05844099999996,34.004094000000066 L -117.05677399999996,34.00408500000003 L -117.0562599999999,34.00408400000009 L -117.0540939999999,34.00411400000007 L -117.053653,34.00411400000007 L -117.05233299999998,34.00411600000007 L -117.05189299999995,34.00411800000006 L -117.05102799999997,34.00416100000007 L -117.04866199999998,34.00428100000005 L -117.04843499999993,34.00428800000009 L -117.04756999999995,34.00431600000013 L -117.04669399999995,34.004350999999986 L -117.04406899999998,34.00445700000006 L -117.04319399999997,34.004493000000025 L -117.042328,34.00453200000004 L -117.04017899999991,34.004631000000074 L -117.03973099999996,34.00465099999997 L -117.03886599999998,34.00469100000004 L -117.03828099999998,34.00471599999997 L -117.03652699999992,34.004790999999955 L -117.03594299999992,34.004817 L -117.03564499999993,34.004829000000086 L -117.03475300000002,34.00486700000005 L -117.03445599999998,34.004881000000125 L -117.03401999999994,34.004874000000086 L -117.03282999999999,34.004855000000134 L -117.032713,34.004850999999974 L -117.03227799999996,34.00483800000012 L -117.03184199999998,34.00482400000004 L -117.03053399999999,34.00478300000003 L -117.030099,34.00477000000001 L -117.02956999999992,34.00475899999998 L -117.02798599999994,34.00472600000012 L -117.02745799999997,34.00471500000009 L -117.02711899999997,34.00470699999994 L -117.02610300000003,34.00468599999999 L -117.02576499999986,34.004679000000124 L -117.025509,34.00467000000009 L -117.02474099999995,34.00464499999998 L -117.02448599999991,34.004637 L -117.024292,34.004634000000124 L -117.02371299999999,34.00462600000003 L -117.0235199999999,34.004624000000035 L -117.02329500000002,34.00462099999993 L -117.02261999999996,34.004612000000066 L -117.02239500000002,34.004609000000016 L -117.02217100000001,34.00460599999997 L -117.021501,34.0045970000001 L -117.02127799999994,34.004594 L -117.02095199999997,34.00455699999998 L -117.02082799999994,34.0045540000001 L -117.01980200000003,34.00453200000004 L -117.01947200000001,34.004530999999986 L -117.01902000000001,34.004530999999986 L -117.01889299999999,34.004526999999996 L -117.01851499999998,34.00451500000008 L -117.01838900000001,34.00451100000009 L -117.01815199999993,34.00449500000002 L -117.01766899999996,34.00447300000013 L -117.01757899999996,34.00447000000008 L -117.01718499999998,34.004459000000054 L -117.01624599999997,34.00445799999994 L -117.01577999999995,34.00445799999994 L -117.01514900000001,34.004451000000074 L -117.014339,34.004444000000035 L -117.01309700000002,34.004324999999994 L -117.00856799999991,34.004320000000064 L -117.00136099999992,34.004314000000136 L -116.99897299999998,34.00438700000012 L -116.99875099999997,34.00439300000011 L -116.998717,34.00439399999999 L -116.99445100000003,34.004526999999996 L -116.99412899999993,34.004538000000025 L -116.99381399999999,34.00454800000011 L -116.99369200000001,34.0045520000001 L -116.99356799999998,34.00455600000009 L -116.993267,34.004564000000016 L -116.99210600000004,34.00459999999998 L -116.99120299999993,34.00462200000004 L -116.99008599999996,34.00465000000003 L -116.98980399999999,34.00465600000001 L -116.98884799999996,34.00468000000001 L -116.98820899999993,34.00469199999998 L -116.98819200000003,34.00469199999998 L -116.98817399999996,34.00469199999998 L -116.98812199999992,34.00469300000003 L -116.98745099999991,34.00470699999994 L -116.98722800000002,34.00471200000004 L -116.98712599999993,34.004713000000095 L -116.98682099999985,34.00471800000014 L -116.98671999999999,34.004720000000134 L -116.98664199999996,34.004720000000134 L -116.98641099999992,34.00472200000013 L -116.98633399999994,34.004724000000124 L -116.98625999999996,34.00472500000001 L -116.98603999999989,34.004727 L -116.98596699999996,34.004729 L -116.98491599999994,34.00473200000005 L -116.98488199999997,34.00473200000005 L -116.98483699999991,34.00473200000005 L -116.98212499999994,34.00473800000003 L -116.98183299999994,34.004738999999915 L -116.98053600000003,34.004743000000076 L -116.98045799999989,34.004743000000076 L -116.98035499999997,34.00474400000002 L -116.97690799999998,34.004814000000124 L -116.97575699999993,34.004819 L -116.97444999999999,34.004814000000124 L -116.97236699999985,34.00477900000004 L -116.97167599999995,34.004788000000076 L -116.97044700000004,34.00477000000001 L -116.96968599999997,34.004761000000144 L -116.96912199999986,34.00478500000003 L -116.96898699999997,34.00478300000003 L -116.96858500000002,34.00477700000005 L -116.96845200000001,34.00477500000005 L -116.96833900000001,34.004773000000114 L -116.96800300000001,34.00476700000013 L -116.96789099999995,34.00476600000002 L -116.96695699999987,34.00477500000005 L -116.9642,34.00480399999998 L -116.963278,34.00481500000001 L -116.96321399999988,34.004814000000124 L -116.96302199999997,34.004814000000124 L -116.96295900000001,34.004814000000124 L -116.96279099999998,34.004814000000124 L -116.962286,34.004817 L -116.96211900000003,34.00481800000006 L -116.96168899999998,34.004817 L -116.96039999999999,34.004814000000124 L -116.95997099999994,34.004814000000124 L -116.95937900000001,34.004814000000124 L -116.95760399999995,34.004814000000124 L -116.9570129999999,34.004814000000124 L -116.95642599999991,34.004814000000124 L -116.95466799999986,34.004814000000124 L -116.95408199999997,34.004814000000124 L -116.95404200000002,34.004814000000124 L -116.95392099999987,34.004814000000124 L -116.95388200000002,34.004814000000124 L -116.95310199999994,34.004814000000124 L -116.95076399999994,34.004814000000124 L -116.95067399999999,34.004814000000124 L -116.94998499999997,34.004814000000124 L -116.94925799999987,34.004814000000124 L -116.94707699999998,34.004814000000124 L -116.94635099999994,34.004814000000124 L -116.946258,34.004814000000124 L -116.94478599999997,34.00483100000008 L -116.940091,34.004886 L -116.93852699999997,34.00490500000001 L -116.93837300000001,34.00490600000006 L -116.93790999999999,34.00491200000005 L -116.93775700000003,34.00491400000004 L -116.936914,34.00491400000004 L -116.93438600000002,34.00491400000004 L -116.93354399999998,34.00491400000004 L -116.93286599999993,34.00491400000004 L -116.930834,34.00491400000004 L -116.93015699999995,34.00491400000004 L -116.93003299999998,34.00491400000004 L -116.92966099999995,34.00491400000004 L -116.92953699999998,34.00491400000004 L -116.92950100000002,34.00491400000004 L -116.929392,34.00491400000004 L -116.92935699999992,34.00491400000004 L -116.92943400000001,34.00715200000013 L -116.92945699999996,34.007813999999996 L -116.92945699999996,34.00825000000003 L -116.92945699999996,34.013872000000106 L -116.92945699999996,34.016113000000075 L -116.92945699999996,34.016244000000086 L -116.92945699999996,34.01663900000011 L -116.92945699999996,34.016771000000006 L -116.92945699999996,34.016909000000055 L -116.92946,34.01732300000003 L -116.929461,34.01746200000014 L -116.92946599999999,34.01849899999996 L -116.92948399999995,34.02161000000001 L -116.92948999999993,34.02264800000006 L -116.92950300000001,34.02494100000007 L -116.92954399999996,34.03181900000004 L -116.92955799999987,34.034113000000104 L -116.92896300000001,34.034113000000104 L -116.92717900000002,34.034113000000104 L -116.92658499999999,34.034113000000104 L -116.926558,34.034113000000104 L -116.922798,34.034106000000065 L -116.92066399999999,34.034103000000016 L -116.91143799999986,34.034110000000055 L -116.907757,34.034113000000104 L -116.90765199999987,34.03411200000005 L -116.90735000000001,34.034108999999944 L -116.90644600000002,34.034103000000016 L -116.90614499999998,34.03410100000002 L -116.90382699999992,34.03408300000012 L -116.89687300000003,34.03403000000003 L -116.89455599999997,34.034013000000016 L -116.89101499999998,34.034013000000016 L -116.88697199999996,34.034013000000016 L -116.88039499999996,34.03401200000013 L -116.87685499999998,34.03401200000013 L -116.87665500000003,34.03398500000003 L -116.87605499999995,34.03390700000011 L -116.875855,34.03388100000012 L -116.87383599999993,34.033859000000064 L -116.86777899999998,34.03379300000012 L -116.86593599999998,34.03377399999994 L -116.8657609999999,34.03377500000005 L -116.86459599999995,34.03377700000004 L -116.86110199999996,34.033784999999966 L -116.86012700000003,34.03378800000007 L -116.85993799999994,34.03378800000007 L -116.85985399999993,34.03378800000007 L -116.85960199999994,34.03378800000007 L -116.85951899999992,34.03378900000013 L -116.85937200000001,34.03378900000013 L -116.85893399999992,34.03378900000013 L -116.858788,34.03379000000007 L -116.85574099999997,34.033803999999975 L -116.85200900000001,34.0338230000001 L -116.84660000000002,34.033848999999975 L -116.84355399999987,34.03386500000005 L -116.84329000000002,34.0338660000001 L -116.84325799999999,34.03386400000011 L -116.842374,34.03381400000006 L -116.84208000000001,34.03379799999999 L -116.841766,34.03379799999999 L -116.84082299999994,34.03380100000004 L -116.84051,34.03380199999998 L -116.84031899999997,34.03380199999998 L -116.83974799999999,34.033803000000034 L -116.83955800000001,34.033803999999975 L -116.83722,34.033810000000074 L -116.83020499999998,34.03383000000014 L -116.82786799999997,34.033837000000005 L -116.82777499999992,34.033837000000005 L -116.82749599999994,34.033837000000005 L -116.82740399999994,34.03383800000012 L -116.82610499999993,34.033840999999995 L -116.82220899999999,34.03385100000014 L -116.82091099999997,34.033855000000074 L -116.81634600000001,34.03385300000008 L -116.8026529999999,34.03384699999998 L -116.79838299999994,34.03384600000004 L -116.79808899999995,34.03384699999998 L -116.78985599999999,34.03387099999998 L -116.76515999999998,34.03394599999996 L -116.75705299999993,34.03397100000012 L -116.75692900000001,34.033972000000006 L -116.75473599999998,34.033998 L -116.75098199999996,34.03404400000011 L -116.74815899999999,34.034043 L -116.74749600000001,34.034043 L -116.74728399999998,34.03404200000011 L -116.74651599999993,34.034062000000006 L -116.74596700000001,34.034054000000026 L -116.745677,34.03405099999998 L -116.74330900000001,34.034024000000045 L -116.73533700000002,34.03393600000004 L -116.73268000000002,34.03390700000011 L -116.73034799999999,34.033927000000006 L -116.73007599999994,34.03392400000013 L -116.72226599999999,34.033848999999975 L -116.71966299999997,34.03382400000004 L -116.71900299999999,34.03381699999994 L -116.71702299999987,34.0337990000001 L -116.71636399999994,34.03379300000012 L -116.71633199999997,34.03379300000012 L -116.71627000000001,34.033792000000005 L -116.71515599999992,34.03378200000009 L -116.71488899999997,34.03377900000004 L -116.7145319999999,34.03377399999994 L -116.70903699999991,34.03371300000009 L -116.70720599999993,34.03369300000003 L -116.70710700000001,34.03369300000003 L -116.70553000000001,34.03368700000004 L -116.70050499999996,34.03366800000009 L -116.69883099999993,34.033662000000106 L -116.69877600000001,34.033662000000106 L -116.69598200000001,34.03362600000014 L -116.68995899999993,34.03355099999999 L -116.687435,34.03355800000003 L -116.68458599999991,34.03356600000001 L -116.68424800000003,34.03356600000001 L -116.68323599999997,34.03356999999994 L -116.683065,34.03357100000005 L -116.68289900000002,34.03356999999994 L -116.68224199999997,34.03356600000001 L -116.68144999999998,34.03356200000002 L -116.68002099999995,34.03355299999998 L -116.67138999999992,34.03350399999999 L -116.66881199999995,34.033490000000086 L -116.66857299999998,34.033539000000076 L -116.66851899999995,34.03353700000008 L -116.66826399999991,34.0335290000001 L -116.66749800000002,34.0335070000001 L -116.66724399999998,34.033500000000004 L -116.66719699999999,34.03350599999999 L -116.66708,34.033523 L -116.66705699999994,34.03352200000006 L -116.66700999999989,34.03352200000006 L -116.66605799999996,34.03350399999999 L -116.66320400000001,34.033452000000125 L -116.66225299999991,34.033435 L -116.65799800000002,34.03341300000011 L -116.64848599999993,34.033367000000055 L -116.64523399999996,34.03335400000003 L -116.6409799999999,34.03333700000002 L -116.64096899999998,34.03333700000002 L -116.64067399999999,34.03333600000013 L -116.63975900000003,34.033333000000084 L -116.639635,34.033333000000084 L -116.639454,34.03333199999997 L -116.63746400000002,34.033329000000094 L -116.63453099999992,34.03332400000005 L -116.63375099999996,34.03332300000011 L -116.62584700000002,34.033326000000045 L -116.62399299999993,34.03332300000011 L -116.61976500000003,34.03331600000007 L -116.61560299999985,34.03331000000014 L -116.61557399999992,34.03255100000001 L -116.61409900000001,34.032555 L -116.60967399999998,34.03256900000008 L -116.60848099999998,34.03257300000007 L -116.60819900000001,34.03257300000007 L -116.60737199999994,34.032573999999954 L -116.604894,34.032578000000115 L -116.60406799999998,34.03258000000011 L -116.60392099999996,34.03258000000011 L -116.60348299999998,34.03258099999999 L -116.60333699999995,34.032582000000104 L -116.60328700000002,34.032582000000104 L -116.60266899999993,34.03258299999999 L -116.60066799999993,34.032589000000144 L -116.60000199999996,34.03259200000002 L -116.59970999999996,34.03259100000014 L -116.59883399999995,34.03258800000009 L -116.59854299999995,34.03258800000009 L -116.598096,34.03259100000014 L -116.59675499999992,34.0326 L -116.59630899999996,34.03260399999999 L -116.59613299999995,34.03260399999999 L -116.59534199999996,34.03260599999993 L -116.592442,34.03261400000008 L -116.591476,34.03261800000007 L -116.59139699999997,34.03261800000007 L -116.5913349999999,34.03261699999996 L -116.59091499999988,34.03261100000003 L -116.59077500000001,34.032609000000036 L -116.59044799999998,34.032605000000046 L -116.58954099999988,34.032607999999925 L -116.58583899999991,34.032620000000065 L -116.58460600000001,34.03262500000011 L -116.58239399999997,34.03263199999998 L -116.5757569999999,34.03265500000009 L -116.57354599999991,34.03266300000007 L -116.56977499999999,34.03268100000014 L -116.56339899999995,34.032712000000004 L -116.55846300000002,34.03273600000006 L -116.55469299999993,34.03275500000001 L -116.55450300000001,34.03275500000001 L -116.55393300000003,34.032757000000004 L -116.553744,34.032758000000115 L -116.55361299999998,34.032758000000115 L -116.55020099999996,34.03276699999998 L -116.53957199999996,34.03279600000002 L -116.53602999999993,34.032805999999994 L -116.53409499999998,34.03281100000004 L -116.52828999999997,34.03282600000006 L -116.52635599999991,34.032831999999985 L -116.52354099999997,34.03284100000002 L -116.51509599999997,34.03286900000006 L -116.51247599999999,34.032878000000096 L -116.51228200000003,34.032878000000096 L -116.51227599999999,34.032878000000096 L -116.51225799999997,34.032878000000096 L -116.51225199999993,34.032878000000096 L -116.51000899999997,34.03285800000003 L -116.50328300000001,34.032798000000014 L -116.50104099999993,34.03277799999995 L -116.50007399999987,34.032779999999946 L -116.49239999999998,34.03279400000008 L -116.48921499999994,34.03280000000001 L -116.47883100000001,34.03281900000002 L -116.46647799999994,34.03284200000013 L -116.466206,34.03284200000013 L -116.4581829999999,34.03285800000003 L -116.45793200000003,34.03287200000011 L -116.45783799999998,34.032878000000096 L -116.45782499999996,34.032878000000096 L -116.457787,34.03288000000009 L -116.45777499999997,34.032880999999975 L -116.45738599999987,34.03290500000003 L -116.455671,34.03290400000009 L -116.45477899999997,34.03290400000009 L -116.44935899999996,34.03290100000004 L -116.44725599999998,34.03289999999993 L -116.44662,34.03289900000004 L -116.44471499999997,34.03289700000005 L -116.44407999999999,34.03289700000005 L -116.42888199999999,34.03289000000001 L -116.42183799999998,34.03288600000002 L -116.40591599999993,34.032878000000096 L -116.40555499999999,34.032878000000096 L -116.39938399999994,34.03285299999999 L -116.39929799999993,34.03285200000005 L -116.39575499999995,34.03280900000004 L -116.39222999999998,34.032759 L -116.39020399999987,34.03273600000006 L -116.38910799999996,34.032717000000105 L -116.38543999999996,34.03270700000013 L -116.37459799999993,34.03264400000006 L -116.36501099999992,34.03262100000012 L -116.3649739999999,34.03262200000006 L -116.35900300000003,34.032602 L -116.35310300000003,34.03258299999999 L -116.338052,34.032627000000105 L -116.33565599999991,34.03263500000003 L -116.31806899999987,34.03251100000011 L -116.31596499999995,34.03247099999999 L -116.31592899999998,34.032470000000046 L -116.30874599999993,34.03250400000002 L -116.30797799999999,34.03250700000012 L -116.30567499999995,34.03251799999998 L -116.30490800000001,34.032521999999915 L -116.3047929999999,34.032521999999915 L -116.30445099999991,34.03252400000008 L -116.30433699999992,34.03252500000002 L -116.30063099999995,34.032544000000144 L -116.30059799999998,34.034400999999946 L -116.29972599999996,34.03439600000007 L -116.28313599999996,34.03431000000006 L -116.28042299999993,34.034323000000086 L -116.27398899999997,34.03435400000001 L -116.27009399999992,34.034372000000076 L -116.26565099999993,34.03439400000008 L -116.25982399999998,34.034366999999975 L -116.25840999999997,34.034359999999936 L -116.25451599999991,34.03434200000004 L -116.252343,34.034331000000066 L -116.25084099999998,34.03432500000008 L -116.24582399999997,34.03432399999997 L -116.24365199999994,34.03432399999997 L -116.24309499999998,34.034325999999965 L -116.24142599999999,34.034334000000115 L -116.24086999999997,34.034336999999994 L -116.23838699999999,34.03433600000011 L -116.23449199999993,34.034335 L -116.23093799999987,34.034334000000115 L -116.22845499999994,34.034334000000115 L -116.228273,34.034333000000004 L -116.22773000000001,34.034333000000004 L -116.22754900000001,34.034333000000004 L -116.22120799999993,34.03433200000012 L -116.20480900000001,34.034331000000066 L -116.20218499999999,34.03432900000007 L -116.197743,34.03432800000013 L -116.19584499999996,34.03432800000013 L -116.195899,34.03382799999997 L -116.19592299999994,34.03361000000007 L -116.19463399999995,34.03361200000006 L -116.19437700000003,34.033612999999946 L -116.19413199999991,34.03361400000006 L -116.192568,34.033617000000106 L -116.19171099999988,34.03361800000005 L -116.18445099999997,34.03363300000001 L -116.182031,34.033638999999994 L -116.18186700000001,34.033638999999994 L -116.17907099999996,34.03364900000008 L -116.17019399999998,34.03368300000005 L -116.16723599999995,34.03369500000002 L -116.16689999999994,34.03369600000008 L -116.16589199999993,34.033698999999956 L -116.16555700000004,34.03370100000012 L -116.159178,34.03372600000006 L -116.14079299999997,34.0337990000001 L -116.14004399999999,34.03380100000004 L -116.13765599999994,34.033811000000014 L -116.13366599999995,34.03382400000004 L -116.133399,34.03382400000004 L -116.13259700000003,34.03382700000009 L -116.13233099999997,34.03382799999997 L -116.13169700000003,34.03383000000014 L -116.129797,34.03383500000001 L -116.12916399999995,34.03383800000012 L -116.12876499999999,34.033839 L -116.127568,34.03384299999999 L -116.12716999999998,34.033844999999985 L -116.12583699999999,34.03386400000011 L -116.12571499999996,34.03386400000011 L -116.12135,34.033897000000024 L -116.11989599999998,34.03390900000011 L -116.11964799999998,34.0339110000001 L -116.11741899999993,34.03392200000013 L -116.10999100000004,34.03396099999998 L -116.10751499999998,34.033975000000055 L -116.10738999999995,34.033975000000055 L -116.10701499999999,34.03397700000005 L -116.10689099999996,34.03397799999999 L -116.10675100000003,34.033979000000045 L -116.106403,34.03397999999993 L -116.104939,34.03398800000008 L -116.10445199999987,34.03399099999996 L -116.10330099999993,34.03399600000006 L -116.09984899999995,34.034013000000016 L -116.09869900000001,34.034020000000055 L -116.09859099999994,34.034020999999996 L -116.09685199999996,34.03402900000009 L -116.09131399999995,34.034058000000016 L -116.08946799999995,34.034067999999934 L -116.086998,34.03408100000013 L -116.08331199999998,34.03410100000002 L -116.07958999999988,34.03411999999997 L -116.07712100000003,34.03413400000011 L -116.07098599999995,34.034166000000084 L -116.06186099999996,34.03421500000002 L -116.05258099999998,34.03426400000001 L -116.04644699999994,34.034297000000095 L -116.04608299999995,34.03429900000003 L -116.04322300000001,34.03431400000005 L -116.04278599999998,34.03431600000005 L -116.03180600000002,34.034375000000125 L -116.02814699999999,34.03439600000007 L -116.02792499999998,34.03439700000001 L -116.02689800000002,34.03440200000006 L -116.02315099999998,34.03442200000012 L -116.02190300000001,34.03442899999999 L -116.02162599999997,34.034430999999984 L -116.02099099999992,34.034430999999984 L -116.02091399999995,34.034430999999984 L -116.01825799999995,34.034430999999984 L -116.01734699999997,34.034430999999984 L -116.01719700000001,34.034430999999984 L -116.01597700000002,34.034425 L -116.011867,34.03440600000005 L -116.01070199999992,34.034400999999946 L -116.01049799999993,34.03440200000006 L -116.00861099999997,34.0344070000001 L -116.00295,34.034424000000115 L -116.00106399999999,34.034430999999984 L -116.00101699999999,34.034435000000144 L -116.00087899999994,34.03444900000005 L -116.00083299999989,34.03445499999998 L -116.00077999999996,34.03445499999998 L -116.00062100000002,34.03445499999998 L -116.00056899999998,34.03445499999998 L -115.99973399999999,34.03445600000009 L -115.997232,34.03446000000008 L -115.99690199999998,34.034461000000135 L -115.996398,34.03445899999997 L -115.98864499999996,34.034425 L -115.98843299999993,34.034425 L -115.98783999999989,34.03442200000012 L -115.98483199999998,34.03443400000003 L -115.98483599999992,34.03514700000005 L -115.98388999999992,34.03513099999998 L -115.9679339999999,34.035146 L -115.96757399999996,34.03514500000006 L -115.963256,34.03514900000005 L -115.94468,34.03516900000011 L -115.93381999999991,34.03517999999997 L -115.92741399999994,34.03518100000002 L -115.91529499999996,34.03518300000002 L -115.91352799999999,34.03518300000002 L -115.90993199999997,34.03518300000002 L -115.897063,34.03518300000002 L -115.89697199999995,34.03518300000002 L -115.88731299999995,34.03518400000007 L -115.87582900000001,34.03518500000001 L -115.87416999999999,34.035304999999994 L -115.87381699999997,34.03530600000005 L -115.86740099999997,34.03531900000007 L -115.86724199999998,34.03531900000007 L -115.85597899999993,34.035343000000125 L -115.85174299999994,34.03535199999999 L -115.84752000000003,34.03536000000008 L -115.84094700000003,34.0353750000001 L -115.84089499999999,34.0353750000001 L -115.83793200000002,34.03535900000003 L -115.83727399999987,34.03535599999992 L -115.83564999999987,34.03534700000006 L -115.83203200000003,34.035328000000106 L -115.82889,34.03531099999992 L -115.82587699999993,34.03529500000002 L -115.82570299999992,34.03529300000008 L -115.82555500000001,34.03529300000008 L -115.82518099999999,34.03529300000008 L -115.82500799999997,34.035294000000135 L -115.82482500000003,34.035294000000135 L -115.82261699999992,34.03529200000014 L -115.81859399999996,34.035291000000086 L -115.815447,34.03528900000009 L -115.81326099999995,34.03528900000009 L -115.81305699999996,34.03528900000009 L -115.81180699999999,34.03528799999998 L -115.80805899999996,34.035287000000096 L -115.80744199999998,34.035287000000096 L -115.80680999999998,34.035287000000096 L -115.80034599999993,34.0352850000001 L -115.79533600000002,34.035283000000106 L -115.79118699999998,34.03528200000005 L -115.79047499999996,34.03528200000005 L -115.78964499999995,34.03528100000011 L -115.77022099999988,34.03525100000013 L -115.76251400000001,34.0352400000001 L -115.76091399999996,34.03523700000005 L -115.75082499999996,34.03522200000003 L -115.7495189999999,34.03537100000011 L -115.74944899999991,34.03537100000011 L -115.74925999999999,34.03537000000006 L -115.74869299999989,34.03537000000006 L -115.74850399999997,34.03537000000006 L -115.74782999999996,34.03536900000012 L -115.74580800000001,34.03536600000007 L -115.745135,34.03536600000007 L -115.74478999999997,34.035364999999956 L -115.74477999999993,34.03536400000007 L -115.743716,34.03536299999996 L -115.74343699999986,34.03536299999996 L -115.74336199999993,34.03536299999996 L -115.74150299999997,34.03536000000008 L -115.73452099999997,34.035349999999994 L -115.72027300000002,34.0353300000001 L -115.71825499999994,34.03532700000005 L -115.71115399999996,34.03532300000006 L -115.70799899999992,34.03532100000007 L -115.69915900000001,34.03531700000008 L -115.69860299999999,34.03531600000002 L -115.69693799999999,34.03531500000008 L -115.69638299999991,34.03531500000008 L -115.69622599999997,34.03531500000008 L -115.69575600000002,34.03531500000008 L -115.69559999999996,34.03531500000008 L -115.69504499999988,34.03531400000003 L -115.69338299999993,34.03531299999992 L -115.69327799999996,34.03531299999992 L -115.69297699999993,34.03531299999992 L -115.69282900000002,34.03531299999992 L -115.69154900000001,34.03531200000003 L -115.68770899999998,34.03531000000004 L -115.68665199999998,34.03531000000004 L -115.68642899999992,34.03531000000004 L -115.68240599999996,34.03530699999999 L -115.67955799999993,34.03530600000005 L -115.67786199999995,34.035304999999994 L -115.67034000000001,34.035301000000004 L -115.66933899999998,34.035301000000004 L -115.66770199999996,34.03530000000012 L -115.66631899999993,34.035304999999994 L -115.66565399999996,34.03530699999999 L -115.66372999999993,34.03531400000003 L -115.661382,34.03532300000006 L -115.65596700000003,34.035342000000014 L -115.65368699999988,34.03535100000005 L -115.65337899999997,34.035349999999994 L -115.64918899999992,34.035334999999975 L -115.64661000000001,34.03532700000005 L -115.64495499999992,34.03532100000007 L -115.63798099999985,34.035298000000125 L -115.63661999999994,34.03529300000008 L -115.632431,34.035278999999946 L -115.63215500000001,34.03527800000006 L -115.63132699999994,34.03527500000001 L -115.63105199999995,34.03527500000001 L -115.63074099999989,34.03527300000002 L -115.62998700000003,34.03527100000002 L -115.62980800000003,34.03527100000002 L -115.6294969999999,34.03527100000002 L -115.628601,34.03526999999991 L -115.6259159999999,34.03526799999992 L -115.62582199999991,34.03526799999992 L -115.625021,34.03527100000002 L -115.62494700000002,34.03527100000002 L -115.62472600000001,34.03527200000008 L -115.62465299999985,34.03527300000002 L -115.62132400000002,34.0352850000001 L -115.61886099999998,34.035294000000135 L -115.60148700000002,34.035364999999956 L -115.59808699999991,34.03537900000009 L -115.59569599999998,34.03538900000001 L -115.59379999999993,34.03538500000002 L -115.58811500000002,34.03537300000011 L -115.58661699999999,34.03537000000006 L -115.58622000000003,34.03536900000012 L -115.58295699999996,34.03536200000008 L -115.58064399999995,34.03535700000003 L -115.57541800000001,34.03534500000012 L -115.57402799999994,34.035343000000125 L -115.54392099999995,34.03528000000006 L -115.54301099999998,34.03527800000006 L -115.53220999999996,34.03525500000012 L -115.531183,34.035252000000014 L -115.52810199999999,34.035246000000086 L -115.52707499999991,34.03524400000009 L -115.52550899999994,34.03524100000004 L -115.52380499999998,34.03523700000005 L -115.51399800000002,34.03521699999999 L -115.51346899999993,34.035216000000105 L -115.51072999999997,34.03521000000012 L -115.50982699999986,34.035208000000125 L -115.50696600000003,34.03520199999997 L -115.50081799999998,34.03519099999994 L -115.49567699999994,34.03512400000011 L -115.49240800000001,34.03508199999999 L -115.49191400000001,34.035079999999994 L -115.48855100000003,34.03506800000008 L -115.47848099999993,34.035036000000105 L -115.47846300000003,34.03503500000005 L -115.47510099999994,34.035025000000076 L -115.47472199999987,34.03502400000002 L -115.45178199999992,34.03494900000004 L -115.42391299999991,34.03485900000004 L -115.38616300000001,34.034737000000064 L -115.38216,34.03472400000004 L -115.38182799999998,34.034722000000045 L -115.37581599999993,34.03470300000009 L -115.37394399999994,34.03474499999999 L -115.37145399999997,34.034717 L -115.368222,34.034681000000035 L -115.35851200000002,34.03457499999996 L -115.35831999999994,34.03457200000008 L -115.35774399999997,34.03456599999993 L -115.357553,34.03456399999993 L -115.35732299999995,34.03456100000005 L -115.35663399999999,34.03455300000013 L -115.35640499999994,34.034551000000135 L -115.35549699999996,34.03454099999999 L -115.34614499999998,34.03443800000002 L -115.34349999999995,34.034409000000096 L -115.339718,34.034368000000086 L -115.31867599999993,34.03413699999999 L -115.3162119999999,34.034110000000055 L -115.31617299999994,34.04553499999997 L -115.31617299999994,34.04575999999997 L -115.31612999999993,34.05839800000007 L -115.31612999999993,34.05844100000007 L -115.31612699999994,34.05932600000011 L -115.31612100000001,34.061232000000075 L -115.31612000000001,34.06126400000005 L -115.31611599999985,34.06251200000008 L -115.31610599999999,34.065612999999985 L -115.31609899999995,34.067623000000026 L -115.31609099999991,34.069734000000096 L -115.31608199999988,34.07255799999996 L -115.316081,34.072857 L -115.31607400000001,34.075008000000025 L -115.31606499999998,34.07784300000009 L -115.31361500000003,34.077845999999965 L -115.30978199999998,34.077850000000126 L -115.306488,34.077854000000116 L -115.30410099999995,34.07785600000011 L -115.29841699999986,34.07786299999998 L -115.29045500000001,34.07787200000001 L -115.28737699999999,34.07787500000006 L -115.287286,34.07787500000006 L -115.28444599999995,34.077878 L -115.27508,34.07788800000009 L -115.26351299999999,34.077901999999995 L -115.26335499999988,34.077901999999995 L -115.26288599999998,34.077901999999995 L -115.262881,34.077901999999995 L -115.26281399999988,34.077901999999995 L -115.26274099999995,34.077901999999995 L -115.262723,34.077901999999995 L -115.26264100000003,34.077901999999995 L -115.26220799999999,34.077903000000106 L -115.26171299999999,34.077903000000106 L -115.25864000000001,34.07790700000004 L -115.25081399999999,34.077917000000014 L -115.234352,34.077945 L -115.22854499999994,34.07796700000006 L -115.22726499999999,34.077984000000015 L -115.21180999999996,34.07784400000003 L -115.20763399999993,34.07780700000012 L -115.19850099999985,34.077779000000135 L -115.19257399999998,34.077761000000066 L -115.19244199999997,34.077761000000066 L -115.19238999999993,34.07942200000002 L -115.190493,34.07943200000011 L -115.188376,34.079444000000024 L -115.18541299999998,34.079459999999926 L -115.18508400000002,34.07946199999992 L -115.177954,34.07950099999999 L -115.156563,34.079620000000034 L -115.14943399999999,34.07965999999999 L -115.14755300000002,34.07966799999991 L -115.14676400000002,34.07967200000007 L -115.13875599999994,34.07971799999996 L -115.13608699999992,34.07973400000009 L -115.12733300000002,34.07978200000014 L -115.125811,34.079791 L -115.121283,34.079791 L -115.11470700000001,34.079792000000054 L -115.11089299999998,34.079792000000054 L -115.10821199999992,34.079792999999995 L -115.10107099999999,34.079792999999995 L -115.10024199999998,34.079792999999995 L -115.09267499999987,34.07979400000005 L -115.09249699999998,34.07979400000005 L -115.09231799999998,34.07979400000005 L -115.092172,34.07979400000005 L -115.09202499999998,34.07979400000005 L -115.09174200000001,34.07979400000005 L -115.09162300000003,34.07979400000005 L -115.09001699999993,34.079785000000015 L -115.08944299999996,34.07978300000002 L -115.08162199999998,34.079747000000054 L -115.07222999999993,34.07970400000005 L -115.060879,34.07965200000001 L -115.05488400000002,34.07962500000008 L -115.04211800000002,34.079566 L -115.03835700000002,34.07954900000004 L -115.03426299999995,34.079530000000034 L -115.00343699999996,34.079692000000136 L -114.98755699999992,34.079695000000015 L -114.98357299999998,34.079696000000126 L -114.97964000000002,34.079695000000015 L -114.978586,34.079695000000015 L -114.93625299999991,34.07968700000009 L -114.93340599999999,34.07968599999998 L -114.92486600000001,34.0796850000001 L -114.92201999999997,34.0796850000001 L -114.9131769999999,34.0796830000001 L -114.90016100000003,34.07968100000011 L -114.88664799999992,34.07967800000006 L -114.87780499999985,34.07967699999995 L -114.87580300000002,34.07967699999995 L -114.87482199999994,34.07968100000011 L -114.86614600000001,34.07972500000005 L -114.86587599999996,34.07972600000011 L -114.86289399999998,34.079741000000126 L -114.86269099999987,34.07974300000012 L -114.85220599999991,34.07968700000009 L -114.85208899999998,34.07962700000007 L -114.848814,34.0779740000001 L -114.84699399999994,34.07705500000009 L -114.84664900000001,34.07688100000007 L -114.83733399999994,34.079609000000005 L -114.83411899999987,34.079597999999976 L -114.83121999999997,34.07959999999997 L -114.83075899999994,34.07959999999997 L -114.829523,34.07959900000009 L -114.82737099999991,34.07959700000009 L -114.82154899999995,34.0795950000001 L -114.81720999999987,34.0795930000001 L -114.81382300000001,34.07959200000005 L -114.80998999999997,34.07959000000005 L -114.80980999999997,34.07958899999994 L -114.80097099999989,34.07957700000003 L -114.79777199999995,34.079571999999985 L -114.79595,34.07956999999999 L -114.79511099999996,34.07957700000003 L -114.79467999999991,34.079580000000135 L -114.79376000000002,34.079610000000116 L -114.79312600000003,34.07960100000008 L -114.79122399999989,34.07957700000003 L -114.790591,34.079569000000106 L -114.79048299999994,34.079567999999995 L -114.79015999999996,34.079565000000116 L -114.790053,34.079565000000116 L -114.78916700000002,34.07955900000013 L -114.78650900000002,34.07954300000006 L -114.78562299999999,34.079538000000014 L -114.78541799999999,34.079542000000004 L -114.784805,34.07955600000008 L -114.78460100000001,34.079561000000126 L -114.78407399999998,34.079556999999966 L -114.78249599999998,34.07954599999994 L -114.78197,34.07954300000006 L -114.78120199999995,34.07953700000013 L -114.77889800000003,34.079521 L -114.77813100000003,34.079516000000126 L -114.777626,34.079511999999966 L -114.77688899999998,34.07950700000009 L -114.7761109999999,34.07950099999999 L -114.77560699999992,34.07949800000006 L -114.775012,34.079493000000014 L -114.77326900000003,34.079481999999985 L -114.77322800000002,34.0794810000001 L -114.77304900000001,34.07947999999999 L -114.77263399999998,34.07947700000011 L -114.77250499999997,34.07947600000006 L -114.77211799999992,34.07947300000012 L -114.7719889999999,34.07947300000012 L -114.77167400000002,34.07947000000007 L -114.77072900000002,34.07946400000009 L -114.77041399999996,34.07946199999992 L -114.769883,34.07946199999992 L -114.76829099999998,34.07946300000003 L -114.76776100000001,34.07946400000009 L -114.76726200000002,34.079459999999926 L -114.76576599999999,34.07944800000001 L -114.76526799999999,34.079444000000024 L -114.76519100000002,34.079442000000085 L -114.76496099999997,34.079438000000096 L -114.76488499999999,34.079436999999984 L -114.764565,34.079431000000056 L -114.76360599999987,34.07941600000004 L -114.76328699999993,34.07941099999999 L -114.76295099999993,34.07940600000012 L -114.76240699999994,34.07939799999997 L -114.76194399999991,34.079393000000096 L -114.76160900000002,34.0793910000001 L -114.76103199999994,34.079386000000056 L -114.759301,34.07937300000003 L -114.75872400000003,34.07936900000004 L -114.75825299999997,34.07936599999999 L -114.75820499999992,34.07936500000011 L -114.75664899999998,34.07933800000001 L -114.75613099999998,34.07933000000003 L -114.75567099999995,34.079322000000104 L -114.754729,34.079305999999974 L -114.754303,34.079298999999935 L -114.75429299999996,34.079298999999935 L -114.75383399999993,34.079307000000085 L -114.75347299999999,34.07931300000007 L -114.75239299999998,34.07933200000002 L -114.75203399999992,34.07933900000006 L -114.75195200000002,34.07933800000001 L -114.75170599999996,34.07933600000001 L -114.75162499999993,34.07933600000001 L -114.75155799999999,34.07932499999998 L -114.75135899999998,34.07929300000001 L -114.75129299999992,34.07928300000003 L -114.75079899999997,34.07933100000014 L -114.75039500000003,34.07932900000014 L -114.74769400000002,34.079322000000104 L -114.74679399999997,34.07932000000011 L -114.7464149999999,34.079317 L -114.74527999999987,34.07930900000008 L -114.74490200000002,34.079307000000085 L -114.74485800000002,34.079307000000085 L -114.74451199999999,34.079304000000036 L -114.74274000000003,34.07929300000001 L -114.73840899999999,34.079277000000104 L -114.73729999999995,34.079273000000114 L -114.73632600000002,34.07927100000012 L -114.73590300000001,34.079273000000114 L -114.7352939999999,34.07927599999999 L -114.73480299999994,34.0792790000001 L -114.73453599999999,34.07927999999998 L -114.73225799999994,34.07929400000006 L -114.72267599999992,34.079352000000085 L -114.72257100000002,34.07935299999997 L -114.72133400000001,34.07936700000005 L -114.71834299999995,34.07940200000013 L -114.71830499999993,34.079400000000135 L -114.71785599999998,34.07938200000007 L -114.71216700000002,34.07937900000002 L -114.70139399999994,34.07937500000003 L -114.69375300000002,34.07937199999998 L -114.68761499999994,34.07937100000004 L -114.68527099999989,34.07937700000002 L -114.67823899999996,34.079395999999974 L -114.67602499999992,34.07940300000001 L -114.67589599999991,34.07940200000013 L -114.67554799999999,34.07939900000008 L -114.674507,34.079390000000046 L -114.67415999999997,34.07938700000011 L -114.67402300000003,34.079386000000056 L -114.67181299999987,34.07936799999999 L -114.66720599999996,34.07938000000007 L -114.650982,34.07942400000002 L -114.64634699999999,34.07944299999997 L -114.63939399999998,34.07947200000007 L -114.63749200000001,34.079479000000106 L -114.63178800000003,34.07950200000005 L -114.62988699999994,34.07951100000008 L -114.62640199999998,34.07952499999999 L -114.62579499999993,34.079528000000096 L -114.61595,34.07966700000003 L -114.61246699999992,34.07971700000007 L -114.61201799999992,34.07972300000006 L -114.61091899999985,34.079740000000015 L -114.61067100000002,34.07973900000013 L -114.6102229999999,34.07973900000013 L -114.60828600000002,34.079736000000025 L -114.60465799999997,34.079732999999976 L -114.60306199999991,34.07973099999998 L -114.60247600000002,34.0797300000001 L -114.60073199999994,34.079728999999986 L -114.60054000000002,34.079728999999986 L -114.59695399999998,34.0797280000001 L -114.59513400000003,34.0797280000001 L -114.58619799999997,34.07972600000011 L -114.58548100000002,34.07972600000011 L -114.58261299999992,34.07972600000011 L -114.58058599999998,34.07972600000011 L -114.58041099999997,34.07972600000011 L -114.57901200000003,34.07972600000011 L -114.57538599999998,34.07972500000005 L -114.57380699999999,34.07972500000005 L -114.57160599999992,34.07972500000005 L -114.57016299999992,34.07972500000005 L -114.56960100000003,34.07972500000005 L -114.56583399999994,34.07972400000011 L -114.564392,34.07972400000011 L -114.56131499999998,34.07972300000006 L -114.55208399999992,34.07972300000006 L -114.54900799999996,34.07972300000006 L -114.54889700000001,34.07972300000006 L -114.548564,34.07972300000006 L -114.54845299999988,34.07972300000006 L -114.547776,34.07972300000006 L -114.54574699999989,34.07972300000006 L -114.54557899999992,34.07972300000006 L -114.54507100000001,34.07972300000006 L -114.54428200000001,34.07972300000006 L -114.54191500000002,34.07972300000006 L -114.5411269999999,34.07972300000006 L -114.5385849999999,34.07972200000012 L -114.53096199999993,34.07972200000012 L -114.52859199999995,34.07972200000012 L -114.52842099999992,34.07972200000012 L -114.52605799999998,34.07972100000006 L -114.51896899999991,34.07972100000006 L -114.51751699999994,34.07972100000006 L -114.51660699999996,34.07972100000006 L -114.51474100000001,34.07971999999995 L -114.50914599999993,34.07971999999995 L -114.50768699999992,34.07971999999995 L -114.50728099999998,34.07971999999995 L -114.507091,34.07971999999995 L -114.50652099999996,34.07971999999995 L -114.50648399999994,34.07971999999995 L -114.50633099999999,34.07971999999995 L -114.50455799999992,34.07971999999995 L -114.502657,34.07971999999995 L -114.50079099999999,34.07971999999995 L -114.49924099999998,34.07974900000005 L -114.49747000000002,34.07978400000013 L -114.49624999999997,34.079785000000015 L -114.49328399999996,34.07979000000006 L -114.492593,34.079791 L -114.49137400000001,34.079792999999995 L -114.49135699999994,34.079792999999995 L -114.490884,34.079792999999995 L -114.489417,34.07979499999993 L -114.48892899999998,34.079796000000044 L -114.48738600000001,34.07979800000004 L -114.48275899999999,34.07980599999996 L -114.48121700000002,34.07980900000007 L -114.47778599999992,34.07981400000011 L -114.46749599999993,34.07983100000007 L -114.464066,34.079837000000055 L -114.46398499999987,34.079836 L -114.46374200000002,34.07983500000006 L -114.46366199999994,34.07983500000006 L -114.46288399999997,34.07983100000007 L -114.460552,34.079818999999986 L -114.45977499999998,34.079814999999996 L -114.45917299999996,34.07982800000002 L -114.45736999999991,34.07986900000003 L -114.45676900000001,34.07988400000005 L -114.45675099999994,34.07988400000005 L -114.45669700000002,34.07988400000005 L -114.45668,34.07988400000005 L -114.45659999999998,34.07988400000005 L -114.45636000000002,34.07988400000005 L -114.45628099999988,34.07988400000005 L -114.45613199999997,34.07987000000014 L -114.45568600000001,34.07982900000013 L -114.45553799999993,34.07981600000011 L -114.45542099999994,34.079814999999996 L -114.45507199999992,34.079813 L -114.45495599999992,34.079813 L -114.454406,34.07980399999997 L -114.45436000000001,34.07980399999997 L -114.45275799999996,34.079777999999976 L -114.45220899999993,34.079769999999996 L -114.45179699999994,34.07976800000006 L -114.45056299999999,34.07976500000012 L -114.450152,34.07976400000007 L -114.44751299999996,34.07975700000003 L -114.43959899999999,34.079736000000025 L -114.43723599999998,34.07973099999998 L -114.43696199999994,34.0797300000001 L -114.436869,34.079728999999986 L -114.43658999999991,34.079728999999986 L -114.43649700000003,34.079728999999986 L -114.43634399999996,34.0797280000001 L -114.43589499999996,34.07972699999999 L -114.43588499999993,34.07972699999999 L -114.43573299999997,34.07972699999999 L -114.4356719999999,34.07972699999999 L -114.43548900000002,34.07972699999999 L -114.43542899999994,34.07972699999999 L -114.43590699999999,34.07749100000012 L -114.43632000000002,34.07620800000001 L -114.436983,34.07432600000004 L -114.43768299999999,34.071937000000105 L -114.43841600000002,34.067021000000125 L -114.43898999999999,34.06103300000012 L -114.43933999999996,34.057893000000035 L -114.43940600000002,34.053810000000055 L -114.438602,34.050205000000005 L -114.43729799999994,34.04755200000005 L -114.43581599999999,34.04373000000004 L -114.43550700000003,34.042615000000126 L -114.435498,34.04256600000002 L -114.43494900000002,34.0377840000001 L -114.43540999999999,34.033023000000014 L -114.43617099999994,34.02808299999998 L -114.43685199999999,34.02601600000003 L -114.43826599999994,34.022609000000045 L -114.44053999999988,34.019329000000084 L -114.44382100000001,34.01617599999997 L -114.44681500000002,34.01421000000005 L -114.45020599999992,34.01257400000003 L -114.45480700000002,34.01096799999999 L -114.45986099999999,34.01183800000007 L -114.46212599999996,34.012112 L -114.46333599999997,34.012259000000086 L -114.46452499999987,34.011982000000046 L -114.46586699999995,34.010987 L -114.46670399999994,34.00943600000011 L -114.46702700000003,34.008519000000035 L -114.4672819999999,34.007795000000044 L -114.46740399999993,34.00745000000006 L -114.467356,34.006304000000114 L -114.46731,34.00518999999997 L -114.46665100000001,34.004354999999975 L -114.46627999999993,34.00388499999997 L -114.465465,34.00346300000007 L -114.46313099999998,34.00225300000011 L -114.46096499999999,34.00125499999996 L -114.460689,34.00112800000011 L -114.45977700000003,34.00041200000004 L -114.459184,34.00001600000013 L -114.45878899999991,33.99928900000003 L -114.45844299999999,33.99867899999998 L -114.45816599999995,33.998108 L -114.45802600000002,33.99781999999999 L -114.45802800000001,33.99715800000007 L -114.45819399999999,33.99643800000001 L -114.45862899999997,33.99555499999997 L -114.45925799999998,33.99471099999994 L -114.4601199999999,33.993888000000084 L -114.46113299999996,33.99354099999994 L -114.46225499999997,33.99344200000013 L -114.46361000000002,33.9934310000001 L -114.46485999999987,33.99342800000005 L -114.46549899999997,33.99342299999995 L -114.46618699999999,33.99346500000007 L -114.46683399999995,33.993386999999984 L -114.46733599999999,33.9932290000001 L -114.46793200000002,33.99287700000008 L -114.46837199999993,33.99240500000013 L -114.46879199999995,33.99188500000008 L -114.46915200000001,33.99125300000003 L -114.46958099999995,33.99063600000011 L -114.469922,33.990060000000085 L -114.47025299999996,33.98937100000006 L -114.47035700000004,33.9889720000001 L -114.47073699999993,33.98848800000002 L -114.47077000000002,33.98845000000006 L -114.471138,33.98804000000007 L -114.4722369999999,33.9871040000001 L -114.47225900000001,33.98708700000009 L -114.47277300000002,33.986710000000016 L -114.47321899999997,33.986384000000044 L -114.47408999999999,33.985756000000094 L -114.474649,33.98535500000014 L -114.47590699999995,33.98442400000005 L -114.47661899999997,33.98406299999999 L -114.47742700000003,33.98367700000006 L -114.47824399999996,33.98322700000011 L -114.47845599999994,33.98311100000012 L -114.47922599999998,33.98274100000003 L -114.47968900000001,33.98248200000012 L -114.48019799999992,33.982200000000034 L -114.48094699999996,33.981677000000104 L -114.48145499999998,33.98126099999996 L -114.48197099999999,33.98070800000005 L -114.48233299999998,33.98018099999996 L -114.48258599999997,33.97952500000008 L -114.48277799999994,33.97857899999997 L -114.48309699999999,33.97774500000003 L -114.48357299999992,33.977031000000125 L -114.48410699999994,33.97633999999994 L -114.48478399999993,33.97551900000008 L -114.48534799999999,33.97493300000008 L -114.48645499999998,33.97439900000012 L -114.48705899999987,33.97392200000007 L -114.48750000000001,33.97357499999998 L -114.48845899999998,33.97283199999998 L -114.489215,33.972067000000095 L -114.489623,33.97151800000012 L -114.48972900000001,33.97137700000002 L -114.49012800000003,33.970924000000025 L -114.49039800000003,33.97062000000011 L -114.49078799999995,33.97029399999991 L -114.49132699999996,33.96984500000008 L -114.49150800000001,33.96971200000007 L -114.49211499999996,33.969370000000026 L -114.49219499999992,33.96927699999998 L -114.49276600000002,33.96878400000003 L -114.49405100000001,33.96773999999999 L -114.495047,33.96683500000006 L -114.49604199999999,33.96589000000006 L -114.49723699999993,33.964645000000075 L -114.49813499999999,33.963724999999954 L -114.49875600000001,33.96303399999999 L -114.498919,33.96283799999998 L -114.49919399999993,33.96245700000003 L -114.49965299999997,33.96200900000008 L -114.49988300000001,33.96178900000001 L -114.50012299999997,33.96166599999998 L -114.50029799999999,33.961608000000126 L -114.50079,33.96157199999999 L -114.50088800000003,33.96151500000008 L -114.50171899999987,33.96108400000014 L -114.50254899999999,33.96059700000001 L -114.503379,33.960118000000136 L -114.50416100000001,33.95976799999994 L -114.50480700000003,33.9594110000001 L -114.50500999999991,33.9593210000001 L -114.505676,33.9590290000001 L -114.50635199999994,33.95873599999999 L -114.50697999999994,33.95837800000004 L -114.507453,33.958191000000056 L -114.50808,33.95783399999999 L -114.508669,33.957524999999976 L -114.50874699999997,33.957502000000034 L -114.50956799999994,33.957264000000066 L -114.51042799999993,33.95704300000011 L -114.51123099999995,33.957040000000006 L -114.51191799999998,33.95719100000008 L -114.512205,33.957266999999945 L -114.51257699999996,33.95736700000009 L -114.51344899999998,33.95770299999998 L -114.51434,33.95793400000008 L -114.51496999999989,33.958149000000105 L -114.51585999999998,33.9581060000001 L -114.51670999999999,33.957876999999996 L -114.51766700000002,33.95759099999998 L -114.51835199999994,33.957193000000075 L -114.51897899999994,33.95681199999996 L -114.519588,33.956584000000134 L -114.5203019999999,33.956306999999924 L -114.52072699999997,33.956192000000044 L -114.52110399999998,33.95606200000009 L -114.52152899999999,33.95585800000009 L -114.52200199999987,33.955623 L -114.52233899999993,33.955307000000005 L -114.52273399999996,33.955039 L -114.52312899999993,33.95466600000003 L -114.52331099999998,33.954425000000015 L -114.523504,33.95417200000003 L -114.52379300000001,33.953824 L -114.52401399999997,33.95351700000003 L -114.52438999999993,33.95312799999999 L -114.524832,33.952618000000086 L -114.52517899999992,33.95218900000009 L -114.52580399999994,33.95146 L -114.52635299999997,33.950917000000004 L -114.52677599999998,33.950293999999985 L -114.52715,33.949704 L -114.52808400000004,33.94860199999994 L -114.52867999999995,33.94781700000004 L -114.529246,33.946742000000086 L -114.529897,33.94530199999997 L -114.53056599999996,33.9436290000001 L -114.53139099999999,33.94211700000005 L -114.531947,33.941049000000135 L -114.53251299999994,33.94000599999998 L -114.53315600000002,33.93885699999993 L -114.5336739999999,33.93795100000011 L -114.5344629999999,33.936891 L -114.5349609999999,33.93575900000013 L -114.53547799999996,33.93465100000009 L -114.53567599999997,33.933552000000134 L -114.53579100000002,33.93130800000006 L -114.53583400000002,33.930250000000115 L -114.535866,33.928708000000086 L -114.53585299999997,33.928103000000135 L -114.53576499999997,33.92760400000003 L -114.53575299999994,33.92752999999993 L -114.53541100000001,33.92683699999998 L -114.53520500000002,33.92629700000009 L -114.53495099999998,33.92570000000006 L -114.53457200000003,33.925379000000135 L -114.53414599999996,33.92518700000005 L -114.53413199999994,33.925184 L -114.53369399999997,33.92509100000012 L -114.53328399999998,33.925004 L -114.53229699999991,33.92487100000005 L -114.53110699999996,33.924633000000085 L -114.52948900000001,33.9240410000001 L -114.52838499999996,33.92367400000012 L -114.52669800000001,33.92290500000007 L -114.52536099999998,33.922272000000135 L -114.52438199999989,33.92175900000012 L -114.52339299999994,33.921221 L -114.52214099999992,33.92028899999997 L -114.52103499999998,33.91951799999998 L -114.52009399999992,33.91879499999999 L -114.51923999999997,33.91815200000008 L -114.51843399999996,33.91751800000003 L -114.51708500000001,33.91632000000004 L -114.51588099999992,33.915372000000104 L -114.51450299999999,33.91421400000007 L -114.51320199999998,33.912919000000045 L -114.51318200000003,33.912846 L -114.51238599999994,33.912082000000055 L -114.51151099999993,33.911092 L -114.51054699999986,33.909594000000084 L -114.50987399999997,33.90848200000005 L -114.509163,33.90720900000008 L -114.50855799999994,33.906097999999986 L -114.50814699999995,33.90496100000007 L -114.50792000000001,33.90380700000014 L -114.50784799999991,33.902814999999975 L -114.50798799999995,33.901813000000004 L -114.50870800000001,33.900640000000124 L -114.50968099999994,33.899789000000055 L -114.510944,33.89909899999998 L -114.512383,33.89838300000008 L -114.51371499999988,33.897959000000014 L -114.51499000000001,33.897808999999995 L -114.51634399999989,33.89791799999995 L -114.517381,33.89834999999999 L -114.519318,33.8992310000001 L -114.52070400000002,33.899920000000066 L -114.52182800000003,33.90053800000004 L -114.522943,33.90113100000008 L -114.52428900000001,33.90158699999995 L -114.52505299999996,33.901640999999984 L -114.52569,33.901428000000124 L -114.52587199999999,33.90100800000005 L -114.525868,33.900233000000014 L -114.52574900000002,33.89940200000001 L -114.52554099999986,33.89837800000004 L -114.52525400000002,33.89699000000013 L -114.524813,33.895684000000074 L -114.52478200000002,33.89563000000004 L -114.5236339999999,33.89363800000007 L -114.52276799999993,33.892583 L -114.52150599999993,33.891272000000015 L -114.51998099999997,33.8897760000001 L -114.51866000000001,33.88826300000011 L -114.51670899999999,33.88669600000014 L -114.515535,33.88558599999993 L -114.51376799999991,33.88420300000013 L -114.51246700000002,33.88288400000005 L -114.51100099999985,33.88152500000001 L -114.51013799999993,33.88077700000014 L -114.50807399999997,33.87963000000008 L -114.50664899999992,33.87864999999999 L -114.50527199999993,33.87766199999999 L -114.50434000000001,33.87688200000008 L -114.50379599999985,33.87606800000009 L -114.50339499999995,33.87501800000007 L -114.5035989999999,33.874018999999976 L -114.5036859999999,33.8733160000001 L -114.50382099999996,33.87251700000007 L -114.50388900000002,33.87187999999992 L -114.50385999999997,33.87123400000013 L -114.50366600000001,33.87052399999999 L -114.50327899999996,33.86954700000001 L -114.50306599999993,33.86878100000001 L -114.50301699999994,33.867998000000114 L -114.50310399999995,33.867166 L -114.50341400000002,33.866448000000105 L -114.5038869999999,33.86575400000004 L -114.50460299999992,33.86517200000003 L -114.50563799999992,33.86427600000013 L -114.50663500000002,33.86348399999997 L -114.50747599999994,33.86312200000003 L -114.508666,33.86276600000008 L -114.50989499999991,33.86225700000006 L -114.51134599999989,33.861570000000086 L -114.51245900000004,33.860689000000036 L -114.51321300000001,33.85989000000001 L -114.51397699999995,33.85900200000003 L -114.51467300000002,33.85863799999993 L -114.51563099999987,33.85826600000007 L -114.51681099999996,33.8581200000001 L -114.51758899999987,33.85826600000007 L -114.51783699999987,33.85831300000007 L -114.51899800000001,33.85856299999995 L -114.5200539999999,33.85899000000012 L -114.52083800000003,33.859288000000106 L -114.52175699999992,33.85964299999995 L -114.52287000000001,33.85996499999999 L -114.524292,33.86013300000002 L -114.525666,33.86000300000012 L -114.52706899999998,33.859429000000034 L -114.52791000000002,33.85892000000001 L -114.52887699999991,33.85830600000003 L -114.52988299999993,33.85756300000003 L -114.53001099999994,33.85727499999996 L -114.530327,33.85657000000009 L -114.53060699999997,33.855440000000044 L -114.53053599999998,33.85500100000013 L -114.53042299999993,33.85429400000004 L -114.53033499999992,33.85387800000012 L -114.53017999999997,33.85314800000009 L -114.530103,33.85266300000012 L -114.53007400000001,33.852228000000025 L -114.53020900000001,33.85134000000005 L -114.53011099999998,33.85040299999997 L -114.52996599999994,33.84950000000009 L -114.52959699999997,33.848063000000025 L -114.52902599999999,33.84667500000012 L -114.52800899999994,33.84446400000013 L -114.5272149999999,33.84255999999999 L -114.52605299999993,33.840002000000084 L -114.52553899999998,33.83861399999995 L -114.52456099999995,33.83705700000013 L -114.52381499999996,33.836121000000105 L -114.52340900000002,33.83532299999996 L -114.52271100000002,33.83338600000013 L -114.52216900000002,33.832256000000086 L -114.52091000000001,33.8290530000001 L -114.52046499999989,33.82777800000008 L -114.51996999999994,33.82538099999999 L -114.520153,33.823839000000135 L -114.52073299999995,33.822030999999924 L -114.521409,33.820844000000136 L -114.52271400000001,33.81897900000001 L -114.524628,33.817557000000136 L -114.52592300000003,33.816862000000015 L -114.52716099999998,33.81619100000006 L -114.52788599999991,33.81561700000003 L -114.52804999999995,33.81496300000009 L -114.52786600000002,33.81438200000014 L -114.52766199999985,33.81362399999995 L -114.52718799999997,33.81263899999999 L -114.52696200000003,33.812321 L -114.52639399999998,33.81151799999998 L -114.52544599999999,33.81022700000011 L -114.52468199999993,33.808960999999954 L -114.52403300000003,33.80749200000008 L -114.52336500000001,33.80612000000008 L -114.52281299999999,33.805241000000024 L -114.52240699999999,33.80421700000005 L -114.52201000000002,33.80304700000005 L -114.52155500000003,33.80198200000001 L -114.52080999999993,33.80081200000001 L -114.52009399999992,33.79947300000009 L -114.51948399999998,33.798279000000036 L -114.51894199999998,33.79730200000006 L -114.51864199999994,33.796415000000025 L -114.51843799999995,33.79499400000003 L -114.51775099999986,33.792242000000044 L -114.51727599999998,33.790184000000124 L -114.51673399999999,33.78834500000005 L -114.51596899999993,33.78654499999993 L -114.51522399999993,33.78493900000012 L -114.51428599999997,33.783366 L -114.51333799999986,33.78140500000012 L -114.51200299999999,33.778759000000036 L -114.51095800000002,33.77631400000007 L -114.50989399999992,33.77375599999999 L -114.50881999999996,33.771569 L -114.50781399999994,33.76943899999998 L -114.50718199999994,33.768123 L -114.50708900000001,33.767930000000035 L -114.50700499999999,33.76764300000008 L -114.50667199999998,33.76650100000012 L -114.50602399999997,33.76473400000009 L -114.50552099999993,33.763193000000115 L -114.50517200000002,33.76156300000008 L -114.50506999999999,33.76120200000008 L -114.50486299999994,33.76046500000001 L -114.504839,33.760204999999985 L -114.50476600000002,33.75940800000012 L -114.504658,33.758640000000014 L -114.50434000000001,33.756380999999976 L -114.50432899999998,33.75492000000003 L -114.50437699999998,33.75381500000009 L -114.50444499999998,33.752305000000035 L -114.50448299999994,33.750998000000095 L -114.50482999999997,33.75002100000006 L -114.50599999999997,33.746344000000136 L -114.50820599999997,33.74158699999998 L -114.51062200000001,33.73781500000001 L -114.51077699999996,33.73757400000011 L -114.5119719999999,33.735019000000136 L -114.51234799999992,33.73421400000012 L -114.5108899999999,33.73276600000003 L -114.510876,33.732753 L -114.51050099999998,33.73238000000009 L -114.51026499999995,33.73214600000006 L -114.50979999999987,33.731802000000016 L -114.506799,33.73051800000002 L -114.50417600000003,33.72805499999998 L -114.50266099999999,33.72458400000005 L -114.500788,33.72220400000009 L -114.50006799999994,33.721708999999976 L -114.49920099999997,33.72119200000003 L -114.498133,33.720634000000075 L -114.49736299999995,33.72002800000001 L -114.49656500000003,33.71915500000006 L -114.49608599999999,33.71806400000003 L -114.495387,33.71639299999998 L -114.49509999999992,33.71523400000001 L -114.49490099999991,33.71443000000011 L -114.49462599999998,33.71266200000002 L -114.49433299999998,33.71063500000014 L -114.49420399999997,33.70805400000012 L -114.49419699999993,33.70792200000005 L -114.49440699999997,33.70539500000001 L -114.49509899999993,33.70294899999999 L -114.49553699999996,33.70150600000011 L -114.49571900000001,33.69845400000003 L -114.49648899999994,33.69690100000014 L -114.49868100000003,33.69586800000013 L -114.500788,33.69505900000013 L -114.50289899999996,33.694255000000055 L -114.50499300000001,33.693021999999985 L -114.50799599999999,33.692018000000076 L -114.509819,33.69171399999993 L -114.51240899999999,33.691282000000115 L -114.519113,33.688473000000045 L -114.52395899999999,33.685879 L -114.527782,33.68268400000011 L -114.53034799999995,33.67924499999998 L -114.53103799999991,33.67681600000009 L -114.53152299999999,33.67510800000014 L -114.53212300000001,33.66970200000014 L -114.53026699999998,33.66682100000014 L -114.52643899999998,33.663880000000006 L -114.52195699999999,33.66294800000014 L -114.52067099999988,33.66268100000008 L -114.517112,33.66287699999998 L -114.51533599999999,33.66203300000012 L -114.51405699999992,33.66017900000003 L -114.51455899999996,33.65801399999992 L -114.51833699999992,33.65592700000013 L -114.52516300000002,33.655939000000046 L -114.53058299999992,33.65446099999997 L -114.53216399999991,33.6531940000001 L -114.53319399999998,33.65165999999999 L -114.53321499999993,33.6484430000001 L -114.53226199999995,33.64725300000009 L -114.52954899999992,33.64386100000007 L -114.5286329999999,33.64315799999997 L -114.52539399999995,33.640669000000116 L -114.52490799999998,33.63884899999999 L -114.52380199999993,33.634700000000066 L -114.52636999999999,33.63025900000014 L -114.52905699999997,33.629549 L -114.52940100000001,33.62938200000008 L -114.52993499999997,33.62915600000002 L -114.53031099999998,33.629037000000096 L -114.53103399999998,33.62821300000013 L -114.53108500000002,33.62791499999997 L -114.53120200000001,33.62502400000005 L -114.53120999999993,33.624621000000104 L -114.53121499999992,33.62391299999996 L -114.530979,33.623590999999976 L -114.52962400000001,33.62215400000008 L -114.52908000000002,33.62171100000006 L -114.52857799999998,33.61999400000008 L -114.52793799999995,33.618839000000094 L -114.527735,33.618472999999994 L -114.52737799999989,33.61782800000009 L -114.52571599999993,33.61662600000011 L -114.52468099999993,33.615878000000066 L -114.52458200000001,33.61580500000008 L -114.52236700000003,33.61417200000011 L -114.52210699999995,33.61336400000005 L -114.52184499999993,33.61254400000007 L -114.52191099999999,33.6121710000001 L -114.52207099999998,33.61127700000003 L -114.52399400000002,33.60998999999998 L -114.52678200000003,33.60883100000001 L -114.52787999999993,33.60783400000008 L -114.52831599999996,33.607438 L -114.52873999999997,33.60705300000012 L -114.52918599999998,33.60665 L -114.53072299999997,33.60477400000002 L -114.53083700000002,33.60463599999997 L -114.530866,33.604600000000005 L -114.53105099999993,33.60448200000002 L -114.53213099999994,33.60293300000012 L -114.53277800000001,33.602007999999955 L -114.53296099999989,33.60174599999999 L -114.53345999999993,33.60103300000014 L -114.53471399999995,33.59910200000007 L -114.53529899999995,33.598333000000025 L -114.53677700000003,33.596393999999975 L -114.53697599999998,33.59597700000012 L -114.53739299999995,33.5951050000001 L -114.53741799999989,33.59505199999995 L -114.53749299999998,33.59489500000012 L -114.53749700000003,33.59488800000008 L -114.537532,33.59485200000012 L -114.53768099999996,33.59469900000005 L -114.53813099999991,33.594239000000016 L -114.53828199999998,33.59408700000006 L -114.538656,33.59366600000004 L -114.53872399999995,33.593589000000065 L -114.5389199999999,33.59337099999999 L -114.53892999999994,33.59335799999997 L -114.53899799999988,33.59328000000011 L -114.53922799999998,33.59301300000004 L -114.53991999999994,33.59221500000007 L -114.54015099999998,33.59194900000011 L -114.540617,33.59141200000005 L -114.54063899999994,33.590621 L -114.54066399999988,33.58978900000005 L -114.54059599999994,33.58963900000009 L -114.540527,33.58948600000002 L -114.54030799999998,33.58877699999999 L -114.54017899999997,33.588502000000005 L -114.54011100000002,33.58835399999998 L -114.54020200000002,33.587087 L -114.54041899999993,33.58637300000004 L -114.54047399999996,33.58592500000009 L -114.54055899999997,33.584388000000104 L -114.54065200000002,33.58287200000012 L -114.54061000000002,33.58232200000009 L -114.54029999999995,33.58061500000002 L -114.54021999999998,33.58030100000002 L -114.53976399999999,33.57850999999994 L -114.53898300000003,33.576792000000125 L -114.53876699999995,33.57656600000007 L -114.53780099999994,33.575555000000065 L -114.53766200000001,33.57514000000003 L -114.53753,33.57474400000012 L -114.53728000000001,33.57399499999997 L -114.53722299999998,33.57382200000001 L -114.537151,33.57314100000002 L -114.53713599999998,33.57299400000011 L -114.53710899999999,33.57273000000009 L -114.53692099999995,33.57143599999995 L -114.53678400000001,33.57095900000013 L -114.53596500000003,33.56915400000014 L -114.535664,33.5687880000001 L -114.53521399999994,33.568275000000085 L -114.534288,33.567353000000026 L -114.533908,33.56684100000007 L -114.53319199999999,33.56582300000008 L -114.53318199999995,33.56579500000004 L -114.532667,33.56431300000003 L -114.53263599999997,33.564221999999916 L -114.53255899999999,33.563882000000035 L -114.53233299999988,33.56287900000001 L -114.531613,33.56170199999997 L -114.53063699999996,33.56104600000003 L -114.53014099999996,33.56071300000002 L -114.529405,33.56004000000013 L -114.52918499999998,33.56005200000004 L -114.52886899999999,33.55992100000003 L -114.52821999999992,33.559318000000076 L -114.52762200000001,33.558522000000096 L -114.52683400000001,33.55746599999998 L -114.52676299999996,33.556916000000115 L -114.52557000000002,33.55540200000007 L -114.52550000000002,33.55531400000007 L -114.52516700000001,33.554891999999995 L -114.52439099999992,33.55368299999992 L -114.524361,33.55357800000013 L -114.524337,33.553494000000114 L -114.52421500000003,33.55306800000005 L -114.52429599999988,33.55289200000004 L -114.52459899999997,33.55223100000006 L -114.52599700000002,33.55145700000014 L -114.52902699999999,33.55071100000009 L -114.53040099999998,33.550099000000046 L -114.5308819999999,33.54927799999996 L -114.53180199999991,33.547862000000066 L -114.54201099999995,33.54248100000001 L -114.54623700000002,33.53988400000003 L -114.55802299999999,33.53258900000009 L -114.558898,33.53181899999993 L -114.559507,33.530724000000134 L -114.55979399999995,33.529053999999974 L -114.56009799999998,33.52666300000004 L -114.56083499999994,33.52433400000007 L -114.56062499999996,33.52219500000001 L -114.56052199999999,33.521140000000116 L -114.56055199999997,33.51827200000014 L -114.56074199999989,33.51765900000004 L -114.56096299999996,33.51673900000014 L -114.56196699999998,33.51559900000012 L -114.56260800000001,33.5150450000001 L -114.56539199999997,33.51297999999997 L -114.5674049999999,33.51103800000004 L -114.56953299999992,33.50921899999997 L -114.57181600000001,33.508167000000014 L -114.573757,33.507543000000055 L -114.57636100000002,33.50711600000005 L -114.580468,33.50646500000005 L -114.58374699999996,33.50490300000013 L -114.58823899999993,33.50245300000006 L -114.589246,33.501813000000084 L -114.58974199999994,33.50128300000006 L -114.59096799999998,33.5000270000001 L -114.59155399999986,33.4994430000001 L -114.59236899999996,33.498675000000105 L -114.592759,33.4977990000001 L -114.59372100000002,33.49593199999998 L -114.59453399999995,33.49505799999997 L -114.59728299999995,33.49065300000001 L -114.59875799999986,33.48680400000006 L -114.59971200000001,33.48431600000009 L -114.60169399999995,33.481396000000075 L -114.602533,33.48096600000002 L -114.60262799999998,33.48092800000006 L -114.60273099999995,33.48088700000005 L -114.60304400000001,33.48076599999996 L -114.60314799999992,33.48072600000006 L -114.60339599999992,33.48063100000002 L -114.60470399999997,33.478718000000015 L -114.60489999999993,33.47843500000005 L -114.607843,33.47483399999999 L -114.60990900000002,33.47301900000008 L -114.61184899999995,33.47131500000012 L -114.61247200000003,33.47076800000002 L -114.61282399999999,33.47030500000005 L -114.61309599999993,33.46994799999999 L -114.61378200000001,33.46904900000004 L -114.61384599999991,33.46884300000005 L -114.61398199999996,33.46841499999999 L -114.61399499999999,33.46837199999999 L -114.614036,33.46824300000014 L -114.61405000000002,33.46820100000008 L -114.61433099999999,33.4673150000001 L -114.61835399999995,33.462708000000134 L -114.62291800000003,33.45656100000008 L -114.62336900000003,33.45525700000002 L -114.62339499999996,33.454489999999964 L -114.62251899999995,33.450878999999986 L -114.62228299999998,33.447558000000015 L -114.62288899999993,33.44552399999992 L -114.62312199999985,33.44474700000012 L -114.625789,33.43717300000014 L -114.626666,33.43503400000009 L -114.626826,33.43440500000008 L -114.62712499999992,33.433554000000015 L -114.62721099999993,33.43355300000013 L -114.62746999999996,33.433551000000136 L -114.62755699999997,33.433551000000136 L -114.627791,33.43354899999997 L -114.62849599999998,33.43354600000009 L -114.62873099999996,33.43354499999998 L -114.62887599999988,33.43354499999998 L -114.62931299999997,33.43354499999998 L -114.62945899999988,33.43354499999998 L -114.62948499999999,33.43354499999998 L -114.62956399999996,33.43354499999998 L -114.62959099999995,33.43354499999998 L -114.62963399999995,33.43354499999998 L -114.62976499999996,33.43354499999998 L -114.62980899999997,33.43354499999998 L -114.63856099999998,33.43352600000003 L -114.64720099999988,33.433651000000054 L -114.64746299999996,33.43356700000004 L -114.656069,33.433600000000126 L -114.65659399999998,33.433606000000054 L -114.666472,33.43371100000007 L -114.66709900000001,33.433718999999996 L -114.66717799999998,33.433718999999996 L -114.66739100000001,33.433718999999996 L -114.66936699999991,33.43372000000011 L -114.67593599999987,33.433726000000036 L -114.67812599999996,33.43372899999997 L -114.68052099999989,33.43373100000014 L -114.68770799999999,33.43373900000006 L -114.69010400000002,33.43374199999994 L -114.69018900000003,33.43374199999994 L -114.69044499999995,33.43374199999994 L -114.69053099999996,33.43374300000005 L -114.69057099999998,33.43374300000005 L -114.69064899999995,33.43374300000005 L -114.69069199999996,33.43374300000005 L -114.69073299999991,33.43374300000005 L -114.69080000000002,33.43374300000005 L -114.69091500000002,33.43374199999994 L -114.69128199999994,33.433741000000055 L -114.691464,33.43373999999994 L -114.69164799999993,33.433741000000055 L -114.69421499999999,33.433726000000036 L -114.70191599999998,33.43368700000002 L -114.70448399999998,33.43367500000011 L -114.70551999999992,33.43366900000012 L -114.70862799999986,33.43365300000005 L -114.70966499999997,33.433648000000005 L -114.70996300000002,33.43363099999999 L -114.71085699999998,33.43358200000006 L -114.71115600000002,33.433565999999985 L -114.71236999999996,33.433573000000024 L -114.71601499999991,33.43359399999997 L -114.71703400000001,33.433600000000126 L -114.71722999999997,33.43360100000001 L -114.717331,33.43360100000001 L -114.71746999999993,33.43360200000012 L -114.71748299999996,33.43360200000012 L -114.71761099999998,33.433603000000005 L -114.71763699999991,33.43360200000012 L -114.717739,33.43360400000006 L -114.7178429999999,33.43360800000005 L -114.71820600000001,33.433606999999995 L -114.72029099999986,33.43361900000008 L -114.72794799999997,33.43366299999997 L -114.73050099999989,33.433677999999986 L -114.73071999999996,33.433677999999986 L -114.7313769999999,33.43368300000003 L -114.73144300000001,33.43368399999997 L -114.73151999999999,33.43368399999997 L -114.73159699999997,33.43368300000003 L -114.73167699999993,33.43368300000003 L -114.73175699999996,33.433681999999976 L -114.73177299999998,33.433681000000036 L -114.73230299999994,33.43368700000002 L -114.73248000000001,33.43369000000007 L -114.73265700000002,33.43369100000001 L -114.73318899999998,33.43369400000006 L -114.73336699999999,33.433695 L -114.73354299999994,33.433695 L -114.73357099999998,33.433696000000054 L -114.73407099999997,33.43369699999994 L -114.73424799999992,33.43369800000005 L -114.73516699999993,33.433700000000044 L -114.73792399999996,33.433707000000084 L -114.73884299999997,33.43371000000013 L -114.73887000000002,33.43370900000008 L -114.73895099999987,33.43370900000008 L -114.73897899999997,33.43371000000013 L -114.73901999999998,33.43370900000008 L -114.73914300000001,33.43370900000008 L -114.73918499999996,33.43371100000007 L -114.73921399999995,33.43370900000008 L -114.73930199999995,33.43370900000008 L -114.73933199999993,33.43371000000013 L -114.739821,33.43371100000007 L -114.74128799999988,33.433717 L -114.74177700000001,33.433718999999996 L -114.74292799999995,33.4337220000001 L -114.74330399999997,33.43372400000004 L -114.74638299999998,33.43378800000005 L -114.74753499999991,33.43381400000004 L -114.7488699999999,33.43378700000011 L -114.75079299999993,33.43375000000009 L -114.75287699999996,33.433748000000094 L -114.75421299999994,33.433748000000094 L -114.75475599999999,33.433748000000094 L -114.75508899999994,33.4337460000001 L -114.757319,33.43374700000004 L -114.75771699999996,33.4337460000001 L -114.758466,33.4337460000001 L -114.75859400000002,33.4337460000001 L -114.760175,33.43374300000005 L -114.76201600000002,33.43374300000005 L -114.76276200000001,33.43374300000005 L -114.76491999999996,33.43373999999994 L -114.76650199999995,33.433741000000055 L -114.76695699999993,33.43373999999994 L -114.7683209999999,33.43373900000006 L -114.76877699999989,33.43373900000006 L -114.770017,33.433738000000005 L -114.77044999999993,33.433738000000005 L -114.77378899999997,33.43373500000007 L -114.77471400000002,33.43373500000007 L -114.77817600000003,33.433734000000015 L -114.77959499999997,33.433733000000075 L -114.78064399999988,33.43373200000002 L -114.78343000000001,33.43373100000014 L -114.78686399999998,33.43372899999997 L -114.78882599999997,33.43372800000003 L -114.7891459999999,33.43372800000003 L -114.78979800000002,33.433726999999976 L -114.79143799999991,33.433726000000036 L -114.79383899999999,33.43372499999998 L -114.79542300000003,33.433722999999986 L -114.80017700000002,33.4337220000001 L -114.80176199999988,33.4337220000001 L -114.80395099999998,33.43372099999999 L -114.80450400000001,33.43372000000011 L -114.81273099999999,33.43371500000001 L -114.81547399999994,33.43371500000001 L -114.822607,33.43371100000007 L -114.82833499999992,33.43370900000008 L -114.830869,33.43370799999997 L -114.83086500000002,33.43331699999999 L -114.83085599999998,33.432345 L -114.83083299999993,33.43009400000011 L -114.83280599999995,33.430093 L -114.83344599999998,33.430092000000116 L -114.83553999999992,33.430091000000004 L -114.838077,33.430089000000066 L -114.84035900000003,33.43008700000007 L -114.84749299999993,33.43008199999997 L -114.84781199999998,33.43008100000009 L -114.848772,33.43008100000009 L -114.84909199999998,33.43008100000009 L -114.84932600000002,33.43008300000008 L -114.85068100000001,33.430093 L -114.86175299999996,33.43017600000013 L -114.86531100000002,33.43020199999995 L -114.871464,33.43024900000012 L -114.87579699999998,33.43028099999992 L -114.87717099999998,33.430268000000126 L -114.88291099999998,33.43021400000009 L -114.88381699999991,33.43020500000006 L -114.88714700000003,33.43018400000011 L -114.89303999999998,33.43014900000003 L -114.897625,33.43012100000004 L -114.89775399999985,33.4301200000001 L -114.89906499999995,33.43011200000001 L -114.90297499999991,33.430089000000066 L -114.90391999999986,33.43008199999997 L -114.91568199999995,33.43000100000006 L -114.92528700000003,33.429935000000114 L -114.92978399999998,33.42990400000002 L -114.92995300000001,33.42990200000003 L -114.93184599999995,33.42988800000012 L -114.93483000000003,33.42986500000001 L -114.95053000000001,33.4297610000001 L -114.95414700000003,33.42973599999999 L -114.96462099999997,33.42966299999995 L -114.97695499999998,33.429580000000044 L -114.97803599999997,33.429572000000064 L -115.00080100000002,33.42942000000011 L -115.00080100000002,33.42940200000004 L -115.01825899999994,33.42892499999999 L -115.03005499999995,33.42860600000006 L -115.03167099999996,33.42859300000009 L -115.034943,33.42858700000011 L -115.044759,33.42857300000003 L -115.04681199999999,33.42856999999992 L -115.04803200000003,33.428567999999984 L -115.048517,33.42858500000011 L -115.04869500000001,33.42858500000011 L -115.04903399999989,33.42858500000011 L -115.04958499999998,33.428612000000044 L -115.05068399999999,33.42861800000003 L -115.05134800000002,33.42862300000007 L -115.05262499999998,33.428607 L -115.05562899999995,33.42857400000008 L -115.05633699999998,33.42857400000008 L -115.05645699999997,33.42858500000011 L -115.05680899999999,33.42861800000003 L -115.05773299999987,33.42862900000006 L -115.05882499999996,33.428522999999984 L -115.06210399999986,33.4282070000001 L -115.06319699999995,33.42810300000002 L -115.06386899999995,33.428105000000016 L -115.06523099999993,33.428112000000056 L -115.06588499999998,33.42811400000005 L -115.06655799999999,33.42811800000004 L -115.07160799999991,33.4281400000001 L -115.08675700000003,33.4282070000001 L -115.0918079999999,33.42823000000004 L -115.09373499999998,33.42823800000002 L -115.09951599999994,33.42826400000001 L -115.10144399999996,33.42827300000005 L -115.10166200000003,33.42827399999999 L -115.10666300000003,33.428432999999984 L -115.12232,33.42893400000003 L -115.12580599999995,33.429046000000085 L -115.12754000000001,33.42903599999994 L -115.127746,33.429035000000056 L -115.13342499999993,33.428989 L -115.1407069999999,33.428949000000046 L -115.14548500000001,33.428922000000114 L -115.14671499999997,33.428915000000075 L -115.15106400000002,33.42889100000002 L -115.16411299999993,33.42882000000003 L -115.16825299999999,33.42879800000014 L -115.16846299999997,33.42879700000009 L -115.17110200000002,33.42878200000007 L -115.17902100000003,33.428739000000064 L -115.18166099999996,33.428724999999986 L -115.18181599999991,33.4287240000001 L -115.18228099999999,33.428720999999996 L -115.18243699999994,33.428720999999996 L -115.18353299999995,33.42871400000013 L -115.18682199999995,33.42869600000006 L -115.18791899999997,33.428691000000015 L -115.19816700000001,33.4286360000001 L -115.20489799999996,33.428612000000044 L -115.22248100000002,33.42847599999999 L -115.22250599999995,33.42849000000007 L -115.22324400000002,33.428470000000004 L -115.22363499999994,33.4285010000001 L -115.23165399999999,33.428467000000126 L -115.23255199999994,33.42847599999999 L -115.23274100000003,33.42847700000004 L -115.23507699999993,33.4284990000001 L -115.23683499999993,33.428515000000004 L -115.24133999999998,33.428556000000015 L -115.24327199999999,33.42848600000008 L -115.2490689999999,33.42827900000003 L -115.250811,33.428217000000075 L -115.25100199999997,33.428217000000075 L -115.25167099999999,33.42821500000008 L -115.25325900000001,33.428213000000085 L -115.25367900000003,33.428211999999974 L -115.25434899999999,33.42821100000009 L -115.25551200000001,33.428209000000095 L -115.25631699999991,33.4282070000001 L -115.25640699999991,33.4282070000001 L -115.25847599999986,33.42820299999994 L -115.27085899999992,33.42818199999999 L -115.27498699999995,33.42817600000001 L -115.28012000000001,33.42816699999997 L -115.29552099999995,33.42814299999998 L -115.300655,33.428135 L -115.303564,33.428130000000124 L -115.31229200000001,33.428116000000045 L -115.315202,33.428112000000056 L -115.31546000000003,33.428111 L -115.31623400000001,33.428109000000006 L -115.31649299999998,33.42811000000006 L -115.31750399999993,33.428108000000066 L -115.32053999999988,33.42810300000002 L -115.32155199999994,33.42810199999997 L -115.32579599999991,33.42809399999999 L -115.338529,33.428073999999924 L -115.3427739999999,33.428067999999996 L -115.34436099999988,33.428064000000006 L -115.34912399999996,33.42805699999997 L -115.35071199999999,33.42805499999997 L -115.35367400000001,33.4280500000001 L -115.36256000000003,33.42803600000002 L -115.36521399999998,33.42803200000003 L -115.36539099999999,33.42803200000003 L -115.36552299999994,33.42803200000003 L -115.36675600000001,33.428030000000035 L -115.36882599999996,33.4280500000001 L -115.37581499999993,33.42812100000009 L -115.37873799999994,33.42812500000008 L -115.38204300000001,33.428131000000064 L -115.38322399999993,33.428133 L -115.38676899999996,33.4281400000001 L -115.38795099999999,33.42814400000003 L -115.39223799999996,33.42815100000007 L -115.40509899999995,33.428178 L -115.40938699999992,33.42818700000004 L -115.41019599999998,33.42818799999998 L -115.412623,33.42819300000002 L -115.41343199999994,33.42819600000007 L -115.41380799999996,33.428202000000056 L -115.41493599999995,33.428220000000124 L -115.41531299999997,33.42822600000011 L -115.415908,33.428234999999916 L -115.41628300000002,33.42824200000001 L -115.41769399999998,33.428245999999945 L -115.41829000000001,33.42824900000005 L -115.41988799999996,33.428254000000095 L -115.42468600000001,33.428269000000114 L -115.42628500000001,33.42827399999999 L -115.42662299999989,33.42827500000004 L -115.42832499999992,33.428279999999916 L -115.43444699999992,33.428299000000095 L -115.436488,33.428306000000134 L -115.43666499999995,33.428306000000134 L -115.44204499999995,33.42832200000004 L -115.45871799999998,33.428372999999965 L -115.46427599999993,33.42839100000003 L -115.46461699999998,33.428391999999974 L -115.464788,33.428391999999974 L -115.46632399999993,33.428396000000134 L -115.466836,33.42839900000001 L -115.46750500000002,33.42840200000006 L -115.46750500000002,33.42833400000012 L -115.46750600000001,33.42699199999993 L -115.46836799999994,33.426986 L -115.46910400000002,33.426984000000004 L -115.46930600000002,33.426983000000064 L -115.49798599999997,33.426882999999975 L -115.50529799999993,33.42687100000006 L -115.50661400000001,33.42686900000007 L -115.508895,33.426871999999946 L -115.51163999999994,33.42687600000011 L -115.51909899999998,33.42687700000005 L -115.52364899999998,33.42687600000011 L -115.52587999999997,33.4268780000001 L -115.53729999999996,33.426878999999985 L -115.54185100000001,33.42688099999998 L -115.546895,33.42688099999998 L -115.56202799999994,33.426884000000086 L -115.56707299999994,33.42688499999997 L -115.56735200000003,33.42688499999997 L -115.5681879999999,33.42688499999997 L -115.568468,33.42688499999997 L -115.57360499999993,33.42688600000008 L -115.58901899999995,33.42688900000013 L -115.594157,33.426890000000014 L -115.59567400000003,33.42688600000008 L -115.60022599999996,33.42687600000011 L -115.601744,33.42687400000011 L -115.60307799999998,33.42687300000006 L -115.60708199999988,33.426871999999946 L -115.60841700000003,33.426871999999946 L -115.60965499999998,33.42687300000006 L -115.61705799999999,33.426980000000015 L -115.62582199999991,33.427107999999976 L -115.64298300000002,33.427189000000055 L -115.65162499999997,33.42723000000012 L -115.65275199999996,33.427234999999996 L -115.656135,33.42724999999996 L -115.657263,33.42725600000011 L -115.66113999999999,33.42727300000013 L -115.66245399999997,33.427279999999996 L -115.67277199999995,33.427328000000045 L -115.67664999999994,33.427347 L -115.67682299999996,33.427346000000114 L -115.677212,33.427350000000104 L -115.677345,33.42734899999999 L -115.67737,33.42735099999999 L -115.6775189999999,33.42735200000004 L -115.67761199999995,33.42735299999998 L -115.677704,33.42735400000004 L -115.67859799999991,33.42736000000002 L -115.68183599999998,33.42738800000001 L -115.68291599999998,33.42739700000004 L -115.68353400000001,33.42735499999998 L -115.68538899999993,33.42723000000012 L -115.68600800000002,33.427189000000055 L -115.68659699999995,33.42718300000013 L -115.68836399999998,33.42717299999998 L -115.68895399999997,33.4271700000001 L -115.689256,33.42716800000011 L -115.689572,33.42716500000006 L -115.6910949999999,33.427156000000025 L -115.69142799999992,33.427152000000035 L -115.692047,33.42715000000004 L -115.69209699999993,33.427148999999986 L -115.69225,33.427148000000045 L -115.69230099999993,33.427148000000045 L -115.69311700000003,33.42714200000012 L -115.69556599999999,33.4271270000001 L -115.695628,33.4271270000001 L -115.69592,33.4271250000001 L -115.69638299999991,33.427122000000054 L -115.69641000000001,33.427122000000054 L -115.69705899999997,33.427103999999986 L -115.698151,33.42707900000005 L -115.69855699999994,33.427069000000074 L -115.69867699999992,33.427066000000025 L -115.69908800000002,33.427054999999996 L -115.69976499999996,33.42703900000009 L -115.69979599999994,33.42703800000004 L -115.69988999999993,33.42703800000004 L -115.69992200000002,33.42703800000004 L -115.70067199999994,33.42703000000006 L -115.70166799999993,33.42699700000003 L -115.70170200000001,33.42699600000009 L -115.70704499999994,33.426968999999985 L -115.70882699999999,33.42696200000012 L -115.71041400000001,33.42695400000002 L -115.71517699999998,33.426932000000136 L -115.71676499999995,33.4269250000001 L -115.71715,33.4269230000001 L -115.71722999999997,33.4269230000001 L -115.71830799999998,33.42692700000009 L -115.71869400000003,33.42692900000009 L -115.72089499999998,33.42693700000001 L -115.72749999999996,33.42696300000006 L -115.72970199999992,33.426972999999975 L -115.73370099999994,33.42698900000005 L -115.74569799999995,33.42703800000004 L -115.74969699999991,33.427054999999996 L -115.75082599999996,33.426957999999956 L -115.75286899999998,33.426957999999956 L -115.7623989999999,33.42696600000011 L -115.76557599999995,33.4269700000001 L -115.76814799999994,33.42697200000009 L -115.775867,33.42697800000002 L -115.77843999999993,33.426981000000126 L -115.78222999999997,33.426984000000004 L -115.82388699999996,33.427017000000035 L -115.83066299999996,33.427032000000054 L -115.83071099999995,33.427036000000044 L -115.83153899999996,33.42704399999997 L -115.837941,33.427051000000006 L -115.838844,33.42705200000012 L -115.84588600000001,33.42694000000006 L -115.87469199999998,33.42648099999997 L -115.87583000000001,33.42646300000007 L -115.87883699999986,33.426464000000124 L -115.8908869999999,33.426469 L -115.89466800000002,33.42647000000011 L -115.89844800000003,33.4264720000001 L -115.905122,33.42647699999998 L -115.92514699999998,33.42649300000005 L -115.93182200000001,33.426499000000035 L -115.93183599999998,33.426499000000035 L -115.93187899999998,33.426499000000035 L -115.931894,33.426499000000035 L -115.93653999999998,33.426502000000085 L -115.94097699999986,33.42650400000008 L -115.94118500000002,33.426505000000134 L -115.944728,33.42650700000013 L -115.94827199999992,33.426509000000124 L -115.951052,33.42651100000012 L -115.95383099999998,33.426512 L -115.96383200000002,33.42651799999999 L -115.96822999999995,33.42652100000004 L -115.97383300000001,33.42652500000003 L -115.975574,33.42652599999991 L -115.97731399999998,33.42652700000002 L -115.98072499999995,33.426529000000016 L -115.98153400000001,33.426529000000016 L -115.98413600000003,33.42653100000001 L -115.98823900000002,33.426533000000006 L -115.990411,33.42653400000006 L -115.99234199999995,33.426536000000056 L -115.994194,33.42653699999994 L -115.99537800000002,33.42653800000005 L -115.99841500000002,33.426540000000045 L -116.00083299999989,33.42654200000004 L -116.001869,33.426533000000006 L -116.01223099999999,33.426445 L -116.01568499999996,33.426416000000074 L -116.01621699999998,33.426412000000084 L -116.01674799999995,33.426407999999924 L -116.01783199999994,33.42639900000006 L -116.02158599999996,33.42637000000002 L -116.02427599999999,33.42634700000002 L -116.02642399999996,33.42633099999995 L -116.02763800000002,33.42632100000003 L -116.03128100000004,33.426293000000044 L -116.03249599999992,33.42628400000001 L -116.03309200000001,33.42627900000008 L -116.03488299999998,33.426265 L -116.03548,33.42626100000001 L -116.03666699999997,33.42625100000009 L -116.04022900000001,33.42622300000011 L -116.04141699999997,33.42621400000007 L -116.04192599999999,33.42620899999997 L -116.04345599999999,33.426198 L -116.04396700000001,33.42619400000001 L -116.04484000000002,33.42618700000014 L -116.047463,33.42616599999997 L -116.048337,33.42616000000004 L -116.04870399999999,33.426150000000064 L -116.04980499999999,33.42612800000006 L -116.05017299999997,33.42612100000002 L -116.05262599999998,33.426068999999984 L -116.059416,33.42611599999992 L -116.059751,33.42597800000004 L -116.06118200000003,33.425974999999994 L -116.065451,33.42597000000012 L -116.06589699999995,33.42596900000001 L -116.06723899999997,33.42596600000013 L -116.06768599999992,33.42596600000013 L -116.06788,33.425964000000135 L -116.06846200000001,33.425964000000135 L -116.06865599999998,33.425965000000076 L -116.07021600000002,33.42596199999997 L -116.07489699999996,33.42595600000004 L -116.076458,33.4259550000001 L -116.07688799999994,33.425952999999936 L -116.07817899999992,33.42595000000006 L -116.07860999999997,33.425949 L -116.07992000000002,33.42594500000001 L -116.08385299999998,33.42593500000004 L -116.08516500000002,33.42593199999999 L -116.08622699999995,33.425928 L -116.08941300000004,33.42592200000007 L -116.09047599999997,33.425920000000076 L -116.09072799999996,33.425918999999965 L -116.09140400000001,33.42591699999997 L -116.09418799999997,33.42591100000004 L -116.09511700000002,33.42591100000004 L -116.09530799999999,33.42591100000004 L -116.09543499999995,33.42590999999993 L -116.09638899999993,33.425907999999936 L -116.09670800000004,33.425907999999936 L -116.09890000000001,33.42590300000006 L -116.105479,33.42589099999998 L -116.10767199999992,33.425888999999984 L -116.108227,33.4258880000001 L -116.10866199999992,33.42589099999998 L -116.11163199999993,33.42592200000007 L -116.11262299999993,33.42593199999999 L -116.11526499999997,33.42595800000004 L -116.12319400000001,33.42603800000006 L -116.12583699999999,33.426064999999994 L -116.12899799999997,33.426099000000136 L -116.12986299999989,33.426109999999994 L -116.1384779999999,33.426487000000066 L -116.141638,33.42662700000011 L -116.14434699999998,33.42672800000014 L -116.14717000000002,33.42683400000004 L -116.15247899999991,33.42704199999997 L -116.15518899999995,33.42715000000004 L -116.15524899999997,33.427152000000035 L -116.15542800000003,33.427160000000015 L -116.15548899999993,33.42716199999995 L -116.15548999999999,33.427163000000064 L -116.16033600000003,33.42736000000002 L -116.16450499999985,33.42753099999993 L -116.17487399999999,33.42795700000005 L -116.17972099999992,33.428157000000056 L -116.181826,33.42824200000001 L -116.18227099999996,33.42826000000008 L -116.1899239999999,33.42857500000002 L -116.18998399999998,33.42857899999996 L -116.192477,33.42868199999998 L -116.19527800000003,33.42879599999998 L -116.19759099999993,33.428893000000016 L -116.197813,33.42889100000002 L -116.20369600000004,33.428807000000006 L -116.20650299999994,33.42876799999999 L -116.20877300000001,33.428736000000015 L -116.21558299999992,33.42864099999997 L -116.21785399999999,33.42861000000005 L -116.22365100000002,33.42853000000002 L -116.23173999999995,33.428417999999965 L -116.23355099999998,33.42839300000003 L -116.24104299999999,33.428291000000115 L -116.24684100000002,33.428211999999974 L -116.24699899999996,33.42820999999998 L -116.24763999999999,33.428206000000046 L -116.25004000000001,33.42819199999991 L -116.25026300000002,33.42819100000003 L -116.25084099999998,33.42818799999998 L -116.25433900000002,33.42817700000012 L -116.264836,33.42815200000001 L -116.26825999999988,33.42814600000003 L -116.26833599999998,33.42814499999997 L -116.2684319999999,33.42814299999998 L -116.26872300000002,33.42813899999999 L -116.268822,33.42813899999999 L -116.27514199999996,33.42805800000002 L -116.27954199999999,33.42800399999999 L -116.294105,33.42783800000012 L -116.30042599999996,33.42776600000002 L -116.30042699999996,33.42776600000002 L -116.30480899999998,33.427779000000044 L -116.30907899999994,33.42779200000007 L -116.31795699999992,33.427819 L -116.32222300000001,33.42783399999996 L -116.32234,33.42783199999997 L -116.32587399999994,33.42778400000009 L -116.32655,33.427774 L -116.33918,33.42759799999999 L -116.343391,33.427539999999965 L -116.34988099999998,33.427522000000124 L -116.36935399999993,33.427470000000085 L -116.37584500000003,33.42745300000007 L -116.37639099999996,33.42745000000002 L -116.37802899999997,33.42744200000004 L -116.37857600000001,33.42744099999999 L -116.38228400000003,33.427423999999974 L -116.39341100000001,33.42737800000009 L -116.39712199999991,33.42736300000007 L -116.3982079999999,33.42735800000003 L -116.40123299999999,33.427345 L -116.40146799999997,33.42734400000012 L -116.40255499999995,33.42734100000007 L -116.40381400000001,33.427335000000085 L -116.40759399999996,33.42731800000007 L -116.40885500000002,33.42731500000002 L -116.40905700000002,33.42731200000014 L -116.40966899999995,33.42730999999998 L -116.40987599999994,33.42731100000003 L -116.41006800000002,33.42730900000004 L -116.411696,33.427301000000114 L -116.41430400000002,33.427290000000085 L -116.41715899999991,33.427279999999996 L -116.41898100000003,33.42727300000013 L -116.419059,33.427272000000016 L -116.41929399999998,33.42727000000002 L -116.41937299999995,33.42727100000013 L -116.41943300000003,33.42727000000002 L -116.4196169999999,33.42727000000002 L -116.41967799999998,33.42727000000002 L -116.42332999999996,33.427253000000064 L -116.43428799999998,33.427208000000064 L -116.43794100000002,33.42719500000004 L -116.44379900000001,33.42716800000011 L -116.46138200000001,33.427096000000006 L -116.46724499999999,33.427074000000005 L -116.47078099999999,33.42705600000011 L -116.48139199999997,33.4270150000001 L -116.48363099999995,33.42700600000006 L -116.48493099999996,33.42700099999996 L -116.48506199999997,33.42699600000009 L -116.48545799999988,33.42698200000001 L -116.48558999999995,33.42697800000002 L -116.48580699999997,33.42697200000009 L -116.48645799999991,33.42696000000012 L -116.48667599999993,33.42695599999996 L -116.48676099999994,33.42695400000002 L -116.48685899999998,33.42695500000008 L -116.48740900000001,33.426968999999985 L -116.48759299999995,33.42697499999997 L -116.488651,33.4269680000001 L -116.491828,33.42695400000002 L -116.49288799999994,33.42695300000008 L -116.49299100000002,33.42695100000009 L -116.493536,33.426941 L -116.49548600000003,33.42691000000008 L -116.49613699999998,33.42690100000004 L -116.49622899999997,33.42689900000005 L -116.49650499999996,33.426896 L -116.49746599999997,33.426894000000004 L -116.497612,33.42689300000012 L -116.49798099999998,33.42689200000001 L -116.49819000000002,33.426890000000014 L -116.49861099999998,33.42688900000013 L -116.49882300000002,33.426878999999985 L -116.499034,33.42687300000006 L -116.50084799999996,33.426805000000115 L -116.502682,33.42681300000004 L -116.51362899999998,33.42686400000002 L -116.51718800000003,33.42688099999998 L -116.51728000000003,33.42688099999998 L -116.51750399999997,33.42688200000009 L -116.51817599999998,33.42688499999997 L -116.51840099999987,33.426887000000136 L -116.51882199999989,33.42688800000002 L -116.51932899999991,33.426891000000126 L -116.52008699999999,33.42689300000012 L -116.520509,33.426897000000054 L -116.52319999999992,33.42690900000002 L -116.53127299999989,33.426946000000044 L -116.53216799999996,33.42695100000009 L -116.53396499999997,33.426957999999956 L -116.53438499999999,33.42696000000012 L -116.53564599999993,33.42696600000011 L -116.53606699999995,33.4269680000001 L -116.53869499999996,33.426980000000015 L -116.546581,33.42701599999998 L -116.54921000000002,33.427029000000005 L -116.55092400000001,33.4270370000001 L -116.55606799999998,33.42706099999998 L -116.55778299999997,33.427069000000074 L -116.55804899999987,33.427069000000074 L -116.56153,33.42708499999998 L -116.57277499999998,33.42713500000008 L -116.57634499999995,33.42715400000003 L -116.576524,33.427156000000025 L -116.57706299999995,33.427156000000025 L -116.57868199999996,33.42716399999995 L -116.57922399999995,33.427167000000054 L -116.58192899999995,33.42717600000009 L -116.59004600000003,33.42720300000002 L -116.59266699999989,33.427212000000054 L -116.5927519999999,33.42721300000011 L -116.59380799999997,33.42721799999998 L -116.59697599999998,33.42723600000005 L -116.59803199999999,33.427242000000035 L -116.60159599999997,33.4272620000001 L -116.61228800000004,33.427321000000006 L -116.61585300000002,33.42734300000001 L -116.616104,33.42734300000001 L -116.616219,33.42734300000001 L -116.61732,33.42735099999999 L -116.61768699999999,33.42735400000004 L -116.61874199999994,33.42734100000007 L -116.62191299999995,33.4273050000001 L -116.62297000000001,33.42729600000007 L -116.62585000000001,33.427253000000064 L -116.62669199999993,33.42725100000007 L -116.63786199999993,33.42724400000003 L -116.64158800000001,33.42724400000003 L -116.64165799999995,33.427242000000035 L -116.64187199999998,33.427242000000035 L -116.64194499999996,33.42724400000003 L -116.64310999999992,33.427242000000035 L -116.64629300000001,33.42723600000005 L -116.65797899999995,33.427223000000026 L -116.65933799999999,33.42722400000014 L -116.66368699999992,33.42723000000012 L -116.66736900000001,33.427227000000016 L -116.67841599999991,33.42722100000009 L -116.68177700000001,33.42721999999998 L -116.68209799999994,33.4272170000001 L -116.68260900000001,33.42721399999999 L -116.68414199999995,33.42720600000007 L -116.68465500000002,33.42720600000007 L -116.686532,33.42719900000003 L -116.69216699999993,33.427182000000016 L -116.69404699999996,33.42717700000014 L -116.69489699999997,33.42717400000009 L -116.696348,33.42716800000011 L -116.70325399999996,33.42714400000011 L -116.705557,33.427137000000016 L -116.70577600000001,33.42713500000008 L -116.706434,33.42713400000014 L -116.70665400000001,33.42713400000014 L -116.70738699999998,33.42713100000009 L -116.70958599999994,33.42712400000005 L -116.71032000000002,33.427122000000054 L -116.71062299999994,33.42712400000005 L -116.71153200000003,33.42713200000014 L -116.71174799999994,33.42713600000013 L -116.71183599999995,33.42713600000013 L -116.71378199999992,33.42712799999998 L -116.71962099999996,33.427111000000025 L -116.72156899999993,33.42710599999998 L -116.72156899999993,33.42710900000003 L -116.72447799999986,33.427098 L -116.72731599999992,33.42709100000013 L -116.73321499999997,33.427074000000005 L -116.73613,33.42706800000002 L -116.73752000000002,33.42706099999998 L -116.74169499999994,33.42704900000007 L -116.74191300000001,33.42705000000012 L -116.743089,33.42704900000007 L -116.74732199999994,33.427054999999996 L -116.750921,33.427062000000035 L -116.76002999999997,33.42709100000013 L -116.76426599999996,33.42710500000004 L -116.76427299999995,33.42710599999998 L -116.77086299999996,33.42707100000007 L -116.77152899999999,33.427067000000136 L -116.793317,33.42695200000003 L -116.80058099999991,33.42691700000012 L -116.80163499999998,33.42691200000007 L -116.80480299999999,33.42690700000003 L -116.805861,33.42690700000003 L -116.80645300000003,33.42690399999992 L -116.80822999999998,33.426901999999984 L -116.80882300000002,33.426901999999984 L -116.80891899999995,33.42690100000004 L -116.80920699999996,33.42690100000004 L -116.809215,33.42690100000004 L -116.809304,33.42690100000004 L -116.80992399999997,33.42689900000005 L -116.81178599999993,33.426896 L -116.8124069999999,33.426895000000115 L -116.81308499999994,33.42689300000012 L -116.81512299999997,33.42688900000013 L -116.81580199999996,33.42688800000002 L -116.81634300000002,33.42688600000008 L -116.817969,33.426884000000086 L -116.818511,33.426882999999975 L -116.81856099999999,33.42688200000009 L -116.81871099999995,33.42688200000009 L -116.81876199999999,33.42688200000009 L -116.82182599999993,33.42687300000006 L -116.82344199999989,33.42686800000001 L -116.82344199999989,33.42686700000007 L -116.82345199999997,33.42686700000007 L -116.82571999999999,33.42685800000004 L -116.8263,33.42685600000004 L -116.826302,33.42685600000004 L -116.82653699999997,33.42685600000004 L -116.82688100000001,33.42685800000004 L -116.82838600000002,33.42685899999998 L -116.82838900000002,33.42685899999998 L -116.83062099999995,33.42686200000003 L -116.83117700000003,33.42686200000003 L -116.83118000000002,33.42686300000008 L -116.83162800000002,33.42686300000008 L -116.83162800000002,33.42686099999992 L -116.83166999999997,33.42686300000008 L -116.83602899999994,33.42686900000007 L -116.83603099999993,33.42686800000001 L -116.836747,33.42686500000008 L -116.83676899999989,33.42686500000008 L -116.83761199999992,33.426739 L -116.83772699999992,33.42673600000006 L -116.83807199999995,33.426730000000134 L -116.83818799999995,33.42672800000014 L -116.8383159999999,33.426730000000134 L -116.83870299999995,33.42673600000006 L -116.83883199999997,33.426739 L -116.83896400000003,33.42674600000004 L -116.83936099999994,33.42676800000004 L -116.839494,33.42677600000002 L -116.84009600000002,33.426764000000105 L -116.84190199999995,33.42672900000002 L -116.84250500000002,33.426717999999994 L -116.84351100000003,33.42670899999996 L -116.84653499999996,33.42668800000001 L -116.84742399999999,33.42668200000003 L -116.84754299999997,33.426685000000134 L -116.848387,33.42669100000006 L -116.85092299999991,33.426717999999994 L -116.85177099999993,33.42672800000014 L -116.85250999999988,33.42669900000004 L -116.85472999999996,33.42661900000002 L -116.85537299999999,33.42659600000002 L -116.85547099999991,33.426595000000134 L -116.855795,33.42658899999998 L -116.85676999999993,33.42657799999995 L -116.85709500000002,33.426574000000016 L -116.85763199999991,33.426626000000056 L -116.85924499999999,33.42678500000005 L -116.859783,33.426837999999975 L -116.86091899999991,33.42679499999997 L -116.864328,33.426667000000066 L -116.86546499999992,33.426625000000115 L -116.86555799999996,33.426620999999955 L -116.86585499999995,33.42661700000002 L -116.86702700000001,33.42660900000004 L -116.86741799999987,33.42660900000004 L -116.87068699999998,33.42668400000002 L -116.87587899999994,33.426805000000115 L -116.880494,33.426890000000014 L -116.88371299999994,33.42695000000003 L -116.88376499999998,33.42695000000003 L -116.88607899999988,33.42696000000012 L -116.89302800000002,33.42699800000008 L -116.89534599999996,33.427013999999986 L -116.89835199999999,33.4270370000001 L -116.90737599999994,33.42710599999998 L -116.91038500000002,33.42713100000009 L -116.91059200000001,33.42711200000008 L -116.91121499999997,33.4270580000001 L -116.91142299999996,33.427040000000034 L -116.91142400000001,33.42703900000009 L -116.914312,33.4272170000001 L -116.91437299999996,33.42721799999998 L -116.9194849999999,33.42737800000009 L -116.92324199999996,33.427464999999984 L -116.92343199999999,33.427470000000085 L -116.92611499999992,33.427466000000095 L -116.92619999999994,33.42745700000006 L -116.92673100000002,33.42739799999998 L -116.92796499999997,33.42736200000002 L -116.928629,33.427342000000124 L -116.93110799999994,33.42727100000013 L -116.93327199999993,33.427208000000064 L -116.93503699999997,33.427159000000074 L -116.93504300000001,33.42715800000002 L -116.93516199999999,33.42718500000012 L -116.93551999999994,33.42726600000003 L -116.93564000000003,33.427294000000074 L -116.93604399999998,33.42731300000003 L -116.93725899999998,33.4273740000001 L -116.93766599999998,33.42739700000004 L -116.93861399999997,33.42745700000006 L -116.94094099999995,33.42749500000002 L -116.94639499999994,33.427590000000066 L -116.95077399999997,33.4276230000001 L -116.95405399999993,33.427648999999974 L -116.95453800000001,33.42765300000008 L -116.95964999999995,33.42768000000001 L -116.97429099999988,33.4277580000001 L -116.97644400000001,33.427745999999956 L -116.98077899999998,33.42772500000001 L -116.98204299999992,33.42769300000003 L -116.98420399999992,33.42764000000011 L -116.98438099999993,33.427639 L -116.98936300000003,33.42761400000006 L -116.99140299999999,33.427550999999994 L -116.99374299999988,33.42748 L -116.99468100000001,33.42745200000002 L -116.99516599999993,33.427435 L -116.999436,33.427290000000085 L -117.00085999999999,33.427242000000035 L -117.00106,33.42717900000014 L -117.00165900000002,33.42699300000004 L -117.00185999999991,33.426931000000025 L -117.00308199999995,33.426931000000025 L -117.00674899999996,33.426932000000136 L -117.007972,33.42693300000002 L -117.00970899999999,33.426932000000136 L -117.01492200000001,33.426931000000025 L -117.01658599999996,33.426931000000025 L -117.01665999999994,33.426931000000025 L -117.01829499999997,33.426931000000025 L -117.02320199999997,33.426931000000025 L -117.02482099999992,33.426931000000025 L -117.02483799999999,33.426931000000025 L -117.02484200000004,33.426931000000025 L -117.02485499999989,33.426931000000025 L -117.02485999999993,33.426931000000025 L -117.02669999999995,33.426931000000025 L -117.03086099999996,33.426931000000025 L -117.03086099999996,33.42828899999995 L -117.03086099999996,33.43013100000013 L -117.03096499999998,33.43013100000013 L -117.03127699999993,33.43013200000007 L -117.03138100000001,33.43013400000001 L -117.034718,33.43014900000003 L -117.04473199999995,33.43020700000005 L -117.04807299999999,33.430229999999995 L -117.04890999999998,33.430229999999995 L -117.051422,33.430229000000054 L -117.05226099999993,33.430229999999995 L -117.05393599999996,33.43025000000006 L -117.058964,33.43031000000002 L -117.06056199999995,33.43033000000008 L -117.06063999999992,33.43032900000003 L -117.06237699999991,33.430300999999986 L -117.06758699999989,33.430222000000015 L -117.06932499999999,33.430196000000024 L -117.07140400000003,33.430222000000015 L -117.07764099999997,33.43030299999998 L -117.07824099999999,33.43031000000002 L -117.07972099999995,33.43033000000008 L -117.07986900000003,33.43032900000003 L -117.08031299999999,33.43032900000003 L -117.08046199999995,33.43033000000008 L -117.080942,33.43032900000003 L -117.08238099999994,33.43032900000003 L -117.08246999999994,33.43032900000003 L -117.08286199999998,33.43033000000008 L -117.08409399999994,33.43032100000005 L -117.08779099999992,33.43029400000012 L -117.089024,33.430286000000024 z\" /></g></svg>"
          },
          "metadata": {
            "tags": []
          },
          "execution_count": 18
        }
      ]
    },
    {
      "cell_type": "markdown",
      "metadata": {
        "id": "2Pp4OQxi_0Bd",
        "colab_type": "text"
      },
      "source": [
        "This gives us a Shapely Polygon. We would then have toconstruct a new\n",
        "GeoDataFrame with this as the Geometry column. Instead, we will continue\n",
        "with the `county` DataFrame obtained from the dissolve operation since\n",
        "this saves us one step. (We simply note the unary~union~ as you never\n",
        "know when you may need it.)\n",
        "\n",
        "We now have our single polygon for the county.\n",
        "\n",
        "In our earlier notebook we saw that care needs to be taken when testing\n",
        "for intersections between features from two different DataFrames, as\n",
        "this is done on an element-wise basis.\n",
        "\n",
        "There are a couple of ways to handle this. First, using what are known\n",
        "as **lambdas**:"
      ]
    },
    {
      "cell_type": "code",
      "metadata": {
        "id": "J7wJFh_q_0Bf",
        "colab_type": "code",
        "colab": {}
      },
      "source": [
        "r = routes_df['geometry']"
      ],
      "execution_count": 0,
      "outputs": []
    },
    {
      "cell_type": "code",
      "metadata": {
        "id": "QWh5K-2v_0Bl",
        "colab_type": "code",
        "colab": {
          "base_uri": "https://localhost:8080/",
          "height": 34
        },
        "outputId": "9490c58e-3957-4288-83de-355536e478fa"
      },
      "source": [
        "type(r)"
      ],
      "execution_count": 20,
      "outputs": [
        {
          "output_type": "execute_result",
          "data": {
            "text/plain": [
              "geopandas.geoseries.GeoSeries"
            ]
          },
          "metadata": {
            "tags": []
          },
          "execution_count": 20
        }
      ]
    },
    {
      "cell_type": "code",
      "metadata": {
        "id": "wd3FZgga_0Bq",
        "colab_type": "code",
        "colab": {
          "base_uri": "https://localhost:8080/",
          "height": 221
        },
        "outputId": "3bccf08b-0371-415f-e101-ad3ab6bdcea5"
      },
      "source": [
        "r.apply(lambda x: x.intersects(county.iloc[0]['geometry']))"
      ],
      "execution_count": 21,
      "outputs": [
        {
          "output_type": "execute_result",
          "data": {
            "text/plain": [
              "0      False\n",
              "1      False\n",
              "2      False\n",
              "3      False\n",
              "4      False\n",
              "       ...  \n",
              "961    False\n",
              "962    False\n",
              "963    False\n",
              "964    False\n",
              "965    False\n",
              "Name: geometry, Length: 966, dtype: bool"
            ]
          },
          "metadata": {
            "tags": []
          },
          "execution_count": 21
        }
      ]
    },
    {
      "cell_type": "code",
      "metadata": {
        "id": "xxlxABHk_0By",
        "colab_type": "code",
        "colab": {}
      },
      "source": [
        "rc_routes = r[r.apply(lambda x: x.intersects(county.iloc[0]['geometry']))]"
      ],
      "execution_count": 0,
      "outputs": []
    },
    {
      "cell_type": "code",
      "metadata": {
        "id": "ENsDtl0Q_0B2",
        "colab_type": "code",
        "colab": {
          "base_uri": "https://localhost:8080/",
          "height": 34
        },
        "outputId": "3fa70953-7e82-461c-821f-3e70fcac510d"
      },
      "source": [
        "rc_routes.shape"
      ],
      "execution_count": 23,
      "outputs": [
        {
          "output_type": "execute_result",
          "data": {
            "text/plain": [
              "(42,)"
            ]
          },
          "metadata": {
            "tags": []
          },
          "execution_count": 23
        }
      ]
    },
    {
      "cell_type": "code",
      "metadata": {
        "id": "Dkt2GVNH_0B6",
        "colab_type": "code",
        "colab": {
          "base_uri": "https://localhost:8080/",
          "height": 252
        },
        "outputId": "9ff67560-15cc-4338-a381-5fb6ee39fccd"
      },
      "source": [
        "rc_routes.plot()"
      ],
      "execution_count": 24,
      "outputs": [
        {
          "output_type": "execute_result",
          "data": {
            "text/plain": [
              "<matplotlib.axes._subplots.AxesSubplot at 0x7f414e8ba2e8>"
            ]
          },
          "metadata": {
            "tags": []
          },
          "execution_count": 24
        },
        {
          "output_type": "display_data",
          "data": {
            "image/png": "[encoded data removed]",
            "text/plain": [
              "<Figure size 432x288 with 1 Axes>"
            ]
          },
          "metadata": {
            "tags": []
          }
        }
      ]
    },
    {
      "cell_type": "markdown",
      "metadata": {
        "id": "CTW3dvQU_0CA",
        "colab_type": "text"
      },
      "source": [
        "Plotting the two layers to see what we are now working with gives us:"
      ]
    },
    {
      "cell_type": "code",
      "metadata": {
        "id": "-CaVgu4g_0CC",
        "colab_type": "code",
        "colab": {
          "base_uri": "https://localhost:8080/",
          "height": 235
        },
        "outputId": "36f1dca0-fa35-4361-c7a8-ea640e8e3791"
      },
      "source": [
        "ax = plt.gca()\n",
        "rc_routes.plot(ax=ax, edgecolor='k')\n",
        "county.plot(ax=ax)\n",
        "plt.show()"
      ],
      "execution_count": 25,
      "outputs": [
        {
          "output_type": "display_data",
          "data": {
            "image/png": "[encoded data removed]",
            "text/plain": [
              "<Figure size 432x288 with 1 Axes>"
            ]
          },
          "metadata": {
            "tags": []
          }
        }
      ]
    },
    {
      "cell_type": "markdown",
      "metadata": {
        "id": "e5CcmsHm_0CI",
        "colab_type": "text"
      },
      "source": [
        "Lambdas are handy, but tend to make code a little more difficult to\n",
        "read. Technically they are known as \\\"anonymous functions\\\". A more\n",
        "transparent approach is to use a simple loop and test each route segment\n",
        "for intersection with the county, and append the segment to a list to\n",
        "store all the segments that intersect with the county:"
      ]
    },
    {
      "cell_type": "code",
      "metadata": {
        "id": "ZqeV5YlS_0CJ",
        "colab_type": "code",
        "colab": {
          "base_uri": "https://localhost:8080/",
          "height": 731
        },
        "outputId": "5951835b-19f0-4f21-d8ed-97656d2a0dc7"
      },
      "source": [
        "geoms = []\n",
        "for idx, route in enumerate(rc_routes):\n",
        "    print(idx)\n",
        "    geoms.append(route.intersection(county.iloc[0]['geometry']))"
      ],
      "execution_count": 26,
      "outputs": [
        {
          "output_type": "stream",
          "text": [
            "0\n",
            "1\n",
            "2\n",
            "3\n",
            "4\n",
            "5\n",
            "6\n",
            "7\n",
            "8\n",
            "9\n",
            "10\n",
            "11\n",
            "12\n",
            "13\n",
            "14\n",
            "15\n",
            "16\n",
            "17\n",
            "18\n",
            "19\n",
            "20\n",
            "21\n",
            "22\n",
            "23\n",
            "24\n",
            "25\n",
            "26\n",
            "27\n",
            "28\n",
            "29\n",
            "30\n",
            "31\n",
            "32\n",
            "33\n",
            "34\n",
            "35\n",
            "36\n",
            "37\n",
            "38\n",
            "39\n",
            "40\n",
            "41\n"
          ],
          "name": "stdout"
        }
      ]
    },
    {
      "cell_type": "markdown",
      "metadata": {
        "id": "45vFlWfK_0CQ",
        "colab_type": "text"
      },
      "source": [
        "Now we use this Python list of intersection objects (which are segments)\n",
        "into a GeoSeries:"
      ]
    },
    {
      "cell_type": "code",
      "metadata": {
        "id": "kyeNUmOe_0CS",
        "colab_type": "code",
        "colab": {
          "base_uri": "https://localhost:8080/",
          "height": 133
        },
        "outputId": "a48cb932-b752-4a50-dfc9-76e680231179"
      },
      "source": [
        "rc_hw = gpd.GeoSeries(geoms)\n",
        "rc_hw.plot()"
      ],
      "execution_count": 27,
      "outputs": [
        {
          "output_type": "execute_result",
          "data": {
            "text/plain": [
              "<matplotlib.axes._subplots.AxesSubplot at 0x7f414bafaa90>"
            ]
          },
          "metadata": {
            "tags": []
          },
          "execution_count": 27
        },
        {
          "output_type": "display_data",
          "data": {
            "image/png": "[encoded data removed]",
            "text/plain": [
              "<Figure size 432x288 with 1 Axes>"
            ]
          },
          "metadata": {
            "tags": []
          }
        }
      ]
    },
    {
      "cell_type": "markdown",
      "metadata": {
        "id": "o4sSvKnl_0CY",
        "colab_type": "text"
      },
      "source": [
        "and, plot the new series with our county polygon:"
      ]
    },
    {
      "cell_type": "code",
      "metadata": {
        "id": "Ij3RW_iZ_0Cb",
        "colab_type": "code",
        "colab": {
          "base_uri": "https://localhost:8080/",
          "height": 136
        },
        "outputId": "6153d2ce-ec8b-46af-c868-e23ad6ec4bf8"
      },
      "source": [
        "\n",
        "ax = plt.gca()\n",
        "county.plot(ax=ax)\n",
        "rc_hw.plot(ax=ax, edgecolor='k')\n",
        "ax.set_xlim(-118.0, -114.0); ax.set_ylim(33.25, 34.25)\n",
        "ax.set_aspect('equal')\n",
        "plt.show()"
      ],
      "execution_count": 28,
      "outputs": [
        {
          "output_type": "display_data",
          "data": {
            "image/png": "[encoded data removed]",
            "text/plain": [
              "<Figure size 432x288 with 1 Axes>"
            ]
          },
          "metadata": {
            "tags": []
          }
        }
      ]
    },
    {
      "cell_type": "markdown",
      "metadata": {
        "id": "KJuAD9jq_0Cj",
        "colab_type": "text"
      },
      "source": [
        "we set the limits for the horizontal and vertical axes to zoom in. We\n",
        "can also change the plot size:"
      ]
    },
    {
      "cell_type": "code",
      "metadata": {
        "id": "ZdHxJljZ_0Ck",
        "colab_type": "code",
        "colab": {
          "base_uri": "https://localhost:8080/",
          "height": 187
        },
        "outputId": "7751265f-e966-42b6-f654-e34db7efc85e"
      },
      "source": [
        "plt.rcParams['figure.figsize'] = (10, 8)\n",
        "ax = plt.gca()\n",
        "county.plot(ax=ax)\n",
        "rc_hw.plot(ax=ax, edgecolor='k')\n",
        "ax.set_xlim(-118.0, -114.0); ax.set_ylim(33.25, 34.25)\n",
        "ax.set_aspect('equal')\n",
        "plt.show()"
      ],
      "execution_count": 29,
      "outputs": [
        {
          "output_type": "display_data",
          "data": {
            "image/png": "[encoded data removed]",
            "text/plain": [
              "<Figure size 720x576 with 1 Axes>"
            ]
          },
          "metadata": {
            "tags": []
          }
        }
      ]
    },
    {
      "cell_type": "code",
      "metadata": {
        "id": "KMjNfKpd_0Cs",
        "colab_type": "code",
        "colab": {
          "base_uri": "https://localhost:8080/",
          "height": 215
        },
        "outputId": "497dafe7-040e-4e2b-befb-8397f52eacdd"
      },
      "source": [
        "plt.rcParams['figure.figsize'] = (12, 10)\n",
        "ax = plt.gca()\n",
        "tracts_df.plot(ax=ax, edgecolor='grey', alpha=0.2)\n",
        "rc_hw.plot(ax=ax, edgecolor='k')\n",
        "ax.set_xlim(-118.0, -114.0); ax.set_ylim(33.25, 34.25)\n",
        "ax.set_aspect('equal')\n",
        "plt.show()"
      ],
      "execution_count": 30,
      "outputs": [
        {
          "output_type": "display_data",
          "data": {
            "image/png": "[encoded data removed]",
            "text/plain": [
              "<Figure size 864x720 with 1 Axes>"
            ]
          },
          "metadata": {
            "tags": []
          }
        }
      ]
    },
    {
      "cell_type": "markdown",
      "metadata": {
        "id": "uszeIz3w_0Cz",
        "colab_type": "text"
      },
      "source": [
        "And finally, let us create a DataFrame from the GeoSeries:"
      ]
    },
    {
      "cell_type": "code",
      "metadata": {
        "id": "hsiAvAmC_0C1",
        "colab_type": "code",
        "colab": {
          "base_uri": "https://localhost:8080/",
          "height": 34
        },
        "outputId": "887af588-609b-4685-d34a-c506d86bcaf7"
      },
      "source": [
        "type(rc_hw)"
      ],
      "execution_count": 31,
      "outputs": [
        {
          "output_type": "execute_result",
          "data": {
            "text/plain": [
              "geopandas.geoseries.GeoSeries"
            ]
          },
          "metadata": {
            "tags": []
          },
          "execution_count": 31
        }
      ]
    },
    {
      "cell_type": "code",
      "metadata": {
        "id": "DKdhXu31_0C6",
        "colab_type": "code",
        "colab": {}
      },
      "source": [
        "rc_hw = gpd.GeoDataFrame({'geometry': rc_hw})"
      ],
      "execution_count": 0,
      "outputs": []
    },
    {
      "cell_type": "code",
      "metadata": {
        "id": "zgVSm8g-_0DC",
        "colab_type": "code",
        "colab": {
          "base_uri": "https://localhost:8080/",
          "height": 34
        },
        "outputId": "2f24a301-fd4c-4c30-8c03-524a6f9c5b99"
      },
      "source": [
        "rc_hw.shape"
      ],
      "execution_count": 33,
      "outputs": [
        {
          "output_type": "execute_result",
          "data": {
            "text/plain": [
              "(42, 1)"
            ]
          },
          "metadata": {
            "tags": []
          },
          "execution_count": 33
        }
      ]
    },
    {
      "cell_type": "code",
      "metadata": {
        "id": "ACoHIDJK_0DI",
        "colab_type": "code",
        "colab": {
          "base_uri": "https://localhost:8080/",
          "height": 34
        },
        "outputId": "49a71911-c408-48e1-c0c2-7ee2c754de94"
      },
      "source": [
        "tracts_df.shape"
      ],
      "execution_count": 34,
      "outputs": [
        {
          "output_type": "execute_result",
          "data": {
            "text/plain": [
              "(453, 197)"
            ]
          },
          "metadata": {
            "tags": []
          },
          "execution_count": 34
        }
      ]
    },
    {
      "cell_type": "markdown",
      "metadata": {
        "id": "eiWYq_2n_0DP",
        "colab_type": "text"
      },
      "source": [
        "Spatial Joins: Which Tracts Intersect the Truck Network?\n",
        "========================================================\n",
        "\n",
        "We now have the truck route network clipped to the extent of Riverside\n",
        "County. Using this layer, we can determine which census tracts intersect\n",
        "the network within the county. For this, we revisit the concept of a\n",
        "spatial join. There are different flavors of spatial joins that can be\n",
        "used in practice. Here we explore the options before deciding which one\n",
        "serves our particular need best.\n",
        "\n",
        "We begin with a so called \\\"inner\\\" join:"
      ]
    },
    {
      "cell_type": "code",
      "metadata": {
        "id": "kSmLnk98_0DS",
        "colab_type": "code",
        "colab": {
          "base_uri": "https://localhost:8080/",
          "height": 429
        },
        "outputId": "4945b5ba-2486-44b3-9d39-1a3dd1ff9c3e"
      },
      "source": [
        "# spatial join, tracts with roads\n",
        "tracts_with_roads = gpd.sjoin(tracts_df, rc_hw, how='inner', op='intersects')"
      ],
      "execution_count": 35,
      "outputs": [
        {
          "output_type": "stream",
          "text": [
            "/usr/local/lib/python3.6/dist-packages/geopandas/tools/sjoin.py:61: UserWarning: CRS of frames being joined does not match!(epsg:4269 != None)\n",
            "  \"(%s != %s)\" % (left_df.crs, right_df.crs)\n",
            "/usr/local/lib/python3.6/dist-packages/geopandas/base.py:104: UserWarning: Cannot generate spatial index: Missing package `rtree`.\n",
            "  warn(\"Cannot generate spatial index: Missing package `rtree`.\")\n"
          ],
          "name": "stderr"
        },
        {
          "output_type": "error",
          "ename": "AttributeError",
          "evalue": "ignored",
          "traceback": [
            "\u001b[0;31m---------------------------------------------------------------------------\u001b[0m",
            "\u001b[0;31mAttributeError\u001b[0m                            Traceback (most recent call last)",
            "\u001b[0;32m<ipython-input-35-c3cc7bfbc305>\u001b[0m in \u001b[0;36m<module>\u001b[0;34m()\u001b[0m\n\u001b[0;32m----> 1\u001b[0;31m \u001b[0mtracts_with_roads\u001b[0m \u001b[0;34m=\u001b[0m \u001b[0mgpd\u001b[0m\u001b[0;34m.\u001b[0m\u001b[0msjoin\u001b[0m\u001b[0;34m(\u001b[0m\u001b[0mtracts_df\u001b[0m\u001b[0;34m,\u001b[0m \u001b[0mrc_hw\u001b[0m\u001b[0;34m,\u001b[0m \u001b[0mhow\u001b[0m\u001b[0;34m=\u001b[0m\u001b[0;34m'inner'\u001b[0m\u001b[0;34m,\u001b[0m \u001b[0mop\u001b[0m\u001b[0;34m=\u001b[0m\u001b[0;34m'intersects'\u001b[0m\u001b[0;34m)\u001b[0m\u001b[0;34m\u001b[0m\u001b[0;34m\u001b[0m\u001b[0m\n\u001b[0m",
            "\u001b[0;32m/usr/local/lib/python3.6/dist-packages/geopandas/tools/sjoin.py\u001b[0m in \u001b[0;36msjoin\u001b[0;34m(left_df, right_df, how, op, lsuffix, rsuffix)\u001b[0m\n\u001b[1;32m    134\u001b[0m         \u001b[0;31m# tree_idx_df == 'left'\u001b[0m\u001b[0;34m\u001b[0m\u001b[0;34m\u001b[0m\u001b[0;34m\u001b[0m\u001b[0m\n\u001b[1;32m    135\u001b[0m         idxmatch = right_df.geometry.apply(lambda x: x.bounds).apply(\n\u001b[0;32m--> 136\u001b[0;31m             \u001b[0;32mlambda\u001b[0m \u001b[0mx\u001b[0m\u001b[0;34m:\u001b[0m \u001b[0mlist\u001b[0m\u001b[0;34m(\u001b[0m\u001b[0mtree_idx\u001b[0m\u001b[0;34m.\u001b[0m\u001b[0mintersection\u001b[0m\u001b[0;34m(\u001b[0m\u001b[0mx\u001b[0m\u001b[0;34m)\u001b[0m\u001b[0;34m)\u001b[0m \u001b[0;32mif\u001b[0m \u001b[0;32mnot\u001b[0m \u001b[0mx\u001b[0m \u001b[0;34m==\u001b[0m \u001b[0;34m(\u001b[0m\u001b[0;34m)\u001b[0m \u001b[0;32melse\u001b[0m \u001b[0;34m[\u001b[0m\u001b[0;34m]\u001b[0m\u001b[0;34m\u001b[0m\u001b[0;34m\u001b[0m\u001b[0m\n\u001b[0m\u001b[1;32m    137\u001b[0m         )\n\u001b[1;32m    138\u001b[0m         \u001b[0midxmatch\u001b[0m \u001b[0;34m=\u001b[0m \u001b[0midxmatch\u001b[0m\u001b[0;34m[\u001b[0m\u001b[0midxmatch\u001b[0m\u001b[0;34m.\u001b[0m\u001b[0mapply\u001b[0m\u001b[0;34m(\u001b[0m\u001b[0mlen\u001b[0m\u001b[0;34m)\u001b[0m \u001b[0;34m>\u001b[0m \u001b[0;36m0\u001b[0m\u001b[0;34m]\u001b[0m\u001b[0;34m\u001b[0m\u001b[0;34m\u001b[0m\u001b[0m\n",
            "\u001b[0;32m/usr/local/lib/python3.6/dist-packages/pandas/core/series.py\u001b[0m in \u001b[0;36mapply\u001b[0;34m(self, func, convert_dtype, args, **kwds)\u001b[0m\n\u001b[1;32m   4043\u001b[0m             \u001b[0;32melse\u001b[0m\u001b[0;34m:\u001b[0m\u001b[0;34m\u001b[0m\u001b[0;34m\u001b[0m\u001b[0m\n\u001b[1;32m   4044\u001b[0m                 \u001b[0mvalues\u001b[0m \u001b[0;34m=\u001b[0m \u001b[0mself\u001b[0m\u001b[0;34m.\u001b[0m\u001b[0mastype\u001b[0m\u001b[0;34m(\u001b[0m\u001b[0mobject\u001b[0m\u001b[0;34m)\u001b[0m\u001b[0;34m.\u001b[0m\u001b[0mvalues\u001b[0m\u001b[0;34m\u001b[0m\u001b[0;34m\u001b[0m\u001b[0m\n\u001b[0;32m-> 4045\u001b[0;31m                 \u001b[0mmapped\u001b[0m \u001b[0;34m=\u001b[0m \u001b[0mlib\u001b[0m\u001b[0;34m.\u001b[0m\u001b[0mmap_infer\u001b[0m\u001b[0;34m(\u001b[0m\u001b[0mvalues\u001b[0m\u001b[0;34m,\u001b[0m \u001b[0mf\u001b[0m\u001b[0;34m,\u001b[0m \u001b[0mconvert\u001b[0m\u001b[0;34m=\u001b[0m\u001b[0mconvert_dtype\u001b[0m\u001b[0;34m)\u001b[0m\u001b[0;34m\u001b[0m\u001b[0;34m\u001b[0m\u001b[0m\n\u001b[0m\u001b[1;32m   4046\u001b[0m \u001b[0;34m\u001b[0m\u001b[0m\n\u001b[1;32m   4047\u001b[0m         \u001b[0;32mif\u001b[0m \u001b[0mlen\u001b[0m\u001b[0;34m(\u001b[0m\u001b[0mmapped\u001b[0m\u001b[0;34m)\u001b[0m \u001b[0;32mand\u001b[0m \u001b[0misinstance\u001b[0m\u001b[0;34m(\u001b[0m\u001b[0mmapped\u001b[0m\u001b[0;34m[\u001b[0m\u001b[0;36m0\u001b[0m\u001b[0;34m]\u001b[0m\u001b[0;34m,\u001b[0m \u001b[0mSeries\u001b[0m\u001b[0;34m)\u001b[0m\u001b[0;34m:\u001b[0m\u001b[0;34m\u001b[0m\u001b[0;34m\u001b[0m\u001b[0m\n",
            "\u001b[0;32mpandas/_libs/lib.pyx\u001b[0m in \u001b[0;36mpandas._libs.lib.map_infer\u001b[0;34m()\u001b[0m\n",
            "\u001b[0;32m/usr/local/lib/python3.6/dist-packages/geopandas/tools/sjoin.py\u001b[0m in \u001b[0;36m<lambda>\u001b[0;34m(x)\u001b[0m\n\u001b[1;32m    134\u001b[0m         \u001b[0;31m# tree_idx_df == 'left'\u001b[0m\u001b[0;34m\u001b[0m\u001b[0;34m\u001b[0m\u001b[0;34m\u001b[0m\u001b[0m\n\u001b[1;32m    135\u001b[0m         idxmatch = right_df.geometry.apply(lambda x: x.bounds).apply(\n\u001b[0;32m--> 136\u001b[0;31m             \u001b[0;32mlambda\u001b[0m \u001b[0mx\u001b[0m\u001b[0;34m:\u001b[0m \u001b[0mlist\u001b[0m\u001b[0;34m(\u001b[0m\u001b[0mtree_idx\u001b[0m\u001b[0;34m.\u001b[0m\u001b[0mintersection\u001b[0m\u001b[0;34m(\u001b[0m\u001b[0mx\u001b[0m\u001b[0;34m)\u001b[0m\u001b[0;34m)\u001b[0m \u001b[0;32mif\u001b[0m \u001b[0;32mnot\u001b[0m \u001b[0mx\u001b[0m \u001b[0;34m==\u001b[0m \u001b[0;34m(\u001b[0m\u001b[0;34m)\u001b[0m \u001b[0;32melse\u001b[0m \u001b[0;34m[\u001b[0m\u001b[0;34m]\u001b[0m\u001b[0;34m\u001b[0m\u001b[0;34m\u001b[0m\u001b[0m\n\u001b[0m\u001b[1;32m    137\u001b[0m         )\n\u001b[1;32m    138\u001b[0m         \u001b[0midxmatch\u001b[0m \u001b[0;34m=\u001b[0m \u001b[0midxmatch\u001b[0m\u001b[0;34m[\u001b[0m\u001b[0midxmatch\u001b[0m\u001b[0;34m.\u001b[0m\u001b[0mapply\u001b[0m\u001b[0;34m(\u001b[0m\u001b[0mlen\u001b[0m\u001b[0;34m)\u001b[0m \u001b[0;34m>\u001b[0m \u001b[0;36m0\u001b[0m\u001b[0;34m]\u001b[0m\u001b[0;34m\u001b[0m\u001b[0;34m\u001b[0m\u001b[0m\n",
            "\u001b[0;31mAttributeError\u001b[0m: 'NoneType' object has no attribute 'intersection'"
          ]
        }
      ]
    },
    {
      "cell_type": "markdown",
      "metadata": {
        "id": "cMmsq_O1_0DW",
        "colab_type": "text"
      },
      "source": [
        "We see the warning about the CRS mismatch. Let us see what is going on:"
      ]
    },
    {
      "cell_type": "code",
      "metadata": {
        "id": "53A0NEa3_0DX",
        "colab_type": "code",
        "colab": {}
      },
      "source": [
        "tracts_df.crs"
      ],
      "execution_count": 0,
      "outputs": []
    },
    {
      "cell_type": "markdown",
      "metadata": {
        "id": "lwaLHVyZ_0Db",
        "colab_type": "text"
      },
      "source": [
        "and"
      ]
    },
    {
      "cell_type": "code",
      "metadata": {
        "id": "eowbKzjj_0Dc",
        "colab_type": "code",
        "colab": {}
      },
      "source": [
        "rc_hw.crs"
      ],
      "execution_count": 0,
      "outputs": []
    },
    {
      "cell_type": "markdown",
      "metadata": {
        "id": "8wLkqCFZ_0Do",
        "colab_type": "text"
      },
      "source": [
        "So the route DataFrame does not have a CRS. We can correct this by\n",
        "setting it to that of the tracts data frame:"
      ]
    },
    {
      "cell_type": "code",
      "metadata": {
        "id": "yywmyNCH_0Dy",
        "colab_type": "code",
        "colab": {}
      },
      "source": [
        "rc_hw.crs = tracts_df.crs # create a crs for the rc_hw\n",
        "rc_hw = rc_hw.to_crs(tracts_df.crs) # update the coordinates accordingly"
      ],
      "execution_count": 0,
      "outputs": []
    },
    {
      "cell_type": "markdown",
      "metadata": {
        "id": "xKgRSpKl_0EI",
        "colab_type": "text"
      },
      "source": [
        "and when we repeat the join:"
      ]
    },
    {
      "cell_type": "code",
      "metadata": {
        "id": "Pnadr3-T_0EK",
        "colab_type": "code",
        "colab": {}
      },
      "source": [
        "# spatial join, tracts with roads\n",
        "tracts_with_roads = gpd.sjoin(tracts_df, rc_hw, how='inner', op='intersects')"
      ],
      "execution_count": 0,
      "outputs": []
    },
    {
      "cell_type": "markdown",
      "metadata": {
        "id": "tYM380dx_0EQ",
        "colab_type": "text"
      },
      "source": [
        "Silence is golden.\n",
        "\n",
        "Now we can see what our join operation has returned. We stored the\n",
        "results in a new object:"
      ]
    },
    {
      "cell_type": "code",
      "metadata": {
        "id": "WLhrCL6__0ES",
        "colab_type": "code",
        "colab": {}
      },
      "source": [
        "tracts_with_roads.head()"
      ],
      "execution_count": 0,
      "outputs": []
    },
    {
      "cell_type": "markdown",
      "metadata": {
        "id": "vIYGzGB0_0Eo",
        "colab_type": "text"
      },
      "source": [
        "If we scroll to the right of the DataFrame output, we see a column\n",
        "labeled **index~right~**. The values in this column indicate the index\n",
        "of the features in the right DataFrame (in our case the road network)\n",
        "that intersect with the feature in the current row of the left DataFrame\n",
        "(the tracts).\n",
        "\n",
        "Plotting the resulting DataFrame we see:"
      ]
    },
    {
      "cell_type": "code",
      "metadata": {
        "id": "tkTniqD8_0Es",
        "colab_type": "code",
        "colab": {}
      },
      "source": [
        "tracts_with_roads.plot(edgecolor='grey', alpha=0.2)"
      ],
      "execution_count": 0,
      "outputs": []
    },
    {
      "cell_type": "markdown",
      "metadata": {
        "id": "n8zn9rVj_0E2",
        "colab_type": "text"
      },
      "source": [
        "Close inspection reveals some missing tracts. What is going on here?"
      ]
    },
    {
      "cell_type": "code",
      "metadata": {
        "id": "ioxXU9c9_0E6",
        "colab_type": "code",
        "colab": {}
      },
      "source": [
        "tracts_with_roads.shape"
      ],
      "execution_count": 0,
      "outputs": []
    },
    {
      "cell_type": "markdown",
      "metadata": {
        "id": "rWyhCKn5_0FG",
        "colab_type": "text"
      },
      "source": [
        "We see there are 256 features in our new DataFrame resulting from the\n",
        "join. But this is less than the number of tracts in the county:"
      ]
    },
    {
      "cell_type": "code",
      "metadata": {
        "id": "-KRykezQ_0FL",
        "colab_type": "code",
        "colab": {}
      },
      "source": [
        "tracts_df.shape"
      ],
      "execution_count": 0,
      "outputs": []
    },
    {
      "cell_type": "markdown",
      "metadata": {
        "id": "WU1zkxTY_0FV",
        "colab_type": "text"
      },
      "source": [
        "So our plot is not incorrect. It is giving us what we asked for - a plot\n",
        "of the DataFrame for the tracts that intersect the truck network.\n",
        "\n",
        "A second type of join can be obtained by setting the `how` option to\n",
        "`'left'`:"
      ]
    },
    {
      "cell_type": "code",
      "metadata": {
        "id": "6RzaxM2n_0Fb",
        "colab_type": "code",
        "colab": {}
      },
      "source": [
        "# spatial join, tracts with roads\n",
        "tracts_with_roads = gpd.sjoin(tracts_df, rc_hw, how='left', op='intersects')"
      ],
      "execution_count": 0,
      "outputs": []
    },
    {
      "cell_type": "markdown",
      "metadata": {
        "id": "NwQp4hqY_0Fj",
        "colab_type": "text"
      },
      "source": [
        "This overwrites the resulting DataFrame, so the number of features\n",
        "changes:"
      ]
    },
    {
      "cell_type": "code",
      "metadata": {
        "id": "MWsgN7QS_0Fm",
        "colab_type": "code",
        "colab": {}
      },
      "source": [
        "tracts_with_roads.shape"
      ],
      "execution_count": 0,
      "outputs": []
    },
    {
      "cell_type": "markdown",
      "metadata": {
        "id": "5cGpXLD0_0Fu",
        "colab_type": "text"
      },
      "source": [
        "This is a larger number than the number of tracts. What is going on?"
      ]
    },
    {
      "cell_type": "code",
      "metadata": {
        "id": "_xNjjD7B_0Fx",
        "colab_type": "code",
        "colab": {}
      },
      "source": [
        "## 'how=left' uses keys from left_df and retains left_df geometry\n",
        "# shows all tracts with or withing intersection with network\n",
        "tracts_with_roads.plot(edgecolor='grey', alpha=0.2)"
      ],
      "execution_count": 0,
      "outputs": []
    },
    {
      "cell_type": "markdown",
      "metadata": {
        "id": "tNk9gVmP_0GM",
        "colab_type": "text"
      },
      "source": [
        "The plot doesn\\'t suggest anything fishy. More introspection:"
      ]
    },
    {
      "cell_type": "code",
      "metadata": {
        "id": "39WA2isg_0GO",
        "colab_type": "code",
        "colab": {}
      },
      "source": [
        "tracts_with_roads.head()"
      ],
      "execution_count": 0,
      "outputs": []
    },
    {
      "cell_type": "markdown",
      "metadata": {
        "id": "XoHHgmxw_0Gj",
        "colab_type": "text"
      },
      "source": [
        "Again, scrolling to the right we see the **index~right~** column, but\n",
        "now we see a mixture of `NaN` and numerical values. The `NaN` values\n",
        "appear in rows for tracts that do not intersect the road network. Hence\n",
        "there is no feature in the right DataFrame that intersects with that\n",
        "feature in the left DataFrame.\n",
        "\n",
        "But, this doesn\\'t explain why we have more features in the resulting\n",
        "DataFrame than in the left data frame. Something else must be happening.\n",
        "And it is:"
      ]
    },
    {
      "cell_type": "code",
      "metadata": {
        "id": "6KvOg12M_0Gm",
        "colab_type": "code",
        "colab": {}
      },
      "source": [
        "len(tracts_with_roads['GEOID10'].unique())"
      ],
      "execution_count": 0,
      "outputs": []
    },
    {
      "cell_type": "markdown",
      "metadata": {
        "id": "7bDwLHUu_0Gt",
        "colab_type": "text"
      },
      "source": [
        "We have the correct number of unique geographic identifiers. Using these\n",
        "we can determine how many records we have for each unique identifier\n",
        "(tract):"
      ]
    },
    {
      "cell_type": "code",
      "metadata": {
        "id": "Vfprrpn5_0Gu",
        "colab_type": "code",
        "colab": {}
      },
      "source": [
        "tracts_with_roads.groupby(['GEOID10']).size()"
      ],
      "execution_count": 0,
      "outputs": []
    },
    {
      "cell_type": "markdown",
      "metadata": {
        "id": "_PVSo1VL_0G1",
        "colab_type": "text"
      },
      "source": [
        "Ah, there are some tracts that appear multiple times in the resulting\n",
        "DataFrame. We can examine one of these using"
      ]
    },
    {
      "cell_type": "code",
      "metadata": {
        "id": "xjb5Yo-Q_0G3",
        "colab_type": "code",
        "colab": {}
      },
      "source": [
        "tracts_with_roads[tracts_with_roads['GEOID10']=='06065030502']"
      ],
      "execution_count": 0,
      "outputs": []
    },
    {
      "cell_type": "markdown",
      "metadata": {
        "id": "2ylZfjfd_0G8",
        "colab_type": "text"
      },
      "source": [
        "and scrolling over to the right of the output cell reveals that the\n",
        "tract with the GEOID10 of 06065030502 intersects with three different\n",
        "segments of the road network: 29.0, 39.0, and 3.\n",
        "\n",
        "What has happen is the \\'left\\' join keeps all of the features from the\n",
        "left database and reports either an `NaN` value, or each unique\n",
        "intersection between the tract and a particular segment of the road\n",
        "network. In other words, there will be at least as many features in the\n",
        "resulting DataFrame as in the left DataFrame. There will be more when\n",
        "one or more features from the left data frame intersects with more than\n",
        "a single feature from the right DataFrame.\n",
        "\n",
        "Thus far we have examined a \\\"inner\\\" join and a \\\"left\\\" join. The\n",
        "final option is a \\\"right\\\" join:"
      ]
    },
    {
      "cell_type": "code",
      "metadata": {
        "id": "LP4RQAWv_0G-",
        "colab_type": "code",
        "colab": {}
      },
      "source": [
        "# spatial join, tracts with roads\n",
        "tracts_with_roads = gpd.sjoin(tracts_df, rc_hw, how='right', op='intersects')"
      ],
      "execution_count": 0,
      "outputs": []
    },
    {
      "cell_type": "code",
      "metadata": {
        "id": "r01Zl3pg_0HC",
        "colab_type": "code",
        "colab": {}
      },
      "source": [
        "tracts_with_roads.shape"
      ],
      "execution_count": 0,
      "outputs": []
    },
    {
      "cell_type": "markdown",
      "metadata": {
        "id": "2tQi_xtJ_0HI",
        "colab_type": "text"
      },
      "source": [
        "There is that number again: 256. What is happening here?"
      ]
    },
    {
      "cell_type": "code",
      "metadata": {
        "id": "9JomoTXa_0HO",
        "colab_type": "code",
        "colab": {}
      },
      "source": [
        "## 'how=right' uses keys from right DataFrame and retains right df geometry\n",
        "tracts_with_roads.plot(edgecolor='grey', alpha=0.2)"
      ],
      "execution_count": 0,
      "outputs": []
    },
    {
      "cell_type": "markdown",
      "metadata": {
        "id": "xEeg38xT_0HX",
        "colab_type": "text"
      },
      "source": [
        "These are not tracts but rather the LineStirngs. What is happening is\n",
        "that a `right` join keeps each of the features from the right DataFrame\n",
        "and lists each unique intersection with a feature from the left\n",
        "DataFrame:\n",
        "\n",
        "So, if we are interested in the question of whether tracts intersecting\n",
        "the highway network are different from those not interseting the\n",
        "highways, which one do we want?\n",
        "\n",
        "There are several ways we could do this, but the approach we take here\n",
        "is to use the inner join:"
      ]
    },
    {
      "cell_type": "code",
      "metadata": {
        "id": "rKMg2xi2_0Ha",
        "colab_type": "code",
        "colab": {}
      },
      "source": [
        "tracts_with_roads = gpd.sjoin(tracts_df, rc_hw, how='inner', op='intersects')"
      ],
      "execution_count": 0,
      "outputs": []
    },
    {
      "cell_type": "code",
      "metadata": {
        "id": "S2677oMB_0Hi",
        "colab_type": "code",
        "colab": {}
      },
      "source": [
        "tracts_with_roads.shape"
      ],
      "execution_count": 0,
      "outputs": []
    },
    {
      "cell_type": "markdown",
      "metadata": {
        "id": "5c0BTQ9l_0Hq",
        "colab_type": "text"
      },
      "source": [
        "With this in hand, we can create an indicator variable for use in\n",
        "subsequent analysis. Here the indicator will be 1 if the tract\n",
        "intersects one or more route segments, and zero other wise:"
      ]
    },
    {
      "cell_type": "code",
      "metadata": {
        "id": "O0MJLxQN_0Hs",
        "colab_type": "code",
        "colab": {}
      },
      "source": [
        "# Let's create an indicator (dummy) variable for use later\n",
        "import numpy as np\n",
        "geoids = tracts_df['GEOID10'].values\n",
        "tract_hw = np.array([geoid in tracts_with_roads['GEOID10'].values for geoid in geoids])\n",
        "\n",
        "tract_hw"
      ],
      "execution_count": 0,
      "outputs": []
    },
    {
      "cell_type": "markdown",
      "metadata": {
        "id": "hi_AgV_W_0Hz",
        "colab_type": "text"
      },
      "source": [
        "We convert the Boolean valued array into a numerical type and store it\n",
        "in our indicator variable `intersectshw` in our tract DataFrame:"
      ]
    },
    {
      "cell_type": "code",
      "metadata": {
        "id": "R4sHSiep_0H1",
        "colab_type": "code",
        "colab": {}
      },
      "source": [
        "tracts_df['intersectshw'] = tract_hw*1."
      ],
      "execution_count": 0,
      "outputs": []
    },
    {
      "cell_type": "markdown",
      "metadata": {
        "id": "BRcCGBxp_0H8",
        "colab_type": "text"
      },
      "source": [
        "We can now visualize our work:"
      ]
    },
    {
      "cell_type": "code",
      "metadata": {
        "id": "egQQZ47Q_0IA",
        "colab_type": "code",
        "colab": {}
      },
      "source": [
        "tracts_df.plot()"
      ],
      "execution_count": 0,
      "outputs": []
    },
    {
      "cell_type": "markdown",
      "metadata": {
        "id": "diE1zfVH_0IH",
        "colab_type": "text"
      },
      "source": [
        "That plots the entire DataFrame. We would like to distinguish tracts\n",
        "that intersect the network from those that do not:"
      ]
    },
    {
      "cell_type": "code",
      "metadata": {
        "id": "IzhFMwVT_0II",
        "colab_type": "code",
        "colab": {}
      },
      "source": [
        "tracts_df.plot(column='intersectshw')"
      ],
      "execution_count": 0,
      "outputs": []
    },
    {
      "cell_type": "markdown",
      "metadata": {
        "id": "__UPAdcQ_0IP",
        "colab_type": "text"
      },
      "source": [
        "Great, but which color represents the tract intersecting the network? We\n",
        "can tighten up this visualization:"
      ]
    },
    {
      "cell_type": "code",
      "metadata": {
        "id": "ZH28xj70_0IR",
        "colab_type": "code",
        "colab": {}
      },
      "source": [
        "plt.rcParams['figure.figsize'] = (12, 10)\n",
        "ax = plt.gca()\n",
        "tracts_df.plot(ax=ax, column='intersectshw',edgecolor='grey', alpha=0.2)\n",
        "rc_hw.plot(ax=ax, edgecolor='k')\n",
        "ax.set_xlim(-118.0, -114.0); ax.set_ylim(33.25, 34.25)\n",
        "ax.set_aspect('equal')\n",
        "plt.show()"
      ],
      "execution_count": 0,
      "outputs": []
    },
    {
      "cell_type": "markdown",
      "metadata": {
        "id": "l04ARp4A_0IW",
        "colab_type": "text"
      },
      "source": [
        "And we see the results of our geoprocessing.\n",
        "\n",
        "We can save our DataFrame by writing it out to a shapefile for future\n",
        "analysis."
      ]
    },
    {
      "cell_type": "code",
      "metadata": {
        "id": "Bx58SYwb_0IX",
        "colab_type": "code",
        "colab": {}
      },
      "source": [
        "# save our work to an augmented shapefile\n",
        "tracts_df.to_file('data/tracts_routes.shp')"
      ],
      "execution_count": 0,
      "outputs": []
    },
    {
      "cell_type": "markdown",
      "metadata": {
        "id": "DuIS8yFU_0Ib",
        "colab_type": "text"
      },
      "source": [
        "Spatial Joins: Take Two\n",
        "=======================\n",
        "\n",
        "Our social scientist is pretty happy with what she has been able to\n",
        "accomplish with Geopandas and its geoprocessing.\n",
        "\n",
        "Taking advantage of these new skills, she wants to further refine the\n",
        "scope of her analysis as she realizes much of the eastern part of the\n",
        "county consists of very large census tracts with low population. So she\n",
        "decides to focus only on the case of the City of Riverside.\n",
        "\n",
        "She has obtained a shapefile for the official city boundaries from the\n",
        "[California Department of\n",
        "Transportation](http://www.dot.ca.gov/hq/tsip/gis/datalibrary/zip/Boundaries/Cities2015.zip):"
      ]
    },
    {
      "cell_type": "code",
      "metadata": {
        "id": "G-u8FCaH_0Ie",
        "colab_type": "code",
        "colab": {
          "base_uri": "https://localhost:8080/",
          "height": 466
        },
        "outputId": "58e458b5-f78d-4958-ae32-cb7d3c4390f0"
      },
      "source": [
        "city = gpd.read_file('pysalnarsc19/content/data/riverside_city.shp')\n",
        "\n",
        "city.plot()"
      ],
      "execution_count": 36,
      "outputs": [
        {
          "output_type": "execute_result",
          "data": {
            "text/plain": [
              "<matplotlib.axes._subplots.AxesSubplot at 0x7f414b435e10>"
            ]
          },
          "metadata": {
            "tags": []
          },
          "execution_count": 36
        },
        {
          "output_type": "display_data",
          "data": {
            "image/png": "[encoded data removed]",
            "text/plain": [
              "<Figure size 864x720 with 1 Axes>"
            ]
          },
          "metadata": {
            "tags": []
          }
        }
      ]
    },
    {
      "cell_type": "markdown",
      "metadata": {
        "id": "_quirly3_0Ik",
        "colab_type": "text"
      },
      "source": [
        "And she uses this to do a spatial join to determine which tracts in\n",
        "Riverside County are within Riverside City:"
      ]
    },
    {
      "cell_type": "code",
      "metadata": {
        "id": "WSAi7bMM_0Im",
        "colab_type": "code",
        "colab": {
          "base_uri": "https://localhost:8080/",
          "height": 375
        },
        "outputId": "d1cfb978-1548-4abb-8d51-a1383962fad0"
      },
      "source": [
        "city_tracts = gpd.sjoin(tracts_df, city, how='inner', op='intersects')\n",
        "\n",
        "city_tracts.head()"
      ],
      "execution_count": 37,
      "outputs": [
        {
          "output_type": "error",
          "ename": "AttributeError",
          "evalue": "ignored",
          "traceback": [
            "\u001b[0;31m---------------------------------------------------------------------------\u001b[0m",
            "\u001b[0;31mAttributeError\u001b[0m                            Traceback (most recent call last)",
            "\u001b[0;32m<ipython-input-37-cb9625243109>\u001b[0m in \u001b[0;36m<module>\u001b[0;34m()\u001b[0m\n\u001b[0;32m----> 1\u001b[0;31m \u001b[0mcity_tracts\u001b[0m \u001b[0;34m=\u001b[0m \u001b[0mgpd\u001b[0m\u001b[0;34m.\u001b[0m\u001b[0msjoin\u001b[0m\u001b[0;34m(\u001b[0m\u001b[0mtracts_df\u001b[0m\u001b[0;34m,\u001b[0m \u001b[0mcity\u001b[0m\u001b[0;34m,\u001b[0m \u001b[0mhow\u001b[0m\u001b[0;34m=\u001b[0m\u001b[0;34m'inner'\u001b[0m\u001b[0;34m,\u001b[0m \u001b[0mop\u001b[0m\u001b[0;34m=\u001b[0m\u001b[0;34m'intersects'\u001b[0m\u001b[0;34m)\u001b[0m\u001b[0;34m\u001b[0m\u001b[0;34m\u001b[0m\u001b[0m\n\u001b[0m\u001b[1;32m      2\u001b[0m \u001b[0;34m\u001b[0m\u001b[0m\n\u001b[1;32m      3\u001b[0m \u001b[0mcity_tracts\u001b[0m\u001b[0;34m.\u001b[0m\u001b[0mhead\u001b[0m\u001b[0;34m(\u001b[0m\u001b[0;34m)\u001b[0m\u001b[0;34m\u001b[0m\u001b[0;34m\u001b[0m\u001b[0m\n",
            "\u001b[0;32m/usr/local/lib/python3.6/dist-packages/geopandas/tools/sjoin.py\u001b[0m in \u001b[0;36msjoin\u001b[0;34m(left_df, right_df, how, op, lsuffix, rsuffix)\u001b[0m\n\u001b[1;32m    134\u001b[0m         \u001b[0;31m# tree_idx_df == 'left'\u001b[0m\u001b[0;34m\u001b[0m\u001b[0;34m\u001b[0m\u001b[0;34m\u001b[0m\u001b[0m\n\u001b[1;32m    135\u001b[0m         idxmatch = right_df.geometry.apply(lambda x: x.bounds).apply(\n\u001b[0;32m--> 136\u001b[0;31m             \u001b[0;32mlambda\u001b[0m \u001b[0mx\u001b[0m\u001b[0;34m:\u001b[0m \u001b[0mlist\u001b[0m\u001b[0;34m(\u001b[0m\u001b[0mtree_idx\u001b[0m\u001b[0;34m.\u001b[0m\u001b[0mintersection\u001b[0m\u001b[0;34m(\u001b[0m\u001b[0mx\u001b[0m\u001b[0;34m)\u001b[0m\u001b[0;34m)\u001b[0m \u001b[0;32mif\u001b[0m \u001b[0;32mnot\u001b[0m \u001b[0mx\u001b[0m \u001b[0;34m==\u001b[0m \u001b[0;34m(\u001b[0m\u001b[0;34m)\u001b[0m \u001b[0;32melse\u001b[0m \u001b[0;34m[\u001b[0m\u001b[0;34m]\u001b[0m\u001b[0;34m\u001b[0m\u001b[0;34m\u001b[0m\u001b[0m\n\u001b[0m\u001b[1;32m    137\u001b[0m         )\n\u001b[1;32m    138\u001b[0m         \u001b[0midxmatch\u001b[0m \u001b[0;34m=\u001b[0m \u001b[0midxmatch\u001b[0m\u001b[0;34m[\u001b[0m\u001b[0midxmatch\u001b[0m\u001b[0;34m.\u001b[0m\u001b[0mapply\u001b[0m\u001b[0;34m(\u001b[0m\u001b[0mlen\u001b[0m\u001b[0;34m)\u001b[0m \u001b[0;34m>\u001b[0m \u001b[0;36m0\u001b[0m\u001b[0;34m]\u001b[0m\u001b[0;34m\u001b[0m\u001b[0;34m\u001b[0m\u001b[0m\n",
            "\u001b[0;32m/usr/local/lib/python3.6/dist-packages/pandas/core/series.py\u001b[0m in \u001b[0;36mapply\u001b[0;34m(self, func, convert_dtype, args, **kwds)\u001b[0m\n\u001b[1;32m   4043\u001b[0m             \u001b[0;32melse\u001b[0m\u001b[0;34m:\u001b[0m\u001b[0;34m\u001b[0m\u001b[0;34m\u001b[0m\u001b[0m\n\u001b[1;32m   4044\u001b[0m                 \u001b[0mvalues\u001b[0m \u001b[0;34m=\u001b[0m \u001b[0mself\u001b[0m\u001b[0;34m.\u001b[0m\u001b[0mastype\u001b[0m\u001b[0;34m(\u001b[0m\u001b[0mobject\u001b[0m\u001b[0;34m)\u001b[0m\u001b[0;34m.\u001b[0m\u001b[0mvalues\u001b[0m\u001b[0;34m\u001b[0m\u001b[0;34m\u001b[0m\u001b[0m\n\u001b[0;32m-> 4045\u001b[0;31m                 \u001b[0mmapped\u001b[0m \u001b[0;34m=\u001b[0m \u001b[0mlib\u001b[0m\u001b[0;34m.\u001b[0m\u001b[0mmap_infer\u001b[0m\u001b[0;34m(\u001b[0m\u001b[0mvalues\u001b[0m\u001b[0;34m,\u001b[0m \u001b[0mf\u001b[0m\u001b[0;34m,\u001b[0m \u001b[0mconvert\u001b[0m\u001b[0;34m=\u001b[0m\u001b[0mconvert_dtype\u001b[0m\u001b[0;34m)\u001b[0m\u001b[0;34m\u001b[0m\u001b[0;34m\u001b[0m\u001b[0m\n\u001b[0m\u001b[1;32m   4046\u001b[0m \u001b[0;34m\u001b[0m\u001b[0m\n\u001b[1;32m   4047\u001b[0m         \u001b[0;32mif\u001b[0m \u001b[0mlen\u001b[0m\u001b[0;34m(\u001b[0m\u001b[0mmapped\u001b[0m\u001b[0;34m)\u001b[0m \u001b[0;32mand\u001b[0m \u001b[0misinstance\u001b[0m\u001b[0;34m(\u001b[0m\u001b[0mmapped\u001b[0m\u001b[0;34m[\u001b[0m\u001b[0;36m0\u001b[0m\u001b[0;34m]\u001b[0m\u001b[0;34m,\u001b[0m \u001b[0mSeries\u001b[0m\u001b[0;34m)\u001b[0m\u001b[0;34m:\u001b[0m\u001b[0;34m\u001b[0m\u001b[0;34m\u001b[0m\u001b[0m\n",
            "\u001b[0;32mpandas/_libs/lib.pyx\u001b[0m in \u001b[0;36mpandas._libs.lib.map_infer\u001b[0;34m()\u001b[0m\n",
            "\u001b[0;32m/usr/local/lib/python3.6/dist-packages/geopandas/tools/sjoin.py\u001b[0m in \u001b[0;36m<lambda>\u001b[0;34m(x)\u001b[0m\n\u001b[1;32m    134\u001b[0m         \u001b[0;31m# tree_idx_df == 'left'\u001b[0m\u001b[0;34m\u001b[0m\u001b[0;34m\u001b[0m\u001b[0;34m\u001b[0m\u001b[0m\n\u001b[1;32m    135\u001b[0m         idxmatch = right_df.geometry.apply(lambda x: x.bounds).apply(\n\u001b[0;32m--> 136\u001b[0;31m             \u001b[0;32mlambda\u001b[0m \u001b[0mx\u001b[0m\u001b[0;34m:\u001b[0m \u001b[0mlist\u001b[0m\u001b[0;34m(\u001b[0m\u001b[0mtree_idx\u001b[0m\u001b[0;34m.\u001b[0m\u001b[0mintersection\u001b[0m\u001b[0;34m(\u001b[0m\u001b[0mx\u001b[0m\u001b[0;34m)\u001b[0m\u001b[0;34m)\u001b[0m \u001b[0;32mif\u001b[0m \u001b[0;32mnot\u001b[0m \u001b[0mx\u001b[0m \u001b[0;34m==\u001b[0m \u001b[0;34m(\u001b[0m\u001b[0;34m)\u001b[0m \u001b[0;32melse\u001b[0m \u001b[0;34m[\u001b[0m\u001b[0;34m]\u001b[0m\u001b[0;34m\u001b[0m\u001b[0;34m\u001b[0m\u001b[0m\n\u001b[0m\u001b[1;32m    137\u001b[0m         )\n\u001b[1;32m    138\u001b[0m         \u001b[0midxmatch\u001b[0m \u001b[0;34m=\u001b[0m \u001b[0midxmatch\u001b[0m\u001b[0;34m[\u001b[0m\u001b[0midxmatch\u001b[0m\u001b[0;34m.\u001b[0m\u001b[0mapply\u001b[0m\u001b[0;34m(\u001b[0m\u001b[0mlen\u001b[0m\u001b[0;34m)\u001b[0m \u001b[0;34m>\u001b[0m \u001b[0;36m0\u001b[0m\u001b[0;34m]\u001b[0m\u001b[0;34m\u001b[0m\u001b[0;34m\u001b[0m\u001b[0m\n",
            "\u001b[0;31mAttributeError\u001b[0m: 'NoneType' object has no attribute 'intersection'"
          ]
        }
      ]
    },
    {
      "cell_type": "code",
      "metadata": {
        "id": "mWwLZRLJ_0Ir",
        "colab_type": "code",
        "colab": {}
      },
      "source": [
        "city_tracts.shape"
      ],
      "execution_count": 0,
      "outputs": []
    },
    {
      "cell_type": "code",
      "metadata": {
        "id": "RpvLq61j_0Iw",
        "colab_type": "code",
        "colab": {}
      },
      "source": [
        "city_tracts.plot(edgecolor='grey',facecolor='white')"
      ],
      "execution_count": 0,
      "outputs": []
    },
    {
      "cell_type": "markdown",
      "metadata": {
        "id": "W74ELb_9_0I2",
        "colab_type": "text"
      },
      "source": [
        "Recall that previously we created the indicator variable `intersectshw`\n",
        "for all the tracts in Riverside County that intersected with the road\n",
        "network. One of the nice features of GeoPandas is that for many of the\n",
        "geoprocessing operations, the attributes are passed along to the derived\n",
        "GeoDataFrames. In our case, `city_tracts` is really just a subset of\n",
        "`tracts_df` so since the latter was the DataFrame that we originally\n",
        "defined the `intersectshw` variable, that attribute gets propagated\n",
        "along to the derived `city_tract` GeoDataFrame."
      ]
    },
    {
      "cell_type": "code",
      "metadata": {
        "id": "Zyrxyyic_0I5",
        "colab_type": "code",
        "colab": {}
      },
      "source": [
        "city_tracts.plot(column='intersectshw', edgecolor='grey')"
      ],
      "execution_count": 0,
      "outputs": []
    },
    {
      "cell_type": "code",
      "metadata": {
        "id": "1LzJ2qng_0JC",
        "colab_type": "code",
        "colab": {}
      },
      "source": [
        "city_tracts.head()"
      ],
      "execution_count": 0,
      "outputs": []
    },
    {
      "cell_type": "code",
      "metadata": {
        "id": "MgMmqQ4V_0JN",
        "colab_type": "code",
        "colab": {}
      },
      "source": [
        "plt.rcParams['figure.figsize'] = (12, 10)\n",
        "ax = plt.gca()\n",
        "city_tracts.plot(ax=ax, column='intersectshw',edgecolor='grey', alpha=0.2)\n",
        "rc_hw.plot(ax=ax, edgecolor='k')\n",
        "ax.set_xlim(-118.0, -114.0); ax.set_ylim(33.25, 34.25)\n",
        "ax.set_aspect('equal')\n",
        "plt.show()"
      ],
      "execution_count": 0,
      "outputs": []
    },
    {
      "cell_type": "markdown",
      "metadata": {
        "id": "EgribBEe_0JU",
        "colab_type": "text"
      },
      "source": [
        "Using the `total_bounds` of the new DataFrame we can zoom in to the\n",
        "western part of Riverside County that is centered on the City of\n",
        "Riverside:"
      ]
    },
    {
      "cell_type": "code",
      "metadata": {
        "id": "AANTMI2n_0JV",
        "colab_type": "code",
        "colab": {}
      },
      "source": [
        "w, s, e, n = city_tracts.total_bounds\n",
        "w, s, e, n"
      ],
      "execution_count": 0,
      "outputs": []
    },
    {
      "cell_type": "code",
      "metadata": {
        "id": "5NoR-9BU_0Ja",
        "colab_type": "code",
        "colab": {}
      },
      "source": [
        "plt.rcParams['figure.figsize'] = (12, 10)\n",
        "ax = plt.gca()\n",
        "city_tracts.plot(ax=ax, column='intersectshw',edgecolor='grey', alpha=0.2)\n",
        "rc_hw.plot(ax=ax, edgecolor='k')\n",
        "ax.set_xlim(w, e); ax.set_ylim(s, n)\n",
        "#ax.set_aspect('equal')\n",
        "plt.show()"
      ],
      "execution_count": 0,
      "outputs": []
    },
    {
      "cell_type": "markdown",
      "metadata": {
        "id": "JCkEulCr_0Je",
        "colab_type": "text"
      },
      "source": [
        "Buffering\n",
        "=========\n",
        "\n",
        "Our researcher has identified the tracts that intersect the truck route\n",
        "network and has sharpened the lens to the City of Riverside. However,\n",
        "zooming in further she sees a geographical relationship that gives her\n",
        "pause:"
      ]
    },
    {
      "cell_type": "code",
      "metadata": {
        "id": "lg8ND8jv_0Jg",
        "colab_type": "code",
        "colab": {}
      },
      "source": [
        "plt.rcParams['figure.figsize'] = (12, 10)\n",
        "ax = plt.gca()\n",
        "city_tracts.plot(ax=ax, column='intersectshw',edgecolor='grey', alpha=0.2)\n",
        "rc_hw.plot(ax=ax, edgecolor='k')\n",
        "ax.set_xlim(-117.53, -117.37); ax.set_ylim(33.875, 33.975)\n",
        "#ax.set_aspect('equal')\n",
        "plt.show()"
      ],
      "execution_count": 0,
      "outputs": []
    },
    {
      "cell_type": "markdown",
      "metadata": {
        "id": "zjXDe3bf_0Jl",
        "colab_type": "text"
      },
      "source": [
        "It seems to her that there are cases where a segment of the road network\n",
        "separates two tracts, yet only one of those tracts is identified as\n",
        "intersecting the network. While tracts are typically defined using\n",
        "blocks and street center lines she would expect the tracts that share a\n",
        "road segment as a common part of their respective borders should both be\n",
        "considered intersecting the network. For her environmental equity\n",
        "analysis she thinks that individuals that are equidistant from the\n",
        "network, but on opposite sides of the highway, should face the same\n",
        "level of exposure. Yet, the variable she has painstakingly constructed\n",
        "thus far would give an asymmetric exposure measure to these individuals.\n",
        "\n",
        "There are several reasons these apparent inconsistencies can arise.\n",
        "First, the origin of the tract boundaries is different from that of the\n",
        "route network so there is no guarantee that the same digitization\n",
        "process was used. Second, even if the same agency/researcher did the\n",
        "digitization of the two layers, if they do not follow good practice, the\n",
        "topological relationships may be in error. In either case, the two\n",
        "layers may be yield these kinds of inconsistencies when considered\n",
        "together.\n",
        "\n",
        "Fortunately, our researcher knows about the concept of **buffering** and\n",
        "can call on this to develop a more robust representation of proximity to\n",
        "the highway. The idea is to define a critical distance, say 500 feet,\n",
        "and then define a new polygon that contains all of the points that are\n",
        "within 500 feed of the route network. The resulting polygon is called a\n",
        "**buffer**.\n",
        "\n",
        "Once we have the 500-ft buffer, we can then repeat our intersection test\n",
        "for the tracts to see which tracts are within 500 feet of the route\n",
        "network. This would address the asymmetry problem our researcher has\n",
        "identified.\n",
        "\n",
        "One issue we face, however, is that the tract CRS is unprojected:"
      ]
    },
    {
      "cell_type": "code",
      "metadata": {
        "id": "OIGS7z_j_0Jo",
        "colab_type": "code",
        "colab": {}
      },
      "source": [
        "tracts_df.crs"
      ],
      "execution_count": 0,
      "outputs": []
    },
    {
      "cell_type": "markdown",
      "metadata": {
        "id": "7d2YrjuH_0Ju",
        "colab_type": "text"
      },
      "source": [
        "In other words, if we ignore the CRS, our distances are going to be in\n",
        "decimal degrees and not feet. So we need to put the tracts on a CRS with\n",
        "more appropriate units. Fortunately, our behavioral clinics data set has\n",
        "just such a CRS:"
      ]
    },
    {
      "cell_type": "code",
      "metadata": {
        "id": "izpHmhQJ_0Jv",
        "colab_type": "code",
        "colab": {}
      },
      "source": [
        "clinics = gpd.read_file('data/behavioralHealth.shp')"
      ],
      "execution_count": 0,
      "outputs": []
    },
    {
      "cell_type": "code",
      "metadata": {
        "id": "auepYFio_0J2",
        "colab_type": "code",
        "colab": {}
      },
      "source": [
        "clinics.crs"
      ],
      "execution_count": 0,
      "outputs": []
    },
    {
      "cell_type": "markdown",
      "metadata": {
        "id": "wXGsRkxp_0J7",
        "colab_type": "text"
      },
      "source": [
        "And, we can change the CRS of the city~tracts~ to that of the clinics:"
      ]
    },
    {
      "cell_type": "code",
      "metadata": {
        "id": "tUJ429YU_0J9",
        "colab_type": "code",
        "colab": {}
      },
      "source": [
        "city_tracts = city_tracts.to_crs(clinics.crs)"
      ],
      "execution_count": 0,
      "outputs": []
    },
    {
      "cell_type": "code",
      "metadata": {
        "id": "e50mzO5x_0KJ",
        "colab_type": "code",
        "colab": {}
      },
      "source": [
        "city_tracts.plot()"
      ],
      "execution_count": 0,
      "outputs": []
    },
    {
      "cell_type": "markdown",
      "metadata": {
        "id": "dE2Kxw5-_0KO",
        "colab_type": "text"
      },
      "source": [
        "Notice that the units on the axes have changed from what we had above.\n",
        "\n",
        "Since we will be doing a buffer around the segments of the highway in\n",
        "the county as well"
      ]
    },
    {
      "cell_type": "code",
      "metadata": {
        "id": "SKtOK8Ya_0KP",
        "colab_type": "code",
        "colab": {}
      },
      "source": [
        "rc_hw.plot()"
      ],
      "execution_count": 0,
      "outputs": []
    },
    {
      "cell_type": "code",
      "metadata": {
        "id": "WQutcHFo_0KW",
        "colab_type": "code",
        "colab": {}
      },
      "source": [
        "type(rc_hw)"
      ],
      "execution_count": 0,
      "outputs": []
    },
    {
      "cell_type": "code",
      "metadata": {
        "id": "Ui0x9VBm_0Ke",
        "colab_type": "code",
        "colab": {}
      },
      "source": [
        "rc_hw = rc_hw.to_crs(city_tracts.crs)"
      ],
      "execution_count": 0,
      "outputs": []
    },
    {
      "cell_type": "code",
      "metadata": {
        "id": "jPD__eCf_0Kl",
        "colab_type": "code",
        "colab": {}
      },
      "source": [
        "rc_hw.plot()"
      ],
      "execution_count": 0,
      "outputs": []
    },
    {
      "cell_type": "markdown",
      "metadata": {
        "id": "rg0CXedh_0Ks",
        "colab_type": "text"
      },
      "source": [
        "Now we can define the buffer. If we"
      ]
    },
    {
      "cell_type": "code",
      "metadata": {
        "id": "0pFWULPK_0Ku",
        "colab_type": "code",
        "colab": {}
      },
      "source": [
        "buf = rc_hw.buffer(500)"
      ],
      "execution_count": 0,
      "outputs": []
    },
    {
      "cell_type": "code",
      "metadata": {
        "id": "48y9UwmE_0K0",
        "colab_type": "code",
        "colab": {}
      },
      "source": [
        "buf.plot()"
      ],
      "execution_count": 0,
      "outputs": []
    },
    {
      "cell_type": "code",
      "metadata": {
        "id": "6KYNbvqn_0K5",
        "colab_type": "code",
        "colab": {}
      },
      "source": [
        "rc_hw.columns"
      ],
      "execution_count": 0,
      "outputs": []
    },
    {
      "cell_type": "markdown",
      "metadata": {
        "id": "_wFmgEr2_0K9",
        "colab_type": "text"
      },
      "source": [
        "Cool. That gives us a buffer but for the network in the entire county.\n",
        "What about just in the city?"
      ]
    },
    {
      "cell_type": "code",
      "metadata": {
        "id": "Ime4nJVY_0K-",
        "colab_type": "code",
        "colab": {}
      },
      "source": [
        "city_tracts.columns"
      ],
      "execution_count": 0,
      "outputs": []
    },
    {
      "cell_type": "markdown",
      "metadata": {
        "id": "0H2pCLys_0LD",
        "colab_type": "text"
      },
      "source": [
        "Now if we just want the segments in the city boundaries, we know a\n",
        "spatial join can get us these:"
      ]
    },
    {
      "cell_type": "code",
      "metadata": {
        "id": "h4uEH_0y_0LF",
        "colab_type": "code",
        "colab": {}
      },
      "source": [
        "city_hw = gpd.sjoin(routes_df, city, how='inner', op ='intersects')"
      ],
      "execution_count": 0,
      "outputs": []
    },
    {
      "cell_type": "code",
      "metadata": {
        "id": "lyWZ5n_R_0LK",
        "colab_type": "code",
        "colab": {}
      },
      "source": [
        "city_hw.plot()"
      ],
      "execution_count": 0,
      "outputs": []
    },
    {
      "cell_type": "markdown",
      "metadata": {
        "id": "WaKauUr2_0LP",
        "colab_type": "text"
      },
      "source": [
        "and, we take care to set its CRS accordingly:"
      ]
    },
    {
      "cell_type": "code",
      "metadata": {
        "id": "pGNaUzkk_0LR",
        "colab_type": "code",
        "colab": {}
      },
      "source": [
        "city_hw = city_hw.to_crs(city_tracts.crs)"
      ],
      "execution_count": 0,
      "outputs": []
    },
    {
      "cell_type": "code",
      "metadata": {
        "id": "t-U8aoqW_0Lg",
        "colab_type": "code",
        "colab": {}
      },
      "source": [
        "city_hw.plot()"
      ],
      "execution_count": 0,
      "outputs": []
    },
    {
      "cell_type": "markdown",
      "metadata": {
        "id": "FdjIdcWO_0Lw",
        "colab_type": "text"
      },
      "source": [
        "And, we can buffer these segments:"
      ]
    },
    {
      "cell_type": "code",
      "metadata": {
        "id": "aQHX8gj5_0Ly",
        "colab_type": "code",
        "colab": {}
      },
      "source": [
        "b500 = city_hw.buffer(500)"
      ],
      "execution_count": 0,
      "outputs": []
    },
    {
      "cell_type": "code",
      "metadata": {
        "id": "7onTPUm__0L6",
        "colab_type": "code",
        "colab": {}
      },
      "source": [
        "b500.plot()"
      ],
      "execution_count": 0,
      "outputs": []
    },
    {
      "cell_type": "code",
      "metadata": {
        "id": "wrxwJp5q_0MO",
        "colab_type": "code",
        "colab": {}
      },
      "source": [
        "ct = city_tracts[['GEOID10', 'geometry']]\n",
        "b500 = gpd.GeoDataFrame({'geometry': b500})\n",
        "b500.crs = ct.crs"
      ],
      "execution_count": 0,
      "outputs": []
    },
    {
      "cell_type": "markdown",
      "metadata": {
        "id": "ZjVepIhp_0MV",
        "colab_type": "text"
      },
      "source": [
        "Now we can ask to find the tracts in Riverside City that intersect with\n",
        "the 500-ft buffer around the highways:"
      ]
    },
    {
      "cell_type": "code",
      "metadata": {
        "id": "CSd8n_jH_0MX",
        "colab_type": "code",
        "colab": {}
      },
      "source": [
        "tracts_intersecting_hw = gpd.sjoin(ct, b500, how='inner', op='intersects')"
      ],
      "execution_count": 0,
      "outputs": []
    },
    {
      "cell_type": "code",
      "metadata": {
        "id": "dG05fdFe_0Me",
        "colab_type": "code",
        "colab": {}
      },
      "source": [
        "tracts_intersecting_hw.plot()"
      ],
      "execution_count": 0,
      "outputs": []
    },
    {
      "cell_type": "markdown",
      "metadata": {
        "id": "kzgo2Eum_0Ms",
        "colab_type": "text"
      },
      "source": [
        "This creates a new DataFrame with only those tracts for which the hit\n",
        "test (buffer intersection) is True:"
      ]
    },
    {
      "cell_type": "code",
      "metadata": {
        "id": "3E9yuC2k_0Mu",
        "colab_type": "code",
        "colab": {}
      },
      "source": [
        "tracts_intersecting_hw.shape"
      ],
      "execution_count": 0,
      "outputs": []
    },
    {
      "cell_type": "markdown",
      "metadata": {
        "id": "nKvqJWP8_0M0",
        "colab_type": "text"
      },
      "source": [
        "Now can create a dummy variable for these tracts to place back in the\n",
        "DataFrame that contains all the city tracts:"
      ]
    },
    {
      "cell_type": "code",
      "metadata": {
        "id": "trT0UlOR_0M2",
        "colab_type": "code",
        "colab": {}
      },
      "source": [
        "geoids = city_tracts['GEOID10'].values\n",
        "tract_hw = np.array([geoid in tracts_intersecting_hw['GEOID10'].values for geoid in geoids])\n",
        "tract_hw"
      ],
      "execution_count": 0,
      "outputs": []
    },
    {
      "cell_type": "code",
      "metadata": {
        "id": "Buu985mk_0M7",
        "colab_type": "code",
        "colab": {}
      },
      "source": [
        "city_tracts['b500'] = tract_hw * 1"
      ],
      "execution_count": 0,
      "outputs": []
    },
    {
      "cell_type": "code",
      "metadata": {
        "id": "R64_PDc1_0NB",
        "colab_type": "code",
        "colab": {}
      },
      "source": [
        "city_tracts.plot()"
      ],
      "execution_count": 0,
      "outputs": []
    },
    {
      "cell_type": "markdown",
      "metadata": {
        "id": "LCVeuvZp_0NI",
        "colab_type": "text"
      },
      "source": [
        "Comparing our two different operational constructs for environmental\n",
        "equity we have:"
      ]
    },
    {
      "cell_type": "code",
      "metadata": {
        "id": "oUmEJ9Ay_0NO",
        "colab_type": "code",
        "colab": {}
      },
      "source": [
        "city_tracts.plot(column='b500',edgecolor='grey')"
      ],
      "execution_count": 0,
      "outputs": []
    },
    {
      "cell_type": "code",
      "metadata": {
        "id": "PhsVqvN__0NV",
        "colab_type": "code",
        "colab": {}
      },
      "source": [
        "w, s, e, n = city_tracts.total_bounds\n",
        "plt.rcParams['figure.figsize'] = (12, 10)\n",
        "ax = plt.gca()\n",
        "city_tracts.plot(ax=ax, column='intersectshw',edgecolor='grey', alpha=0.2)\n",
        "b500.plot(ax=ax, edgecolor='k')\n",
        "ax.set_xlim(w, e); ax.set_ylim(s, n)\n",
        "#ax.set_aspect('equal')\n",
        "plt.show()"
      ],
      "execution_count": 0,
      "outputs": []
    },
    {
      "cell_type": "code",
      "metadata": {
        "id": "Qk8HBZK0_0Ng",
        "colab_type": "code",
        "colab": {}
      },
      "source": [
        "w, s, e, n = city_tracts.total_bounds\n",
        "plt.rcParams['figure.figsize'] = (12, 10)\n",
        "ax = plt.gca()\n",
        "city_tracts.plot(ax=ax, column='b500',edgecolor='grey', alpha=0.2)\n",
        "b500.plot(ax=ax, edgecolor='k')\n",
        "ax.set_xlim(w, e); ax.set_ylim(s, n)\n",
        "#ax.set_aspect('equal')\n",
        "plt.show()"
      ],
      "execution_count": 0,
      "outputs": []
    },
    {
      "cell_type": "markdown",
      "metadata": {
        "id": "vrKHiF4y_0Nk",
        "colab_type": "text"
      },
      "source": [
        "And we save our tracts and buffer to their own shapefiles for the next\n",
        "phase of our analysis."
      ]
    },
    {
      "cell_type": "code",
      "metadata": {
        "id": "qjGZIQ4Q_0Nl",
        "colab_type": "code",
        "colab": {}
      },
      "source": [
        "city_tracts.to_file('data/city_tracts.shp')\n",
        "b500.to_file('data/b500.shp')"
      ],
      "execution_count": 0,
      "outputs": []
    },
    {
      "cell_type": "markdown",
      "metadata": {
        "id": "12EGCW9Q_0Nr",
        "colab_type": "text"
      },
      "source": [
        "---\n",
        "\n",
        "<a rel=\"license\" href=\"http://creativecommons.org/licenses/by-nc-\n",
        "sa/4.0/\"><img alt=\"Creative Commons License\" style=\"border-width:0\"\n",
        "src=\"https://i.creativecommons.org/l/by-nc-sa/4.0/88x31.png\" /></a><br /><span\n",
        "xmlns:dct=\"http://purl.org/dc/terms/\" property=\"dct:title\">Geoprocessing with GeoPandas</span> by <a xmlns:cc=\"http://creativecommons.org/ns#\"\n",
        "href=\"http://sergerey.org\" property=\"cc:attributionName\"\n",
        "rel=\"cc:attributionURL\">Serge Rey</a> is licensed under a <a\n",
        "rel=\"license\" href=\"http://creativecommons.org/licenses/by-nc-sa/4.0/\">Creative\n",
        "Commons Attribution-NonCommercial-ShareAlike 4.0 International License</a>."
      ]
    }
  ]
}