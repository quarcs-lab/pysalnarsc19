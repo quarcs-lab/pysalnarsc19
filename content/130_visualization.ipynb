{
  "nbformat": 4,
  "nbformat_minor": 0,
  "metadata": {
    "jupytext": {
      "formats": "ipynb,md"
    },
    "kernelspec": {
      "display_name": "Python 3",
      "language": "python",
      "name": "python3"
    },
    "language_info": {
      "codemirror_mode": {
        "name": "ipython",
        "version": 3
      },
      "file_extension": ".py",
      "mimetype": "text/x-python",
      "name": "python",
      "nbconvert_exporter": "python",
      "pygments_lexer": "ipython3",
      "version": "3.6.7"
    },
    "colab": {
      "name": "130_visualization.ipynb",
      "provenance": [],
      "toc_visible": true,
      "include_colab_link": true
    }
  },
  "cells": [
    {
      "cell_type": "markdown",
      "metadata": {
        "id": "view-in-github",
        "colab_type": "text"
      },
      "source": [
        "<a href=\"https://colab.research.google.com/github/quarcs-lab/pysalnarsc19/blob/master/content/130_visualization.ipynb\" target=\"_parent\"><img src=\"https://colab.research.google.com/assets/colab-badge.svg\" alt=\"Open In Colab\"/></a>"
      ]
    },
    {
      "cell_type": "markdown",
      "metadata": {
        "id": "9rDEreyNn5aW",
        "colab_type": "text"
      },
      "source": [
        "# Visualisation"
      ]
    },
    {
      "cell_type": "markdown",
      "metadata": {
        "id": "NWXJae6OujvN",
        "colab_type": "text"
      },
      "source": [
        "## Install external libraries"
      ]
    },
    {
      "cell_type": "code",
      "metadata": {
        "id": "mMqi_v_toYMF",
        "colab_type": "code",
        "colab": {}
      },
      "source": [
        "!pip install -q geopandas\n",
        "!pip install -q seaborn"
      ],
      "execution_count": 0,
      "outputs": []
    },
    {
      "cell_type": "markdown",
      "metadata": {
        "id": "ENUAqJcJu1vT",
        "colab_type": "text"
      },
      "source": [
        "## Load libraries"
      ]
    },
    {
      "cell_type": "code",
      "metadata": {
        "id": "B7XndyArn5aa",
        "colab_type": "code",
        "colab": {}
      },
      "source": [
        "import geopandas\n",
        "import seaborn\n",
        "import matplotlib.pyplot as plt\n",
        "%matplotlib inline\n",
        "import pandas"
      ],
      "execution_count": 0,
      "outputs": []
    },
    {
      "cell_type": "markdown",
      "metadata": {
        "id": "96Xwj81PvEhv",
        "colab_type": "text"
      },
      "source": [
        "## Clone public Github reposity"
      ]
    },
    {
      "cell_type": "code",
      "metadata": {
        "id": "MqL5dsWjrjh_",
        "colab_type": "code",
        "colab": {}
      },
      "source": [
        "# Only the first time\n",
        "# !git clone --recursive https://github.com/quarcs-lab/pysalnarsc19.git"
      ],
      "execution_count": 0,
      "outputs": []
    },
    {
      "cell_type": "code",
      "metadata": {
        "id": "V_VCfrX_sppt",
        "colab_type": "code",
        "colab": {
          "base_uri": "https://localhost:8080/",
          "height": 680
        },
        "outputId": "eccad1dc-501b-4d72-fa93-724f58e203da"
      },
      "source": [
        "# Let us see what we have inside content/data Folder\n",
        "!ls pysalnarsc19/content/data"
      ],
      "execution_count": 67,
      "outputs": [
        {
          "output_type": "stream",
          "text": [
            "airbnb.cpg\t\t\t  participants2016.csv\n",
            "airbnb.dbf\t\t\t  participants2017.csv\n",
            "airbnb.prj\t\t\t  participants2018.csv\n",
            "airbnb.shp\t\t\t  README.md\n",
            "airbnb.shx\t\t\t  riverside_city.dbf\n",
            "airports.csv\t\t\t  riverside_city.prj\n",
            "b500.cpg\t\t\t  riverside_city.qpj\n",
            "b500.dbf\t\t\t  riverside_city.shp\n",
            "b500.prj\t\t\t  riverside_city.shx\n",
            "b500.shp\t\t\t  san_diego.cpg\n",
            "b500.shx\t\t\t  san_diego.dbf\n",
            "behavioralHealth.dbf\t\t  san_diego.prj\n",
            "behavioralHealth.prj\t\t  san_diego.shp\n",
            "behavioralHealth.qpj\t\t  san_diego.shx\n",
            "behavioralHealth.shp\t\t  san_diego.tif\n",
            "behavioralHealth.shx\t\t  sd_tracts_acs_clean.dbf\n",
            "CAINC1__ALL_STATES_1969_2017.csv  sd_tracts_acs_clean.prj\n",
            "CAINC1__definition.xml\t\t  sd_tracts_acs_clean.qpj\n",
            "CAINC1__Footnotes.html\t\t  sd_tracts_acs_clean.shp\n",
            "california_tracts.cpg\t\t  sd_tracts_acs_clean.shx\n",
            "california_tracts.dbf\t\t  texas.dbf\n",
            "california_tracts.prj\t\t  texas.geojson\n",
            "california_tracts.shp\t\t  texas.prj\n",
            "california_tracts.shx\t\t  texas.qgs\n",
            "city_tracts.cpg\t\t\t  texas.qpj\n",
            "city_tracts.dbf\t\t\t  texas.shp\n",
            "city_tracts.prj\t\t\t  texas.shx\n",
            "city_tracts.shp\t\t\t  tracts_routes.cpg\n",
            "city_tracts.shx\t\t\t  tracts_routes.dbf\n",
            "clinics.cpg\t\t\t  tracts_routes.prj\n",
            "clinics.dbf\t\t\t  tracts_routes.shp\n",
            "clinics.prj\t\t\t  tracts_routes.shx\n",
            "clinics.shp\t\t\t  Truck_Route_Network\n",
            "clinics.shx\t\t\t  Truck_Route_Network.cpg\n",
            "continents.geojson\t\t  Truck_Route_Network.dbf\n",
            "listings.gpkg\t\t\t  Truck_Route_Network.prj\n",
            "neighborhoods.csv\t\t  Truck_Route_Network.shp\n",
            "neighborhoods.gpkg\t\t  Truck_Route_Network.shp.xml\n",
            "neighbourhoods.geojson\t\t  Truck_Route_Network.shx\n"
          ],
          "name": "stdout"
        }
      ]
    },
    {
      "cell_type": "markdown",
      "metadata": {
        "id": "Isn2ralUvR2s",
        "colab_type": "text"
      },
      "source": [
        "## Load data (from cloned repository)"
      ]
    },
    {
      "cell_type": "code",
      "metadata": {
        "id": "6pgJJFoToI4O",
        "colab_type": "code",
        "colab": {}
      },
      "source": [
        "db = geopandas.read_file('pysalnarsc19/content/data/texas.shp')"
      ],
      "execution_count": 0,
      "outputs": []
    },
    {
      "cell_type": "markdown",
      "metadata": {
        "id": "EskbNY1dn5am",
        "colab_type": "text"
      },
      "source": [
        "## Non-spatial visualisation"
      ]
    },
    {
      "cell_type": "markdown",
      "metadata": {
        "id": "oYcZmh13n5ao",
        "colab_type": "text"
      },
      "source": [
        "### Univariate continuous"
      ]
    },
    {
      "cell_type": "markdown",
      "metadata": {
        "id": "wLYD752Fn5ar",
        "colab_type": "text"
      },
      "source": [
        "* Histograms"
      ]
    },
    {
      "cell_type": "code",
      "metadata": {
        "id": "AaU_3KY2n5as",
        "colab_type": "code",
        "colab": {
          "base_uri": "https://localhost:8080/",
          "height": 282
        },
        "outputId": "1c161ab0-1f57-4d7c-8426-3e9755aa7059"
      },
      "source": [
        "db['HR90'].plot.hist()"
      ],
      "execution_count": 69,
      "outputs": [
        {
          "output_type": "execute_result",
          "data": {
            "text/plain": [
              "<matplotlib.axes._subplots.AxesSubplot at 0x7fe01cdddc50>"
            ]
          },
          "metadata": {
            "tags": []
          },
          "execution_count": 69
        },
        {
          "output_type": "display_data",
          "data": {
            "image/png": "[encoded data removed]",
            "text/plain": [
              "<Figure size 432x288 with 1 Axes>"
            ]
          },
          "metadata": {
            "tags": []
          }
        }
      ]
    },
    {
      "cell_type": "markdown",
      "metadata": {
        "id": "VoppW-xMn5az",
        "colab_type": "text"
      },
      "source": [
        "* KDEs"
      ]
    },
    {
      "cell_type": "code",
      "metadata": {
        "id": "djIyjPHen5a1",
        "colab_type": "code",
        "colab": {
          "base_uri": "https://localhost:8080/",
          "height": 282
        },
        "outputId": "9c59621b-246c-4b3e-ac3f-87477a1355f0"
      },
      "source": [
        "db['HR90'].plot.kde()"
      ],
      "execution_count": 70,
      "outputs": [
        {
          "output_type": "execute_result",
          "data": {
            "text/plain": [
              "<matplotlib.axes._subplots.AxesSubplot at 0x7fe01cdf6ef0>"
            ]
          },
          "metadata": {
            "tags": []
          },
          "execution_count": 70
        },
        {
          "output_type": "display_data",
          "data": {
            "image/png": "[encoded data removed]",
            "text/plain": [
              "<Figure size 432x288 with 1 Axes>"
            ]
          },
          "metadata": {
            "tags": []
          }
        }
      ]
    },
    {
      "cell_type": "markdown",
      "metadata": {
        "id": "S8WKsgxmn5a7",
        "colab_type": "text"
      },
      "source": [
        "### Bivariate continuous"
      ]
    },
    {
      "cell_type": "markdown",
      "metadata": {
        "id": "SuW5cYdVn5bB",
        "colab_type": "text"
      },
      "source": [
        "* Scatter plots"
      ]
    },
    {
      "cell_type": "code",
      "metadata": {
        "id": "vWui6qT5n5bF",
        "colab_type": "code",
        "colab": {
          "base_uri": "https://localhost:8080/",
          "height": 296
        },
        "outputId": "50ef2faf-5723-46a7-ab30-0510747f7497"
      },
      "source": [
        "db[['GI89', 'HR90']]\\\n",
        "  .plot.scatter('GI89', \n",
        "                'HR90')"
      ],
      "execution_count": 71,
      "outputs": [
        {
          "output_type": "execute_result",
          "data": {
            "text/plain": [
              "<matplotlib.axes._subplots.AxesSubplot at 0x7fe01ce06470>"
            ]
          },
          "metadata": {
            "tags": []
          },
          "execution_count": 71
        },
        {
          "output_type": "display_data",
          "data": {
            "image/png": "[encoded data removed]",
            "text/plain": [
              "<Figure size 432x288 with 1 Axes>"
            ]
          },
          "metadata": {
            "tags": []
          }
        }
      ]
    },
    {
      "cell_type": "markdown",
      "metadata": {
        "id": "OewKKzMRn5bM",
        "colab_type": "text"
      },
      "source": [
        "* Hexbin plots"
      ]
    },
    {
      "cell_type": "code",
      "metadata": {
        "id": "A3przhzen5bR",
        "colab_type": "code",
        "colab": {
          "base_uri": "https://localhost:8080/",
          "height": 458
        },
        "outputId": "dd8e025b-e9d0-4532-f3f7-f01517d09e4a"
      },
      "source": [
        "seaborn.jointplot('GI89', \n",
        "                  'HR90', \n",
        "                  db, \n",
        "                  kind='hex')"
      ],
      "execution_count": 72,
      "outputs": [
        {
          "output_type": "execute_result",
          "data": {
            "text/plain": [
              "<seaborn.axisgrid.JointGrid at 0x7fe01cddbbe0>"
            ]
          },
          "metadata": {
            "tags": []
          },
          "execution_count": 72
        },
        {
          "output_type": "display_data",
          "data": {
            "image/png": "[encoded data removed]",
            "text/plain": [
              "<Figure size 432x432 with 3 Axes>"
            ]
          },
          "metadata": {
            "tags": []
          }
        }
      ]
    },
    {
      "cell_type": "markdown",
      "metadata": {
        "id": "CrwP7F5mn5bX",
        "colab_type": "text"
      },
      "source": [
        "* 2D KDEs"
      ]
    },
    {
      "cell_type": "code",
      "metadata": {
        "id": "xg8Z4BVVn5bY",
        "colab_type": "code",
        "colab": {
          "base_uri": "https://localhost:8080/",
          "height": 458
        },
        "outputId": "49e60611-e35f-466f-ee87-cc17a9991ec1"
      },
      "source": [
        "seaborn.jointplot('GI89', \n",
        "                  'HR90', \n",
        "                  db, \n",
        "                  kind='kde')"
      ],
      "execution_count": 73,
      "outputs": [
        {
          "output_type": "execute_result",
          "data": {
            "text/plain": [
              "<seaborn.axisgrid.JointGrid at 0x7fe01c71c0b8>"
            ]
          },
          "metadata": {
            "tags": []
          },
          "execution_count": 73
        },
        {
          "output_type": "display_data",
          "data": {
            "image/png": "[encoded data removed]",
            "text/plain": [
              "<Figure size 432x432 with 3 Axes>"
            ]
          },
          "metadata": {
            "tags": []
          }
        }
      ]
    },
    {
      "cell_type": "markdown",
      "metadata": {
        "id": "M3jrcH_5n5be",
        "colab_type": "text"
      },
      "source": [
        "### Categorical plots"
      ]
    },
    {
      "cell_type": "markdown",
      "metadata": {
        "id": "Fyii4Tpdn5bf",
        "colab_type": "text"
      },
      "source": [
        "* Categorical scatter plots"
      ]
    },
    {
      "cell_type": "code",
      "metadata": {
        "id": "lL8PaByqn5bh",
        "colab_type": "code",
        "colab": {
          "base_uri": "https://localhost:8080/",
          "height": 221
        },
        "outputId": "ffab6ddd-dad9-4859-97cf-857d408eac87"
      },
      "source": [
        "db.PO90"
      ],
      "execution_count": 74,
      "outputs": [
        {
          "output_type": "execute_result",
          "data": {
            "text/plain": [
              "0        3143\n",
              "1        2858\n",
              "2        5461\n",
              "3        5848\n",
              "4        9128\n",
              "        ...  \n",
              "249       460\n",
              "250     40518\n",
              "251    383545\n",
              "252     17705\n",
              "253    260120\n",
              "Name: PO90, Length: 254, dtype: int64"
            ]
          },
          "metadata": {
            "tags": []
          },
          "execution_count": 74
        }
      ]
    },
    {
      "cell_type": "code",
      "metadata": {
        "id": "WCIxY6tdn5bp",
        "colab_type": "code",
        "colab": {}
      },
      "source": [
        "p90max = db.PO90.max()"
      ],
      "execution_count": 0,
      "outputs": []
    },
    {
      "cell_type": "code",
      "metadata": {
        "id": "Mu-us2KVn5bu",
        "colab_type": "code",
        "colab": {}
      },
      "source": [
        "width = int(p90max/3)+2\n",
        "db['pop_cats'] = pandas.cut(db.PO90, [0, 5000, 100000, p90max])"
      ],
      "execution_count": 0,
      "outputs": []
    },
    {
      "cell_type": "code",
      "metadata": {
        "id": "S4CY9HOzn5b0",
        "colab_type": "code",
        "colab": {
          "base_uri": "https://localhost:8080/",
          "height": 386
        },
        "outputId": "c2979f5a-b9c6-44a1-88d0-ab48fd01e63f"
      },
      "source": [
        "seaborn.catplot(x=\"pop_cats\",\n",
        "                y=\"HR90\",\n",
        "                data=db)"
      ],
      "execution_count": 77,
      "outputs": [
        {
          "output_type": "execute_result",
          "data": {
            "text/plain": [
              "<seaborn.axisgrid.FacetGrid at 0x7fe01ce69390>"
            ]
          },
          "metadata": {
            "tags": []
          },
          "execution_count": 77
        },
        {
          "output_type": "display_data",
          "data": {
            "image/png": "[encoded data removed]",
            "text/plain": [
              "<Figure size 360x360 with 1 Axes>"
            ]
          },
          "metadata": {
            "tags": []
          }
        }
      ]
    },
    {
      "cell_type": "markdown",
      "metadata": {
        "id": "_09MZg05n5b5",
        "colab_type": "text"
      },
      "source": [
        "* Box plots"
      ]
    },
    {
      "cell_type": "code",
      "metadata": {
        "id": "nqBcp1E4n5b7",
        "colab_type": "code",
        "colab": {
          "base_uri": "https://localhost:8080/",
          "height": 386
        },
        "outputId": "09e0eb58-ca93-450f-b416-c9da79faba87"
      },
      "source": [
        "seaborn.catplot(x=\"pop_cats\",\n",
        "                y=\"HR90\",\n",
        "                data=db,\n",
        "                kind='box')"
      ],
      "execution_count": 78,
      "outputs": [
        {
          "output_type": "execute_result",
          "data": {
            "text/plain": [
              "<seaborn.axisgrid.FacetGrid at 0x7fe01ce71550>"
            ]
          },
          "metadata": {
            "tags": []
          },
          "execution_count": 78
        },
        {
          "output_type": "display_data",
          "data": {
            "image/png": "[encoded data removed]",
            "text/plain": [
              "<Figure size 360x360 with 1 Axes>"
            ]
          },
          "metadata": {
            "tags": []
          }
        }
      ]
    },
    {
      "cell_type": "markdown",
      "metadata": {
        "id": "5uemZGhpn5cG",
        "colab_type": "text"
      },
      "source": [
        "* Violin plots"
      ]
    },
    {
      "cell_type": "code",
      "metadata": {
        "id": "zM44aZjVn5cI",
        "colab_type": "code",
        "colab": {
          "base_uri": "https://localhost:8080/",
          "height": 386
        },
        "outputId": "67b3766f-6eb1-452a-f8cd-e7037581695a"
      },
      "source": [
        "seaborn.catplot(x=\"pop_cats\",\n",
        "                y=\"HR90\",\n",
        "                data=db,\n",
        "                kind='violin')"
      ],
      "execution_count": 79,
      "outputs": [
        {
          "output_type": "execute_result",
          "data": {
            "text/plain": [
              "<seaborn.axisgrid.FacetGrid at 0x7fe01ce692e8>"
            ]
          },
          "metadata": {
            "tags": []
          },
          "execution_count": 79
        },
        {
          "output_type": "display_data",
          "data": {
            "image/png": "[encoded data removed]",
            "text/plain": [
              "<Figure size 360x360 with 1 Axes>"
            ]
          },
          "metadata": {
            "tags": []
          }
        }
      ]
    },
    {
      "cell_type": "markdown",
      "metadata": {
        "id": "RKqZCHbYn5cO",
        "colab_type": "text"
      },
      "source": [
        "## Anatomy of a graphic"
      ]
    },
    {
      "cell_type": "markdown",
      "metadata": {
        "id": "qjp7r-WMn5cQ",
        "colab_type": "text"
      },
      "source": [
        "### Figures"
      ]
    },
    {
      "cell_type": "code",
      "metadata": {
        "id": "-3lN4joKn5cT",
        "colab_type": "code",
        "colab": {
          "base_uri": "https://localhost:8080/",
          "height": 34
        },
        "outputId": "4ea34f52-5aa6-4703-daaf-5147782f66bd"
      },
      "source": [
        "f = plt.figure()"
      ],
      "execution_count": 80,
      "outputs": [
        {
          "output_type": "display_data",
          "data": {
            "text/plain": [
              "<Figure size 432x288 with 0 Axes>"
            ]
          },
          "metadata": {
            "tags": []
          }
        }
      ]
    },
    {
      "cell_type": "markdown",
      "metadata": {
        "id": "695aTBBmn5cZ",
        "colab_type": "text"
      },
      "source": [
        "* Change size"
      ]
    },
    {
      "cell_type": "code",
      "metadata": {
        "id": "MAc8BwKpn5cb",
        "colab_type": "code",
        "colab": {
          "base_uri": "https://localhost:8080/",
          "height": 34
        },
        "outputId": "6cd6379e-d1e3-4646-c0dd-8c5fcd04f74b"
      },
      "source": [
        "# Size\n",
        "f = plt.figure(figsize=(12, 12))"
      ],
      "execution_count": 81,
      "outputs": [
        {
          "output_type": "display_data",
          "data": {
            "text/plain": [
              "<Figure size 864x864 with 0 Axes>"
            ]
          },
          "metadata": {
            "tags": []
          }
        }
      ]
    },
    {
      "cell_type": "markdown",
      "metadata": {
        "id": "VaXA9ztin5cg",
        "colab_type": "text"
      },
      "source": [
        "### Axes"
      ]
    },
    {
      "cell_type": "markdown",
      "metadata": {
        "id": "VQfxbs12n5ch",
        "colab_type": "text"
      },
      "source": [
        "* One axis (`ax`) inside a figure (`f`)"
      ]
    },
    {
      "cell_type": "code",
      "metadata": {
        "id": "Qvd9tVJ6n5cj",
        "colab_type": "code",
        "colab": {
          "base_uri": "https://localhost:8080/",
          "height": 269
        },
        "outputId": "7ca896d5-2f33-41f1-c157-503d23af5d56"
      },
      "source": [
        "f, ax = plt.subplots(1)"
      ],
      "execution_count": 82,
      "outputs": [
        {
          "output_type": "display_data",
          "data": {
            "image/png": "[encoded data removed]",
            "text/plain": [
              "<Figure size 432x288 with 1 Axes>"
            ]
          },
          "metadata": {
            "tags": []
          }
        }
      ]
    },
    {
      "cell_type": "markdown",
      "metadata": {
        "id": "cdogPSqNn5cr",
        "colab_type": "text"
      },
      "source": [
        "* Two rows, one column of axes (`axs`) inside a figure (`f`)"
      ]
    },
    {
      "cell_type": "code",
      "metadata": {
        "id": "7WnlnG0Nn5ct",
        "colab_type": "code",
        "colab": {
          "base_uri": "https://localhost:8080/",
          "height": 269
        },
        "outputId": "46fab2f9-0ac7-47ca-bec1-e562c833a2b9"
      },
      "source": [
        "f, axs = plt.subplots(2)"
      ],
      "execution_count": 83,
      "outputs": [
        {
          "output_type": "display_data",
          "data": {
            "image/png": "[encoded data removed]",
            "text/plain": [
              "<Figure size 432x288 with 2 Axes>"
            ]
          },
          "metadata": {
            "tags": []
          }
        }
      ]
    },
    {
      "cell_type": "markdown",
      "metadata": {
        "id": "GruSJa6bn5c5",
        "colab_type": "text"
      },
      "source": [
        "* One row, two columns of axes (`axs`) inside a figure (`f`)"
      ]
    },
    {
      "cell_type": "code",
      "metadata": {
        "id": "p1aAOKVgn5dQ",
        "colab_type": "code",
        "colab": {
          "base_uri": "https://localhost:8080/",
          "height": 269
        },
        "outputId": "cbc91567-59cd-4cff-a2bd-f609f41a4993"
      },
      "source": [
        "f, axs = plt.subplots(1, 2)"
      ],
      "execution_count": 84,
      "outputs": [
        {
          "output_type": "display_data",
          "data": {
            "image/png": "[encoded data removed]",
            "text/plain": [
              "<Figure size 432x288 with 2 Axes>"
            ]
          },
          "metadata": {
            "tags": []
          }
        }
      ]
    },
    {
      "cell_type": "markdown",
      "metadata": {
        "id": "6haJQ8bHn5dn",
        "colab_type": "text"
      },
      "source": [
        "* Embed data on an axis"
      ]
    },
    {
      "cell_type": "code",
      "metadata": {
        "id": "arWZwaqgn5dr",
        "colab_type": "code",
        "colab": {
          "base_uri": "https://localhost:8080/",
          "height": 282
        },
        "outputId": "8606b669-0046-433a-8b65-d4ef4999ac8a"
      },
      "source": [
        "f, ax = plt.subplots(1)\n",
        "db['HR90'].plot.hist()\n",
        "#db.plot(ax=ax)"
      ],
      "execution_count": 85,
      "outputs": [
        {
          "output_type": "execute_result",
          "data": {
            "text/plain": [
              "<matplotlib.axes._subplots.AxesSubplot at 0x7fe01c755550>"
            ]
          },
          "metadata": {
            "tags": []
          },
          "execution_count": 85
        },
        {
          "output_type": "display_data",
          "data": {
            "image/png": "[encoded data removed]",
            "text/plain": [
              "<Figure size 432x288 with 1 Axes>"
            ]
          },
          "metadata": {
            "tags": []
          }
        }
      ]
    },
    {
      "cell_type": "markdown",
      "metadata": {
        "id": "GYGlle85n5dx",
        "colab_type": "text"
      },
      "source": [
        "* Embed data on two axes"
      ]
    },
    {
      "cell_type": "code",
      "metadata": {
        "id": "A4MxjmvVn5d0",
        "colab_type": "code",
        "colab": {
          "base_uri": "https://localhost:8080/",
          "height": 417
        },
        "outputId": "bbab82fe-8f0b-4c58-bfba-c30c03c008c3"
      },
      "source": [
        "f, axs = plt.subplots(1, 2, figsize=(12, 6))\n",
        "# First axis\n",
        "\n",
        "db['HR90'].plot.hist(ax=axs[0])\n",
        "# Second axis\n",
        "db['HR90'].plot.kde(ax=axs[1])\n",
        "# Title\n",
        "f.suptitle(\"HR90\")\n",
        "# Display\n",
        "plt.show()"
      ],
      "execution_count": 86,
      "outputs": [
        {
          "output_type": "display_data",
          "data": {
            "image/png": "[encoded data removed]",
            "text/plain": [
              "<Figure size 864x432 with 2 Axes>"
            ]
          },
          "metadata": {
            "tags": []
          }
        }
      ]
    },
    {
      "cell_type": "markdown",
      "metadata": {
        "id": "LLeL7nsgn5eC",
        "colab_type": "text"
      },
      "source": [
        "### Layers"
      ]
    },
    {
      "cell_type": "markdown",
      "metadata": {
        "id": "8oOhCRFJn5eE",
        "colab_type": "text"
      },
      "source": [
        "* Tweak a layer"
      ]
    },
    {
      "cell_type": "code",
      "metadata": {
        "id": "pjsHG6z3n5eG",
        "colab_type": "code",
        "colab": {
          "base_uri": "https://localhost:8080/",
          "height": 282
        },
        "outputId": "67e9342c-a75c-4a05-f901-a4261b6b264f"
      },
      "source": [
        "# Transparency\n",
        "db.HR90.plot.hist(alpha=0.5)"
      ],
      "execution_count": 87,
      "outputs": [
        {
          "output_type": "execute_result",
          "data": {
            "text/plain": [
              "<matplotlib.axes._subplots.AxesSubplot at 0x7fe01c754518>"
            ]
          },
          "metadata": {
            "tags": []
          },
          "execution_count": 87
        },
        {
          "output_type": "display_data",
          "data": {
            "image/png": "[encoded data removed]",
            "text/plain": [
              "<Figure size 432x288 with 1 Axes>"
            ]
          },
          "metadata": {
            "tags": []
          }
        }
      ]
    },
    {
      "cell_type": "code",
      "metadata": {
        "id": "-VPg8Bexn5eN",
        "colab_type": "code",
        "colab": {
          "base_uri": "https://localhost:8080/",
          "height": 282
        },
        "outputId": "f75cb703-dee9-4702-898d-52f17322fa01"
      },
      "source": [
        "# color and transparency\n",
        "db.HR90.plot.hist(alpha=0.5, color='green')"
      ],
      "execution_count": 88,
      "outputs": [
        {
          "output_type": "execute_result",
          "data": {
            "text/plain": [
              "<matplotlib.axes._subplots.AxesSubplot at 0x7fe01c6feeb8>"
            ]
          },
          "metadata": {
            "tags": []
          },
          "execution_count": 88
        },
        {
          "output_type": "display_data",
          "data": {
            "image/png": "[encoded data removed]",
            "text/plain": [
              "<Figure size 432x288 with 1 Axes>"
            ]
          },
          "metadata": {
            "tags": []
          }
        }
      ]
    },
    {
      "cell_type": "markdown",
      "metadata": {
        "id": "NBvzs4rPn5eW",
        "colab_type": "text"
      },
      "source": [
        "---\n",
        "\n",
        "<a rel=\"license\" href=\"http://creativecommons.org/licenses/by-nc-\n",
        "sa/4.0/\"><img alt=\"Creative Commons License\" style=\"border-width:0\"\n",
        "src=\"https://i.creativecommons.org/l/by-nc-sa/4.0/88x31.png\" /></a><br /><span\n",
        "xmlns:dct=\"http://purl.org/dc/terms/\" property=\"dct:title\">Visualization</span> by <a xmlns:cc=\"http://creativecommons.org/ns#\"\n",
        "href=\"http://sergerey.org\" property=\"cc:attributionName\"\n",
        "rel=\"cc:attributionURL\">Serge Rey</a> is licensed under a <a\n",
        "rel=\"license\" href=\"http://creativecommons.org/licenses/by-nc-sa/4.0/\">Creative\n",
        "Commons Attribution-NonCommercial-ShareAlike 4.0 International License</a>."
      ]
    }
  ]
}