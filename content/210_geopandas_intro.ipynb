{
  "nbformat": 4,
  "nbformat_minor": 0,
  "metadata": {
    "jupytext": {
      "formats": "ipynb,md"
    },
    "kernelspec": {
      "display_name": "Python 3",
      "language": "python",
      "name": "python3"
    },
    "language_info": {
      "codemirror_mode": {
        "name": "ipython",
        "version": 3
      },
      "file_extension": ".py",
      "mimetype": "text/x-python",
      "name": "python",
      "nbconvert_exporter": "python",
      "pygments_lexer": "ipython3",
      "version": "3.6.7"
    },
    "colab": {
      "name": "210_geopandas_intro.ipynb",
      "provenance": [],
      "toc_visible": true,
      "include_colab_link": true
    }
  },
  "cells": [
    {
      "cell_type": "markdown",
      "metadata": {
        "id": "view-in-github",
        "colab_type": "text"
      },
      "source": [
        "<a href=\"https://colab.research.google.com/github/quarcs-lab/pysalnarsc19/blob/master/content/210_geopandas_intro.ipynb\" target=\"_parent\"><img src=\"https://colab.research.google.com/assets/colab-badge.svg\" alt=\"Open In Colab\"/></a>"
      ]
    },
    {
      "cell_type": "markdown",
      "metadata": {
        "id": "UCUUDfMtwpob",
        "colab_type": "text"
      },
      "source": [
        "Introduction to GeoPandas\n",
        "=========================\n",
        "\n",
        "The second library in the Python geospatial stack that we examine is\n",
        "[GeoPandas](http://geopandas.org/). GeoPandas builds on the capabilities\n",
        "of Shapely and combines these with the popular\n",
        "[pandas](http://pandas.pydata.org) library that provides\n",
        "high-performance and easy-to-use data structures for data analysis in\n",
        "Python.\n",
        "\n",
        "Objectives\n",
        "----------\n",
        "\n",
        "-   Understand GeoDataSeries and GeoDatatFrames\n",
        "-   Learn reading and writing common vector spatial data formats\n",
        "-   Carry out geoprocessing with GeoPandas\n"
      ]
    },
    {
      "cell_type": "markdown",
      "metadata": {
        "id": "bs7_I4z8yH-2",
        "colab_type": "text"
      },
      "source": [
        "# Preliminarities"
      ]
    },
    {
      "cell_type": "markdown",
      "metadata": {
        "id": "2w2i9A11xbtY",
        "colab_type": "text"
      },
      "source": [
        "## Install libraries"
      ]
    },
    {
      "cell_type": "code",
      "metadata": {
        "id": "mMqi_v_toYMF",
        "colab_type": "code",
        "colab": {}
      },
      "source": [
        "#!pip install -q geopandas\n",
        "!pip install -q seaborn\n",
        "!pip install -q shapely\n"
      ],
      "execution_count": 0,
      "outputs": []
    },
    {
      "cell_type": "code",
      "metadata": {
        "id": "OFpZSfoS5uuf",
        "colab_type": "code",
        "colab": {
          "base_uri": "https://localhost:8080/",
          "height": 272
        },
        "outputId": "13e0f603-f14c-41ce-a87b-87c537c74c53"
      },
      "source": [
        "%%time \n",
        "!apt install -qq gdal-bin python-gdal python3-gdal \n",
        "# Install rtree - Geopandas requirment\n",
        "!apt install -qq python3-rtree \n",
        "# Install Geopandas\n",
        "!pip install -qq git+git://github.com/geopandas/geopandas.git\n",
        "# Install descartes - Geopandas requirment\n",
        "!pip install -qq descartes "
      ],
      "execution_count": 67,
      "outputs": [
        {
          "output_type": "stream",
          "text": [
            "gdal-bin is already the newest version (2.2.3+dfsg-2).\n",
            "python-gdal is already the newest version (2.2.3+dfsg-2).\n",
            "python3-gdal is already the newest version (2.2.3+dfsg-2).\n",
            "The following packages were automatically installed and are no longer required:\n",
            "  libnvidia-common-430 linux-headers-4.15.0-76 linux-headers-4.15.0-76-generic\n",
            "Use 'apt autoremove' to remove them.\n",
            "0 upgraded, 0 newly installed, 0 to remove and 4 not upgraded.\n",
            "python3-rtree is already the newest version (0.8.3+ds-1).\n",
            "The following packages were automatically installed and are no longer required:\n",
            "  libnvidia-common-430 linux-headers-4.15.0-76 linux-headers-4.15.0-76-generic\n",
            "Use 'apt autoremove' to remove them.\n",
            "0 upgraded, 0 newly installed, 0 to remove and 4 not upgraded.\n",
            "  Building wheel for geopandas (setup.py) ... \u001b[?25l\u001b[?25hdone\n",
            "CPU times: user 452 ms, sys: 80.8 ms, total: 533 ms\n",
            "Wall time: 36.4 s\n"
          ],
          "name": "stdout"
        }
      ]
    },
    {
      "cell_type": "code",
      "metadata": {
        "id": "NT5PhZwW9YrL",
        "colab_type": "code",
        "colab": {
          "base_uri": "https://localhost:8080/",
          "height": 85
        },
        "outputId": "ef50310e-5216-43ae-8e23-b2af0654e9e2"
      },
      "source": [
        "!apt install libspatialindex"
      ],
      "execution_count": 119,
      "outputs": [
        {
          "output_type": "stream",
          "text": [
            "Reading package lists... Done\n",
            "Building dependency tree       \n",
            "Reading state information... Done\n",
            "E: Unable to locate package libspatialindex\n"
          ],
          "name": "stdout"
        }
      ]
    },
    {
      "cell_type": "markdown",
      "metadata": {
        "id": "ENUAqJcJu1vT",
        "colab_type": "text"
      },
      "source": [
        "## Load libraries"
      ]
    },
    {
      "cell_type": "code",
      "metadata": {
        "id": "C3Z6_puSwpoy",
        "colab_type": "code",
        "colab": {}
      },
      "source": [
        "%matplotlib inline\n",
        "import matplotlib\n",
        "import matplotlib.pyplot as plt\n",
        "import numpy as np\n",
        "import geopandas as gpd"
      ],
      "execution_count": 0,
      "outputs": []
    },
    {
      "cell_type": "code",
      "metadata": {
        "id": "CwxVyZn82GNY",
        "colab_type": "code",
        "colab": {}
      },
      "source": [
        "import os\n",
        "import rtree"
      ],
      "execution_count": 0,
      "outputs": []
    },
    {
      "cell_type": "markdown",
      "metadata": {
        "id": "js3juPjqxafU",
        "colab_type": "text"
      },
      "source": [
        "## Load data from Github "
      ]
    },
    {
      "cell_type": "code",
      "metadata": {
        "id": "MqL5dsWjrjh_",
        "colab_type": "code",
        "colab": {}
      },
      "source": [
        "# It will be cloned for about a 12 hours. That is, you have to re-run this code only after 12 hours\n",
        "# !git clone --recursive https://github.com/quarcs-lab/pysalnarsc19.git"
      ],
      "execution_count": 0,
      "outputs": []
    },
    {
      "cell_type": "code",
      "metadata": {
        "id": "V_VCfrX_sppt",
        "colab_type": "code",
        "colab": {
          "base_uri": "https://localhost:8080/",
          "height": 680
        },
        "outputId": "acadbc03-a425-44f9-845d-a0be1670e524"
      },
      "source": [
        "# Let us see what we have inside content/data Folder\n",
        " !ls pysalnarsc19/content/data"
      ],
      "execution_count": 71,
      "outputs": [
        {
          "output_type": "stream",
          "text": [
            "airbnb.cpg\t\t\t  participants2016.csv\n",
            "airbnb.dbf\t\t\t  participants2017.csv\n",
            "airbnb.prj\t\t\t  participants2018.csv\n",
            "airbnb.shp\t\t\t  README.md\n",
            "airbnb.shx\t\t\t  riverside_city.dbf\n",
            "airports.csv\t\t\t  riverside_city.prj\n",
            "b500.cpg\t\t\t  riverside_city.qpj\n",
            "b500.dbf\t\t\t  riverside_city.shp\n",
            "b500.prj\t\t\t  riverside_city.shx\n",
            "b500.shp\t\t\t  san_diego.cpg\n",
            "b500.shx\t\t\t  san_diego.dbf\n",
            "behavioralHealth.dbf\t\t  san_diego.prj\n",
            "behavioralHealth.prj\t\t  san_diego.shp\n",
            "behavioralHealth.qpj\t\t  san_diego.shx\n",
            "behavioralHealth.shp\t\t  san_diego.tif\n",
            "behavioralHealth.shx\t\t  sd_tracts_acs_clean.dbf\n",
            "CAINC1__ALL_STATES_1969_2017.csv  sd_tracts_acs_clean.prj\n",
            "CAINC1__definition.xml\t\t  sd_tracts_acs_clean.qpj\n",
            "CAINC1__Footnotes.html\t\t  sd_tracts_acs_clean.shp\n",
            "california_tracts.cpg\t\t  sd_tracts_acs_clean.shx\n",
            "california_tracts.dbf\t\t  texas.dbf\n",
            "california_tracts.prj\t\t  texas.geojson\n",
            "california_tracts.shp\t\t  texas.prj\n",
            "california_tracts.shx\t\t  texas.qgs\n",
            "city_tracts.cpg\t\t\t  texas.qpj\n",
            "city_tracts.dbf\t\t\t  texas.shp\n",
            "city_tracts.prj\t\t\t  texas.shx\n",
            "city_tracts.shp\t\t\t  tracts_routes.cpg\n",
            "city_tracts.shx\t\t\t  tracts_routes.dbf\n",
            "clinics.cpg\t\t\t  tracts_routes.prj\n",
            "clinics.dbf\t\t\t  tracts_routes.shp\n",
            "clinics.prj\t\t\t  tracts_routes.shx\n",
            "clinics.shp\t\t\t  Truck_Route_Network\n",
            "clinics.shx\t\t\t  Truck_Route_Network.cpg\n",
            "continents.geojson\t\t  Truck_Route_Network.dbf\n",
            "listings.gpkg\t\t\t  Truck_Route_Network.prj\n",
            "neighborhoods.csv\t\t  Truck_Route_Network.shp\n",
            "neighborhoods.gpkg\t\t  Truck_Route_Network.shp.xml\n",
            "neighbourhoods.geojson\t\t  Truck_Route_Network.shx\n"
          ],
          "name": "stdout"
        }
      ]
    },
    {
      "cell_type": "code",
      "metadata": {
        "id": "6pgJJFoToI4O",
        "colab_type": "code",
        "colab": {}
      },
      "source": [
        "# Load data (from cloned repository)\n",
        "# db = geopandas.read_file('pysalnarsc19/content/data/texas.shp')"
      ],
      "execution_count": 0,
      "outputs": []
    },
    {
      "cell_type": "markdown",
      "metadata": {
        "id": "5Ppu3BylwpqS",
        "colab_type": "text"
      },
      "source": [
        "GeoPandas Structure\n",
        "===================\n",
        "\n",
        "As mentioned above, geopandas builds on-top of shapely which means we\n",
        "have access to all the functionality we saw in the previous notebook. To\n",
        "get a better sense of this connection, let\\'s create a few shapely\n",
        "Polygons and then see how they are used in geopandas:"
      ]
    },
    {
      "cell_type": "code",
      "metadata": {
        "id": "omZ4af57wpqZ",
        "colab_type": "code",
        "colab": {}
      },
      "source": [
        "from shapely.geometry import Polygon\n",
        "poly_1 = Polygon([ (0,0), (0,10), (10, 10), (10, 0) ] )\n",
        "poly_2 = Polygon([ (10,0), (10,10), (20, 10), (20, 0) ] )\n",
        "poly_3 = Polygon([ (20,0), (20,10), (30, 10), (30, 0) ] )"
      ],
      "execution_count": 0,
      "outputs": []
    },
    {
      "cell_type": "markdown",
      "metadata": {
        "id": "EUW4P9OOwpq1",
        "colab_type": "text"
      },
      "source": [
        "GeoSeries: Putting the Geo in GeoPandas\n",
        "---------------------------------------\n",
        "\n",
        "We are going to combine these three polygons in a geopandas `GeoSeries`:"
      ]
    },
    {
      "cell_type": "code",
      "metadata": {
        "id": "mPbq2JC4wpq8",
        "colab_type": "code",
        "colab": {
          "base_uri": "https://localhost:8080/",
          "height": 177
        },
        "outputId": "37047fee-7b18-4316-8ebb-a13d64aac9c1"
      },
      "source": [
        "polys = gpd.GeoSeries([poly_1, poly_2, poly_3])\n",
        "polys.plot(edgecolor='k')"
      ],
      "execution_count": 74,
      "outputs": [
        {
          "output_type": "execute_result",
          "data": {
            "text/plain": [
              "<matplotlib.axes._subplots.AxesSubplot at 0x7f86273a8e10>"
            ]
          },
          "metadata": {
            "tags": []
          },
          "execution_count": 74
        },
        {
          "output_type": "display_data",
          "data": {
            "image/png": "[encoded data removed]",
            "text/plain": [
              "<Figure size 432x288 with 1 Axes>"
            ]
          },
          "metadata": {
            "tags": []
          }
        }
      ]
    },
    {
      "cell_type": "markdown",
      "metadata": {
        "id": "Oh3AfIggwpre",
        "colab_type": "text"
      },
      "source": [
        "The `GeoSeries` can be thought of as a vector, with each element of the\n",
        "vector corresponding to one or more Shapely geometry objects:"
      ]
    },
    {
      "cell_type": "code",
      "metadata": {
        "id": "_suydRmUwprl",
        "colab_type": "code",
        "colab": {
          "base_uri": "https://localhost:8080/",
          "height": 85
        },
        "outputId": "db1a839f-2216-428c-aae7-f9b63389c13e"
      },
      "source": [
        "polys"
      ],
      "execution_count": 75,
      "outputs": [
        {
          "output_type": "execute_result",
          "data": {
            "text/plain": [
              "0    POLYGON ((0.00000 0.00000, 0.00000 10.00000, 1...\n",
              "1    POLYGON ((10.00000 0.00000, 10.00000 10.00000,...\n",
              "2    POLYGON ((20.00000 0.00000, 20.00000 10.00000,...\n",
              "dtype: geometry"
            ]
          },
          "metadata": {
            "tags": []
          },
          "execution_count": 75
        }
      ]
    },
    {
      "cell_type": "markdown",
      "metadata": {
        "id": "mxkeswt4wpr9",
        "colab_type": "text"
      },
      "source": [
        "so here we see three elements, each of type `POLYGON` along with their\n",
        "coordinates."
      ]
    },
    {
      "cell_type": "code",
      "metadata": {
        "attributes": {
          "classes": [
            "py"
          ],
          "id": ""
        },
        "id": "oP64kTWiwpsH",
        "colab_type": "code",
        "colab": {
          "base_uri": "https://localhost:8080/",
          "height": 34
        },
        "outputId": "e2738eda-c7cd-4848-8fa0-b4ed7c03f475"
      },
      "source": [
        "type(polys)"
      ],
      "execution_count": 76,
      "outputs": [
        {
          "output_type": "execute_result",
          "data": {
            "text/plain": [
              "geopandas.geoseries.GeoSeries"
            ]
          },
          "metadata": {
            "tags": []
          },
          "execution_count": 76
        }
      ]
    },
    {
      "cell_type": "markdown",
      "metadata": {
        "id": "HMICKX40wpsa",
        "colab_type": "text"
      },
      "source": [
        "Depending on what we need, we can either work on an *element-wise* basis\n",
        "or with the geoseries as a unified object. For example, an example of\n",
        "the former is:"
      ]
    },
    {
      "cell_type": "code",
      "metadata": {
        "id": "bp8Qk1DHwpse",
        "colab_type": "code",
        "colab": {
          "base_uri": "https://localhost:8080/",
          "height": 142
        },
        "outputId": "3a7bd905-9519-42b2-d037-3eb3327dd154"
      },
      "source": [
        "polys.bounds"
      ],
      "execution_count": 77,
      "outputs": [
        {
          "output_type": "execute_result",
          "data": {
            "text/html": [
              "<div>\n",
              "<style scoped>\n",
              "    .dataframe tbody tr th:only-of-type {\n",
              "        vertical-align: middle;\n",
              "    }\n",
              "\n",
              "    .dataframe tbody tr th {\n",
              "        vertical-align: top;\n",
              "    }\n",
              "\n",
              "    .dataframe thead th {\n",
              "        text-align: right;\n",
              "    }\n",
              "</style>\n",
              "<table border=\"1\" class=\"dataframe\">\n",
              "  <thead>\n",
              "    <tr style=\"text-align: right;\">\n",
              "      <th></th>\n",
              "      <th>minx</th>\n",
              "      <th>miny</th>\n",
              "      <th>maxx</th>\n",
              "      <th>maxy</th>\n",
              "    </tr>\n",
              "  </thead>\n",
              "  <tbody>\n",
              "    <tr>\n",
              "      <th>0</th>\n",
              "      <td>0.0</td>\n",
              "      <td>0.0</td>\n",
              "      <td>10.0</td>\n",
              "      <td>10.0</td>\n",
              "    </tr>\n",
              "    <tr>\n",
              "      <th>1</th>\n",
              "      <td>10.0</td>\n",
              "      <td>0.0</td>\n",
              "      <td>20.0</td>\n",
              "      <td>10.0</td>\n",
              "    </tr>\n",
              "    <tr>\n",
              "      <th>2</th>\n",
              "      <td>20.0</td>\n",
              "      <td>0.0</td>\n",
              "      <td>30.0</td>\n",
              "      <td>10.0</td>\n",
              "    </tr>\n",
              "  </tbody>\n",
              "</table>\n",
              "</div>"
            ],
            "text/plain": [
              "   minx  miny  maxx  maxy\n",
              "0   0.0   0.0  10.0  10.0\n",
              "1  10.0   0.0  20.0  10.0\n",
              "2  20.0   0.0  30.0  10.0"
            ]
          },
          "metadata": {
            "tags": []
          },
          "execution_count": 77
        }
      ]
    },
    {
      "cell_type": "markdown",
      "metadata": {
        "id": "GUEEhuMXwpsp",
        "colab_type": "text"
      },
      "source": [
        "which returns the bounds of each of the polygons. Alternatively, if we\n",
        "want the bounds for the collection:"
      ]
    },
    {
      "cell_type": "code",
      "metadata": {
        "id": "BL48WtLCwpst",
        "colab_type": "code",
        "colab": {
          "base_uri": "https://localhost:8080/",
          "height": 34
        },
        "outputId": "0e5f7ec0-b1ae-4719-d737-83b0435209b8"
      },
      "source": [
        "polys.total_bounds"
      ],
      "execution_count": 78,
      "outputs": [
        {
          "output_type": "execute_result",
          "data": {
            "text/plain": [
              "array([ 0.,  0., 30., 10.])"
            ]
          },
          "metadata": {
            "tags": []
          },
          "execution_count": 78
        }
      ]
    },
    {
      "cell_type": "markdown",
      "metadata": {
        "id": "USqXh9tvwpy2",
        "colab_type": "text"
      },
      "source": [
        "Binary operations between two geoseries will be carried out element\n",
        "wise, and this can lead to some counter intuitive results. For example,\n",
        "a second `GeoSeries` created as:"
      ]
    },
    {
      "cell_type": "code",
      "metadata": {
        "id": "AGqfstCtwpy6",
        "colab_type": "code",
        "colab": {
          "base_uri": "https://localhost:8080/",
          "height": 200
        },
        "outputId": "daa21397-58d1-47d4-b280-c1626df60ed8"
      },
      "source": [
        "from shapely.geometry import Point\n",
        "p_1 = Point(15, 5)\n",
        "p_2 = Point(25, 9)\n",
        "points = gpd.GeoSeries([p_1, p_2])\n",
        "points.plot()"
      ],
      "execution_count": 79,
      "outputs": [
        {
          "output_type": "execute_result",
          "data": {
            "text/plain": [
              "<matplotlib.axes._subplots.AxesSubplot at 0x7f8626d75dd8>"
            ]
          },
          "metadata": {
            "tags": []
          },
          "execution_count": 79
        },
        {
          "output_type": "display_data",
          "data": {
            "image/png": "[encoded data removed]",
            "text/plain": [
              "<Figure size 432x288 with 1 Axes>"
            ]
          },
          "metadata": {
            "tags": []
          }
        }
      ]
    },
    {
      "cell_type": "markdown",
      "metadata": {
        "id": "vC1zJ6WSwpzM",
        "colab_type": "text"
      },
      "source": [
        "consists of two points. Each of the points is contained by the `polys`\n",
        "`GeoSeries`:"
      ]
    },
    {
      "cell_type": "code",
      "metadata": {
        "id": "y3CNb6L6wpzR",
        "colab_type": "code",
        "colab": {
          "base_uri": "https://localhost:8080/",
          "height": 85
        },
        "outputId": "e0a6041c-ed3c-4096-b753-1e8996d62877"
      },
      "source": [
        "polys.contains(p_1)"
      ],
      "execution_count": 80,
      "outputs": [
        {
          "output_type": "execute_result",
          "data": {
            "text/plain": [
              "0    False\n",
              "1     True\n",
              "2    False\n",
              "dtype: bool"
            ]
          },
          "metadata": {
            "tags": []
          },
          "execution_count": 80
        }
      ]
    },
    {
      "cell_type": "markdown",
      "metadata": {
        "id": "9DL5XynBwpzb",
        "colab_type": "text"
      },
      "source": [
        "and"
      ]
    },
    {
      "cell_type": "code",
      "metadata": {
        "id": "2sr7qlJawpzd",
        "colab_type": "code",
        "colab": {
          "base_uri": "https://localhost:8080/",
          "height": 85
        },
        "outputId": "db1c8cdb-efea-4590-e646-51a9b30e81de"
      },
      "source": [
        "polys.contains(p_2)"
      ],
      "execution_count": 81,
      "outputs": [
        {
          "output_type": "execute_result",
          "data": {
            "text/plain": [
              "0    False\n",
              "1    False\n",
              "2     True\n",
              "dtype: bool"
            ]
          },
          "metadata": {
            "tags": []
          },
          "execution_count": 81
        }
      ]
    },
    {
      "cell_type": "markdown",
      "metadata": {
        "id": "7MxdqynHwp0Y",
        "colab_type": "text"
      },
      "source": [
        "Plotting the two `GeoSeries` confirms this:"
      ]
    },
    {
      "cell_type": "code",
      "metadata": {
        "id": "skI8EWckwp0b",
        "colab_type": "code",
        "colab": {
          "base_uri": "https://localhost:8080/",
          "height": 160
        },
        "outputId": "483bcaf7-042a-4626-9fda-06960f05bbd2"
      },
      "source": [
        "ax = plt.gca()\n",
        "polys.plot(ax=ax, edgecolor='k')\n",
        "points.plot(ax=ax, edgecolor='r', facecolor='r')\n",
        "plt.show()"
      ],
      "execution_count": 82,
      "outputs": [
        {
          "output_type": "display_data",
          "data": {
            "image/png": "[encoded data removed]",
            "text/plain": [
              "<Figure size 432x288 with 1 Axes>"
            ]
          },
          "metadata": {
            "tags": []
          }
        }
      ]
    },
    {
      "cell_type": "markdown",
      "metadata": {
        "id": "Rr_4d6V7wp0q",
        "colab_type": "text"
      },
      "source": [
        "Yet, when we check if the points as a `GeoSeries` are contained by the\n",
        "`polys` `GeoSeries` we get:"
      ]
    },
    {
      "cell_type": "code",
      "metadata": {
        "id": "VDttJtJXwp0r",
        "colab_type": "code",
        "colab": {
          "base_uri": "https://localhost:8080/",
          "height": 85
        },
        "outputId": "2e13dc22-7022-49d1-d72a-cfa83d25420b"
      },
      "source": [
        "polys.contains(points)"
      ],
      "execution_count": 83,
      "outputs": [
        {
          "output_type": "execute_result",
          "data": {
            "text/plain": [
              "0    False\n",
              "1    False\n",
              "2    False\n",
              "dtype: bool"
            ]
          },
          "metadata": {
            "tags": []
          },
          "execution_count": 83
        }
      ]
    },
    {
      "cell_type": "markdown",
      "metadata": {
        "id": "Pvv9qU3Swp0y",
        "colab_type": "text"
      },
      "source": [
        "This is because the first point is not contained in the first polygon,\n",
        "and the second point is not contained in the second polygon, while there\n",
        "is no third point.\n",
        "\n",
        "A second point geoseries can clarify this:"
      ]
    },
    {
      "cell_type": "code",
      "metadata": {
        "id": "W4Ezw3R0wp00",
        "colab_type": "code",
        "colab": {
          "base_uri": "https://localhost:8080/",
          "height": 85
        },
        "outputId": "55e37e7a-a9a4-4fe5-b3c1-534481327cf2"
      },
      "source": [
        "points = gpd.GeoSeries([Point(5,5), Point(15, 6), Point([25,9])])\n",
        "polys.contains(points)"
      ],
      "execution_count": 84,
      "outputs": [
        {
          "output_type": "execute_result",
          "data": {
            "text/plain": [
              "0    True\n",
              "1    True\n",
              "2    True\n",
              "dtype: bool"
            ]
          },
          "metadata": {
            "tags": []
          },
          "execution_count": 84
        }
      ]
    },
    {
      "cell_type": "markdown",
      "metadata": {
        "id": "vmTqC3UNwp07",
        "colab_type": "text"
      },
      "source": [
        "whereas if we change the ordering of the second and third points we get:"
      ]
    },
    {
      "cell_type": "code",
      "metadata": {
        "id": "0LVnziAawp08",
        "colab_type": "code",
        "colab": {
          "base_uri": "https://localhost:8080/",
          "height": 85
        },
        "outputId": "0921c6e9-7a40-43d3-f755-168859b134b4"
      },
      "source": [
        "points = gpd.GeoSeries([Point(5,5), Point(25, 9), Point([15,6])])\n",
        "polys.contains(points)"
      ],
      "execution_count": 85,
      "outputs": [
        {
          "output_type": "execute_result",
          "data": {
            "text/plain": [
              "0     True\n",
              "1    False\n",
              "2    False\n",
              "dtype: bool"
            ]
          },
          "metadata": {
            "tags": []
          },
          "execution_count": 85
        }
      ]
    },
    {
      "cell_type": "markdown",
      "metadata": {
        "id": "AlpAm9Zewp1E",
        "colab_type": "text"
      },
      "source": [
        "GeoDataFrame: Putting the Panda in GeoPandas\n",
        "--------------------------------------------\n",
        "\n",
        "-   geometry column is populated with a geoseries"
      ]
    },
    {
      "cell_type": "code",
      "metadata": {
        "id": "vItSCn97wp1L",
        "colab_type": "code",
        "colab": {
          "base_uri": "https://localhost:8080/",
          "height": 142
        },
        "outputId": "789be74b-63b8-4729-8e84-4f26f4775c33"
      },
      "source": [
        "polys_df = gpd.GeoDataFrame({'names': ['west', 'central', 'east'], 'geometry': polys})\n",
        "polys_df"
      ],
      "execution_count": 86,
      "outputs": [
        {
          "output_type": "execute_result",
          "data": {
            "text/html": [
              "<div>\n",
              "<style scoped>\n",
              "    .dataframe tbody tr th:only-of-type {\n",
              "        vertical-align: middle;\n",
              "    }\n",
              "\n",
              "    .dataframe tbody tr th {\n",
              "        vertical-align: top;\n",
              "    }\n",
              "\n",
              "    .dataframe thead th {\n",
              "        text-align: right;\n",
              "    }\n",
              "</style>\n",
              "<table border=\"1\" class=\"dataframe\">\n",
              "  <thead>\n",
              "    <tr style=\"text-align: right;\">\n",
              "      <th></th>\n",
              "      <th>names</th>\n",
              "      <th>geometry</th>\n",
              "    </tr>\n",
              "  </thead>\n",
              "  <tbody>\n",
              "    <tr>\n",
              "      <th>0</th>\n",
              "      <td>west</td>\n",
              "      <td>POLYGON ((0.00000 0.00000, 0.00000 10.00000, 1...</td>\n",
              "    </tr>\n",
              "    <tr>\n",
              "      <th>1</th>\n",
              "      <td>central</td>\n",
              "      <td>POLYGON ((10.00000 0.00000, 10.00000 10.00000,...</td>\n",
              "    </tr>\n",
              "    <tr>\n",
              "      <th>2</th>\n",
              "      <td>east</td>\n",
              "      <td>POLYGON ((20.00000 0.00000, 20.00000 10.00000,...</td>\n",
              "    </tr>\n",
              "  </tbody>\n",
              "</table>\n",
              "</div>"
            ],
            "text/plain": [
              "     names                                           geometry\n",
              "0     west  POLYGON ((0.00000 0.00000, 0.00000 10.00000, 1...\n",
              "1  central  POLYGON ((10.00000 0.00000, 10.00000 10.00000,...\n",
              "2     east  POLYGON ((20.00000 0.00000, 20.00000 10.00000,..."
            ]
          },
          "metadata": {
            "tags": []
          },
          "execution_count": 86
        }
      ]
    },
    {
      "cell_type": "markdown",
      "metadata": {
        "id": "E7UAMcOOwp1S",
        "colab_type": "text"
      },
      "source": [
        "The dataframe provides the ability to add add additional columns:"
      ]
    },
    {
      "cell_type": "code",
      "metadata": {
        "id": "h0HxgwAYwp1U",
        "colab_type": "code",
        "colab": {
          "base_uri": "https://localhost:8080/",
          "height": 142
        },
        "outputId": "2ea7dca2-1564-4052-c15f-8f4850fef9af"
      },
      "source": [
        "polys_df['Unemployment'] = [ 7.8, 5.3, 8.2]\n",
        "polys_df"
      ],
      "execution_count": 87,
      "outputs": [
        {
          "output_type": "execute_result",
          "data": {
            "text/html": [
              "<div>\n",
              "<style scoped>\n",
              "    .dataframe tbody tr th:only-of-type {\n",
              "        vertical-align: middle;\n",
              "    }\n",
              "\n",
              "    .dataframe tbody tr th {\n",
              "        vertical-align: top;\n",
              "    }\n",
              "\n",
              "    .dataframe thead th {\n",
              "        text-align: right;\n",
              "    }\n",
              "</style>\n",
              "<table border=\"1\" class=\"dataframe\">\n",
              "  <thead>\n",
              "    <tr style=\"text-align: right;\">\n",
              "      <th></th>\n",
              "      <th>names</th>\n",
              "      <th>geometry</th>\n",
              "      <th>Unemployment</th>\n",
              "    </tr>\n",
              "  </thead>\n",
              "  <tbody>\n",
              "    <tr>\n",
              "      <th>0</th>\n",
              "      <td>west</td>\n",
              "      <td>POLYGON ((0.00000 0.00000, 0.00000 10.00000, 1...</td>\n",
              "      <td>7.8</td>\n",
              "    </tr>\n",
              "    <tr>\n",
              "      <th>1</th>\n",
              "      <td>central</td>\n",
              "      <td>POLYGON ((10.00000 0.00000, 10.00000 10.00000,...</td>\n",
              "      <td>5.3</td>\n",
              "    </tr>\n",
              "    <tr>\n",
              "      <th>2</th>\n",
              "      <td>east</td>\n",
              "      <td>POLYGON ((20.00000 0.00000, 20.00000 10.00000,...</td>\n",
              "      <td>8.2</td>\n",
              "    </tr>\n",
              "  </tbody>\n",
              "</table>\n",
              "</div>"
            ],
            "text/plain": [
              "     names                                           geometry  Unemployment\n",
              "0     west  POLYGON ((0.00000 0.00000, 0.00000 10.00000, 1...           7.8\n",
              "1  central  POLYGON ((10.00000 0.00000, 10.00000 10.00000,...           5.3\n",
              "2     east  POLYGON ((20.00000 0.00000, 20.00000 10.00000,...           8.2"
            ]
          },
          "metadata": {
            "tags": []
          },
          "execution_count": 87
        }
      ]
    },
    {
      "cell_type": "markdown",
      "metadata": {
        "id": "vlPOXGnQwp1Y",
        "colab_type": "text"
      },
      "source": [
        "and it supports different types of subsetting and traditional (i.e.,\n",
        "nonspatial) queries. For example, find the regions with unemployment\n",
        "rates above 6 percent:"
      ]
    },
    {
      "cell_type": "code",
      "metadata": {
        "id": "nZYH_Oqzwp1a",
        "colab_type": "code",
        "colab": {
          "base_uri": "https://localhost:8080/",
          "height": 111
        },
        "outputId": "edf3806d-f96e-44cd-b7c8-48be3393741b"
      },
      "source": [
        "polys_df[polys_df['Unemployment']>6.0]"
      ],
      "execution_count": 88,
      "outputs": [
        {
          "output_type": "execute_result",
          "data": {
            "text/html": [
              "<div>\n",
              "<style scoped>\n",
              "    .dataframe tbody tr th:only-of-type {\n",
              "        vertical-align: middle;\n",
              "    }\n",
              "\n",
              "    .dataframe tbody tr th {\n",
              "        vertical-align: top;\n",
              "    }\n",
              "\n",
              "    .dataframe thead th {\n",
              "        text-align: right;\n",
              "    }\n",
              "</style>\n",
              "<table border=\"1\" class=\"dataframe\">\n",
              "  <thead>\n",
              "    <tr style=\"text-align: right;\">\n",
              "      <th></th>\n",
              "      <th>names</th>\n",
              "      <th>geometry</th>\n",
              "      <th>Unemployment</th>\n",
              "    </tr>\n",
              "  </thead>\n",
              "  <tbody>\n",
              "    <tr>\n",
              "      <th>0</th>\n",
              "      <td>west</td>\n",
              "      <td>POLYGON ((0.00000 0.00000, 0.00000 10.00000, 1...</td>\n",
              "      <td>7.8</td>\n",
              "    </tr>\n",
              "    <tr>\n",
              "      <th>2</th>\n",
              "      <td>east</td>\n",
              "      <td>POLYGON ((20.00000 0.00000, 20.00000 10.00000,...</td>\n",
              "      <td>8.2</td>\n",
              "    </tr>\n",
              "  </tbody>\n",
              "</table>\n",
              "</div>"
            ],
            "text/plain": [
              "  names                                           geometry  Unemployment\n",
              "0  west  POLYGON ((0.00000 0.00000, 0.00000 10.00000, 1...           7.8\n",
              "2  east  POLYGON ((20.00000 0.00000, 20.00000 10.00000,...           8.2"
            ]
          },
          "metadata": {
            "tags": []
          },
          "execution_count": 88
        }
      ]
    },
    {
      "cell_type": "markdown",
      "metadata": {
        "id": "9mVKg6lkwp1e",
        "colab_type": "text"
      },
      "source": [
        "There is nothing sacred about the column labeled \\'geometry\\' in the\n",
        "GeoDataFrame. Moreover, we can add additional GeoSeries to the same\n",
        "dataframe, as they will be treated as regular columns. However, only one\n",
        "GeoSeries can serve as the column against which any spatial methods are\n",
        "applied when called upon. This column can be accessed through the\n",
        "`geometry` attribute of the `GeoDataFrame`:"
      ]
    },
    {
      "cell_type": "code",
      "metadata": {
        "id": "V8V0LXxKwp1f",
        "colab_type": "code",
        "colab": {
          "base_uri": "https://localhost:8080/",
          "height": 85
        },
        "outputId": "17f4903d-e0c3-4f4e-c0f1-4477303297ed"
      },
      "source": [
        "polys_df.geometry"
      ],
      "execution_count": 89,
      "outputs": [
        {
          "output_type": "execute_result",
          "data": {
            "text/plain": [
              "0    POLYGON ((0.00000 0.00000, 0.00000 10.00000, 1...\n",
              "1    POLYGON ((10.00000 0.00000, 10.00000 10.00000,...\n",
              "2    POLYGON ((20.00000 0.00000, 20.00000 10.00000,...\n",
              "Name: geometry, dtype: geometry"
            ]
          },
          "metadata": {
            "tags": []
          },
          "execution_count": 89
        }
      ]
    },
    {
      "cell_type": "markdown",
      "metadata": {
        "id": "iMd0N5-Twp1m",
        "colab_type": "text"
      },
      "source": [
        "Let\\'s create a new Points GeoSeries and add it to this GeoDataFrame as\n",
        "a regular column:"
      ]
    },
    {
      "cell_type": "code",
      "metadata": {
        "id": "zj86dzhHwp1o",
        "colab_type": "code",
        "colab": {
          "base_uri": "https://localhost:8080/",
          "height": 85
        },
        "outputId": "27e7538f-fd6b-4221-fb07-e195431dc219"
      },
      "source": [
        "points = gpd.GeoSeries([Point(5,5), Point(15, 6), Point([25,9])])\n",
        "polys_df['points'] = points\n",
        "polys_df.geometry"
      ],
      "execution_count": 90,
      "outputs": [
        {
          "output_type": "execute_result",
          "data": {
            "text/plain": [
              "0    POLYGON ((0.00000 0.00000, 0.00000 10.00000, 1...\n",
              "1    POLYGON ((10.00000 0.00000, 10.00000 10.00000,...\n",
              "2    POLYGON ((20.00000 0.00000, 20.00000 10.00000,...\n",
              "Name: geometry, dtype: geometry"
            ]
          },
          "metadata": {
            "tags": []
          },
          "execution_count": 90
        }
      ]
    },
    {
      "cell_type": "markdown",
      "metadata": {
        "id": "C-qEUZ3Iwp1t",
        "colab_type": "text"
      },
      "source": [
        "So the `polys` column is currently serving as the `geometry` property\n",
        "for the `GeoDataFrame` and `points` is just another column:"
      ]
    },
    {
      "cell_type": "code",
      "metadata": {
        "id": "7c49962Pwp1v",
        "colab_type": "code",
        "colab": {
          "base_uri": "https://localhost:8080/",
          "height": 142
        },
        "outputId": "687400dd-8516-40c2-86b7-b0a459623fab"
      },
      "source": [
        "polys_df"
      ],
      "execution_count": 91,
      "outputs": [
        {
          "output_type": "execute_result",
          "data": {
            "text/html": [
              "<div>\n",
              "<style scoped>\n",
              "    .dataframe tbody tr th:only-of-type {\n",
              "        vertical-align: middle;\n",
              "    }\n",
              "\n",
              "    .dataframe tbody tr th {\n",
              "        vertical-align: top;\n",
              "    }\n",
              "\n",
              "    .dataframe thead th {\n",
              "        text-align: right;\n",
              "    }\n",
              "</style>\n",
              "<table border=\"1\" class=\"dataframe\">\n",
              "  <thead>\n",
              "    <tr style=\"text-align: right;\">\n",
              "      <th></th>\n",
              "      <th>names</th>\n",
              "      <th>geometry</th>\n",
              "      <th>Unemployment</th>\n",
              "      <th>points</th>\n",
              "    </tr>\n",
              "  </thead>\n",
              "  <tbody>\n",
              "    <tr>\n",
              "      <th>0</th>\n",
              "      <td>west</td>\n",
              "      <td>POLYGON ((0.00000 0.00000, 0.00000 10.00000, 1...</td>\n",
              "      <td>7.8</td>\n",
              "      <td>POINT (5.00000 5.00000)</td>\n",
              "    </tr>\n",
              "    <tr>\n",
              "      <th>1</th>\n",
              "      <td>central</td>\n",
              "      <td>POLYGON ((10.00000 0.00000, 10.00000 10.00000,...</td>\n",
              "      <td>5.3</td>\n",
              "      <td>POINT (15.00000 6.00000)</td>\n",
              "    </tr>\n",
              "    <tr>\n",
              "      <th>2</th>\n",
              "      <td>east</td>\n",
              "      <td>POLYGON ((20.00000 0.00000, 20.00000 10.00000,...</td>\n",
              "      <td>8.2</td>\n",
              "      <td>POINT (25.00000 9.00000)</td>\n",
              "    </tr>\n",
              "  </tbody>\n",
              "</table>\n",
              "</div>"
            ],
            "text/plain": [
              "     names  ...                    points\n",
              "0     west  ...   POINT (5.00000 5.00000)\n",
              "1  central  ...  POINT (15.00000 6.00000)\n",
              "2     east  ...  POINT (25.00000 9.00000)\n",
              "\n",
              "[3 rows x 4 columns]"
            ]
          },
          "metadata": {
            "tags": []
          },
          "execution_count": 91
        }
      ]
    },
    {
      "cell_type": "markdown",
      "metadata": {
        "id": "gg6XdwM5wp10",
        "colab_type": "text"
      },
      "source": [
        "so when we call the `plot` method we get the polygon representation:"
      ]
    },
    {
      "cell_type": "code",
      "metadata": {
        "id": "TWCttBCBwp12",
        "colab_type": "code",
        "colab": {
          "base_uri": "https://localhost:8080/",
          "height": 177
        },
        "outputId": "67f2c683-07a5-4fb4-bee7-9b74c09adb20"
      },
      "source": [
        "polys_df.plot(edgecolor='k')"
      ],
      "execution_count": 92,
      "outputs": [
        {
          "output_type": "execute_result",
          "data": {
            "text/plain": [
              "<matplotlib.axes._subplots.AxesSubplot at 0x7f8625a684a8>"
            ]
          },
          "metadata": {
            "tags": []
          },
          "execution_count": 92
        },
        {
          "output_type": "display_data",
          "data": {
            "image/png": "[encoded data removed]",
            "text/plain": [
              "<Figure size 432x288 with 1 Axes>"
            ]
          },
          "metadata": {
            "tags": []
          }
        }
      ]
    },
    {
      "cell_type": "markdown",
      "metadata": {
        "id": "75xDhH98wp18",
        "colab_type": "text"
      },
      "source": [
        "However, if we explicity set the geometry property (and assign this to a\n",
        "new object with the same name), and plot, things change:"
      ]
    },
    {
      "cell_type": "code",
      "metadata": {
        "id": "E5Yv6dOiwp1_",
        "colab_type": "code",
        "colab": {
          "base_uri": "https://localhost:8080/",
          "height": 132
        },
        "outputId": "3a9e9351-c88e-4dc3-b3ce-89e6d2fa7f82"
      },
      "source": [
        "polys_df = polys_df.set_geometry('points')\n",
        "polys_df.plot()"
      ],
      "execution_count": 93,
      "outputs": [
        {
          "output_type": "execute_result",
          "data": {
            "text/plain": [
              "<matplotlib.axes._subplots.AxesSubplot at 0x7f86254fea90>"
            ]
          },
          "metadata": {
            "tags": []
          },
          "execution_count": 93
        },
        {
          "output_type": "display_data",
          "data": {
            "image/png": "[encoded data removed]",
            "text/plain": [
              "<Figure size 432x288 with 1 Axes>"
            ]
          },
          "metadata": {
            "tags": []
          }
        }
      ]
    },
    {
      "cell_type": "markdown",
      "metadata": {
        "id": "fgG8b3ecwp2H",
        "colab_type": "text"
      },
      "source": [
        "and this is because"
      ]
    },
    {
      "cell_type": "code",
      "metadata": {
        "id": "o0jbUjYBwp2I",
        "colab_type": "code",
        "colab": {
          "base_uri": "https://localhost:8080/",
          "height": 85
        },
        "outputId": "c64be246-a7fb-4a04-9a99-9645b7bec186"
      },
      "source": [
        "polys_df.geometry"
      ],
      "execution_count": 94,
      "outputs": [
        {
          "output_type": "execute_result",
          "data": {
            "text/plain": [
              "0     POINT (5.00000 5.00000)\n",
              "1    POINT (15.00000 6.00000)\n",
              "2    POINT (25.00000 9.00000)\n",
              "Name: points, dtype: geometry"
            ]
          },
          "metadata": {
            "tags": []
          },
          "execution_count": 94
        }
      ]
    },
    {
      "cell_type": "markdown",
      "metadata": {
        "id": "LNTajKdPwp2P",
        "colab_type": "text"
      },
      "source": [
        "Read a Polygon Shapefile\n",
        "========================"
      ]
    },
    {
      "cell_type": "code",
      "metadata": {
        "id": "QHfMrqwIwp2Q",
        "colab_type": "code",
        "colab": {}
      },
      "source": [
        "tracts_df = gpd.read_file('pysalnarsc19/content/data/california_tracts.shp')"
      ],
      "execution_count": 0,
      "outputs": []
    },
    {
      "cell_type": "code",
      "metadata": {
        "id": "eCt3kUOlwp2W",
        "colab_type": "code",
        "colab": {
          "base_uri": "https://localhost:8080/",
          "height": 593
        },
        "outputId": "35bcbc86-81ca-4aae-b3dc-275bd143f7da"
      },
      "source": [
        "tracts_df.head()"
      ],
      "execution_count": 96,
      "outputs": [
        {
          "output_type": "execute_result",
          "data": {
            "text/html": [
              "<div>\n",
              "<style scoped>\n",
              "    .dataframe tbody tr th:only-of-type {\n",
              "        vertical-align: middle;\n",
              "    }\n",
              "\n",
              "    .dataframe tbody tr th {\n",
              "        vertical-align: top;\n",
              "    }\n",
              "\n",
              "    .dataframe thead th {\n",
              "        text-align: right;\n",
              "    }\n",
              "</style>\n",
              "<table border=\"1\" class=\"dataframe\">\n",
              "  <thead>\n",
              "    <tr style=\"text-align: right;\">\n",
              "      <th></th>\n",
              "      <th>GEOID10</th>\n",
              "      <th>NAMELSAD10</th>\n",
              "      <th>ALAND10</th>\n",
              "      <th>AWATER10</th>\n",
              "      <th>INTPTLAT10</th>\n",
              "      <th>INTPTLON10</th>\n",
              "      <th>DP0010001</th>\n",
              "      <th>DP0010002</th>\n",
              "      <th>DP0010003</th>\n",
              "      <th>DP0010004</th>\n",
              "      <th>DP0010005</th>\n",
              "      <th>DP0010006</th>\n",
              "      <th>DP0010007</th>\n",
              "      <th>DP0010008</th>\n",
              "      <th>DP0010009</th>\n",
              "      <th>DP0010010</th>\n",
              "      <th>DP0010011</th>\n",
              "      <th>DP0010012</th>\n",
              "      <th>DP0010013</th>\n",
              "      <th>DP0010014</th>\n",
              "      <th>DP0010015</th>\n",
              "      <th>DP0010016</th>\n",
              "      <th>DP0010017</th>\n",
              "      <th>DP0010018</th>\n",
              "      <th>DP0010019</th>\n",
              "      <th>DP0010020</th>\n",
              "      <th>DP0010021</th>\n",
              "      <th>DP0010022</th>\n",
              "      <th>DP0010023</th>\n",
              "      <th>DP0010024</th>\n",
              "      <th>DP0010025</th>\n",
              "      <th>DP0010026</th>\n",
              "      <th>DP0010027</th>\n",
              "      <th>DP0010028</th>\n",
              "      <th>DP0010029</th>\n",
              "      <th>DP0010030</th>\n",
              "      <th>DP0010031</th>\n",
              "      <th>DP0010032</th>\n",
              "      <th>DP0010033</th>\n",
              "      <th>DP0010034</th>\n",
              "      <th>...</th>\n",
              "      <th>DP0130001</th>\n",
              "      <th>DP0130002</th>\n",
              "      <th>DP0130003</th>\n",
              "      <th>DP0130004</th>\n",
              "      <th>DP0130005</th>\n",
              "      <th>DP0130006</th>\n",
              "      <th>DP0130007</th>\n",
              "      <th>DP0130008</th>\n",
              "      <th>DP0130009</th>\n",
              "      <th>DP0130010</th>\n",
              "      <th>DP0130011</th>\n",
              "      <th>DP0130012</th>\n",
              "      <th>DP0130013</th>\n",
              "      <th>DP0130014</th>\n",
              "      <th>DP0130015</th>\n",
              "      <th>DP0140001</th>\n",
              "      <th>DP0150001</th>\n",
              "      <th>DP0160001</th>\n",
              "      <th>DP0170001</th>\n",
              "      <th>DP0180001</th>\n",
              "      <th>DP0180002</th>\n",
              "      <th>DP0180003</th>\n",
              "      <th>DP0180004</th>\n",
              "      <th>DP0180005</th>\n",
              "      <th>DP0180006</th>\n",
              "      <th>DP0180007</th>\n",
              "      <th>DP0180008</th>\n",
              "      <th>DP0180009</th>\n",
              "      <th>DP0190001</th>\n",
              "      <th>DP0200001</th>\n",
              "      <th>DP0210001</th>\n",
              "      <th>DP0210002</th>\n",
              "      <th>DP0210003</th>\n",
              "      <th>DP0220001</th>\n",
              "      <th>DP0220002</th>\n",
              "      <th>DP0230001</th>\n",
              "      <th>DP0230002</th>\n",
              "      <th>Shape_Leng</th>\n",
              "      <th>Shape_Area</th>\n",
              "      <th>geometry</th>\n",
              "    </tr>\n",
              "  </thead>\n",
              "  <tbody>\n",
              "    <tr>\n",
              "      <th>0</th>\n",
              "      <td>06083002103</td>\n",
              "      <td>Census Tract 21.03</td>\n",
              "      <td>2838200.0</td>\n",
              "      <td>7603.0</td>\n",
              "      <td>+34.9306689</td>\n",
              "      <td>-120.4270588</td>\n",
              "      <td>3930</td>\n",
              "      <td>354</td>\n",
              "      <td>290</td>\n",
              "      <td>253</td>\n",
              "      <td>254</td>\n",
              "      <td>329</td>\n",
              "      <td>351</td>\n",
              "      <td>312</td>\n",
              "      <td>213</td>\n",
              "      <td>219</td>\n",
              "      <td>218</td>\n",
              "      <td>217</td>\n",
              "      <td>229</td>\n",
              "      <td>177</td>\n",
              "      <td>150</td>\n",
              "      <td>92</td>\n",
              "      <td>91</td>\n",
              "      <td>89</td>\n",
              "      <td>92</td>\n",
              "      <td>1874</td>\n",
              "      <td>170</td>\n",
              "      <td>143</td>\n",
              "      <td>114</td>\n",
              "      <td>130</td>\n",
              "      <td>160</td>\n",
              "      <td>166</td>\n",
              "      <td>152</td>\n",
              "      <td>111</td>\n",
              "      <td>114</td>\n",
              "      <td>105</td>\n",
              "      <td>110</td>\n",
              "      <td>117</td>\n",
              "      <td>89</td>\n",
              "      <td>68</td>\n",
              "      <td>...</td>\n",
              "      <td>1469</td>\n",
              "      <td>866</td>\n",
              "      <td>443</td>\n",
              "      <td>596</td>\n",
              "      <td>293</td>\n",
              "      <td>77</td>\n",
              "      <td>41</td>\n",
              "      <td>193</td>\n",
              "      <td>109</td>\n",
              "      <td>603</td>\n",
              "      <td>503</td>\n",
              "      <td>228</td>\n",
              "      <td>62</td>\n",
              "      <td>275</td>\n",
              "      <td>138</td>\n",
              "      <td>501</td>\n",
              "      <td>365</td>\n",
              "      <td>2.62</td>\n",
              "      <td>3.44</td>\n",
              "      <td>1563</td>\n",
              "      <td>1469</td>\n",
              "      <td>94</td>\n",
              "      <td>66</td>\n",
              "      <td>4</td>\n",
              "      <td>6</td>\n",
              "      <td>4</td>\n",
              "      <td>6</td>\n",
              "      <td>8</td>\n",
              "      <td>1.2</td>\n",
              "      <td>6.2</td>\n",
              "      <td>1469</td>\n",
              "      <td>476</td>\n",
              "      <td>993</td>\n",
              "      <td>1360</td>\n",
              "      <td>2492</td>\n",
              "      <td>2.86</td>\n",
              "      <td>2.51</td>\n",
              "      <td>0.069451</td>\n",
              "      <td>0.000281</td>\n",
              "      <td>POLYGON ((-120.41794 34.93834, -120.41766 34.9...</td>\n",
              "    </tr>\n",
              "    <tr>\n",
              "      <th>1</th>\n",
              "      <td>06083002402</td>\n",
              "      <td>Census Tract 24.02</td>\n",
              "      <td>16288573.0</td>\n",
              "      <td>44468.0</td>\n",
              "      <td>+34.9287963</td>\n",
              "      <td>-120.4780833</td>\n",
              "      <td>11406</td>\n",
              "      <td>1250</td>\n",
              "      <td>1099</td>\n",
              "      <td>969</td>\n",
              "      <td>1055</td>\n",
              "      <td>963</td>\n",
              "      <td>1063</td>\n",
              "      <td>893</td>\n",
              "      <td>863</td>\n",
              "      <td>714</td>\n",
              "      <td>609</td>\n",
              "      <td>524</td>\n",
              "      <td>400</td>\n",
              "      <td>301</td>\n",
              "      <td>207</td>\n",
              "      <td>153</td>\n",
              "      <td>139</td>\n",
              "      <td>103</td>\n",
              "      <td>101</td>\n",
              "      <td>5788</td>\n",
              "      <td>615</td>\n",
              "      <td>559</td>\n",
              "      <td>512</td>\n",
              "      <td>565</td>\n",
              "      <td>529</td>\n",
              "      <td>539</td>\n",
              "      <td>457</td>\n",
              "      <td>444</td>\n",
              "      <td>365</td>\n",
              "      <td>289</td>\n",
              "      <td>261</td>\n",
              "      <td>202</td>\n",
              "      <td>137</td>\n",
              "      <td>95</td>\n",
              "      <td>...</td>\n",
              "      <td>2920</td>\n",
              "      <td>2366</td>\n",
              "      <td>1543</td>\n",
              "      <td>1681</td>\n",
              "      <td>1093</td>\n",
              "      <td>204</td>\n",
              "      <td>127</td>\n",
              "      <td>481</td>\n",
              "      <td>323</td>\n",
              "      <td>554</td>\n",
              "      <td>409</td>\n",
              "      <td>182</td>\n",
              "      <td>56</td>\n",
              "      <td>227</td>\n",
              "      <td>103</td>\n",
              "      <td>1720</td>\n",
              "      <td>530</td>\n",
              "      <td>3.90</td>\n",
              "      <td>4.15</td>\n",
              "      <td>3041</td>\n",
              "      <td>2920</td>\n",
              "      <td>121</td>\n",
              "      <td>48</td>\n",
              "      <td>0</td>\n",
              "      <td>20</td>\n",
              "      <td>3</td>\n",
              "      <td>8</td>\n",
              "      <td>42</td>\n",
              "      <td>1.4</td>\n",
              "      <td>3.1</td>\n",
              "      <td>2920</td>\n",
              "      <td>1444</td>\n",
              "      <td>1476</td>\n",
              "      <td>5161</td>\n",
              "      <td>6240</td>\n",
              "      <td>3.57</td>\n",
              "      <td>4.23</td>\n",
              "      <td>0.190631</td>\n",
              "      <td>0.001611</td>\n",
              "      <td>POLYGON ((-120.47389 34.92081, -120.47429 34.9...</td>\n",
              "    </tr>\n",
              "    <tr>\n",
              "      <th>2</th>\n",
              "      <td>06083002102</td>\n",
              "      <td>Census Tract 21.02</td>\n",
              "      <td>1352551.0</td>\n",
              "      <td>0.0</td>\n",
              "      <td>+34.9421111</td>\n",
              "      <td>-120.4267767</td>\n",
              "      <td>2084</td>\n",
              "      <td>156</td>\n",
              "      <td>141</td>\n",
              "      <td>139</td>\n",
              "      <td>154</td>\n",
              "      <td>160</td>\n",
              "      <td>141</td>\n",
              "      <td>129</td>\n",
              "      <td>123</td>\n",
              "      <td>130</td>\n",
              "      <td>152</td>\n",
              "      <td>155</td>\n",
              "      <td>118</td>\n",
              "      <td>111</td>\n",
              "      <td>66</td>\n",
              "      <td>47</td>\n",
              "      <td>47</td>\n",
              "      <td>72</td>\n",
              "      <td>43</td>\n",
              "      <td>1036</td>\n",
              "      <td>74</td>\n",
              "      <td>86</td>\n",
              "      <td>82</td>\n",
              "      <td>95</td>\n",
              "      <td>91</td>\n",
              "      <td>57</td>\n",
              "      <td>69</td>\n",
              "      <td>65</td>\n",
              "      <td>55</td>\n",
              "      <td>65</td>\n",
              "      <td>78</td>\n",
              "      <td>49</td>\n",
              "      <td>64</td>\n",
              "      <td>22</td>\n",
              "      <td>...</td>\n",
              "      <td>739</td>\n",
              "      <td>499</td>\n",
              "      <td>216</td>\n",
              "      <td>355</td>\n",
              "      <td>156</td>\n",
              "      <td>37</td>\n",
              "      <td>13</td>\n",
              "      <td>107</td>\n",
              "      <td>47</td>\n",
              "      <td>240</td>\n",
              "      <td>205</td>\n",
              "      <td>77</td>\n",
              "      <td>22</td>\n",
              "      <td>128</td>\n",
              "      <td>66</td>\n",
              "      <td>248</td>\n",
              "      <td>209</td>\n",
              "      <td>2.82</td>\n",
              "      <td>3.42</td>\n",
              "      <td>779</td>\n",
              "      <td>739</td>\n",
              "      <td>40</td>\n",
              "      <td>10</td>\n",
              "      <td>1</td>\n",
              "      <td>5</td>\n",
              "      <td>4</td>\n",
              "      <td>6</td>\n",
              "      <td>14</td>\n",
              "      <td>1.1</td>\n",
              "      <td>3.2</td>\n",
              "      <td>739</td>\n",
              "      <td>433</td>\n",
              "      <td>306</td>\n",
              "      <td>1179</td>\n",
              "      <td>905</td>\n",
              "      <td>2.72</td>\n",
              "      <td>2.96</td>\n",
              "      <td>0.051289</td>\n",
              "      <td>0.000133</td>\n",
              "      <td>POLYGON ((-120.41766 34.93835, -120.41794 34.9...</td>\n",
              "    </tr>\n",
              "    <tr>\n",
              "      <th>3</th>\n",
              "      <td>06083002010</td>\n",
              "      <td>Census Tract 20.10</td>\n",
              "      <td>2417990.0</td>\n",
              "      <td>0.0</td>\n",
              "      <td>+34.8714281</td>\n",
              "      <td>-120.4100285</td>\n",
              "      <td>4375</td>\n",
              "      <td>215</td>\n",
              "      <td>264</td>\n",
              "      <td>341</td>\n",
              "      <td>393</td>\n",
              "      <td>213</td>\n",
              "      <td>179</td>\n",
              "      <td>197</td>\n",
              "      <td>226</td>\n",
              "      <td>302</td>\n",
              "      <td>414</td>\n",
              "      <td>427</td>\n",
              "      <td>323</td>\n",
              "      <td>251</td>\n",
              "      <td>177</td>\n",
              "      <td>130</td>\n",
              "      <td>121</td>\n",
              "      <td>113</td>\n",
              "      <td>89</td>\n",
              "      <td>2182</td>\n",
              "      <td>105</td>\n",
              "      <td>139</td>\n",
              "      <td>191</td>\n",
              "      <td>209</td>\n",
              "      <td>119</td>\n",
              "      <td>91</td>\n",
              "      <td>89</td>\n",
              "      <td>108</td>\n",
              "      <td>131</td>\n",
              "      <td>220</td>\n",
              "      <td>197</td>\n",
              "      <td>170</td>\n",
              "      <td>128</td>\n",
              "      <td>88</td>\n",
              "      <td>...</td>\n",
              "      <td>1522</td>\n",
              "      <td>1246</td>\n",
              "      <td>498</td>\n",
              "      <td>1059</td>\n",
              "      <td>409</td>\n",
              "      <td>56</td>\n",
              "      <td>24</td>\n",
              "      <td>131</td>\n",
              "      <td>65</td>\n",
              "      <td>276</td>\n",
              "      <td>223</td>\n",
              "      <td>85</td>\n",
              "      <td>35</td>\n",
              "      <td>138</td>\n",
              "      <td>91</td>\n",
              "      <td>548</td>\n",
              "      <td>444</td>\n",
              "      <td>2.87</td>\n",
              "      <td>3.16</td>\n",
              "      <td>1565</td>\n",
              "      <td>1522</td>\n",
              "      <td>43</td>\n",
              "      <td>8</td>\n",
              "      <td>1</td>\n",
              "      <td>19</td>\n",
              "      <td>2</td>\n",
              "      <td>2</td>\n",
              "      <td>11</td>\n",
              "      <td>1.4</td>\n",
              "      <td>3.5</td>\n",
              "      <td>1522</td>\n",
              "      <td>1303</td>\n",
              "      <td>219</td>\n",
              "      <td>3609</td>\n",
              "      <td>761</td>\n",
              "      <td>2.77</td>\n",
              "      <td>3.47</td>\n",
              "      <td>0.066269</td>\n",
              "      <td>0.000238</td>\n",
              "      <td>POLYGON ((-120.41147 34.87962, -120.41141 34.8...</td>\n",
              "    </tr>\n",
              "    <tr>\n",
              "      <th>4</th>\n",
              "      <td>06083002009</td>\n",
              "      <td>Census Tract 20.09</td>\n",
              "      <td>2603281.0</td>\n",
              "      <td>0.0</td>\n",
              "      <td>+34.8722878</td>\n",
              "      <td>-120.4277159</td>\n",
              "      <td>3826</td>\n",
              "      <td>170</td>\n",
              "      <td>232</td>\n",
              "      <td>318</td>\n",
              "      <td>377</td>\n",
              "      <td>226</td>\n",
              "      <td>153</td>\n",
              "      <td>155</td>\n",
              "      <td>182</td>\n",
              "      <td>268</td>\n",
              "      <td>317</td>\n",
              "      <td>376</td>\n",
              "      <td>244</td>\n",
              "      <td>200</td>\n",
              "      <td>143</td>\n",
              "      <td>133</td>\n",
              "      <td>131</td>\n",
              "      <td>106</td>\n",
              "      <td>95</td>\n",
              "      <td>1871</td>\n",
              "      <td>95</td>\n",
              "      <td>120</td>\n",
              "      <td>150</td>\n",
              "      <td>202</td>\n",
              "      <td>134</td>\n",
              "      <td>76</td>\n",
              "      <td>75</td>\n",
              "      <td>81</td>\n",
              "      <td>132</td>\n",
              "      <td>153</td>\n",
              "      <td>191</td>\n",
              "      <td>122</td>\n",
              "      <td>104</td>\n",
              "      <td>55</td>\n",
              "      <td>...</td>\n",
              "      <td>1326</td>\n",
              "      <td>1020</td>\n",
              "      <td>438</td>\n",
              "      <td>795</td>\n",
              "      <td>330</td>\n",
              "      <td>61</td>\n",
              "      <td>27</td>\n",
              "      <td>164</td>\n",
              "      <td>81</td>\n",
              "      <td>306</td>\n",
              "      <td>272</td>\n",
              "      <td>91</td>\n",
              "      <td>35</td>\n",
              "      <td>181</td>\n",
              "      <td>135</td>\n",
              "      <td>487</td>\n",
              "      <td>427</td>\n",
              "      <td>2.85</td>\n",
              "      <td>3.26</td>\n",
              "      <td>1397</td>\n",
              "      <td>1326</td>\n",
              "      <td>71</td>\n",
              "      <td>17</td>\n",
              "      <td>3</td>\n",
              "      <td>31</td>\n",
              "      <td>1</td>\n",
              "      <td>3</td>\n",
              "      <td>16</td>\n",
              "      <td>3.1</td>\n",
              "      <td>4.5</td>\n",
              "      <td>1326</td>\n",
              "      <td>969</td>\n",
              "      <td>357</td>\n",
              "      <td>2730</td>\n",
              "      <td>1045</td>\n",
              "      <td>2.82</td>\n",
              "      <td>2.93</td>\n",
              "      <td>0.065523</td>\n",
              "      <td>0.000257</td>\n",
              "      <td>POLYGON ((-120.42352 34.87928, -120.42286 34.8...</td>\n",
              "    </tr>\n",
              "  </tbody>\n",
              "</table>\n",
              "<p>5 rows × 195 columns</p>\n",
              "</div>"
            ],
            "text/plain": [
              "       GEOID10  ...                                           geometry\n",
              "0  06083002103  ...  POLYGON ((-120.41794 34.93834, -120.41766 34.9...\n",
              "1  06083002402  ...  POLYGON ((-120.47389 34.92081, -120.47429 34.9...\n",
              "2  06083002102  ...  POLYGON ((-120.41766 34.93835, -120.41794 34.9...\n",
              "3  06083002010  ...  POLYGON ((-120.41147 34.87962, -120.41141 34.8...\n",
              "4  06083002009  ...  POLYGON ((-120.42352 34.87928, -120.42286 34.8...\n",
              "\n",
              "[5 rows x 195 columns]"
            ]
          },
          "metadata": {
            "tags": []
          },
          "execution_count": 96
        }
      ]
    },
    {
      "cell_type": "code",
      "metadata": {
        "id": "tX357BdKwp2a",
        "colab_type": "code",
        "colab": {
          "base_uri": "https://localhost:8080/",
          "height": 34
        },
        "outputId": "0bf24d8c-8d83-4f73-c715-b26f6c87c3ef"
      },
      "source": [
        "tracts_df.shape"
      ],
      "execution_count": 97,
      "outputs": [
        {
          "output_type": "execute_result",
          "data": {
            "text/plain": [
              "(8057, 195)"
            ]
          },
          "metadata": {
            "tags": []
          },
          "execution_count": 97
        }
      ]
    },
    {
      "cell_type": "code",
      "metadata": {
        "id": "hCkq6xt_wp2h",
        "colab_type": "code",
        "colab": {
          "base_uri": "https://localhost:8080/",
          "height": 282
        },
        "outputId": "545e7f20-3d5c-46b1-aa28-6f76063bb995"
      },
      "source": [
        "tracts_df.plot()"
      ],
      "execution_count": 98,
      "outputs": [
        {
          "output_type": "execute_result",
          "data": {
            "text/plain": [
              "<matplotlib.axes._subplots.AxesSubplot at 0x7f862586ffd0>"
            ]
          },
          "metadata": {
            "tags": []
          },
          "execution_count": 98
        },
        {
          "output_type": "display_data",
          "data": {
            "image/png": "[encoded data removed]",
            "text/plain": [
              "<Figure size 432x288 with 1 Axes>"
            ]
          },
          "metadata": {
            "tags": []
          }
        }
      ]
    },
    {
      "cell_type": "code",
      "metadata": {
        "id": "b_ZMIqxmwp2p",
        "colab_type": "code",
        "colab": {
          "base_uri": "https://localhost:8080/",
          "height": 204
        },
        "outputId": "d682e70c-fd6f-4b2f-9c61-1ea99aa2e95c"
      },
      "source": [
        "tracts_df.crs"
      ],
      "execution_count": 99,
      "outputs": [
        {
          "output_type": "execute_result",
          "data": {
            "text/plain": [
              "<Geographic 2D CRS: EPSG:4269>\n",
              "Name: NAD83\n",
              "Axis Info [ellipsoidal]:\n",
              "- Lat[north]: Geodetic latitude (degree)\n",
              "- Lon[east]: Geodetic longitude (degree)\n",
              "Area of Use:\n",
              "- name: North America - NAD83\n",
              "- bounds: (167.65, 14.92, -47.74, 86.46)\n",
              "Datum: North American Datum 1983\n",
              "- Ellipsoid: GRS 1980\n",
              "- Prime Meridian: Greenwich"
            ]
          },
          "metadata": {
            "tags": []
          },
          "execution_count": 99
        }
      ]
    },
    {
      "cell_type": "code",
      "metadata": {
        "id": "DD30hy0xwp2s",
        "colab_type": "code",
        "colab": {
          "base_uri": "https://localhost:8080/",
          "height": 119
        },
        "outputId": "0f0d0300-3912-4923-b03a-f559e0d1590d"
      },
      "source": [
        "tracts_df.columns"
      ],
      "execution_count": 100,
      "outputs": [
        {
          "output_type": "execute_result",
          "data": {
            "text/plain": [
              "Index(['GEOID10', 'NAMELSAD10', 'ALAND10', 'AWATER10', 'INTPTLAT10',\n",
              "       'INTPTLON10', 'DP0010001', 'DP0010002', 'DP0010003', 'DP0010004',\n",
              "       ...\n",
              "       'DP0210001', 'DP0210002', 'DP0210003', 'DP0220001', 'DP0220002',\n",
              "       'DP0230001', 'DP0230002', 'Shape_Leng', 'Shape_Area', 'geometry'],\n",
              "      dtype='object', length=195)"
            ]
          },
          "metadata": {
            "tags": []
          },
          "execution_count": 100
        }
      ]
    },
    {
      "cell_type": "markdown",
      "metadata": {
        "id": "oFC0yA-rwp2w",
        "colab_type": "text"
      },
      "source": [
        "Read a Point Shapefile\n",
        "======================"
      ]
    },
    {
      "cell_type": "code",
      "metadata": {
        "id": "41egzwFLwp2x",
        "colab_type": "code",
        "colab": {}
      },
      "source": [
        "clinics_df = gpd.read_file('pysalnarsc19/content/data/behavioralHealth.shp')"
      ],
      "execution_count": 0,
      "outputs": []
    },
    {
      "cell_type": "code",
      "metadata": {
        "id": "YV-5hTHnwp20",
        "colab_type": "code",
        "colab": {
          "base_uri": "https://localhost:8080/",
          "height": 128
        },
        "outputId": "20e90517-8b57-4483-93d0-5ae3c9b987b4"
      },
      "source": [
        "clinics_df.plot()"
      ],
      "execution_count": 102,
      "outputs": [
        {
          "output_type": "execute_result",
          "data": {
            "text/plain": [
              "<matplotlib.axes._subplots.AxesSubplot at 0x7f8625e53080>"
            ]
          },
          "metadata": {
            "tags": []
          },
          "execution_count": 102
        },
        {
          "output_type": "display_data",
          "data": {
            "image/png": "[encoded data removed]",
            "text/plain": [
              "<Figure size 432x288 with 1 Axes>"
            ]
          },
          "metadata": {
            "tags": []
          }
        }
      ]
    },
    {
      "cell_type": "code",
      "metadata": {
        "id": "ypH6FHfXwp24",
        "colab_type": "code",
        "colab": {
          "base_uri": "https://localhost:8080/",
          "height": 68
        },
        "outputId": "7b91987b-226a-448e-ebf3-5b3143d2ac57"
      },
      "source": [
        "clinics_df.columns"
      ],
      "execution_count": 103,
      "outputs": [
        {
          "output_type": "execute_result",
          "data": {
            "text/plain": [
              "Index(['OBJECTID', 'SITE_TYPE', 'SITE_NAME', 'ADDRESS', 'CITY', 'ZIPCODE',\n",
              "       'PHONE', 'geometry'],\n",
              "      dtype='object')"
            ]
          },
          "metadata": {
            "tags": []
          },
          "execution_count": 103
        }
      ]
    },
    {
      "cell_type": "code",
      "metadata": {
        "id": "CpMHVblTwp3E",
        "colab_type": "code",
        "colab": {
          "base_uri": "https://localhost:8080/",
          "height": 34
        },
        "outputId": "8da18933-4f0b-4c52-a306-0f97794bdbcb"
      },
      "source": [
        "clinics_df.shape"
      ],
      "execution_count": 104,
      "outputs": [
        {
          "output_type": "execute_result",
          "data": {
            "text/plain": [
              "(28, 8)"
            ]
          },
          "metadata": {
            "tags": []
          },
          "execution_count": 104
        }
      ]
    },
    {
      "cell_type": "code",
      "metadata": {
        "id": "SsdMXe-xwp3O",
        "colab_type": "code",
        "colab": {
          "base_uri": "https://localhost:8080/",
          "height": 119
        },
        "outputId": "28a3c369-4692-4358-b2bb-d1fc85af1e0c"
      },
      "source": [
        "clinics_df['geometry'].head()"
      ],
      "execution_count": 105,
      "outputs": [
        {
          "output_type": "execute_result",
          "data": {
            "text/plain": [
              "0    POINT (6216487.156 2291913.664)\n",
              "1    POINT (6195566.226 2280519.190)\n",
              "2    POINT (6168252.101 2261023.951)\n",
              "3    POINT (7059944.605 2169652.046)\n",
              "4    POINT (6195949.672 2280510.302)\n",
              "Name: geometry, dtype: geometry"
            ]
          },
          "metadata": {
            "tags": []
          },
          "execution_count": 105
        }
      ]
    },
    {
      "cell_type": "markdown",
      "metadata": {
        "id": "Uk88cppywp3W",
        "colab_type": "text"
      },
      "source": [
        "What we want to do now is focus on the relationships between the\n",
        "locations of these clinics in Riverside county and the census tracts in\n",
        "that county. We have two issues to deal with in order to do so.\n",
        "\n",
        "First, our dataframe for the tracts includes all 58 counties, whereas we\n",
        "only need Riverside county. Second, if you look closely at the plot of\n",
        "the clinics you will see that the units on the axes are different from\n",
        "those in the plot of the census tracts. This is because the two\n",
        "dataframes have different coordinate reference systems (CRS).\n",
        "\n",
        "Extracting Riverside County Tracts {#riverside-county}\n",
        "=================================="
      ]
    },
    {
      "cell_type": "code",
      "metadata": {
        "id": "QK8PMo9Bwp3X",
        "colab_type": "code",
        "colab": {}
      },
      "source": [
        "riverside_tracts = tracts_df[tracts_df['GEOID10'].str.match(\"^06065\")]"
      ],
      "execution_count": 0,
      "outputs": []
    },
    {
      "cell_type": "code",
      "metadata": {
        "id": "VBkT2iuawp3e",
        "colab_type": "code",
        "colab": {
          "base_uri": "https://localhost:8080/",
          "height": 132
        },
        "outputId": "5527b26b-9ddf-45ab-c27f-9d85df3c8b04"
      },
      "source": [
        "riverside_tracts.plot()"
      ],
      "execution_count": 107,
      "outputs": [
        {
          "output_type": "execute_result",
          "data": {
            "text/plain": [
              "<matplotlib.axes._subplots.AxesSubplot at 0x7f8627d80b00>"
            ]
          },
          "metadata": {
            "tags": []
          },
          "execution_count": 107
        },
        {
          "output_type": "display_data",
          "data": {
            "image/png": "[encoded data removed]",
            "text/plain": [
              "<Figure size 432x288 with 1 Axes>"
            ]
          },
          "metadata": {
            "tags": []
          }
        }
      ]
    },
    {
      "cell_type": "markdown",
      "metadata": {
        "id": "v6trnm1owp3s",
        "colab_type": "text"
      },
      "source": [
        "Coordinate Reference Systems\n",
        "============================\n",
        "\n",
        "Spatial Joins\n",
        "=============\n",
        "\n",
        "Let\\'s find out which tracts have clinics."
      ]
    },
    {
      "cell_type": "code",
      "metadata": {
        "id": "fEVIX0s8wp3u",
        "colab_type": "code",
        "colab": {
          "base_uri": "https://localhost:8080/",
          "height": 128
        },
        "outputId": "bd75b0f7-9a77-4207-8489-f17d9a85ccfc"
      },
      "source": [
        "clinics_df.plot()"
      ],
      "execution_count": 108,
      "outputs": [
        {
          "output_type": "execute_result",
          "data": {
            "text/plain": [
              "<matplotlib.axes._subplots.AxesSubplot at 0x7f862a04aba8>"
            ]
          },
          "metadata": {
            "tags": []
          },
          "execution_count": 108
        },
        {
          "output_type": "display_data",
          "data": {
            "image/png": "[encoded data removed]",
            "text/plain": [
              "<Figure size 432x288 with 1 Axes>"
            ]
          },
          "metadata": {
            "tags": []
          }
        }
      ]
    },
    {
      "cell_type": "code",
      "metadata": {
        "id": "2Al4mTs1wp32",
        "colab_type": "code",
        "colab": {
          "base_uri": "https://localhost:8080/",
          "height": 121
        },
        "outputId": "41ba9ced-a1f6-442c-d068-1dafaf98f351"
      },
      "source": [
        "clinics_df.to_crs(riverside_tracts.crs).plot()"
      ],
      "execution_count": 109,
      "outputs": [
        {
          "output_type": "execute_result",
          "data": {
            "text/plain": [
              "<matplotlib.axes._subplots.AxesSubplot at 0x7f862919fe80>"
            ]
          },
          "metadata": {
            "tags": []
          },
          "execution_count": 109
        },
        {
          "output_type": "display_data",
          "data": {
            "image/png": "[encoded data removed]",
            "text/plain": [
              "<Figure size 432x288 with 1 Axes>"
            ]
          },
          "metadata": {
            "tags": []
          }
        }
      ]
    },
    {
      "cell_type": "code",
      "metadata": {
        "id": "usfOaLNvwp4C",
        "colab_type": "code",
        "colab": {}
      },
      "source": [
        "# convert crs of clinics to match that of tracts\n",
        "clinics_df = clinics_df.to_crs(riverside_tracts.crs)"
      ],
      "execution_count": 0,
      "outputs": []
    },
    {
      "cell_type": "code",
      "metadata": {
        "id": "bwkDnMrRwp4L",
        "colab_type": "code",
        "colab": {
          "base_uri": "https://localhost:8080/",
          "height": 121
        },
        "outputId": "9c2cc084-b700-4962-e52e-bd6b5fe47907"
      },
      "source": [
        "clinics_df.plot()"
      ],
      "execution_count": 111,
      "outputs": [
        {
          "output_type": "execute_result",
          "data": {
            "text/plain": [
              "<matplotlib.axes._subplots.AxesSubplot at 0x7f8628d00a58>"
            ]
          },
          "metadata": {
            "tags": []
          },
          "execution_count": 111
        },
        {
          "output_type": "display_data",
          "data": {
            "image/png": "[encoded data removed]",
            "text/plain": [
              "<Figure size 432x288 with 1 Axes>"
            ]
          },
          "metadata": {
            "tags": []
          }
        }
      ]
    },
    {
      "cell_type": "code",
      "metadata": {
        "id": "YHJ6MFgewp4Y",
        "colab_type": "code",
        "colab": {
          "base_uri": "https://localhost:8080/",
          "height": 341
        },
        "outputId": "47e1df69-24b4-4c4f-ddb8-e614d837d4f1"
      },
      "source": [
        "clinics_tracts = gpd.sjoin(clinics_df, riverside_tracts, op='within')"
      ],
      "execution_count": 121,
      "outputs": [
        {
          "output_type": "error",
          "ename": "AttributeError",
          "evalue": "ignored",
          "traceback": [
            "\u001b[0;31m---------------------------------------------------------------------------\u001b[0m",
            "\u001b[0;31mAttributeError\u001b[0m                            Traceback (most recent call last)",
            "\u001b[0;32m<ipython-input-121-bdbda17356c3>\u001b[0m in \u001b[0;36m<module>\u001b[0;34m()\u001b[0m\n\u001b[0;32m----> 1\u001b[0;31m \u001b[0mclinics_tracts\u001b[0m \u001b[0;34m=\u001b[0m \u001b[0mgpd\u001b[0m\u001b[0;34m.\u001b[0m\u001b[0msjoin\u001b[0m\u001b[0;34m(\u001b[0m\u001b[0mclinics_df\u001b[0m\u001b[0;34m,\u001b[0m \u001b[0mriverside_tracts\u001b[0m\u001b[0;34m,\u001b[0m \u001b[0mop\u001b[0m\u001b[0;34m=\u001b[0m\u001b[0;34m'within'\u001b[0m\u001b[0;34m)\u001b[0m\u001b[0;34m\u001b[0m\u001b[0;34m\u001b[0m\u001b[0m\n\u001b[0m",
            "\u001b[0;32m/usr/local/lib/python3.6/dist-packages/geopandas/tools/sjoin.py\u001b[0m in \u001b[0;36msjoin\u001b[0;34m(left_df, right_df, how, op, lsuffix, rsuffix)\u001b[0m\n\u001b[1;32m    134\u001b[0m         \u001b[0;31m# tree_idx_df == 'left'\u001b[0m\u001b[0;34m\u001b[0m\u001b[0;34m\u001b[0m\u001b[0;34m\u001b[0m\u001b[0m\n\u001b[1;32m    135\u001b[0m         idxmatch = right_df.geometry.apply(lambda x: x.bounds).apply(\n\u001b[0;32m--> 136\u001b[0;31m             \u001b[0;32mlambda\u001b[0m \u001b[0mx\u001b[0m\u001b[0;34m:\u001b[0m \u001b[0mlist\u001b[0m\u001b[0;34m(\u001b[0m\u001b[0mtree_idx\u001b[0m\u001b[0;34m.\u001b[0m\u001b[0mintersection\u001b[0m\u001b[0;34m(\u001b[0m\u001b[0mx\u001b[0m\u001b[0;34m)\u001b[0m\u001b[0;34m)\u001b[0m \u001b[0;32mif\u001b[0m \u001b[0;32mnot\u001b[0m \u001b[0mx\u001b[0m \u001b[0;34m==\u001b[0m \u001b[0;34m(\u001b[0m\u001b[0;34m)\u001b[0m \u001b[0;32melse\u001b[0m \u001b[0;34m[\u001b[0m\u001b[0;34m]\u001b[0m\u001b[0;34m\u001b[0m\u001b[0;34m\u001b[0m\u001b[0m\n\u001b[0m\u001b[1;32m    137\u001b[0m         )\n\u001b[1;32m    138\u001b[0m         \u001b[0midxmatch\u001b[0m \u001b[0;34m=\u001b[0m \u001b[0midxmatch\u001b[0m\u001b[0;34m[\u001b[0m\u001b[0midxmatch\u001b[0m\u001b[0;34m.\u001b[0m\u001b[0mapply\u001b[0m\u001b[0;34m(\u001b[0m\u001b[0mlen\u001b[0m\u001b[0;34m)\u001b[0m \u001b[0;34m>\u001b[0m \u001b[0;36m0\u001b[0m\u001b[0;34m]\u001b[0m\u001b[0;34m\u001b[0m\u001b[0;34m\u001b[0m\u001b[0m\n",
            "\u001b[0;32m/usr/local/lib/python3.6/dist-packages/pandas/core/series.py\u001b[0m in \u001b[0;36mapply\u001b[0;34m(self, func, convert_dtype, args, **kwds)\u001b[0m\n\u001b[1;32m   4043\u001b[0m             \u001b[0;32melse\u001b[0m\u001b[0;34m:\u001b[0m\u001b[0;34m\u001b[0m\u001b[0;34m\u001b[0m\u001b[0m\n\u001b[1;32m   4044\u001b[0m                 \u001b[0mvalues\u001b[0m \u001b[0;34m=\u001b[0m \u001b[0mself\u001b[0m\u001b[0;34m.\u001b[0m\u001b[0mastype\u001b[0m\u001b[0;34m(\u001b[0m\u001b[0mobject\u001b[0m\u001b[0;34m)\u001b[0m\u001b[0;34m.\u001b[0m\u001b[0mvalues\u001b[0m\u001b[0;34m\u001b[0m\u001b[0;34m\u001b[0m\u001b[0m\n\u001b[0;32m-> 4045\u001b[0;31m                 \u001b[0mmapped\u001b[0m \u001b[0;34m=\u001b[0m \u001b[0mlib\u001b[0m\u001b[0;34m.\u001b[0m\u001b[0mmap_infer\u001b[0m\u001b[0;34m(\u001b[0m\u001b[0mvalues\u001b[0m\u001b[0;34m,\u001b[0m \u001b[0mf\u001b[0m\u001b[0;34m,\u001b[0m \u001b[0mconvert\u001b[0m\u001b[0;34m=\u001b[0m\u001b[0mconvert_dtype\u001b[0m\u001b[0;34m)\u001b[0m\u001b[0;34m\u001b[0m\u001b[0;34m\u001b[0m\u001b[0m\n\u001b[0m\u001b[1;32m   4046\u001b[0m \u001b[0;34m\u001b[0m\u001b[0m\n\u001b[1;32m   4047\u001b[0m         \u001b[0;32mif\u001b[0m \u001b[0mlen\u001b[0m\u001b[0;34m(\u001b[0m\u001b[0mmapped\u001b[0m\u001b[0;34m)\u001b[0m \u001b[0;32mand\u001b[0m \u001b[0misinstance\u001b[0m\u001b[0;34m(\u001b[0m\u001b[0mmapped\u001b[0m\u001b[0;34m[\u001b[0m\u001b[0;36m0\u001b[0m\u001b[0;34m]\u001b[0m\u001b[0;34m,\u001b[0m \u001b[0mSeries\u001b[0m\u001b[0;34m)\u001b[0m\u001b[0;34m:\u001b[0m\u001b[0;34m\u001b[0m\u001b[0;34m\u001b[0m\u001b[0m\n",
            "\u001b[0;32mpandas/_libs/lib.pyx\u001b[0m in \u001b[0;36mpandas._libs.lib.map_infer\u001b[0;34m()\u001b[0m\n",
            "\u001b[0;32m/usr/local/lib/python3.6/dist-packages/geopandas/tools/sjoin.py\u001b[0m in \u001b[0;36m<lambda>\u001b[0;34m(x)\u001b[0m\n\u001b[1;32m    134\u001b[0m         \u001b[0;31m# tree_idx_df == 'left'\u001b[0m\u001b[0;34m\u001b[0m\u001b[0;34m\u001b[0m\u001b[0;34m\u001b[0m\u001b[0m\n\u001b[1;32m    135\u001b[0m         idxmatch = right_df.geometry.apply(lambda x: x.bounds).apply(\n\u001b[0;32m--> 136\u001b[0;31m             \u001b[0;32mlambda\u001b[0m \u001b[0mx\u001b[0m\u001b[0;34m:\u001b[0m \u001b[0mlist\u001b[0m\u001b[0;34m(\u001b[0m\u001b[0mtree_idx\u001b[0m\u001b[0;34m.\u001b[0m\u001b[0mintersection\u001b[0m\u001b[0;34m(\u001b[0m\u001b[0mx\u001b[0m\u001b[0;34m)\u001b[0m\u001b[0;34m)\u001b[0m \u001b[0;32mif\u001b[0m \u001b[0;32mnot\u001b[0m \u001b[0mx\u001b[0m \u001b[0;34m==\u001b[0m \u001b[0;34m(\u001b[0m\u001b[0;34m)\u001b[0m \u001b[0;32melse\u001b[0m \u001b[0;34m[\u001b[0m\u001b[0;34m]\u001b[0m\u001b[0;34m\u001b[0m\u001b[0;34m\u001b[0m\u001b[0m\n\u001b[0m\u001b[1;32m    137\u001b[0m         )\n\u001b[1;32m    138\u001b[0m         \u001b[0midxmatch\u001b[0m \u001b[0;34m=\u001b[0m \u001b[0midxmatch\u001b[0m\u001b[0;34m[\u001b[0m\u001b[0midxmatch\u001b[0m\u001b[0;34m.\u001b[0m\u001b[0mapply\u001b[0m\u001b[0;34m(\u001b[0m\u001b[0mlen\u001b[0m\u001b[0;34m)\u001b[0m \u001b[0;34m>\u001b[0m \u001b[0;36m0\u001b[0m\u001b[0;34m]\u001b[0m\u001b[0;34m\u001b[0m\u001b[0;34m\u001b[0m\u001b[0m\n",
            "\u001b[0;31mAttributeError\u001b[0m: 'NoneType' object has no attribute 'intersection'"
          ]
        }
      ]
    },
    {
      "cell_type": "code",
      "metadata": {
        "id": "RHaVfz2xwp4k",
        "colab_type": "code",
        "colab": {}
      },
      "source": [
        "clinics_tracts.head()"
      ],
      "execution_count": 0,
      "outputs": []
    },
    {
      "cell_type": "code",
      "metadata": {
        "id": "grxsuV2Uwp4s",
        "colab_type": "code",
        "colab": {}
      },
      "source": [
        "clinics_tracts.shape"
      ],
      "execution_count": 0,
      "outputs": []
    },
    {
      "cell_type": "code",
      "metadata": {
        "id": "xCaX8Jejwp42",
        "colab_type": "code",
        "colab": {}
      },
      "source": [
        "clinics_df.columns"
      ],
      "execution_count": 0,
      "outputs": []
    },
    {
      "cell_type": "code",
      "metadata": {
        "id": "4AYsaFWwwp4-",
        "colab_type": "code",
        "colab": {}
      },
      "source": [
        "clinics_tracts.columns"
      ],
      "execution_count": 0,
      "outputs": []
    },
    {
      "cell_type": "code",
      "metadata": {
        "id": "otCum1xfwp5C",
        "colab_type": "code",
        "colab": {}
      },
      "source": [
        "# GEOID10 is now attached to each clinic (i.e., tract identifier)"
      ],
      "execution_count": 0,
      "outputs": []
    },
    {
      "cell_type": "code",
      "metadata": {
        "id": "Hfh_pDokwp5G",
        "colab_type": "code",
        "colab": {}
      },
      "source": [
        "clinics_tracts[['GEOID10', 'index_right']].groupby('GEOID10').agg('count')"
      ],
      "execution_count": 0,
      "outputs": []
    },
    {
      "cell_type": "code",
      "metadata": {
        "id": "SEyko0oVwp5N",
        "colab_type": "code",
        "colab": {}
      },
      "source": [
        "clinics_tracts.groupby(['GEOID10']).size()"
      ],
      "execution_count": 0,
      "outputs": []
    },
    {
      "cell_type": "code",
      "metadata": {
        "id": "X2VZP7O_wp5R",
        "colab_type": "code",
        "colab": {}
      },
      "source": [
        "clinics_tracts.groupby(['GEOID10']).size().reset_index(name='clinics')"
      ],
      "execution_count": 0,
      "outputs": []
    },
    {
      "cell_type": "code",
      "metadata": {
        "id": "ZQXJc757wp5W",
        "colab_type": "code",
        "colab": {}
      },
      "source": [
        "twc = clinics_tracts.groupby(['GEOID10']).size().reset_index(name='clinics')"
      ],
      "execution_count": 0,
      "outputs": []
    },
    {
      "cell_type": "code",
      "metadata": {
        "id": "FuSBq9WEwp5a",
        "colab_type": "code",
        "colab": {}
      },
      "source": [
        "twc.plot()"
      ],
      "execution_count": 0,
      "outputs": []
    },
    {
      "cell_type": "code",
      "metadata": {
        "id": "3N3j3Oi6wp5l",
        "colab_type": "code",
        "colab": {}
      },
      "source": [
        "riverside_tracts_clinics = riverside_tracts.merge(twc, how='left', on='GEOID10')"
      ],
      "execution_count": 0,
      "outputs": []
    },
    {
      "cell_type": "code",
      "metadata": {
        "id": "LitZJXWxwp5t",
        "colab_type": "code",
        "colab": {}
      },
      "source": [
        "riverside_tracts_clinics.head()"
      ],
      "execution_count": 0,
      "outputs": []
    },
    {
      "cell_type": "code",
      "metadata": {
        "id": "eGjX--Evwp5x",
        "colab_type": "code",
        "colab": {}
      },
      "source": [
        "riverside_tracts_clinics.fillna(value=0, inplace=True)"
      ],
      "execution_count": 0,
      "outputs": []
    },
    {
      "cell_type": "code",
      "metadata": {
        "id": "SMLXMG-swp57",
        "colab_type": "code",
        "colab": {}
      },
      "source": [
        "riverside_tracts_clinics.head()"
      ],
      "execution_count": 0,
      "outputs": []
    },
    {
      "cell_type": "code",
      "metadata": {
        "id": "oZr8HbaLwp6A",
        "colab_type": "code",
        "colab": {}
      },
      "source": [
        "riverside_tracts_clinics['clinics'].sum()"
      ],
      "execution_count": 0,
      "outputs": []
    },
    {
      "cell_type": "markdown",
      "metadata": {
        "id": "744yj9Jmwp6F",
        "colab_type": "text"
      },
      "source": [
        "Writing Shapefiles\n",
        "=================="
      ]
    },
    {
      "cell_type": "code",
      "metadata": {
        "id": "vS6nFgAVwp6G",
        "colab_type": "code",
        "colab": {}
      },
      "source": [
        "# save to a new shapefile\n",
        "riverside_tracts_clinics.to_file('data/clinics.shp')"
      ],
      "execution_count": 0,
      "outputs": []
    },
    {
      "cell_type": "markdown",
      "metadata": {
        "id": "POxj-4MXwp6M",
        "colab_type": "text"
      },
      "source": [
        "---\n",
        "\n",
        "<a rel=\"license\" href=\"http://creativecommons.org/licenses/by-nc-\n",
        "sa/4.0/\"><img alt=\"Creative Commons License\" style=\"border-width:0\"\n",
        "src=\"https://i.creativecommons.org/l/by-nc-sa/4.0/88x31.png\" /></a><br /><span\n",
        "xmlns:dct=\"http://purl.org/dc/terms/\" property=\"dct:title\">Introduction to GeoPandas</span> by <a xmlns:cc=\"http://creativecommons.org/ns#\"\n",
        "href=\"http://sergerey.org\" property=\"cc:attributionName\"\n",
        "rel=\"cc:attributionURL\">Serge Rey</a> is licensed under a <a\n",
        "rel=\"license\" href=\"http://creativecommons.org/licenses/by-nc-sa/4.0/\">Creative\n",
        "Commons Attribution-NonCommercial-ShareAlike 4.0 International License</a>."
      ]
    }
  ]
}