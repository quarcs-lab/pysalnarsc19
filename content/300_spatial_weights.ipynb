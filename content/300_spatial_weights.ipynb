{
  "nbformat": 4,
  "nbformat_minor": 0,
  "metadata": {
    "anaconda-cloud": {},
    "jupytext": {
      "formats": "ipynb,md"
    },
    "kernelspec": {
      "display_name": "Python 3",
      "language": "python",
      "name": "python3"
    },
    "language_info": {
      "codemirror_mode": {
        "name": "ipython",
        "version": 3
      },
      "file_extension": ".py",
      "mimetype": "text/x-python",
      "name": "python",
      "nbconvert_exporter": "python",
      "pygments_lexer": "ipython3",
      "version": "3.6.7"
    },
    "colab": {
      "name": "300_spatial_weights.ipynb",
      "provenance": [],
      "toc_visible": true,
      "include_colab_link": true
    }
  },
  "cells": [
    {
      "cell_type": "markdown",
      "metadata": {
        "id": "view-in-github",
        "colab_type": "text"
      },
      "source": [
        "<a href=\"https://colab.research.google.com/github/quarcs-lab/pysalnarsc19/blob/master/content/300_spatial_weights.ipynb\" target=\"_parent\"><img src=\"https://colab.research.google.com/assets/colab-badge.svg\" alt=\"Open In Colab\"/></a>"
      ]
    },
    {
      "cell_type": "markdown",
      "metadata": {
        "id": "RX6PXY-WRW65",
        "colab_type": "text"
      },
      "source": [
        "# Spatial Weights\n"
      ]
    },
    {
      "cell_type": "markdown",
      "metadata": {
        "id": "C4xW8-rZRW69",
        "colab_type": "text"
      },
      "source": [
        "Spatial weights are mathematical structures used to represent spatial relationships. Many spatial analytics, such as spatial autocorrelation statistics and regionalization algorithms rely on spatial weights. Generally speaking, a spatial weight $w_{i,j}$ expresses the notion of a geographical relationship between locations $i$ and $j$. These relationships can be based on a number of criteria including contiguity, geospatial distance and general distances.\n",
        "\n",
        "libpysal offers functionality for the construction, manipulation, analysis, and conversion of a wide array of spatial weights.\n",
        "\n",
        "We begin with construction of weights from common spatial data formats.\n"
      ]
    },
    {
      "cell_type": "markdown",
      "metadata": {
        "id": "bs7_I4z8yH-2",
        "colab_type": "text"
      },
      "source": [
        "# Setup"
      ]
    },
    {
      "cell_type": "markdown",
      "metadata": {
        "id": "2w2i9A11xbtY",
        "colab_type": "text"
      },
      "source": [
        "## Install libraries"
      ]
    },
    {
      "cell_type": "code",
      "metadata": {
        "id": "mMqi_v_toYMF",
        "colab_type": "code",
        "colab": {}
      },
      "source": [
        "!pip install -q geopandas\n",
        "!pip install -q seaborn\n",
        "!pip install -q shapely"
      ],
      "execution_count": 0,
      "outputs": []
    },
    {
      "cell_type": "code",
      "metadata": {
        "id": "X-ThITbLT8yA",
        "colab_type": "code",
        "colab": {
          "base_uri": "https://localhost:8080/",
          "height": 51
        },
        "outputId": "05be6f36-1731-4b24-b550-d2cb3171c64d"
      },
      "source": [
        "!pip install -q libpysal"
      ],
      "execution_count": 2,
      "outputs": [
        {
          "output_type": "stream",
          "text": [
            "\u001b[K     |████████████████████████████████| 2.4MB 5.0MB/s \n",
            "\u001b[?25h  Building wheel for libpysal (setup.py) ... \u001b[?25l\u001b[?25hdone\n"
          ],
          "name": "stdout"
        }
      ]
    },
    {
      "cell_type": "code",
      "metadata": {
        "id": "BE6QSDmJGYc4",
        "colab_type": "code",
        "outputId": "73a3de1a-077d-4e5f-8965-7fab3f16a3df",
        "colab": {
          "base_uri": "https://localhost:8080/",
          "height": 51
        }
      },
      "source": [
        "!pip install -q mapclassify"
      ],
      "execution_count": 3,
      "outputs": [
        {
          "output_type": "stream",
          "text": [
            "\u001b[?25l\r\u001b[K     |███████                         | 10kB 25.8MB/s eta 0:00:01\r\u001b[K     |██████████████                  | 20kB 3.2MB/s eta 0:00:01\r\u001b[K     |█████████████████████           | 30kB 4.6MB/s eta 0:00:01\r\u001b[K     |███████████████████████████▉    | 40kB 5.9MB/s eta 0:00:01\r\u001b[K     |████████████████████████████████| 51kB 2.5MB/s \n",
            "\u001b[?25h  Building wheel for mapclassify (setup.py) ... \u001b[?25l\u001b[?25hdone\n"
          ],
          "name": "stdout"
        }
      ]
    },
    {
      "cell_type": "code",
      "metadata": {
        "id": "ImQ0v-IKKEmF",
        "colab_type": "code",
        "outputId": "9d17914a-9e8e-4c1a-f5bd-ef1250d99a15",
        "colab": {
          "base_uri": "https://localhost:8080/",
          "height": 136
        }
      },
      "source": [
        "!pip install -q splot"
      ],
      "execution_count": 4,
      "outputs": [
        {
          "output_type": "stream",
          "text": [
            "\u001b[K     |████████████████████████████████| 71kB 5.0MB/s \n",
            "\u001b[K     |████████████████████████████████| 266kB 7.1MB/s \n",
            "\u001b[K     |████████████████████████████████| 61kB 6.0MB/s \n",
            "\u001b[K     |████████████████████████████████| 235kB 7.2MB/s \n",
            "\u001b[?25h  Building wheel for splot (setup.py) ... \u001b[?25l\u001b[?25hdone\n",
            "  Building wheel for esda (setup.py) ... \u001b[?25l\u001b[?25hdone\n",
            "  Building wheel for giddy (setup.py) ... \u001b[?25l\u001b[?25hdone\n"
          ],
          "name": "stdout"
        }
      ]
    },
    {
      "cell_type": "code",
      "metadata": {
        "id": "ibz70lmwLSpa",
        "colab_type": "code",
        "colab": {}
      },
      "source": [
        "!pip install -q legendgram"
      ],
      "execution_count": 0,
      "outputs": []
    },
    {
      "cell_type": "markdown",
      "metadata": {
        "id": "ENUAqJcJu1vT",
        "colab_type": "text"
      },
      "source": [
        "## Load libraries"
      ]
    },
    {
      "cell_type": "code",
      "metadata": {
        "id": "C3Z6_puSwpoy",
        "colab_type": "code",
        "colab": {}
      },
      "source": [
        "%matplotlib inline\n",
        "import matplotlib\n",
        "import matplotlib.pyplot as plt\n",
        "import numpy as np\n",
        "import pandas\n",
        "import geopandas\n",
        "import shapely\n",
        "import mapclassify\n",
        "import legendgram\n",
        "import splot\n",
        "from splot.mapping import vba_choropleth\n",
        "from splot._viz_utils import shift_colormap\n",
        "import libpysal \n",
        "from libpysal.weights import Queen, Rook, KNN, Kernel\n"
      ],
      "execution_count": 0,
      "outputs": []
    },
    {
      "cell_type": "markdown",
      "metadata": {
        "id": "js3juPjqxafU",
        "colab_type": "text"
      },
      "source": [
        "## Load data from Github "
      ]
    },
    {
      "cell_type": "code",
      "metadata": {
        "id": "MqL5dsWjrjh_",
        "colab_type": "code",
        "outputId": "9093a76a-1639-4dd9-def7-b30da199f452",
        "colab": {
          "base_uri": "https://localhost:8080/",
          "height": 153
        }
      },
      "source": [
        "# It will be cloned for about a 12 hours. That is, you have to re-run this code only after 12 hours\n",
        " !git clone --recursive https://github.com/quarcs-lab/pysalnarsc19.git"
      ],
      "execution_count": 7,
      "outputs": [
        {
          "output_type": "stream",
          "text": [
            "Cloning into 'pysalnarsc19'...\n",
            "remote: Enumerating objects: 88, done.\u001b[K\n",
            "remote: Counting objects:   1% (1/88)\u001b[K\rremote: Counting objects:   2% (2/88)\u001b[K\rremote: Counting objects:   3% (3/88)\u001b[K\rremote: Counting objects:   4% (4/88)\u001b[K\rremote: Counting objects:   5% (5/88)\u001b[K\rremote: Counting objects:   6% (6/88)\u001b[K\rremote: Counting objects:   7% (7/88)\u001b[K\rremote: Counting objects:   9% (8/88)\u001b[K\rremote: Counting objects:  10% (9/88)\u001b[K\rremote: Counting objects:  11% (10/88)\u001b[K\rremote: Counting objects:  12% (11/88)\u001b[K\rremote: Counting objects:  13% (12/88)\u001b[K\rremote: Counting objects:  14% (13/88)\u001b[K\rremote: Counting objects:  15% (14/88)\u001b[K\rremote: Counting objects:  17% (15/88)\u001b[K\rremote: Counting objects:  18% (16/88)\u001b[K\rremote: Counting objects:  19% (17/88)\u001b[K\rremote: Counting objects:  20% (18/88)\u001b[K\rremote: Counting objects:  21% (19/88)\u001b[K\rremote: Counting objects:  22% (20/88)\u001b[K\rremote: Counting objects:  23% (21/88)\u001b[K\rremote: Counting objects:  25% (22/88)\u001b[K\rremote: Counting objects:  26% (23/88)\u001b[K\rremote: Counting objects:  27% (24/88)\u001b[K\rremote: Counting objects:  28% (25/88)\u001b[K\rremote: Counting objects:  29% (26/88)\u001b[K\rremote: Counting objects:  30% (27/88)\u001b[K\rremote: Counting objects:  31% (28/88)\u001b[K\rremote: Counting objects:  32% (29/88)\u001b[K\rremote: Counting objects:  34% (30/88)\u001b[K\rremote: Counting objects:  35% (31/88)\u001b[K\rremote: Counting objects:  36% (32/88)\u001b[K\rremote: Counting objects:  37% (33/88)\u001b[K\rremote: Counting objects:  38% (34/88)\u001b[K\rremote: Counting objects:  39% (35/88)\u001b[K\rremote: Counting objects:  40% (36/88)\u001b[K\rremote: Counting objects:  42% (37/88)\u001b[K\rremote: Counting objects:  43% (38/88)\u001b[K\rremote: Counting objects:  44% (39/88)\u001b[K\rremote: Counting objects:  45% (40/88)\u001b[K\rremote: Counting objects:  46% (41/88)\u001b[K\rremote: Counting objects:  47% (42/88)\u001b[K\rremote: Counting objects:  48% (43/88)\u001b[K\rremote: Counting objects:  50% (44/88)\u001b[K\rremote: Counting objects:  51% (45/88)\u001b[K\rremote: Counting objects:  52% (46/88)\u001b[K\rremote: Counting objects:  53% (47/88)\u001b[K\rremote: Counting objects:  54% (48/88)\u001b[K\rremote: Counting objects:  55% (49/88)\u001b[K\rremote: Counting objects:  56% (50/88)\u001b[K\rremote: Counting objects:  57% (51/88)\u001b[K\rremote: Counting objects:  59% (52/88)\u001b[K\rremote: Counting objects:  60% (53/88)\u001b[K\rremote: Counting objects:  61% (54/88)\u001b[K\rremote: Counting objects:  62% (55/88)\u001b[K\rremote: Counting objects:  63% (56/88)\u001b[K\rremote: Counting objects:  64% (57/88)\u001b[K\rremote: Counting objects:  65% (58/88)\u001b[K\rremote: Counting objects:  67% (59/88)\u001b[K\rremote: Counting objects:  68% (60/88)\u001b[K\rremote: Counting objects:  69% (61/88)\u001b[K\rremote: Counting objects:  70% (62/88)\u001b[K\rremote: Counting objects:  71% (63/88)\u001b[K\rremote: Counting objects:  72% (64/88)\u001b[K\rremote: Counting objects:  73% (65/88)\u001b[K\rremote: Counting objects:  75% (66/88)\u001b[K\rremote: Counting objects:  76% (67/88)\u001b[K\rremote: Counting objects:  77% (68/88)\u001b[K\rremote: Counting objects:  78% (69/88)\u001b[K\rremote: Counting objects:  79% (70/88)\u001b[K\rremote: Counting objects:  80% (71/88)\u001b[K\rremote: Counting objects:  81% (72/88)\u001b[K\rremote: Counting objects:  82% (73/88)\u001b[K\rremote: Counting objects:  84% (74/88)\u001b[K\rremote: Counting objects:  85% (75/88)\u001b[K\rremote: Counting objects:  86% (76/88)\u001b[K\rremote: Counting objects:  87% (77/88)\u001b[K\rremote: Counting objects:  88% (78/88)\u001b[K\rremote: Counting objects:  89% (79/88)\u001b[K\rremote: Counting objects:  90% (80/88)\u001b[K\rremote: Counting objects:  92% (81/88)\u001b[K\rremote: Counting objects:  93% (82/88)\u001b[K\rremote: Counting objects:  94% (83/88)\u001b[K\rremote: Counting objects:  95% (84/88)\u001b[K\rremote: Counting objects:  96% (85/88)\u001b[K\rremote: Counting objects:  97% (86/88)\u001b[K\rremote: Counting objects:  98% (87/88)\u001b[K\rremote: Counting objects: 100% (88/88)\u001b[K\rremote: Counting objects: 100% (88/88), done.\u001b[K\n",
            "remote: Compressing objects: 100% (74/74), done.\u001b[K\n",
            "remote: Total 406 (delta 40), reused 32 (delta 14), pack-reused 318\u001b[K\n",
            "Receiving objects: 100% (406/406), 74.46 MiB | 25.25 MiB/s, done.\n",
            "Resolving deltas: 100% (165/165), done.\n",
            "Checking out files: 100% (155/155), done.\n"
          ],
          "name": "stdout"
        }
      ]
    },
    {
      "cell_type": "code",
      "metadata": {
        "id": "V_VCfrX_sppt",
        "colab_type": "code",
        "outputId": "f5bf7a79-afe5-45a0-8c93-ef1d9dce4bc3",
        "colab": {
          "base_uri": "https://localhost:8080/",
          "height": 748
        }
      },
      "source": [
        "# Let us see what we have inside content/data Folder\n",
        " !ls pysalnarsc19/content/data"
      ],
      "execution_count": 8,
      "outputs": [
        {
          "output_type": "stream",
          "text": [
            "airbnb.cpg\t\t\t  neighborhoods.csv\n",
            "airbnb.dbf\t\t\t  neighborhoods.gpkg\n",
            "airbnb.prj\t\t\t  neighbourhoods.geojson\n",
            "airbnb.shp\t\t\t  participants2016.csv\n",
            "airbnb.shx\t\t\t  participants2017.csv\n",
            "airports.csv\t\t\t  participants2018.csv\n",
            "b500.cpg\t\t\t  README.md\n",
            "b500.dbf\t\t\t  riverside_city.dbf\n",
            "b500.prj\t\t\t  riverside_city.prj\n",
            "b500.shp\t\t\t  riverside_city.qpj\n",
            "b500.shx\t\t\t  riverside_city.shp\n",
            "behavioralHealth.dbf\t\t  riverside_city.shx\n",
            "behavioralHealth.prj\t\t  san_diego.cpg\n",
            "behavioralHealth.qpj\t\t  san_diego.dbf\n",
            "behavioralHealth.shp\t\t  san_diego.prj\n",
            "behavioralHealth.shx\t\t  san_diego.shp\n",
            "CAINC1__ALL_STATES_1969_2017.csv  san_diego.shx\n",
            "CAINC1__definition.xml\t\t  san_diego.tif\n",
            "CAINC1__Footnotes.html\t\t  sd_tracts_acs_clean.dbf\n",
            "california_tracts.cpg\t\t  sd_tracts_acs_clean.prj\n",
            "california_tracts.dbf\t\t  sd_tracts_acs_clean.qpj\n",
            "california_tracts.prj\t\t  sd_tracts_acs_clean.shp\n",
            "california_tracts.shp\t\t  sd_tracts_acs_clean.shx\n",
            "california_tracts.shx\t\t  texas.dbf\n",
            "city_tracts.cpg\t\t\t  texas.geojson\n",
            "city_tracts.dbf\t\t\t  texas.prj\n",
            "city_tracts.prj\t\t\t  texas.qgs\n",
            "city_tracts.shp\t\t\t  texas.qpj\n",
            "city_tracts.shx\t\t\t  texas.shp\n",
            "clinics.cpg\t\t\t  texas.shx\n",
            "clinics.dbf\t\t\t  tracts_routes.cpg\n",
            "clinics.prj\t\t\t  tracts_routes.dbf\n",
            "clinics.shp\t\t\t  tracts_routes.prj\n",
            "clinics.shx\t\t\t  tracts_routes.shp\n",
            "columbus.dbf\t\t\t  tracts_routes.shx\n",
            "columbus.gal\t\t\t  Truck_Route_Network\n",
            "columbus.html\t\t\t  Truck_Route_Network.cpg\n",
            "columbus.json\t\t\t  Truck_Route_Network.dbf\n",
            "columbus.md\t\t\t  Truck_Route_Network.prj\n",
            "columbus.shp\t\t\t  Truck_Route_Network.shp\n",
            "columbus.shx\t\t\t  Truck_Route_Network.shp.xml\n",
            "continents.geojson\t\t  Truck_Route_Network.shx\n",
            "listings.gpkg\n"
          ],
          "name": "stdout"
        }
      ]
    },
    {
      "cell_type": "code",
      "metadata": {
        "id": "6pgJJFoToI4O",
        "colab_type": "code",
        "colab": {}
      },
      "source": [
        "# Load data (from cloned repository)\n",
        "# db = geopandas.read_file('pysalnarsc19/content/data/texas.shp')"
      ],
      "execution_count": 0,
      "outputs": []
    },
    {
      "cell_type": "markdown",
      "metadata": {
        "id": "2hlZWoYpRW7H",
        "colab_type": "text"
      },
      "source": [
        "There are functions to construct weights directly from a file path. "
      ]
    },
    {
      "cell_type": "markdown",
      "metadata": {
        "id": "Sf35WjgdRW7J",
        "colab_type": "text"
      },
      "source": [
        "## Contiguity"
      ]
    },
    {
      "cell_type": "markdown",
      "metadata": {
        "id": "6kmwSbGGRW7M",
        "colab_type": "text"
      },
      "source": [
        "\n",
        "\n",
        "#### Queen Weights"
      ]
    },
    {
      "cell_type": "markdown",
      "metadata": {
        "id": "vYF6rv9iRW7P",
        "colab_type": "text"
      },
      "source": [
        "A commonly-used type of weight is a queen contigutiy weight, which reflects adjacency relationships as a binary indicator variable denoting whether or not a polygon shares an edge or a vertex with another polygon. These weights are symmetric, in that when polygon $A$ neighbors polygon $B$, both $w_{AB} = 1$ and $w_{BA} = 1$.\n",
        "\n",
        "To construct queen weights from a shapefile, we will use geopandas to read the file into a GeoDataFrame, and then use   libpysal to construct the weights:"
      ]
    },
    {
      "cell_type": "code",
      "metadata": {
        "id": "I3WchnqcRW7Q",
        "colab_type": "code",
        "colab": {
          "base_uri": "https://localhost:8080/",
          "height": 564
        },
        "outputId": "ac24ceee-dcf9-410b-ddcd-d4ef18728fbf"
      },
      "source": [
        "df = geopandas.read_file('pysalnarsc19/content/data/texas.shp')\n",
        "df.head()"
      ],
      "execution_count": 12,
      "outputs": [
        {
          "output_type": "execute_result",
          "data": {
            "text/html": [
              "<div>\n",
              "<style scoped>\n",
              "    .dataframe tbody tr th:only-of-type {\n",
              "        vertical-align: middle;\n",
              "    }\n",
              "\n",
              "    .dataframe tbody tr th {\n",
              "        vertical-align: top;\n",
              "    }\n",
              "\n",
              "    .dataframe thead th {\n",
              "        text-align: right;\n",
              "    }\n",
              "</style>\n",
              "<table border=\"1\" class=\"dataframe\">\n",
              "  <thead>\n",
              "    <tr style=\"text-align: right;\">\n",
              "      <th></th>\n",
              "      <th>NAME</th>\n",
              "      <th>STATE_NAME</th>\n",
              "      <th>STATE_FIPS</th>\n",
              "      <th>CNTY_FIPS</th>\n",
              "      <th>FIPS</th>\n",
              "      <th>STFIPS</th>\n",
              "      <th>COFIPS</th>\n",
              "      <th>FIPSNO</th>\n",
              "      <th>SOUTH</th>\n",
              "      <th>HR60</th>\n",
              "      <th>HR70</th>\n",
              "      <th>HR80</th>\n",
              "      <th>HR90</th>\n",
              "      <th>HC60</th>\n",
              "      <th>HC70</th>\n",
              "      <th>HC80</th>\n",
              "      <th>HC90</th>\n",
              "      <th>PO60</th>\n",
              "      <th>PO70</th>\n",
              "      <th>PO80</th>\n",
              "      <th>PO90</th>\n",
              "      <th>RD60</th>\n",
              "      <th>RD70</th>\n",
              "      <th>RD80</th>\n",
              "      <th>RD90</th>\n",
              "      <th>PS60</th>\n",
              "      <th>PS70</th>\n",
              "      <th>PS80</th>\n",
              "      <th>PS90</th>\n",
              "      <th>UE60</th>\n",
              "      <th>UE70</th>\n",
              "      <th>UE80</th>\n",
              "      <th>UE90</th>\n",
              "      <th>DV60</th>\n",
              "      <th>DV70</th>\n",
              "      <th>DV80</th>\n",
              "      <th>DV90</th>\n",
              "      <th>MA60</th>\n",
              "      <th>MA70</th>\n",
              "      <th>MA80</th>\n",
              "      <th>MA90</th>\n",
              "      <th>POL60</th>\n",
              "      <th>POL70</th>\n",
              "      <th>POL80</th>\n",
              "      <th>POL90</th>\n",
              "      <th>DNL60</th>\n",
              "      <th>DNL70</th>\n",
              "      <th>DNL80</th>\n",
              "      <th>DNL90</th>\n",
              "      <th>MFIL59</th>\n",
              "      <th>MFIL69</th>\n",
              "      <th>MFIL79</th>\n",
              "      <th>MFIL89</th>\n",
              "      <th>FP59</th>\n",
              "      <th>FP69</th>\n",
              "      <th>FP79</th>\n",
              "      <th>FP89</th>\n",
              "      <th>BLK60</th>\n",
              "      <th>BLK70</th>\n",
              "      <th>BLK80</th>\n",
              "      <th>BLK90</th>\n",
              "      <th>GI59</th>\n",
              "      <th>GI69</th>\n",
              "      <th>GI79</th>\n",
              "      <th>GI89</th>\n",
              "      <th>FH60</th>\n",
              "      <th>FH70</th>\n",
              "      <th>FH80</th>\n",
              "      <th>FH90</th>\n",
              "      <th>geometry</th>\n",
              "    </tr>\n",
              "  </thead>\n",
              "  <tbody>\n",
              "    <tr>\n",
              "      <th>0</th>\n",
              "      <td>Lipscomb</td>\n",
              "      <td>Texas</td>\n",
              "      <td>48</td>\n",
              "      <td>295</td>\n",
              "      <td>48295</td>\n",
              "      <td>48</td>\n",
              "      <td>295</td>\n",
              "      <td>48295</td>\n",
              "      <td>1</td>\n",
              "      <td>0.0</td>\n",
              "      <td>0.000000</td>\n",
              "      <td>0.000000</td>\n",
              "      <td>0.000000</td>\n",
              "      <td>0.0</td>\n",
              "      <td>0.000000</td>\n",
              "      <td>0.000000</td>\n",
              "      <td>0.000000</td>\n",
              "      <td>3406</td>\n",
              "      <td>3486</td>\n",
              "      <td>3766</td>\n",
              "      <td>3143</td>\n",
              "      <td>-0.917852</td>\n",
              "      <td>-0.602338</td>\n",
              "      <td>-0.355503</td>\n",
              "      <td>-0.605607</td>\n",
              "      <td>-1.514026</td>\n",
              "      <td>-1.449058</td>\n",
              "      <td>-1.476411</td>\n",
              "      <td>-1.571799</td>\n",
              "      <td>2.0</td>\n",
              "      <td>1.7</td>\n",
              "      <td>1.941176</td>\n",
              "      <td>1.732852</td>\n",
              "      <td>1.494886</td>\n",
              "      <td>2.270948</td>\n",
              "      <td>3.516484</td>\n",
              "      <td>6.101695</td>\n",
              "      <td>32.4</td>\n",
              "      <td>34.3</td>\n",
              "      <td>31.0</td>\n",
              "      <td>35.8</td>\n",
              "      <td>8.133294</td>\n",
              "      <td>8.156510</td>\n",
              "      <td>8.233769</td>\n",
              "      <td>8.052933</td>\n",
              "      <td>1.293817</td>\n",
              "      <td>1.317034</td>\n",
              "      <td>1.395364</td>\n",
              "      <td>1.215386</td>\n",
              "      <td>8.531885</td>\n",
              "      <td>8.970432</td>\n",
              "      <td>9.802064</td>\n",
              "      <td>10.252241</td>\n",
              "      <td>22.4</td>\n",
              "      <td>12.1</td>\n",
              "      <td>10.851263</td>\n",
              "      <td>9.140370</td>\n",
              "      <td>0.029360</td>\n",
              "      <td>0.028686</td>\n",
              "      <td>0.026553</td>\n",
              "      <td>0.031817</td>\n",
              "      <td>0.286929</td>\n",
              "      <td>0.378219</td>\n",
              "      <td>0.407005</td>\n",
              "      <td>0.373005</td>\n",
              "      <td>6.724512</td>\n",
              "      <td>4.5</td>\n",
              "      <td>3.835360</td>\n",
              "      <td>6.093580</td>\n",
              "      <td>POLYGON ((-100.00687 36.49388, -100.00114 36.4...</td>\n",
              "    </tr>\n",
              "    <tr>\n",
              "      <th>1</th>\n",
              "      <td>Sherman</td>\n",
              "      <td>Texas</td>\n",
              "      <td>48</td>\n",
              "      <td>421</td>\n",
              "      <td>48421</td>\n",
              "      <td>48</td>\n",
              "      <td>421</td>\n",
              "      <td>48421</td>\n",
              "      <td>1</td>\n",
              "      <td>0.0</td>\n",
              "      <td>18.229879</td>\n",
              "      <td>10.501995</td>\n",
              "      <td>0.000000</td>\n",
              "      <td>0.0</td>\n",
              "      <td>0.666667</td>\n",
              "      <td>0.333333</td>\n",
              "      <td>0.000000</td>\n",
              "      <td>2605</td>\n",
              "      <td>3657</td>\n",
              "      <td>3174</td>\n",
              "      <td>2858</td>\n",
              "      <td>-1.113594</td>\n",
              "      <td>-1.081211</td>\n",
              "      <td>-0.492131</td>\n",
              "      <td>-0.519201</td>\n",
              "      <td>-1.714700</td>\n",
              "      <td>-1.407486</td>\n",
              "      <td>-1.597010</td>\n",
              "      <td>-1.635240</td>\n",
              "      <td>3.6</td>\n",
              "      <td>3.6</td>\n",
              "      <td>1.230349</td>\n",
              "      <td>3.343239</td>\n",
              "      <td>2.297593</td>\n",
              "      <td>2.511774</td>\n",
              "      <td>3.807947</td>\n",
              "      <td>5.968779</td>\n",
              "      <td>29.6</td>\n",
              "      <td>26.3</td>\n",
              "      <td>31.7</td>\n",
              "      <td>34.4</td>\n",
              "      <td>7.865188</td>\n",
              "      <td>8.204398</td>\n",
              "      <td>8.062748</td>\n",
              "      <td>7.957877</td>\n",
              "      <td>1.045172</td>\n",
              "      <td>1.384382</td>\n",
              "      <td>1.235227</td>\n",
              "      <td>1.130140</td>\n",
              "      <td>8.666130</td>\n",
              "      <td>9.038840</td>\n",
              "      <td>9.854087</td>\n",
              "      <td>10.178274</td>\n",
              "      <td>20.1</td>\n",
              "      <td>7.7</td>\n",
              "      <td>8.459870</td>\n",
              "      <td>10.761790</td>\n",
              "      <td>0.000000</td>\n",
              "      <td>0.464862</td>\n",
              "      <td>0.126024</td>\n",
              "      <td>0.139958</td>\n",
              "      <td>0.288976</td>\n",
              "      <td>0.359377</td>\n",
              "      <td>0.415453</td>\n",
              "      <td>0.378041</td>\n",
              "      <td>5.665722</td>\n",
              "      <td>1.7</td>\n",
              "      <td>3.253796</td>\n",
              "      <td>3.869407</td>\n",
              "      <td>POLYGON ((-102.16757 36.05463, -102.16522 36.4...</td>\n",
              "    </tr>\n",
              "    <tr>\n",
              "      <th>2</th>\n",
              "      <td>Dallam</td>\n",
              "      <td>Texas</td>\n",
              "      <td>48</td>\n",
              "      <td>111</td>\n",
              "      <td>48111</td>\n",
              "      <td>48</td>\n",
              "      <td>111</td>\n",
              "      <td>48111</td>\n",
              "      <td>1</td>\n",
              "      <td>0.0</td>\n",
              "      <td>11.088933</td>\n",
              "      <td>5.103864</td>\n",
              "      <td>18.311665</td>\n",
              "      <td>0.0</td>\n",
              "      <td>0.666667</td>\n",
              "      <td>0.333333</td>\n",
              "      <td>1.000000</td>\n",
              "      <td>6302</td>\n",
              "      <td>6012</td>\n",
              "      <td>6531</td>\n",
              "      <td>5461</td>\n",
              "      <td>-0.470982</td>\n",
              "      <td>-0.175927</td>\n",
              "      <td>0.139469</td>\n",
              "      <td>0.258405</td>\n",
              "      <td>-1.200047</td>\n",
              "      <td>-1.204341</td>\n",
              "      <td>-1.234283</td>\n",
              "      <td>-1.338314</td>\n",
              "      <td>2.4</td>\n",
              "      <td>4.5</td>\n",
              "      <td>2.239602</td>\n",
              "      <td>2.276423</td>\n",
              "      <td>3.446752</td>\n",
              "      <td>3.973820</td>\n",
              "      <td>4.849785</td>\n",
              "      <td>8.396560</td>\n",
              "      <td>31.3</td>\n",
              "      <td>30.2</td>\n",
              "      <td>29.0</td>\n",
              "      <td>32.6</td>\n",
              "      <td>8.748622</td>\n",
              "      <td>8.701513</td>\n",
              "      <td>8.784315</td>\n",
              "      <td>8.605387</td>\n",
              "      <td>1.439410</td>\n",
              "      <td>1.392300</td>\n",
              "      <td>1.467435</td>\n",
              "      <td>1.288972</td>\n",
              "      <td>8.454466</td>\n",
              "      <td>8.861208</td>\n",
              "      <td>9.571784</td>\n",
              "      <td>10.062285</td>\n",
              "      <td>29.9</td>\n",
              "      <td>14.7</td>\n",
              "      <td>14.922907</td>\n",
              "      <td>15.994962</td>\n",
              "      <td>0.920343</td>\n",
              "      <td>1.829674</td>\n",
              "      <td>2.526412</td>\n",
              "      <td>2.050906</td>\n",
              "      <td>0.331667</td>\n",
              "      <td>0.385996</td>\n",
              "      <td>0.370037</td>\n",
              "      <td>0.376015</td>\n",
              "      <td>7.546049</td>\n",
              "      <td>7.2</td>\n",
              "      <td>9.471366</td>\n",
              "      <td>14.231738</td>\n",
              "      <td>POLYGON ((-102.16757 36.05463, -103.02356 36.0...</td>\n",
              "    </tr>\n",
              "    <tr>\n",
              "      <th>3</th>\n",
              "      <td>Hansford</td>\n",
              "      <td>Texas</td>\n",
              "      <td>48</td>\n",
              "      <td>195</td>\n",
              "      <td>48195</td>\n",
              "      <td>48</td>\n",
              "      <td>195</td>\n",
              "      <td>48195</td>\n",
              "      <td>1</td>\n",
              "      <td>0.0</td>\n",
              "      <td>0.000000</td>\n",
              "      <td>0.000000</td>\n",
              "      <td>0.000000</td>\n",
              "      <td>0.0</td>\n",
              "      <td>0.000000</td>\n",
              "      <td>0.000000</td>\n",
              "      <td>0.000000</td>\n",
              "      <td>6208</td>\n",
              "      <td>6351</td>\n",
              "      <td>6209</td>\n",
              "      <td>5848</td>\n",
              "      <td>-1.248299</td>\n",
              "      <td>-0.896143</td>\n",
              "      <td>-0.684286</td>\n",
              "      <td>-0.521268</td>\n",
              "      <td>-1.039568</td>\n",
              "      <td>-0.999173</td>\n",
              "      <td>-1.109016</td>\n",
              "      <td>-1.132594</td>\n",
              "      <td>1.0</td>\n",
              "      <td>3.8</td>\n",
              "      <td>1.818806</td>\n",
              "      <td>4.007634</td>\n",
              "      <td>2.479733</td>\n",
              "      <td>3.466907</td>\n",
              "      <td>4.626027</td>\n",
              "      <td>6.238185</td>\n",
              "      <td>25.6</td>\n",
              "      <td>27.5</td>\n",
              "      <td>29.9</td>\n",
              "      <td>32.9</td>\n",
              "      <td>8.733594</td>\n",
              "      <td>8.756368</td>\n",
              "      <td>8.733755</td>\n",
              "      <td>8.673855</td>\n",
              "      <td>1.923452</td>\n",
              "      <td>1.946225</td>\n",
              "      <td>1.908512</td>\n",
              "      <td>1.849590</td>\n",
              "      <td>8.686261</td>\n",
              "      <td>9.041093</td>\n",
              "      <td>9.958165</td>\n",
              "      <td>10.320585</td>\n",
              "      <td>15.1</td>\n",
              "      <td>8.2</td>\n",
              "      <td>8.371041</td>\n",
              "      <td>9.683313</td>\n",
              "      <td>0.112758</td>\n",
              "      <td>0.000000</td>\n",
              "      <td>0.032211</td>\n",
              "      <td>0.000000</td>\n",
              "      <td>0.253527</td>\n",
              "      <td>0.357813</td>\n",
              "      <td>0.393938</td>\n",
              "      <td>0.383924</td>\n",
              "      <td>7.591786</td>\n",
              "      <td>4.7</td>\n",
              "      <td>5.542986</td>\n",
              "      <td>7.125457</td>\n",
              "      <td>POLYGON ((-101.61950 36.05471, -101.62032 36.4...</td>\n",
              "    </tr>\n",
              "    <tr>\n",
              "      <th>4</th>\n",
              "      <td>Ochiltree</td>\n",
              "      <td>Texas</td>\n",
              "      <td>48</td>\n",
              "      <td>357</td>\n",
              "      <td>48357</td>\n",
              "      <td>48</td>\n",
              "      <td>357</td>\n",
              "      <td>48357</td>\n",
              "      <td>1</td>\n",
              "      <td>0.0</td>\n",
              "      <td>6.870019</td>\n",
              "      <td>10.429704</td>\n",
              "      <td>3.651767</td>\n",
              "      <td>0.0</td>\n",
              "      <td>0.666667</td>\n",
              "      <td>1.000000</td>\n",
              "      <td>0.333333</td>\n",
              "      <td>9380</td>\n",
              "      <td>9704</td>\n",
              "      <td>9588</td>\n",
              "      <td>9128</td>\n",
              "      <td>-1.565398</td>\n",
              "      <td>-1.125893</td>\n",
              "      <td>-1.330064</td>\n",
              "      <td>-0.463557</td>\n",
              "      <td>-0.720305</td>\n",
              "      <td>-0.688084</td>\n",
              "      <td>-0.792819</td>\n",
              "      <td>-0.819903</td>\n",
              "      <td>2.4</td>\n",
              "      <td>4.1</td>\n",
              "      <td>2.162044</td>\n",
              "      <td>4.874067</td>\n",
              "      <td>2.364439</td>\n",
              "      <td>3.163235</td>\n",
              "      <td>5.366528</td>\n",
              "      <td>7.104154</td>\n",
              "      <td>25.1</td>\n",
              "      <td>27.0</td>\n",
              "      <td>28.2</td>\n",
              "      <td>31.5</td>\n",
              "      <td>9.146335</td>\n",
              "      <td>9.180293</td>\n",
              "      <td>9.168268</td>\n",
              "      <td>9.119102</td>\n",
              "      <td>2.336193</td>\n",
              "      <td>2.370151</td>\n",
              "      <td>2.345090</td>\n",
              "      <td>2.297340</td>\n",
              "      <td>8.715388</td>\n",
              "      <td>9.153453</td>\n",
              "      <td>10.011490</td>\n",
              "      <td>10.317086</td>\n",
              "      <td>11.1</td>\n",
              "      <td>6.7</td>\n",
              "      <td>5.459240</td>\n",
              "      <td>10.735736</td>\n",
              "      <td>0.000000</td>\n",
              "      <td>0.000000</td>\n",
              "      <td>0.020859</td>\n",
              "      <td>0.021911</td>\n",
              "      <td>0.236998</td>\n",
              "      <td>0.352940</td>\n",
              "      <td>0.343949</td>\n",
              "      <td>0.374461</td>\n",
              "      <td>5.172414</td>\n",
              "      <td>4.0</td>\n",
              "      <td>4.758392</td>\n",
              "      <td>9.159159</td>\n",
              "      <td>POLYGON ((-101.08231 36.05626, -101.08967 36.4...</td>\n",
              "    </tr>\n",
              "  </tbody>\n",
              "</table>\n",
              "</div>"
            ],
            "text/plain": [
              "        NAME  ...                                           geometry\n",
              "0   Lipscomb  ...  POLYGON ((-100.00687 36.49388, -100.00114 36.4...\n",
              "1    Sherman  ...  POLYGON ((-102.16757 36.05463, -102.16522 36.4...\n",
              "2     Dallam  ...  POLYGON ((-102.16757 36.05463, -103.02356 36.0...\n",
              "3   Hansford  ...  POLYGON ((-101.61950 36.05471, -101.62032 36.4...\n",
              "4  Ochiltree  ...  POLYGON ((-101.08231 36.05626, -101.08967 36.4...\n",
              "\n",
              "[5 rows x 70 columns]"
            ]
          },
          "metadata": {
            "tags": []
          },
          "execution_count": 12
        }
      ]
    },
    {
      "cell_type": "code",
      "metadata": {
        "id": "RZCJwTSxRW7X",
        "colab_type": "code",
        "colab": {}
      },
      "source": [
        "qW = Queen.from_dataframe(df)"
      ],
      "execution_count": 0,
      "outputs": []
    },
    {
      "cell_type": "code",
      "metadata": {
        "id": "Gse4D7MWRW7f",
        "colab_type": "code",
        "colab": {
          "base_uri": "https://localhost:8080/",
          "height": 34
        },
        "outputId": "c7a515a6-4073-4d16-b357-2c6224c168f0"
      },
      "source": [
        "qW"
      ],
      "execution_count": 14,
      "outputs": [
        {
          "output_type": "execute_result",
          "data": {
            "text/plain": [
              "<libpysal.weights.contiguity.Queen at 0x7f3182578898>"
            ]
          },
          "metadata": {
            "tags": []
          },
          "execution_count": 14
        }
      ]
    },
    {
      "cell_type": "markdown",
      "metadata": {
        "id": "4FBR91R_RW7l",
        "colab_type": "text"
      },
      "source": [
        "All weights objects have a few traits that you can use to work with the weights object, as well as to get information about the weights object. \n",
        "\n",
        "To get the neighbors & weights around an observation, use the observation's index on the weights object, like a dictionary:"
      ]
    },
    {
      "cell_type": "code",
      "metadata": {
        "id": "HeIqwGWYRW7o",
        "colab_type": "code",
        "colab": {
          "base_uri": "https://localhost:8080/",
          "height": 34
        },
        "outputId": "a5874ca7-4990-4758-efc8-12109c93d64e"
      },
      "source": [
        "qW[155] #neighbors & weights of the 156th observation (0-index remember)"
      ],
      "execution_count": 15,
      "outputs": [
        {
          "output_type": "execute_result",
          "data": {
            "text/plain": [
              "{127: 1.0, 138: 1.0, 139: 1.0, 154: 1.0, 159: 1.0, 171: 1.0}"
            ]
          },
          "metadata": {
            "tags": []
          },
          "execution_count": 15
        }
      ]
    },
    {
      "cell_type": "markdown",
      "metadata": {
        "id": "ytmAjokDRW7w",
        "colab_type": "text"
      },
      "source": [
        "By default, the weights and the pandas dataframe will use the same index. So, we can view the observation and its neighbors in the dataframe by putting the observation's index and its neighbors' indexes together in one list:"
      ]
    },
    {
      "cell_type": "code",
      "metadata": {
        "id": "CizsQhj3RW7x",
        "colab_type": "code",
        "colab": {
          "base_uri": "https://localhost:8080/",
          "height": 34
        },
        "outputId": "c41eec57-f591-4f89-f629-c9d8ebcf5de5"
      },
      "source": [
        "self_and_neighbors = [155]\n",
        "self_and_neighbors.extend(qW.neighbors[155])\n",
        "print(self_and_neighbors)"
      ],
      "execution_count": 16,
      "outputs": [
        {
          "output_type": "stream",
          "text": [
            "[155, 159, 154, 138, 139, 171, 127]\n"
          ],
          "name": "stdout"
        }
      ]
    },
    {
      "cell_type": "markdown",
      "metadata": {
        "id": "ntKMTI4fRW73",
        "colab_type": "text"
      },
      "source": [
        "and grabbing those elements from the dataframe:"
      ]
    },
    {
      "cell_type": "code",
      "metadata": {
        "id": "Tyrz3013RW75",
        "colab_type": "code",
        "colab": {
          "base_uri": "https://localhost:8080/",
          "height": 762
        },
        "outputId": "a73850f6-9d53-47fc-dbb3-2b637bbafba2"
      },
      "source": [
        "df.loc[self_and_neighbors]"
      ],
      "execution_count": 17,
      "outputs": [
        {
          "output_type": "execute_result",
          "data": {
            "text/html": [
              "<div>\n",
              "<style scoped>\n",
              "    .dataframe tbody tr th:only-of-type {\n",
              "        vertical-align: middle;\n",
              "    }\n",
              "\n",
              "    .dataframe tbody tr th {\n",
              "        vertical-align: top;\n",
              "    }\n",
              "\n",
              "    .dataframe thead th {\n",
              "        text-align: right;\n",
              "    }\n",
              "</style>\n",
              "<table border=\"1\" class=\"dataframe\">\n",
              "  <thead>\n",
              "    <tr style=\"text-align: right;\">\n",
              "      <th></th>\n",
              "      <th>NAME</th>\n",
              "      <th>STATE_NAME</th>\n",
              "      <th>STATE_FIPS</th>\n",
              "      <th>CNTY_FIPS</th>\n",
              "      <th>FIPS</th>\n",
              "      <th>STFIPS</th>\n",
              "      <th>COFIPS</th>\n",
              "      <th>FIPSNO</th>\n",
              "      <th>SOUTH</th>\n",
              "      <th>HR60</th>\n",
              "      <th>HR70</th>\n",
              "      <th>HR80</th>\n",
              "      <th>HR90</th>\n",
              "      <th>HC60</th>\n",
              "      <th>HC70</th>\n",
              "      <th>HC80</th>\n",
              "      <th>HC90</th>\n",
              "      <th>PO60</th>\n",
              "      <th>PO70</th>\n",
              "      <th>PO80</th>\n",
              "      <th>PO90</th>\n",
              "      <th>RD60</th>\n",
              "      <th>RD70</th>\n",
              "      <th>RD80</th>\n",
              "      <th>RD90</th>\n",
              "      <th>PS60</th>\n",
              "      <th>PS70</th>\n",
              "      <th>PS80</th>\n",
              "      <th>PS90</th>\n",
              "      <th>UE60</th>\n",
              "      <th>UE70</th>\n",
              "      <th>UE80</th>\n",
              "      <th>UE90</th>\n",
              "      <th>DV60</th>\n",
              "      <th>DV70</th>\n",
              "      <th>DV80</th>\n",
              "      <th>DV90</th>\n",
              "      <th>MA60</th>\n",
              "      <th>MA70</th>\n",
              "      <th>MA80</th>\n",
              "      <th>MA90</th>\n",
              "      <th>POL60</th>\n",
              "      <th>POL70</th>\n",
              "      <th>POL80</th>\n",
              "      <th>POL90</th>\n",
              "      <th>DNL60</th>\n",
              "      <th>DNL70</th>\n",
              "      <th>DNL80</th>\n",
              "      <th>DNL90</th>\n",
              "      <th>MFIL59</th>\n",
              "      <th>MFIL69</th>\n",
              "      <th>MFIL79</th>\n",
              "      <th>MFIL89</th>\n",
              "      <th>FP59</th>\n",
              "      <th>FP69</th>\n",
              "      <th>FP79</th>\n",
              "      <th>FP89</th>\n",
              "      <th>BLK60</th>\n",
              "      <th>BLK70</th>\n",
              "      <th>BLK80</th>\n",
              "      <th>BLK90</th>\n",
              "      <th>GI59</th>\n",
              "      <th>GI69</th>\n",
              "      <th>GI79</th>\n",
              "      <th>GI89</th>\n",
              "      <th>FH60</th>\n",
              "      <th>FH70</th>\n",
              "      <th>FH80</th>\n",
              "      <th>FH90</th>\n",
              "      <th>geometry</th>\n",
              "    </tr>\n",
              "  </thead>\n",
              "  <tbody>\n",
              "    <tr>\n",
              "      <th>155</th>\n",
              "      <td>Lampasas</td>\n",
              "      <td>Texas</td>\n",
              "      <td>48</td>\n",
              "      <td>281</td>\n",
              "      <td>48281</td>\n",
              "      <td>48</td>\n",
              "      <td>281</td>\n",
              "      <td>48281</td>\n",
              "      <td>1</td>\n",
              "      <td>0.000000</td>\n",
              "      <td>3.575387</td>\n",
              "      <td>8.329863</td>\n",
              "      <td>4.930602</td>\n",
              "      <td>0.000000</td>\n",
              "      <td>0.333333</td>\n",
              "      <td>1.000000</td>\n",
              "      <td>0.666667</td>\n",
              "      <td>9418</td>\n",
              "      <td>9323</td>\n",
              "      <td>12005</td>\n",
              "      <td>13521</td>\n",
              "      <td>0.243071</td>\n",
              "      <td>0.268801</td>\n",
              "      <td>0.169387</td>\n",
              "      <td>0.166756</td>\n",
              "      <td>-0.640417</td>\n",
              "      <td>-0.643923</td>\n",
              "      <td>-0.546498</td>\n",
              "      <td>-0.463411</td>\n",
              "      <td>2.9</td>\n",
              "      <td>3.6</td>\n",
              "      <td>6.641366</td>\n",
              "      <td>9.278518</td>\n",
              "      <td>2.582232</td>\n",
              "      <td>2.434077</td>\n",
              "      <td>4.935477</td>\n",
              "      <td>6.512945</td>\n",
              "      <td>34.5</td>\n",
              "      <td>35.1</td>\n",
              "      <td>33.6</td>\n",
              "      <td>35.4</td>\n",
              "      <td>9.150378</td>\n",
              "      <td>9.140240</td>\n",
              "      <td>9.393079</td>\n",
              "      <td>9.511999</td>\n",
              "      <td>2.562828</td>\n",
              "      <td>2.552690</td>\n",
              "      <td>2.822056</td>\n",
              "      <td>2.943781</td>\n",
              "      <td>8.135640</td>\n",
              "      <td>8.668196</td>\n",
              "      <td>9.575608</td>\n",
              "      <td>10.208985</td>\n",
              "      <td>43.4</td>\n",
              "      <td>18.7</td>\n",
              "      <td>13.443114</td>\n",
              "      <td>16.235670</td>\n",
              "      <td>3.026120</td>\n",
              "      <td>1.544567</td>\n",
              "      <td>1.382757</td>\n",
              "      <td>1.982102</td>\n",
              "      <td>0.335017</td>\n",
              "      <td>0.402855</td>\n",
              "      <td>0.390354</td>\n",
              "      <td>0.393445</td>\n",
              "      <td>10.989441</td>\n",
              "      <td>7.8</td>\n",
              "      <td>8.652695</td>\n",
              "      <td>12.023460</td>\n",
              "      <td>POLYGON ((-97.91265 31.04269, -98.43662 31.031...</td>\n",
              "    </tr>\n",
              "    <tr>\n",
              "      <th>159</th>\n",
              "      <td>Bell</td>\n",
              "      <td>Texas</td>\n",
              "      <td>48</td>\n",
              "      <td>027</td>\n",
              "      <td>48027</td>\n",
              "      <td>48</td>\n",
              "      <td>27</td>\n",
              "      <td>48027</td>\n",
              "      <td>1</td>\n",
              "      <td>4.959421</td>\n",
              "      <td>6.426580</td>\n",
              "      <td>13.089364</td>\n",
              "      <td>12.210779</td>\n",
              "      <td>4.666667</td>\n",
              "      <td>8.000000</td>\n",
              "      <td>20.666667</td>\n",
              "      <td>23.333333</td>\n",
              "      <td>94097</td>\n",
              "      <td>124483</td>\n",
              "      <td>157889</td>\n",
              "      <td>191088</td>\n",
              "      <td>-0.212322</td>\n",
              "      <td>0.027117</td>\n",
              "      <td>0.352923</td>\n",
              "      <td>0.272395</td>\n",
              "      <td>1.007528</td>\n",
              "      <td>1.136941</td>\n",
              "      <td>1.195925</td>\n",
              "      <td>1.264606</td>\n",
              "      <td>4.8</td>\n",
              "      <td>6.4</td>\n",
              "      <td>7.438314</td>\n",
              "      <td>9.020128</td>\n",
              "      <td>2.940461</td>\n",
              "      <td>2.762976</td>\n",
              "      <td>5.360818</td>\n",
              "      <td>7.448412</td>\n",
              "      <td>24.7</td>\n",
              "      <td>23.1</td>\n",
              "      <td>24.9</td>\n",
              "      <td>27.8</td>\n",
              "      <td>11.452081</td>\n",
              "      <td>11.731924</td>\n",
              "      <td>11.969648</td>\n",
              "      <td>12.160489</td>\n",
              "      <td>4.480413</td>\n",
              "      <td>4.778240</td>\n",
              "      <td>5.008541</td>\n",
              "      <td>5.195409</td>\n",
              "      <td>8.289288</td>\n",
              "      <td>8.823059</td>\n",
              "      <td>9.616405</td>\n",
              "      <td>10.197313</td>\n",
              "      <td>31.9</td>\n",
              "      <td>14.5</td>\n",
              "      <td>13.356264</td>\n",
              "      <td>12.218254</td>\n",
              "      <td>11.319171</td>\n",
              "      <td>12.670003</td>\n",
              "      <td>16.386829</td>\n",
              "      <td>18.889203</td>\n",
              "      <td>0.296351</td>\n",
              "      <td>0.378957</td>\n",
              "      <td>0.382181</td>\n",
              "      <td>0.386888</td>\n",
              "      <td>9.810410</td>\n",
              "      <td>8.2</td>\n",
              "      <td>10.025676</td>\n",
              "      <td>13.709190</td>\n",
              "      <td>POLYGON ((-97.83271 30.91687, -97.91265 31.042...</td>\n",
              "    </tr>\n",
              "    <tr>\n",
              "      <th>154</th>\n",
              "      <td>San Saba</td>\n",
              "      <td>Texas</td>\n",
              "      <td>48</td>\n",
              "      <td>411</td>\n",
              "      <td>48411</td>\n",
              "      <td>48</td>\n",
              "      <td>411</td>\n",
              "      <td>48411</td>\n",
              "      <td>1</td>\n",
              "      <td>5.223842</td>\n",
              "      <td>6.016847</td>\n",
              "      <td>10.745755</td>\n",
              "      <td>6.171697</td>\n",
              "      <td>0.333333</td>\n",
              "      <td>0.333333</td>\n",
              "      <td>0.666667</td>\n",
              "      <td>0.333333</td>\n",
              "      <td>6381</td>\n",
              "      <td>5540</td>\n",
              "      <td>6204</td>\n",
              "      <td>5401</td>\n",
              "      <td>0.566318</td>\n",
              "      <td>1.329367</td>\n",
              "      <td>0.683068</td>\n",
              "      <td>1.345917</td>\n",
              "      <td>-1.091050</td>\n",
              "      <td>-1.169131</td>\n",
              "      <td>-1.178914</td>\n",
              "      <td>-1.255508</td>\n",
              "      <td>3.4</td>\n",
              "      <td>2.3</td>\n",
              "      <td>2.116183</td>\n",
              "      <td>5.235602</td>\n",
              "      <td>2.285952</td>\n",
              "      <td>2.763221</td>\n",
              "      <td>4.446382</td>\n",
              "      <td>6.237525</td>\n",
              "      <td>41.1</td>\n",
              "      <td>43.3</td>\n",
              "      <td>40.1</td>\n",
              "      <td>39.1</td>\n",
              "      <td>8.761080</td>\n",
              "      <td>8.619750</td>\n",
              "      <td>8.732950</td>\n",
              "      <td>8.594339</td>\n",
              "      <td>1.739996</td>\n",
              "      <td>1.598666</td>\n",
              "      <td>1.697329</td>\n",
              "      <td>1.560392</td>\n",
              "      <td>7.966587</td>\n",
              "      <td>8.418036</td>\n",
              "      <td>9.429155</td>\n",
              "      <td>9.838416</td>\n",
              "      <td>51.8</td>\n",
              "      <td>30.8</td>\n",
              "      <td>18.046830</td>\n",
              "      <td>26.935804</td>\n",
              "      <td>0.736562</td>\n",
              "      <td>0.523466</td>\n",
              "      <td>0.709220</td>\n",
              "      <td>0.259211</td>\n",
              "      <td>0.374866</td>\n",
              "      <td>0.469212</td>\n",
              "      <td>0.412534</td>\n",
              "      <td>0.447820</td>\n",
              "      <td>9.497207</td>\n",
              "      <td>9.0</td>\n",
              "      <td>7.595660</td>\n",
              "      <td>11.317009</td>\n",
              "      <td>POLYGON ((-98.95845 30.92357, -99.09010 30.924...</td>\n",
              "    </tr>\n",
              "    <tr>\n",
              "      <th>138</th>\n",
              "      <td>Mills</td>\n",
              "      <td>Texas</td>\n",
              "      <td>48</td>\n",
              "      <td>333</td>\n",
              "      <td>48333</td>\n",
              "      <td>48</td>\n",
              "      <td>333</td>\n",
              "      <td>48333</td>\n",
              "      <td>1</td>\n",
              "      <td>7.462130</td>\n",
              "      <td>7.913897</td>\n",
              "      <td>0.000000</td>\n",
              "      <td>0.000000</td>\n",
              "      <td>0.333333</td>\n",
              "      <td>0.333333</td>\n",
              "      <td>0.000000</td>\n",
              "      <td>0.000000</td>\n",
              "      <td>4467</td>\n",
              "      <td>4212</td>\n",
              "      <td>4477</td>\n",
              "      <td>4531</td>\n",
              "      <td>0.515215</td>\n",
              "      <td>0.486768</td>\n",
              "      <td>0.029240</td>\n",
              "      <td>0.266306</td>\n",
              "      <td>-1.221168</td>\n",
              "      <td>-1.230605</td>\n",
              "      <td>-1.278063</td>\n",
              "      <td>-1.245105</td>\n",
              "      <td>1.4</td>\n",
              "      <td>1.5</td>\n",
              "      <td>3.058438</td>\n",
              "      <td>2.686404</td>\n",
              "      <td>1.270942</td>\n",
              "      <td>2.049427</td>\n",
              "      <td>3.733487</td>\n",
              "      <td>5.899198</td>\n",
              "      <td>44.6</td>\n",
              "      <td>48.3</td>\n",
              "      <td>46.2</td>\n",
              "      <td>42.8</td>\n",
              "      <td>8.404472</td>\n",
              "      <td>8.345693</td>\n",
              "      <td>8.406708</td>\n",
              "      <td>8.418698</td>\n",
              "      <td>1.805963</td>\n",
              "      <td>1.747184</td>\n",
              "      <td>1.789172</td>\n",
              "      <td>1.801028</td>\n",
              "      <td>7.956477</td>\n",
              "      <td>8.604654</td>\n",
              "      <td>9.461099</td>\n",
              "      <td>9.945061</td>\n",
              "      <td>52.3</td>\n",
              "      <td>23.8</td>\n",
              "      <td>13.958641</td>\n",
              "      <td>16.654050</td>\n",
              "      <td>0.022386</td>\n",
              "      <td>0.000000</td>\n",
              "      <td>0.111682</td>\n",
              "      <td>0.220702</td>\n",
              "      <td>0.378945</td>\n",
              "      <td>0.424433</td>\n",
              "      <td>0.372892</td>\n",
              "      <td>0.399459</td>\n",
              "      <td>8.283582</td>\n",
              "      <td>6.2</td>\n",
              "      <td>5.760709</td>\n",
              "      <td>7.267222</td>\n",
              "      <td>POLYGON ((-98.56595 31.23529, -98.58150 31.263...</td>\n",
              "    </tr>\n",
              "    <tr>\n",
              "      <th>139</th>\n",
              "      <td>Coryell</td>\n",
              "      <td>Texas</td>\n",
              "      <td>48</td>\n",
              "      <td>099</td>\n",
              "      <td>48099</td>\n",
              "      <td>48</td>\n",
              "      <td>99</td>\n",
              "      <td>48099</td>\n",
              "      <td>1</td>\n",
              "      <td>2.782299</td>\n",
              "      <td>4.719965</td>\n",
              "      <td>2.348782</td>\n",
              "      <td>4.671951</td>\n",
              "      <td>0.666667</td>\n",
              "      <td>1.666667</td>\n",
              "      <td>1.333333</td>\n",
              "      <td>3.000000</td>\n",
              "      <td>23961</td>\n",
              "      <td>35311</td>\n",
              "      <td>56767</td>\n",
              "      <td>64213</td>\n",
              "      <td>-0.091149</td>\n",
              "      <td>-0.108423</td>\n",
              "      <td>0.061248</td>\n",
              "      <td>-0.343404</td>\n",
              "      <td>-0.043044</td>\n",
              "      <td>0.213602</td>\n",
              "      <td>0.452570</td>\n",
              "      <td>0.502862</td>\n",
              "      <td>3.5</td>\n",
              "      <td>4.7</td>\n",
              "      <td>9.745729</td>\n",
              "      <td>10.097533</td>\n",
              "      <td>2.354154</td>\n",
              "      <td>2.190124</td>\n",
              "      <td>3.438534</td>\n",
              "      <td>5.788500</td>\n",
              "      <td>23.9</td>\n",
              "      <td>22.0</td>\n",
              "      <td>22.6</td>\n",
              "      <td>25.4</td>\n",
              "      <td>10.084183</td>\n",
              "      <td>10.471950</td>\n",
              "      <td>10.946710</td>\n",
              "      <td>11.069961</td>\n",
              "      <td>3.134326</td>\n",
              "      <td>3.522093</td>\n",
              "      <td>3.983899</td>\n",
              "      <td>4.111608</td>\n",
              "      <td>8.174985</td>\n",
              "      <td>8.784162</td>\n",
              "      <td>9.514880</td>\n",
              "      <td>10.131420</td>\n",
              "      <td>40.5</td>\n",
              "      <td>15.8</td>\n",
              "      <td>11.932347</td>\n",
              "      <td>9.048248</td>\n",
              "      <td>5.396269</td>\n",
              "      <td>9.042508</td>\n",
              "      <td>18.979337</td>\n",
              "      <td>21.167053</td>\n",
              "      <td>0.314801</td>\n",
              "      <td>0.354336</td>\n",
              "      <td>0.351261</td>\n",
              "      <td>0.335440</td>\n",
              "      <td>7.955449</td>\n",
              "      <td>8.0</td>\n",
              "      <td>7.230444</td>\n",
              "      <td>9.554187</td>\n",
              "      <td>POLYGON ((-97.90811 31.07368, -98.17923 31.464...</td>\n",
              "    </tr>\n",
              "    <tr>\n",
              "      <th>171</th>\n",
              "      <td>Burnet</td>\n",
              "      <td>Texas</td>\n",
              "      <td>48</td>\n",
              "      <td>053</td>\n",
              "      <td>48053</td>\n",
              "      <td>48</td>\n",
              "      <td>53</td>\n",
              "      <td>48053</td>\n",
              "      <td>1</td>\n",
              "      <td>0.000000</td>\n",
              "      <td>11.675423</td>\n",
              "      <td>3.744687</td>\n",
              "      <td>5.879673</td>\n",
              "      <td>0.000000</td>\n",
              "      <td>1.333333</td>\n",
              "      <td>0.666667</td>\n",
              "      <td>1.333333</td>\n",
              "      <td>9265</td>\n",
              "      <td>11420</td>\n",
              "      <td>17803</td>\n",
              "      <td>22677</td>\n",
              "      <td>0.059999</td>\n",
              "      <td>0.490960</td>\n",
              "      <td>-0.007158</td>\n",
              "      <td>0.195426</td>\n",
              "      <td>-0.762127</td>\n",
              "      <td>-0.599528</td>\n",
              "      <td>-0.369362</td>\n",
              "      <td>-0.208512</td>\n",
              "      <td>2.8</td>\n",
              "      <td>2.3</td>\n",
              "      <td>4.193849</td>\n",
              "      <td>6.429798</td>\n",
              "      <td>1.906780</td>\n",
              "      <td>2.229373</td>\n",
              "      <td>4.045734</td>\n",
              "      <td>7.835341</td>\n",
              "      <td>35.4</td>\n",
              "      <td>43.1</td>\n",
              "      <td>41.5</td>\n",
              "      <td>40.0</td>\n",
              "      <td>9.133999</td>\n",
              "      <td>9.343121</td>\n",
              "      <td>9.787122</td>\n",
              "      <td>10.029106</td>\n",
              "      <td>2.230252</td>\n",
              "      <td>2.439374</td>\n",
              "      <td>2.885284</td>\n",
              "      <td>3.126062</td>\n",
              "      <td>8.220134</td>\n",
              "      <td>8.711114</td>\n",
              "      <td>9.555135</td>\n",
              "      <td>10.137611</td>\n",
              "      <td>39.8</td>\n",
              "      <td>21.0</td>\n",
              "      <td>11.653658</td>\n",
              "      <td>14.569339</td>\n",
              "      <td>1.845656</td>\n",
              "      <td>1.593695</td>\n",
              "      <td>1.555918</td>\n",
              "      <td>1.186224</td>\n",
              "      <td>0.327508</td>\n",
              "      <td>0.449285</td>\n",
              "      <td>0.385079</td>\n",
              "      <td>0.405890</td>\n",
              "      <td>10.774142</td>\n",
              "      <td>6.5</td>\n",
              "      <td>7.115629</td>\n",
              "      <td>10.568742</td>\n",
              "      <td>POLYGON ((-98.34818 30.49785, -98.34894 30.565...</td>\n",
              "    </tr>\n",
              "    <tr>\n",
              "      <th>127</th>\n",
              "      <td>Hamilton</td>\n",
              "      <td>Texas</td>\n",
              "      <td>48</td>\n",
              "      <td>193</td>\n",
              "      <td>48193</td>\n",
              "      <td>48</td>\n",
              "      <td>193</td>\n",
              "      <td>48193</td>\n",
              "      <td>1</td>\n",
              "      <td>0.000000</td>\n",
              "      <td>9.261832</td>\n",
              "      <td>0.000000</td>\n",
              "      <td>4.310531</td>\n",
              "      <td>0.000000</td>\n",
              "      <td>0.666667</td>\n",
              "      <td>0.000000</td>\n",
              "      <td>0.333333</td>\n",
              "      <td>8488</td>\n",
              "      <td>7198</td>\n",
              "      <td>8297</td>\n",
              "      <td>7733</td>\n",
              "      <td>0.828395</td>\n",
              "      <td>0.430997</td>\n",
              "      <td>0.312264</td>\n",
              "      <td>0.391632</td>\n",
              "      <td>-0.772774</td>\n",
              "      <td>-0.883516</td>\n",
              "      <td>-0.866681</td>\n",
              "      <td>-0.906148</td>\n",
              "      <td>1.9</td>\n",
              "      <td>2.5</td>\n",
              "      <td>2.226077</td>\n",
              "      <td>4.640582</td>\n",
              "      <td>1.393620</td>\n",
              "      <td>2.471347</td>\n",
              "      <td>3.332295</td>\n",
              "      <td>7.416268</td>\n",
              "      <td>44.6</td>\n",
              "      <td>49.7</td>\n",
              "      <td>46.5</td>\n",
              "      <td>43.5</td>\n",
              "      <td>9.046409</td>\n",
              "      <td>8.881558</td>\n",
              "      <td>9.023649</td>\n",
              "      <td>8.953252</td>\n",
              "      <td>2.308256</td>\n",
              "      <td>2.143406</td>\n",
              "      <td>2.295021</td>\n",
              "      <td>2.224863</td>\n",
              "      <td>7.856320</td>\n",
              "      <td>8.572060</td>\n",
              "      <td>9.457200</td>\n",
              "      <td>10.049188</td>\n",
              "      <td>57.8</td>\n",
              "      <td>19.3</td>\n",
              "      <td>14.740234</td>\n",
              "      <td>13.088768</td>\n",
              "      <td>0.023563</td>\n",
              "      <td>0.013893</td>\n",
              "      <td>0.000000</td>\n",
              "      <td>0.025863</td>\n",
              "      <td>0.384394</td>\n",
              "      <td>0.411167</td>\n",
              "      <td>0.405745</td>\n",
              "      <td>0.431276</td>\n",
              "      <td>10.249307</td>\n",
              "      <td>8.1</td>\n",
              "      <td>5.316150</td>\n",
              "      <td>10.190217</td>\n",
              "      <td>POLYGON ((-98.17923 31.46478, -98.25954 31.424...</td>\n",
              "    </tr>\n",
              "  </tbody>\n",
              "</table>\n",
              "</div>"
            ],
            "text/plain": [
              "         NAME  ...                                           geometry\n",
              "155  Lampasas  ...  POLYGON ((-97.91265 31.04269, -98.43662 31.031...\n",
              "159      Bell  ...  POLYGON ((-97.83271 30.91687, -97.91265 31.042...\n",
              "154  San Saba  ...  POLYGON ((-98.95845 30.92357, -99.09010 30.924...\n",
              "138     Mills  ...  POLYGON ((-98.56595 31.23529, -98.58150 31.263...\n",
              "139   Coryell  ...  POLYGON ((-97.90811 31.07368, -98.17923 31.464...\n",
              "171    Burnet  ...  POLYGON ((-98.34818 30.49785, -98.34894 30.565...\n",
              "127  Hamilton  ...  POLYGON ((-98.17923 31.46478, -98.25954 31.424...\n",
              "\n",
              "[7 rows x 70 columns]"
            ]
          },
          "metadata": {
            "tags": []
          },
          "execution_count": 17
        }
      ]
    },
    {
      "cell_type": "markdown",
      "metadata": {
        "id": "h-QpRxZQRW8A",
        "colab_type": "text"
      },
      "source": [
        "A full, dense matrix describing all of the pairwise relationships is constructed using the `.full` method, or when `libpysal.weights.full` is called on a weights object:"
      ]
    },
    {
      "cell_type": "code",
      "metadata": {
        "id": "i7Ov5-o9RW8B",
        "colab_type": "code",
        "colab": {}
      },
      "source": [
        "Wmatrix, ids = qW.full()\n",
        "#Wmatrix, ids = libpysal.weights.full(qW)"
      ],
      "execution_count": 0,
      "outputs": []
    },
    {
      "cell_type": "code",
      "metadata": {
        "id": "vi-N7rQARW8H",
        "colab_type": "code",
        "colab": {
          "base_uri": "https://localhost:8080/",
          "height": 136
        },
        "outputId": "2a25e109-3a56-43c6-e382-7d83d9d04f07"
      },
      "source": [
        "Wmatrix"
      ],
      "execution_count": 19,
      "outputs": [
        {
          "output_type": "execute_result",
          "data": {
            "text/plain": [
              "array([[0., 0., 0., ..., 0., 0., 0.],\n",
              "       [0., 0., 1., ..., 0., 0., 0.],\n",
              "       [0., 1., 0., ..., 0., 0., 0.],\n",
              "       ...,\n",
              "       [0., 0., 0., ..., 0., 1., 1.],\n",
              "       [0., 0., 0., ..., 1., 0., 1.],\n",
              "       [0., 0., 0., ..., 1., 1., 0.]])"
            ]
          },
          "metadata": {
            "tags": []
          },
          "execution_count": 19
        }
      ]
    },
    {
      "cell_type": "code",
      "metadata": {
        "id": "oMEr1yFKRW8O",
        "colab_type": "code",
        "colab": {}
      },
      "source": [
        "n_neighbors = Wmatrix.sum(axis=1) # how many neighbors each region has"
      ],
      "execution_count": 0,
      "outputs": []
    },
    {
      "cell_type": "code",
      "metadata": {
        "id": "1-ToUoqFRW8U",
        "colab_type": "code",
        "colab": {
          "base_uri": "https://localhost:8080/",
          "height": 34
        },
        "outputId": "78288749-3f65-4200-f9e2-f2bdabbe6f4a"
      },
      "source": [
        "n_neighbors[155]"
      ],
      "execution_count": 21,
      "outputs": [
        {
          "output_type": "execute_result",
          "data": {
            "text/plain": [
              "6.0"
            ]
          },
          "metadata": {
            "tags": []
          },
          "execution_count": 21
        }
      ]
    },
    {
      "cell_type": "code",
      "metadata": {
        "id": "GIWH_B3KRW8Z",
        "colab_type": "code",
        "colab": {
          "base_uri": "https://localhost:8080/",
          "height": 34
        },
        "outputId": "6d748d40-141b-4e8d-e1d5-8ea79ca70f31"
      },
      "source": [
        "qW.cardinalities[155]"
      ],
      "execution_count": 22,
      "outputs": [
        {
          "output_type": "execute_result",
          "data": {
            "text/plain": [
              "6"
            ]
          },
          "metadata": {
            "tags": []
          },
          "execution_count": 22
        }
      ]
    },
    {
      "cell_type": "markdown",
      "metadata": {
        "id": "aGgRwb_tRW8k",
        "colab_type": "text"
      },
      "source": [
        "Note that this matrix is binary, in that its elements are either zero or one, since an observation is either a neighbor or it is not a neighbor. \n",
        "\n",
        "However, many common use cases of spatial weights require that the matrix is row-standardized. This is done simply in PySAL using the `.transform` attribute"
      ]
    },
    {
      "cell_type": "code",
      "metadata": {
        "id": "OgkNhlh3RW8n",
        "colab_type": "code",
        "colab": {}
      },
      "source": [
        "qW.transform = 'r'"
      ],
      "execution_count": 0,
      "outputs": []
    },
    {
      "cell_type": "markdown",
      "metadata": {
        "id": "5X6mWaqARW8u",
        "colab_type": "text"
      },
      "source": [
        "Now, if we build a new full matrix, its rows should sum to one:"
      ]
    },
    {
      "cell_type": "code",
      "metadata": {
        "id": "6g89_b_qRW8w",
        "colab_type": "code",
        "colab": {}
      },
      "source": [
        "Wmatrix, ids = qW.full()"
      ],
      "execution_count": 0,
      "outputs": []
    },
    {
      "cell_type": "code",
      "metadata": {
        "id": "tSCIbAXLRW81",
        "colab_type": "code",
        "colab": {
          "base_uri": "https://localhost:8080/",
          "height": 272
        },
        "outputId": "96fe0ef5-c63b-4ada-90e3-366efcc47460"
      },
      "source": [
        "Wmatrix.sum(axis=1) #numpy axes are 0:column, 1:row, 2:facet, into higher dimensions"
      ],
      "execution_count": 25,
      "outputs": [
        {
          "output_type": "execute_result",
          "data": {
            "text/plain": [
              "array([1., 1., 1., 1., 1., 1., 1., 1., 1., 1., 1., 1., 1., 1., 1., 1., 1.,\n",
              "       1., 1., 1., 1., 1., 1., 1., 1., 1., 1., 1., 1., 1., 1., 1., 1., 1.,\n",
              "       1., 1., 1., 1., 1., 1., 1., 1., 1., 1., 1., 1., 1., 1., 1., 1., 1.,\n",
              "       1., 1., 1., 1., 1., 1., 1., 1., 1., 1., 1., 1., 1., 1., 1., 1., 1.,\n",
              "       1., 1., 1., 1., 1., 1., 1., 1., 1., 1., 1., 1., 1., 1., 1., 1., 1.,\n",
              "       1., 1., 1., 1., 1., 1., 1., 1., 1., 1., 1., 1., 1., 1., 1., 1., 1.,\n",
              "       1., 1., 1., 1., 1., 1., 1., 1., 1., 1., 1., 1., 1., 1., 1., 1., 1.,\n",
              "       1., 1., 1., 1., 1., 1., 1., 1., 1., 1., 1., 1., 1., 1., 1., 1., 1.,\n",
              "       1., 1., 1., 1., 1., 1., 1., 1., 1., 1., 1., 1., 1., 1., 1., 1., 1.,\n",
              "       1., 1., 1., 1., 1., 1., 1., 1., 1., 1., 1., 1., 1., 1., 1., 1., 1.,\n",
              "       1., 1., 1., 1., 1., 1., 1., 1., 1., 1., 1., 1., 1., 1., 1., 1., 1.,\n",
              "       1., 1., 1., 1., 1., 1., 1., 1., 1., 1., 1., 1., 1., 1., 1., 1., 1.,\n",
              "       1., 1., 1., 1., 1., 1., 1., 1., 1., 1., 1., 1., 1., 1., 1., 1., 1.,\n",
              "       1., 1., 1., 1., 1., 1., 1., 1., 1., 1., 1., 1., 1., 1., 1., 1., 1.,\n",
              "       1., 1., 1., 1., 1., 1., 1., 1., 1., 1., 1., 1., 1., 1., 1., 1.])"
            ]
          },
          "metadata": {
            "tags": []
          },
          "execution_count": 25
        }
      ]
    },
    {
      "cell_type": "markdown",
      "metadata": {
        "id": "_7iJ5w7kRW88",
        "colab_type": "text"
      },
      "source": [
        "Since weight matrices are typically very sparse, there is also a sparse weights matrix constructor:"
      ]
    },
    {
      "cell_type": "code",
      "metadata": {
        "id": "YFECbK1LRW89",
        "colab_type": "code",
        "colab": {
          "base_uri": "https://localhost:8080/",
          "height": 51
        },
        "outputId": "9e8c710c-0cfa-4165-8267-a56f063563e6"
      },
      "source": [
        "qW.sparse"
      ],
      "execution_count": 26,
      "outputs": [
        {
          "output_type": "execute_result",
          "data": {
            "text/plain": [
              "<254x254 sparse matrix of type '<class 'numpy.float64'>'\n",
              "\twith 1460 stored elements in Compressed Sparse Row format>"
            ]
          },
          "metadata": {
            "tags": []
          },
          "execution_count": 26
        }
      ]
    },
    {
      "cell_type": "code",
      "metadata": {
        "id": "5mhQt-OeRW9E",
        "colab_type": "code",
        "colab": {
          "base_uri": "https://localhost:8080/",
          "height": 34
        },
        "outputId": "e275f2a0-1d52-4b86-bac7-c3ac4986eaf4"
      },
      "source": [
        "qW.pct_nonzero #Percentage of nonzero neighbor counts"
      ],
      "execution_count": 27,
      "outputs": [
        {
          "output_type": "execute_result",
          "data": {
            "text/plain": [
              "2.263004526009052"
            ]
          },
          "metadata": {
            "tags": []
          },
          "execution_count": 27
        }
      ]
    },
    {
      "cell_type": "markdown",
      "metadata": {
        "id": "025JMg0fRW9J",
        "colab_type": "text"
      },
      "source": [
        "Let's look at the neighborhoods of the 101th observation - Howard County, Texas"
      ]
    },
    {
      "cell_type": "code",
      "metadata": {
        "id": "uE0gfA-JRW9L",
        "colab_type": "code",
        "colab": {
          "base_uri": "https://localhost:8080/",
          "height": 221
        },
        "outputId": "c5c6c682-4757-4603-c3b7-d896696baf78"
      },
      "source": [
        "df.iloc[100]"
      ],
      "execution_count": 28,
      "outputs": [
        {
          "output_type": "execute_result",
          "data": {
            "text/plain": [
              "NAME                                                     Howard\n",
              "STATE_NAME                                                Texas\n",
              "STATE_FIPS                                                   48\n",
              "CNTY_FIPS                                                   227\n",
              "FIPS                                                      48227\n",
              "                                    ...                        \n",
              "FH60                                                     8.3283\n",
              "FH70                                                        7.9\n",
              "FH80                                                    11.0435\n",
              "FH90                                                    15.3374\n",
              "geometry      POLYGON ((-101.2665557861328 32.09101486206055...\n",
              "Name: 100, Length: 70, dtype: object"
            ]
          },
          "metadata": {
            "tags": []
          },
          "execution_count": 28
        }
      ]
    },
    {
      "cell_type": "code",
      "metadata": {
        "id": "VqCz94CoRW9R",
        "colab_type": "code",
        "colab": {
          "base_uri": "https://localhost:8080/",
          "height": 34
        },
        "outputId": "7bd81e11-1c4e-4800-92ca-e0b135cdf707"
      },
      "source": [
        "qW.neighbors[100]"
      ],
      "execution_count": 29,
      "outputs": [
        {
          "output_type": "execute_result",
          "data": {
            "text/plain": [
              "[84, 101, 85, 86, 104, 117, 118]"
            ]
          },
          "metadata": {
            "tags": []
          },
          "execution_count": 29
        }
      ]
    },
    {
      "cell_type": "code",
      "metadata": {
        "id": "DZsNEYIkRW9W",
        "colab_type": "code",
        "colab": {
          "base_uri": "https://localhost:8080/",
          "height": 34
        },
        "outputId": "bf193083-5d9a-4eaf-ad28-9cdda23be398"
      },
      "source": [
        "len(qW.neighbors[100])"
      ],
      "execution_count": 30,
      "outputs": [
        {
          "output_type": "execute_result",
          "data": {
            "text/plain": [
              "7"
            ]
          },
          "metadata": {
            "tags": []
          },
          "execution_count": 30
        }
      ]
    },
    {
      "cell_type": "code",
      "metadata": {
        "id": "AnjgUlnzRW9a",
        "colab_type": "code",
        "colab": {
          "base_uri": "https://localhost:8080/",
          "height": 762
        },
        "outputId": "fda3b5a6-1d56-4821-8311-7cce02106476"
      },
      "source": [
        "df.iloc[qW.neighbors[100]]"
      ],
      "execution_count": 31,
      "outputs": [
        {
          "output_type": "execute_result",
          "data": {
            "text/html": [
              "<div>\n",
              "<style scoped>\n",
              "    .dataframe tbody tr th:only-of-type {\n",
              "        vertical-align: middle;\n",
              "    }\n",
              "\n",
              "    .dataframe tbody tr th {\n",
              "        vertical-align: top;\n",
              "    }\n",
              "\n",
              "    .dataframe thead th {\n",
              "        text-align: right;\n",
              "    }\n",
              "</style>\n",
              "<table border=\"1\" class=\"dataframe\">\n",
              "  <thead>\n",
              "    <tr style=\"text-align: right;\">\n",
              "      <th></th>\n",
              "      <th>NAME</th>\n",
              "      <th>STATE_NAME</th>\n",
              "      <th>STATE_FIPS</th>\n",
              "      <th>CNTY_FIPS</th>\n",
              "      <th>FIPS</th>\n",
              "      <th>STFIPS</th>\n",
              "      <th>COFIPS</th>\n",
              "      <th>FIPSNO</th>\n",
              "      <th>SOUTH</th>\n",
              "      <th>HR60</th>\n",
              "      <th>HR70</th>\n",
              "      <th>HR80</th>\n",
              "      <th>HR90</th>\n",
              "      <th>HC60</th>\n",
              "      <th>HC70</th>\n",
              "      <th>HC80</th>\n",
              "      <th>HC90</th>\n",
              "      <th>PO60</th>\n",
              "      <th>PO70</th>\n",
              "      <th>PO80</th>\n",
              "      <th>PO90</th>\n",
              "      <th>RD60</th>\n",
              "      <th>RD70</th>\n",
              "      <th>RD80</th>\n",
              "      <th>RD90</th>\n",
              "      <th>PS60</th>\n",
              "      <th>PS70</th>\n",
              "      <th>PS80</th>\n",
              "      <th>PS90</th>\n",
              "      <th>UE60</th>\n",
              "      <th>UE70</th>\n",
              "      <th>UE80</th>\n",
              "      <th>UE90</th>\n",
              "      <th>DV60</th>\n",
              "      <th>DV70</th>\n",
              "      <th>DV80</th>\n",
              "      <th>DV90</th>\n",
              "      <th>MA60</th>\n",
              "      <th>MA70</th>\n",
              "      <th>MA80</th>\n",
              "      <th>MA90</th>\n",
              "      <th>POL60</th>\n",
              "      <th>POL70</th>\n",
              "      <th>POL80</th>\n",
              "      <th>POL90</th>\n",
              "      <th>DNL60</th>\n",
              "      <th>DNL70</th>\n",
              "      <th>DNL80</th>\n",
              "      <th>DNL90</th>\n",
              "      <th>MFIL59</th>\n",
              "      <th>MFIL69</th>\n",
              "      <th>MFIL79</th>\n",
              "      <th>MFIL89</th>\n",
              "      <th>FP59</th>\n",
              "      <th>FP69</th>\n",
              "      <th>FP79</th>\n",
              "      <th>FP89</th>\n",
              "      <th>BLK60</th>\n",
              "      <th>BLK70</th>\n",
              "      <th>BLK80</th>\n",
              "      <th>BLK90</th>\n",
              "      <th>GI59</th>\n",
              "      <th>GI69</th>\n",
              "      <th>GI79</th>\n",
              "      <th>GI89</th>\n",
              "      <th>FH60</th>\n",
              "      <th>FH70</th>\n",
              "      <th>FH80</th>\n",
              "      <th>FH90</th>\n",
              "      <th>geometry</th>\n",
              "    </tr>\n",
              "  </thead>\n",
              "  <tbody>\n",
              "    <tr>\n",
              "      <th>84</th>\n",
              "      <td>Scurry</td>\n",
              "      <td>Texas</td>\n",
              "      <td>48</td>\n",
              "      <td>415</td>\n",
              "      <td>48415</td>\n",
              "      <td>48</td>\n",
              "      <td>415</td>\n",
              "      <td>48415</td>\n",
              "      <td>1</td>\n",
              "      <td>3.272947</td>\n",
              "      <td>6.345178</td>\n",
              "      <td>10.993843</td>\n",
              "      <td>7.155379</td>\n",
              "      <td>0.666667</td>\n",
              "      <td>1.000000</td>\n",
              "      <td>2.000000</td>\n",
              "      <td>1.333333</td>\n",
              "      <td>20369</td>\n",
              "      <td>15760</td>\n",
              "      <td>18192</td>\n",
              "      <td>18634</td>\n",
              "      <td>-1.104083</td>\n",
              "      <td>-0.357249</td>\n",
              "      <td>-0.443955</td>\n",
              "      <td>-0.097142</td>\n",
              "      <td>-0.119351</td>\n",
              "      <td>-0.331129</td>\n",
              "      <td>-0.321013</td>\n",
              "      <td>-0.314724</td>\n",
              "      <td>5.1</td>\n",
              "      <td>3.0</td>\n",
              "      <td>3.092784</td>\n",
              "      <td>7.327475</td>\n",
              "      <td>2.152642</td>\n",
              "      <td>2.055039</td>\n",
              "      <td>4.077641</td>\n",
              "      <td>7.303603</td>\n",
              "      <td>26.1</td>\n",
              "      <td>32.1</td>\n",
              "      <td>29.4</td>\n",
              "      <td>32.6</td>\n",
              "      <td>9.921769</td>\n",
              "      <td>9.665230</td>\n",
              "      <td>9.808737</td>\n",
              "      <td>9.832743</td>\n",
              "      <td>3.114940</td>\n",
              "      <td>2.858401</td>\n",
              "      <td>3.006009</td>\n",
              "      <td>3.027464</td>\n",
              "      <td>8.618847</td>\n",
              "      <td>8.956480</td>\n",
              "      <td>9.839322</td>\n",
              "      <td>10.243987</td>\n",
              "      <td>19.9</td>\n",
              "      <td>14.2</td>\n",
              "      <td>8.988981</td>\n",
              "      <td>13.718187</td>\n",
              "      <td>2.788551</td>\n",
              "      <td>3.166244</td>\n",
              "      <td>3.331135</td>\n",
              "      <td>4.717184</td>\n",
              "      <td>0.257733</td>\n",
              "      <td>0.377475</td>\n",
              "      <td>0.378368</td>\n",
              "      <td>0.387530</td>\n",
              "      <td>7.060163</td>\n",
              "      <td>6.6</td>\n",
              "      <td>8.370385</td>\n",
              "      <td>9.228223</td>\n",
              "      <td>POLYGON ((-100.66333 32.52182, -101.17827 32.5...</td>\n",
              "    </tr>\n",
              "    <tr>\n",
              "      <th>101</th>\n",
              "      <td>Mitchell</td>\n",
              "      <td>Texas</td>\n",
              "      <td>48</td>\n",
              "      <td>335</td>\n",
              "      <td>48335</td>\n",
              "      <td>48</td>\n",
              "      <td>335</td>\n",
              "      <td>48335</td>\n",
              "      <td>1</td>\n",
              "      <td>2.961647</td>\n",
              "      <td>3.673904</td>\n",
              "      <td>11.003521</td>\n",
              "      <td>8.316700</td>\n",
              "      <td>0.333333</td>\n",
              "      <td>0.333333</td>\n",
              "      <td>1.000000</td>\n",
              "      <td>0.666667</td>\n",
              "      <td>11255</td>\n",
              "      <td>9073</td>\n",
              "      <td>9088</td>\n",
              "      <td>8016</td>\n",
              "      <td>-0.242511</td>\n",
              "      <td>0.460482</td>\n",
              "      <td>0.705262</td>\n",
              "      <td>0.780999</td>\n",
              "      <td>-0.584253</td>\n",
              "      <td>-0.742126</td>\n",
              "      <td>-0.829298</td>\n",
              "      <td>-0.908270</td>\n",
              "      <td>4.0</td>\n",
              "      <td>6.3</td>\n",
              "      <td>2.492468</td>\n",
              "      <td>6.735087</td>\n",
              "      <td>1.515152</td>\n",
              "      <td>2.328469</td>\n",
              "      <td>3.439727</td>\n",
              "      <td>6.386671</td>\n",
              "      <td>28.9</td>\n",
              "      <td>35.5</td>\n",
              "      <td>34.1</td>\n",
              "      <td>37.3</td>\n",
              "      <td>9.328568</td>\n",
              "      <td>9.113058</td>\n",
              "      <td>9.114710</td>\n",
              "      <td>8.989195</td>\n",
              "      <td>2.504194</td>\n",
              "      <td>2.288685</td>\n",
              "      <td>2.298851</td>\n",
              "      <td>2.175640</td>\n",
              "      <td>8.314587</td>\n",
              "      <td>8.822912</td>\n",
              "      <td>9.620461</td>\n",
              "      <td>9.992734</td>\n",
              "      <td>34.2</td>\n",
              "      <td>22.8</td>\n",
              "      <td>16.165560</td>\n",
              "      <td>17.713511</td>\n",
              "      <td>7.374500</td>\n",
              "      <td>6.734267</td>\n",
              "      <td>5.182658</td>\n",
              "      <td>4.528443</td>\n",
              "      <td>0.308195</td>\n",
              "      <td>0.427075</td>\n",
              "      <td>0.429193</td>\n",
              "      <td>0.429171</td>\n",
              "      <td>8.922323</td>\n",
              "      <td>8.0</td>\n",
              "      <td>10.425615</td>\n",
              "      <td>12.516945</td>\n",
              "      <td>POLYGON ((-100.66947 32.08794, -100.81491 32.0...</td>\n",
              "    </tr>\n",
              "    <tr>\n",
              "      <th>85</th>\n",
              "      <td>Borden</td>\n",
              "      <td>Texas</td>\n",
              "      <td>48</td>\n",
              "      <td>033</td>\n",
              "      <td>48033</td>\n",
              "      <td>48</td>\n",
              "      <td>33</td>\n",
              "      <td>48033</td>\n",
              "      <td>1</td>\n",
              "      <td>92.936803</td>\n",
              "      <td>0.000000</td>\n",
              "      <td>0.000000</td>\n",
              "      <td>0.000000</td>\n",
              "      <td>1.000000</td>\n",
              "      <td>0.000000</td>\n",
              "      <td>0.000000</td>\n",
              "      <td>0.000000</td>\n",
              "      <td>1076</td>\n",
              "      <td>888</td>\n",
              "      <td>859</td>\n",
              "      <td>799</td>\n",
              "      <td>-0.764209</td>\n",
              "      <td>-1.018203</td>\n",
              "      <td>0.105040</td>\n",
              "      <td>-0.415848</td>\n",
              "      <td>-2.395226</td>\n",
              "      <td>-2.442903</td>\n",
              "      <td>-2.537669</td>\n",
              "      <td>-2.519505</td>\n",
              "      <td>6.9</td>\n",
              "      <td>1.2</td>\n",
              "      <td>1.759531</td>\n",
              "      <td>2.842377</td>\n",
              "      <td>2.564103</td>\n",
              "      <td>0.598802</td>\n",
              "      <td>2.431611</td>\n",
              "      <td>6.451613</td>\n",
              "      <td>28.0</td>\n",
              "      <td>34.1</td>\n",
              "      <td>32.0</td>\n",
              "      <td>36.3</td>\n",
              "      <td>6.981006</td>\n",
              "      <td>6.788972</td>\n",
              "      <td>6.755769</td>\n",
              "      <td>6.683361</td>\n",
              "      <td>0.170863</td>\n",
              "      <td>-0.021171</td>\n",
              "      <td>-0.046292</td>\n",
              "      <td>-0.117811</td>\n",
              "      <td>8.565412</td>\n",
              "      <td>8.970432</td>\n",
              "      <td>9.675583</td>\n",
              "      <td>10.354754</td>\n",
              "      <td>29.6</td>\n",
              "      <td>10.5</td>\n",
              "      <td>14.396887</td>\n",
              "      <td>10.460251</td>\n",
              "      <td>0.000000</td>\n",
              "      <td>0.000000</td>\n",
              "      <td>0.349243</td>\n",
              "      <td>0.250313</td>\n",
              "      <td>0.316676</td>\n",
              "      <td>0.331702</td>\n",
              "      <td>0.430273</td>\n",
              "      <td>0.410525</td>\n",
              "      <td>5.574913</td>\n",
              "      <td>3.1</td>\n",
              "      <td>2.723735</td>\n",
              "      <td>4.602510</td>\n",
              "      <td>POLYGON ((-101.17827 32.52311, -101.68996 32.5...</td>\n",
              "    </tr>\n",
              "    <tr>\n",
              "      <th>86</th>\n",
              "      <td>Dawson</td>\n",
              "      <td>Texas</td>\n",
              "      <td>48</td>\n",
              "      <td>115</td>\n",
              "      <td>48115</td>\n",
              "      <td>48</td>\n",
              "      <td>115</td>\n",
              "      <td>48115</td>\n",
              "      <td>1</td>\n",
              "      <td>8.687343</td>\n",
              "      <td>14.052839</td>\n",
              "      <td>6.178942</td>\n",
              "      <td>16.261296</td>\n",
              "      <td>1.666667</td>\n",
              "      <td>2.333333</td>\n",
              "      <td>1.000000</td>\n",
              "      <td>2.333333</td>\n",
              "      <td>19185</td>\n",
              "      <td>16604</td>\n",
              "      <td>16184</td>\n",
              "      <td>14349</td>\n",
              "      <td>-0.374730</td>\n",
              "      <td>0.516940</td>\n",
              "      <td>0.106779</td>\n",
              "      <td>1.133869</td>\n",
              "      <td>-0.164909</td>\n",
              "      <td>-0.292115</td>\n",
              "      <td>-0.406818</td>\n",
              "      <td>-0.497589</td>\n",
              "      <td>5.8</td>\n",
              "      <td>5.3</td>\n",
              "      <td>2.483620</td>\n",
              "      <td>9.697733</td>\n",
              "      <td>2.241028</td>\n",
              "      <td>2.487291</td>\n",
              "      <td>3.422326</td>\n",
              "      <td>5.569974</td>\n",
              "      <td>25.1</td>\n",
              "      <td>27.4</td>\n",
              "      <td>29.1</td>\n",
              "      <td>32.7</td>\n",
              "      <td>9.861884</td>\n",
              "      <td>9.717399</td>\n",
              "      <td>9.691778</td>\n",
              "      <td>9.571436</td>\n",
              "      <td>3.057269</td>\n",
              "      <td>2.912784</td>\n",
              "      <td>2.886388</td>\n",
              "      <td>2.766710</td>\n",
              "      <td>8.467372</td>\n",
              "      <td>8.849801</td>\n",
              "      <td>9.702411</td>\n",
              "      <td>9.998252</td>\n",
              "      <td>28.0</td>\n",
              "      <td>22.0</td>\n",
              "      <td>14.724210</td>\n",
              "      <td>24.582899</td>\n",
              "      <td>5.519937</td>\n",
              "      <td>5.257769</td>\n",
              "      <td>3.935986</td>\n",
              "      <td>4.334797</td>\n",
              "      <td>0.319099</td>\n",
              "      <td>0.450096</td>\n",
              "      <td>0.400927</td>\n",
              "      <td>0.441837</td>\n",
              "      <td>9.756098</td>\n",
              "      <td>7.8</td>\n",
              "      <td>6.738980</td>\n",
              "      <td>12.069864</td>\n",
              "      <td>POLYGON ((-101.68996 32.52256, -102.20550 32.5...</td>\n",
              "    </tr>\n",
              "    <tr>\n",
              "      <th>104</th>\n",
              "      <td>Martin</td>\n",
              "      <td>Texas</td>\n",
              "      <td>48</td>\n",
              "      <td>317</td>\n",
              "      <td>48317</td>\n",
              "      <td>48</td>\n",
              "      <td>317</td>\n",
              "      <td>48317</td>\n",
              "      <td>1</td>\n",
              "      <td>0.000000</td>\n",
              "      <td>13.964530</td>\n",
              "      <td>7.116425</td>\n",
              "      <td>0.000000</td>\n",
              "      <td>0.000000</td>\n",
              "      <td>0.666667</td>\n",
              "      <td>0.333333</td>\n",
              "      <td>0.000000</td>\n",
              "      <td>5068</td>\n",
              "      <td>4774</td>\n",
              "      <td>4684</td>\n",
              "      <td>4956</td>\n",
              "      <td>-0.984342</td>\n",
              "      <td>0.460384</td>\n",
              "      <td>-0.154821</td>\n",
              "      <td>0.284980</td>\n",
              "      <td>-1.198026</td>\n",
              "      <td>-1.210082</td>\n",
              "      <td>-1.311162</td>\n",
              "      <td>-1.246778</td>\n",
              "      <td>4.5</td>\n",
              "      <td>3.6</td>\n",
              "      <td>2.905199</td>\n",
              "      <td>7.509063</td>\n",
              "      <td>1.789838</td>\n",
              "      <td>2.603844</td>\n",
              "      <td>2.910855</td>\n",
              "      <td>4.643064</td>\n",
              "      <td>25.0</td>\n",
              "      <td>27.0</td>\n",
              "      <td>29.9</td>\n",
              "      <td>30.7</td>\n",
              "      <td>8.530702</td>\n",
              "      <td>8.470940</td>\n",
              "      <td>8.451908</td>\n",
              "      <td>8.508354</td>\n",
              "      <td>1.716159</td>\n",
              "      <td>1.656397</td>\n",
              "      <td>1.634296</td>\n",
              "      <td>1.689539</td>\n",
              "      <td>8.639588</td>\n",
              "      <td>8.792246</td>\n",
              "      <td>9.865630</td>\n",
              "      <td>10.113059</td>\n",
              "      <td>17.9</td>\n",
              "      <td>25.0</td>\n",
              "      <td>12.429379</td>\n",
              "      <td>16.956851</td>\n",
              "      <td>4.123915</td>\n",
              "      <td>3.435274</td>\n",
              "      <td>2.519214</td>\n",
              "      <td>1.795803</td>\n",
              "      <td>0.271493</td>\n",
              "      <td>0.431611</td>\n",
              "      <td>0.431032</td>\n",
              "      <td>0.414783</td>\n",
              "      <td>8.448416</td>\n",
              "      <td>6.8</td>\n",
              "      <td>3.228410</td>\n",
              "      <td>7.948524</td>\n",
              "      <td>POLYGON ((-101.77436 32.08827, -102.21136 32.0...</td>\n",
              "    </tr>\n",
              "    <tr>\n",
              "      <th>117</th>\n",
              "      <td>Sterling</td>\n",
              "      <td>Texas</td>\n",
              "      <td>48</td>\n",
              "      <td>431</td>\n",
              "      <td>48431</td>\n",
              "      <td>48</td>\n",
              "      <td>431</td>\n",
              "      <td>48431</td>\n",
              "      <td>1</td>\n",
              "      <td>28.320589</td>\n",
              "      <td>0.000000</td>\n",
              "      <td>0.000000</td>\n",
              "      <td>0.000000</td>\n",
              "      <td>0.333333</td>\n",
              "      <td>0.000000</td>\n",
              "      <td>0.000000</td>\n",
              "      <td>0.000000</td>\n",
              "      <td>1177</td>\n",
              "      <td>1056</td>\n",
              "      <td>1206</td>\n",
              "      <td>1438</td>\n",
              "      <td>-0.469640</td>\n",
              "      <td>0.123407</td>\n",
              "      <td>0.395886</td>\n",
              "      <td>-0.324695</td>\n",
              "      <td>-2.328478</td>\n",
              "      <td>-2.318292</td>\n",
              "      <td>-2.299682</td>\n",
              "      <td>-2.116486</td>\n",
              "      <td>1.0</td>\n",
              "      <td>0.7</td>\n",
              "      <td>0.383877</td>\n",
              "      <td>2.250804</td>\n",
              "      <td>2.736318</td>\n",
              "      <td>2.638522</td>\n",
              "      <td>2.298851</td>\n",
              "      <td>5.050505</td>\n",
              "      <td>30.5</td>\n",
              "      <td>30.5</td>\n",
              "      <td>29.9</td>\n",
              "      <td>30.3</td>\n",
              "      <td>7.070724</td>\n",
              "      <td>6.962243</td>\n",
              "      <td>7.095064</td>\n",
              "      <td>7.271009</td>\n",
              "      <td>0.252894</td>\n",
              "      <td>0.144413</td>\n",
              "      <td>0.267543</td>\n",
              "      <td>0.442946</td>\n",
              "      <td>8.501876</td>\n",
              "      <td>8.813141</td>\n",
              "      <td>9.643226</td>\n",
              "      <td>10.293196</td>\n",
              "      <td>29.5</td>\n",
              "      <td>19.5</td>\n",
              "      <td>14.411765</td>\n",
              "      <td>10.880829</td>\n",
              "      <td>0.764656</td>\n",
              "      <td>0.378788</td>\n",
              "      <td>0.414594</td>\n",
              "      <td>0.000000</td>\n",
              "      <td>0.322944</td>\n",
              "      <td>0.401901</td>\n",
              "      <td>0.423753</td>\n",
              "      <td>0.391542</td>\n",
              "      <td>8.888889</td>\n",
              "      <td>7.8</td>\n",
              "      <td>8.823529</td>\n",
              "      <td>8.549223</td>\n",
              "      <td>POLYGON ((-101.26936 31.65358, -101.26656 32.0...</td>\n",
              "    </tr>\n",
              "    <tr>\n",
              "      <th>118</th>\n",
              "      <td>Glasscock</td>\n",
              "      <td>Texas</td>\n",
              "      <td>48</td>\n",
              "      <td>173</td>\n",
              "      <td>48173</td>\n",
              "      <td>48</td>\n",
              "      <td>173</td>\n",
              "      <td>48173</td>\n",
              "      <td>1</td>\n",
              "      <td>0.000000</td>\n",
              "      <td>57.720058</td>\n",
              "      <td>25.562372</td>\n",
              "      <td>0.000000</td>\n",
              "      <td>0.000000</td>\n",
              "      <td>0.666667</td>\n",
              "      <td>0.333333</td>\n",
              "      <td>0.000000</td>\n",
              "      <td>1118</td>\n",
              "      <td>1155</td>\n",
              "      <td>1304</td>\n",
              "      <td>1447</td>\n",
              "      <td>-1.360216</td>\n",
              "      <td>0.130805</td>\n",
              "      <td>0.546586</td>\n",
              "      <td>-0.118972</td>\n",
              "      <td>-2.348459</td>\n",
              "      <td>-2.233559</td>\n",
              "      <td>-2.234819</td>\n",
              "      <td>-2.104172</td>\n",
              "      <td>0.0</td>\n",
              "      <td>0.0</td>\n",
              "      <td>0.817996</td>\n",
              "      <td>2.229846</td>\n",
              "      <td>2.341920</td>\n",
              "      <td>2.827763</td>\n",
              "      <td>3.017241</td>\n",
              "      <td>3.917910</td>\n",
              "      <td>28.3</td>\n",
              "      <td>24.5</td>\n",
              "      <td>25.3</td>\n",
              "      <td>28.2</td>\n",
              "      <td>7.019297</td>\n",
              "      <td>7.051856</td>\n",
              "      <td>7.173192</td>\n",
              "      <td>7.277248</td>\n",
              "      <td>0.258882</td>\n",
              "      <td>0.291441</td>\n",
              "      <td>0.370353</td>\n",
              "      <td>0.473964</td>\n",
              "      <td>8.692154</td>\n",
              "      <td>8.865453</td>\n",
              "      <td>9.706194</td>\n",
              "      <td>10.406321</td>\n",
              "      <td>14.7</td>\n",
              "      <td>20.6</td>\n",
              "      <td>17.575758</td>\n",
              "      <td>16.981132</td>\n",
              "      <td>1.162791</td>\n",
              "      <td>0.519481</td>\n",
              "      <td>0.076687</td>\n",
              "      <td>0.000000</td>\n",
              "      <td>0.255656</td>\n",
              "      <td>0.447957</td>\n",
              "      <td>0.473217</td>\n",
              "      <td>0.415726</td>\n",
              "      <td>5.653710</td>\n",
              "      <td>3.8</td>\n",
              "      <td>2.424242</td>\n",
              "      <td>5.660377</td>\n",
              "      <td>POLYGON ((-101.26936 31.65358, -101.77174 31.6...</td>\n",
              "    </tr>\n",
              "  </tbody>\n",
              "</table>\n",
              "</div>"
            ],
            "text/plain": [
              "          NAME  ...                                           geometry\n",
              "84      Scurry  ...  POLYGON ((-100.66333 32.52182, -101.17827 32.5...\n",
              "101   Mitchell  ...  POLYGON ((-100.66947 32.08794, -100.81491 32.0...\n",
              "85      Borden  ...  POLYGON ((-101.17827 32.52311, -101.68996 32.5...\n",
              "86      Dawson  ...  POLYGON ((-101.68996 32.52256, -102.20550 32.5...\n",
              "104     Martin  ...  POLYGON ((-101.77436 32.08827, -102.21136 32.0...\n",
              "117   Sterling  ...  POLYGON ((-101.26936 31.65358, -101.26656 32.0...\n",
              "118  Glasscock  ...  POLYGON ((-101.26936 31.65358, -101.77174 31.6...\n",
              "\n",
              "[7 rows x 70 columns]"
            ]
          },
          "metadata": {
            "tags": []
          },
          "execution_count": 31
        }
      ]
    },
    {
      "cell_type": "code",
      "metadata": {
        "id": "tPyVh-XGRW9k",
        "colab_type": "code",
        "colab": {
          "base_uri": "https://localhost:8080/",
          "height": 282
        },
        "outputId": "5be0d1b2-ae54-4656-d49e-fa7fd8dce75c"
      },
      "source": [
        "df.assign(weights = qW.sparse[100,:].toarray().flatten()).plot('weights', cmap='plasma')           "
      ],
      "execution_count": 32,
      "outputs": [
        {
          "output_type": "execute_result",
          "data": {
            "text/plain": [
              "<matplotlib.axes._subplots.AxesSubplot at 0x7f318257fb00>"
            ]
          },
          "metadata": {
            "tags": []
          },
          "execution_count": 32
        },
        {
          "output_type": "display_data",
          "data": {
            "image/png": "[encoded data removed]",
            "text/plain": [
              "<Figure size 432x288 with 1 Axes>"
            ]
          },
          "metadata": {
            "tags": []
          }
        }
      ]
    },
    {
      "cell_type": "markdown",
      "metadata": {
        "id": "blJDtGqNRW9q",
        "colab_type": "text"
      },
      "source": [
        "By default, PySAL assigns each observation an index according to the order in which the observation was read in. This means that, by default, all of the observations in the weights object are indexed by table order."
      ]
    },
    {
      "cell_type": "code",
      "metadata": {
        "id": "gkMLV0CoRW9r",
        "colab_type": "code",
        "colab": {
          "base_uri": "https://localhost:8080/",
          "height": 282
        },
        "outputId": "4923b15a-6d8b-4c75-f81a-f2bbfca52d80"
      },
      "source": [
        "pandas.Series(qW.cardinalities).plot.hist(bins=9)"
      ],
      "execution_count": 35,
      "outputs": [
        {
          "output_type": "execute_result",
          "data": {
            "text/plain": [
              "<matplotlib.axes._subplots.AxesSubplot at 0x7f318259da90>"
            ]
          },
          "metadata": {
            "tags": []
          },
          "execution_count": 35
        },
        {
          "output_type": "display_data",
          "data": {
            "image/png": "[encoded data removed]",
            "text/plain": [
              "<Figure size 432x288 with 1 Axes>"
            ]
          },
          "metadata": {
            "tags": []
          }
        }
      ]
    },
    {
      "cell_type": "code",
      "metadata": {
        "id": "7MO-4cLERW9x",
        "colab_type": "code",
        "colab": {}
      },
      "source": [
        "qW.cardinalities.values()"
      ],
      "execution_count": 0,
      "outputs": []
    },
    {
      "cell_type": "markdown",
      "metadata": {
        "id": "V3VTY91uRW95",
        "colab_type": "text"
      },
      "source": [
        "#### Rook Weights"
      ]
    },
    {
      "cell_type": "markdown",
      "metadata": {
        "id": "k-eMlE7ARW99",
        "colab_type": "text"
      },
      "source": [
        "Rook weights are another type of contiguity weight, but consider observations as neighboring only when they share an edge. The rook neighbors of an observation may be different than its queen neighbors, depending on how the observation and its nearby polygons are configured. \n",
        "\n",
        "We can construct this in the same way as the queen weights:"
      ]
    },
    {
      "cell_type": "code",
      "metadata": {
        "id": "Qcp-Aky0RW9_",
        "colab_type": "code",
        "colab": {}
      },
      "source": [
        "rW = Rook.from_dataframe(df)"
      ],
      "execution_count": 0,
      "outputs": []
    },
    {
      "cell_type": "code",
      "metadata": {
        "id": "gtW-MWVrRW-I",
        "colab_type": "code",
        "colab": {
          "base_uri": "https://localhost:8080/",
          "height": 34
        },
        "outputId": "6200228c-6d73-4c98-cc74-db63939681bb"
      },
      "source": [
        "rW.neighbors[100]"
      ],
      "execution_count": 37,
      "outputs": [
        {
          "output_type": "execute_result",
          "data": {
            "text/plain": [
              "[101, 85, 118, 104, 117]"
            ]
          },
          "metadata": {
            "tags": []
          },
          "execution_count": 37
        }
      ]
    },
    {
      "cell_type": "code",
      "metadata": {
        "id": "vpVL3BEORW-w",
        "colab_type": "code",
        "colab": {
          "base_uri": "https://localhost:8080/",
          "height": 34
        },
        "outputId": "ab4a42f4-bb9b-4364-c95f-551b4f1cf936"
      },
      "source": [
        "len(rW.neighbors[100])"
      ],
      "execution_count": 38,
      "outputs": [
        {
          "output_type": "execute_result",
          "data": {
            "text/plain": [
              "5"
            ]
          },
          "metadata": {
            "tags": []
          },
          "execution_count": 38
        }
      ]
    },
    {
      "cell_type": "code",
      "metadata": {
        "id": "VDQae_-yRW_H",
        "colab_type": "code",
        "colab": {
          "base_uri": "https://localhost:8080/",
          "height": 564
        },
        "outputId": "c12d3c5e-b857-4767-8e8a-beff91abaf86"
      },
      "source": [
        "df.iloc[rW.neighbors[100]]"
      ],
      "execution_count": 39,
      "outputs": [
        {
          "output_type": "execute_result",
          "data": {
            "text/html": [
              "<div>\n",
              "<style scoped>\n",
              "    .dataframe tbody tr th:only-of-type {\n",
              "        vertical-align: middle;\n",
              "    }\n",
              "\n",
              "    .dataframe tbody tr th {\n",
              "        vertical-align: top;\n",
              "    }\n",
              "\n",
              "    .dataframe thead th {\n",
              "        text-align: right;\n",
              "    }\n",
              "</style>\n",
              "<table border=\"1\" class=\"dataframe\">\n",
              "  <thead>\n",
              "    <tr style=\"text-align: right;\">\n",
              "      <th></th>\n",
              "      <th>NAME</th>\n",
              "      <th>STATE_NAME</th>\n",
              "      <th>STATE_FIPS</th>\n",
              "      <th>CNTY_FIPS</th>\n",
              "      <th>FIPS</th>\n",
              "      <th>STFIPS</th>\n",
              "      <th>COFIPS</th>\n",
              "      <th>FIPSNO</th>\n",
              "      <th>SOUTH</th>\n",
              "      <th>HR60</th>\n",
              "      <th>HR70</th>\n",
              "      <th>HR80</th>\n",
              "      <th>HR90</th>\n",
              "      <th>HC60</th>\n",
              "      <th>HC70</th>\n",
              "      <th>HC80</th>\n",
              "      <th>HC90</th>\n",
              "      <th>PO60</th>\n",
              "      <th>PO70</th>\n",
              "      <th>PO80</th>\n",
              "      <th>PO90</th>\n",
              "      <th>RD60</th>\n",
              "      <th>RD70</th>\n",
              "      <th>RD80</th>\n",
              "      <th>RD90</th>\n",
              "      <th>PS60</th>\n",
              "      <th>PS70</th>\n",
              "      <th>PS80</th>\n",
              "      <th>PS90</th>\n",
              "      <th>UE60</th>\n",
              "      <th>UE70</th>\n",
              "      <th>UE80</th>\n",
              "      <th>UE90</th>\n",
              "      <th>DV60</th>\n",
              "      <th>DV70</th>\n",
              "      <th>DV80</th>\n",
              "      <th>DV90</th>\n",
              "      <th>MA60</th>\n",
              "      <th>MA70</th>\n",
              "      <th>MA80</th>\n",
              "      <th>MA90</th>\n",
              "      <th>POL60</th>\n",
              "      <th>POL70</th>\n",
              "      <th>POL80</th>\n",
              "      <th>POL90</th>\n",
              "      <th>DNL60</th>\n",
              "      <th>DNL70</th>\n",
              "      <th>DNL80</th>\n",
              "      <th>DNL90</th>\n",
              "      <th>MFIL59</th>\n",
              "      <th>MFIL69</th>\n",
              "      <th>MFIL79</th>\n",
              "      <th>MFIL89</th>\n",
              "      <th>FP59</th>\n",
              "      <th>FP69</th>\n",
              "      <th>FP79</th>\n",
              "      <th>FP89</th>\n",
              "      <th>BLK60</th>\n",
              "      <th>BLK70</th>\n",
              "      <th>BLK80</th>\n",
              "      <th>BLK90</th>\n",
              "      <th>GI59</th>\n",
              "      <th>GI69</th>\n",
              "      <th>GI79</th>\n",
              "      <th>GI89</th>\n",
              "      <th>FH60</th>\n",
              "      <th>FH70</th>\n",
              "      <th>FH80</th>\n",
              "      <th>FH90</th>\n",
              "      <th>geometry</th>\n",
              "    </tr>\n",
              "  </thead>\n",
              "  <tbody>\n",
              "    <tr>\n",
              "      <th>101</th>\n",
              "      <td>Mitchell</td>\n",
              "      <td>Texas</td>\n",
              "      <td>48</td>\n",
              "      <td>335</td>\n",
              "      <td>48335</td>\n",
              "      <td>48</td>\n",
              "      <td>335</td>\n",
              "      <td>48335</td>\n",
              "      <td>1</td>\n",
              "      <td>2.961647</td>\n",
              "      <td>3.673904</td>\n",
              "      <td>11.003521</td>\n",
              "      <td>8.3167</td>\n",
              "      <td>0.333333</td>\n",
              "      <td>0.333333</td>\n",
              "      <td>1.000000</td>\n",
              "      <td>0.666667</td>\n",
              "      <td>11255</td>\n",
              "      <td>9073</td>\n",
              "      <td>9088</td>\n",
              "      <td>8016</td>\n",
              "      <td>-0.242511</td>\n",
              "      <td>0.460482</td>\n",
              "      <td>0.705262</td>\n",
              "      <td>0.780999</td>\n",
              "      <td>-0.584253</td>\n",
              "      <td>-0.742126</td>\n",
              "      <td>-0.829298</td>\n",
              "      <td>-0.908270</td>\n",
              "      <td>4.0</td>\n",
              "      <td>6.3</td>\n",
              "      <td>2.492468</td>\n",
              "      <td>6.735087</td>\n",
              "      <td>1.515152</td>\n",
              "      <td>2.328469</td>\n",
              "      <td>3.439727</td>\n",
              "      <td>6.386671</td>\n",
              "      <td>28.9</td>\n",
              "      <td>35.5</td>\n",
              "      <td>34.1</td>\n",
              "      <td>37.3</td>\n",
              "      <td>9.328568</td>\n",
              "      <td>9.113058</td>\n",
              "      <td>9.114710</td>\n",
              "      <td>8.989195</td>\n",
              "      <td>2.504194</td>\n",
              "      <td>2.288685</td>\n",
              "      <td>2.298851</td>\n",
              "      <td>2.175640</td>\n",
              "      <td>8.314587</td>\n",
              "      <td>8.822912</td>\n",
              "      <td>9.620461</td>\n",
              "      <td>9.992734</td>\n",
              "      <td>34.2</td>\n",
              "      <td>22.8</td>\n",
              "      <td>16.165560</td>\n",
              "      <td>17.713511</td>\n",
              "      <td>7.374500</td>\n",
              "      <td>6.734267</td>\n",
              "      <td>5.182658</td>\n",
              "      <td>4.528443</td>\n",
              "      <td>0.308195</td>\n",
              "      <td>0.427075</td>\n",
              "      <td>0.429193</td>\n",
              "      <td>0.429171</td>\n",
              "      <td>8.922323</td>\n",
              "      <td>8.0</td>\n",
              "      <td>10.425615</td>\n",
              "      <td>12.516945</td>\n",
              "      <td>POLYGON ((-100.66947 32.08794, -100.81491 32.0...</td>\n",
              "    </tr>\n",
              "    <tr>\n",
              "      <th>85</th>\n",
              "      <td>Borden</td>\n",
              "      <td>Texas</td>\n",
              "      <td>48</td>\n",
              "      <td>033</td>\n",
              "      <td>48033</td>\n",
              "      <td>48</td>\n",
              "      <td>33</td>\n",
              "      <td>48033</td>\n",
              "      <td>1</td>\n",
              "      <td>92.936803</td>\n",
              "      <td>0.000000</td>\n",
              "      <td>0.000000</td>\n",
              "      <td>0.0000</td>\n",
              "      <td>1.000000</td>\n",
              "      <td>0.000000</td>\n",
              "      <td>0.000000</td>\n",
              "      <td>0.000000</td>\n",
              "      <td>1076</td>\n",
              "      <td>888</td>\n",
              "      <td>859</td>\n",
              "      <td>799</td>\n",
              "      <td>-0.764209</td>\n",
              "      <td>-1.018203</td>\n",
              "      <td>0.105040</td>\n",
              "      <td>-0.415848</td>\n",
              "      <td>-2.395226</td>\n",
              "      <td>-2.442903</td>\n",
              "      <td>-2.537669</td>\n",
              "      <td>-2.519505</td>\n",
              "      <td>6.9</td>\n",
              "      <td>1.2</td>\n",
              "      <td>1.759531</td>\n",
              "      <td>2.842377</td>\n",
              "      <td>2.564103</td>\n",
              "      <td>0.598802</td>\n",
              "      <td>2.431611</td>\n",
              "      <td>6.451613</td>\n",
              "      <td>28.0</td>\n",
              "      <td>34.1</td>\n",
              "      <td>32.0</td>\n",
              "      <td>36.3</td>\n",
              "      <td>6.981006</td>\n",
              "      <td>6.788972</td>\n",
              "      <td>6.755769</td>\n",
              "      <td>6.683361</td>\n",
              "      <td>0.170863</td>\n",
              "      <td>-0.021171</td>\n",
              "      <td>-0.046292</td>\n",
              "      <td>-0.117811</td>\n",
              "      <td>8.565412</td>\n",
              "      <td>8.970432</td>\n",
              "      <td>9.675583</td>\n",
              "      <td>10.354754</td>\n",
              "      <td>29.6</td>\n",
              "      <td>10.5</td>\n",
              "      <td>14.396887</td>\n",
              "      <td>10.460251</td>\n",
              "      <td>0.000000</td>\n",
              "      <td>0.000000</td>\n",
              "      <td>0.349243</td>\n",
              "      <td>0.250313</td>\n",
              "      <td>0.316676</td>\n",
              "      <td>0.331702</td>\n",
              "      <td>0.430273</td>\n",
              "      <td>0.410525</td>\n",
              "      <td>5.574913</td>\n",
              "      <td>3.1</td>\n",
              "      <td>2.723735</td>\n",
              "      <td>4.602510</td>\n",
              "      <td>POLYGON ((-101.17827 32.52311, -101.68996 32.5...</td>\n",
              "    </tr>\n",
              "    <tr>\n",
              "      <th>118</th>\n",
              "      <td>Glasscock</td>\n",
              "      <td>Texas</td>\n",
              "      <td>48</td>\n",
              "      <td>173</td>\n",
              "      <td>48173</td>\n",
              "      <td>48</td>\n",
              "      <td>173</td>\n",
              "      <td>48173</td>\n",
              "      <td>1</td>\n",
              "      <td>0.000000</td>\n",
              "      <td>57.720058</td>\n",
              "      <td>25.562372</td>\n",
              "      <td>0.0000</td>\n",
              "      <td>0.000000</td>\n",
              "      <td>0.666667</td>\n",
              "      <td>0.333333</td>\n",
              "      <td>0.000000</td>\n",
              "      <td>1118</td>\n",
              "      <td>1155</td>\n",
              "      <td>1304</td>\n",
              "      <td>1447</td>\n",
              "      <td>-1.360216</td>\n",
              "      <td>0.130805</td>\n",
              "      <td>0.546586</td>\n",
              "      <td>-0.118972</td>\n",
              "      <td>-2.348459</td>\n",
              "      <td>-2.233559</td>\n",
              "      <td>-2.234819</td>\n",
              "      <td>-2.104172</td>\n",
              "      <td>0.0</td>\n",
              "      <td>0.0</td>\n",
              "      <td>0.817996</td>\n",
              "      <td>2.229846</td>\n",
              "      <td>2.341920</td>\n",
              "      <td>2.827763</td>\n",
              "      <td>3.017241</td>\n",
              "      <td>3.917910</td>\n",
              "      <td>28.3</td>\n",
              "      <td>24.5</td>\n",
              "      <td>25.3</td>\n",
              "      <td>28.2</td>\n",
              "      <td>7.019297</td>\n",
              "      <td>7.051856</td>\n",
              "      <td>7.173192</td>\n",
              "      <td>7.277248</td>\n",
              "      <td>0.258882</td>\n",
              "      <td>0.291441</td>\n",
              "      <td>0.370353</td>\n",
              "      <td>0.473964</td>\n",
              "      <td>8.692154</td>\n",
              "      <td>8.865453</td>\n",
              "      <td>9.706194</td>\n",
              "      <td>10.406321</td>\n",
              "      <td>14.7</td>\n",
              "      <td>20.6</td>\n",
              "      <td>17.575758</td>\n",
              "      <td>16.981132</td>\n",
              "      <td>1.162791</td>\n",
              "      <td>0.519481</td>\n",
              "      <td>0.076687</td>\n",
              "      <td>0.000000</td>\n",
              "      <td>0.255656</td>\n",
              "      <td>0.447957</td>\n",
              "      <td>0.473217</td>\n",
              "      <td>0.415726</td>\n",
              "      <td>5.653710</td>\n",
              "      <td>3.8</td>\n",
              "      <td>2.424242</td>\n",
              "      <td>5.660377</td>\n",
              "      <td>POLYGON ((-101.26936 31.65358, -101.77174 31.6...</td>\n",
              "    </tr>\n",
              "    <tr>\n",
              "      <th>104</th>\n",
              "      <td>Martin</td>\n",
              "      <td>Texas</td>\n",
              "      <td>48</td>\n",
              "      <td>317</td>\n",
              "      <td>48317</td>\n",
              "      <td>48</td>\n",
              "      <td>317</td>\n",
              "      <td>48317</td>\n",
              "      <td>1</td>\n",
              "      <td>0.000000</td>\n",
              "      <td>13.964530</td>\n",
              "      <td>7.116425</td>\n",
              "      <td>0.0000</td>\n",
              "      <td>0.000000</td>\n",
              "      <td>0.666667</td>\n",
              "      <td>0.333333</td>\n",
              "      <td>0.000000</td>\n",
              "      <td>5068</td>\n",
              "      <td>4774</td>\n",
              "      <td>4684</td>\n",
              "      <td>4956</td>\n",
              "      <td>-0.984342</td>\n",
              "      <td>0.460384</td>\n",
              "      <td>-0.154821</td>\n",
              "      <td>0.284980</td>\n",
              "      <td>-1.198026</td>\n",
              "      <td>-1.210082</td>\n",
              "      <td>-1.311162</td>\n",
              "      <td>-1.246778</td>\n",
              "      <td>4.5</td>\n",
              "      <td>3.6</td>\n",
              "      <td>2.905199</td>\n",
              "      <td>7.509063</td>\n",
              "      <td>1.789838</td>\n",
              "      <td>2.603844</td>\n",
              "      <td>2.910855</td>\n",
              "      <td>4.643064</td>\n",
              "      <td>25.0</td>\n",
              "      <td>27.0</td>\n",
              "      <td>29.9</td>\n",
              "      <td>30.7</td>\n",
              "      <td>8.530702</td>\n",
              "      <td>8.470940</td>\n",
              "      <td>8.451908</td>\n",
              "      <td>8.508354</td>\n",
              "      <td>1.716159</td>\n",
              "      <td>1.656397</td>\n",
              "      <td>1.634296</td>\n",
              "      <td>1.689539</td>\n",
              "      <td>8.639588</td>\n",
              "      <td>8.792246</td>\n",
              "      <td>9.865630</td>\n",
              "      <td>10.113059</td>\n",
              "      <td>17.9</td>\n",
              "      <td>25.0</td>\n",
              "      <td>12.429379</td>\n",
              "      <td>16.956851</td>\n",
              "      <td>4.123915</td>\n",
              "      <td>3.435274</td>\n",
              "      <td>2.519214</td>\n",
              "      <td>1.795803</td>\n",
              "      <td>0.271493</td>\n",
              "      <td>0.431611</td>\n",
              "      <td>0.431032</td>\n",
              "      <td>0.414783</td>\n",
              "      <td>8.448416</td>\n",
              "      <td>6.8</td>\n",
              "      <td>3.228410</td>\n",
              "      <td>7.948524</td>\n",
              "      <td>POLYGON ((-101.77436 32.08827, -102.21136 32.0...</td>\n",
              "    </tr>\n",
              "    <tr>\n",
              "      <th>117</th>\n",
              "      <td>Sterling</td>\n",
              "      <td>Texas</td>\n",
              "      <td>48</td>\n",
              "      <td>431</td>\n",
              "      <td>48431</td>\n",
              "      <td>48</td>\n",
              "      <td>431</td>\n",
              "      <td>48431</td>\n",
              "      <td>1</td>\n",
              "      <td>28.320589</td>\n",
              "      <td>0.000000</td>\n",
              "      <td>0.000000</td>\n",
              "      <td>0.0000</td>\n",
              "      <td>0.333333</td>\n",
              "      <td>0.000000</td>\n",
              "      <td>0.000000</td>\n",
              "      <td>0.000000</td>\n",
              "      <td>1177</td>\n",
              "      <td>1056</td>\n",
              "      <td>1206</td>\n",
              "      <td>1438</td>\n",
              "      <td>-0.469640</td>\n",
              "      <td>0.123407</td>\n",
              "      <td>0.395886</td>\n",
              "      <td>-0.324695</td>\n",
              "      <td>-2.328478</td>\n",
              "      <td>-2.318292</td>\n",
              "      <td>-2.299682</td>\n",
              "      <td>-2.116486</td>\n",
              "      <td>1.0</td>\n",
              "      <td>0.7</td>\n",
              "      <td>0.383877</td>\n",
              "      <td>2.250804</td>\n",
              "      <td>2.736318</td>\n",
              "      <td>2.638522</td>\n",
              "      <td>2.298851</td>\n",
              "      <td>5.050505</td>\n",
              "      <td>30.5</td>\n",
              "      <td>30.5</td>\n",
              "      <td>29.9</td>\n",
              "      <td>30.3</td>\n",
              "      <td>7.070724</td>\n",
              "      <td>6.962243</td>\n",
              "      <td>7.095064</td>\n",
              "      <td>7.271009</td>\n",
              "      <td>0.252894</td>\n",
              "      <td>0.144413</td>\n",
              "      <td>0.267543</td>\n",
              "      <td>0.442946</td>\n",
              "      <td>8.501876</td>\n",
              "      <td>8.813141</td>\n",
              "      <td>9.643226</td>\n",
              "      <td>10.293196</td>\n",
              "      <td>29.5</td>\n",
              "      <td>19.5</td>\n",
              "      <td>14.411765</td>\n",
              "      <td>10.880829</td>\n",
              "      <td>0.764656</td>\n",
              "      <td>0.378788</td>\n",
              "      <td>0.414594</td>\n",
              "      <td>0.000000</td>\n",
              "      <td>0.322944</td>\n",
              "      <td>0.401901</td>\n",
              "      <td>0.423753</td>\n",
              "      <td>0.391542</td>\n",
              "      <td>8.888889</td>\n",
              "      <td>7.8</td>\n",
              "      <td>8.823529</td>\n",
              "      <td>8.549223</td>\n",
              "      <td>POLYGON ((-101.26936 31.65358, -101.26656 32.0...</td>\n",
              "    </tr>\n",
              "  </tbody>\n",
              "</table>\n",
              "</div>"
            ],
            "text/plain": [
              "          NAME  ...                                           geometry\n",
              "101   Mitchell  ...  POLYGON ((-100.66947 32.08794, -100.81491 32.0...\n",
              "85      Borden  ...  POLYGON ((-101.17827 32.52311, -101.68996 32.5...\n",
              "118  Glasscock  ...  POLYGON ((-101.26936 31.65358, -101.77174 31.6...\n",
              "104     Martin  ...  POLYGON ((-101.77436 32.08827, -102.21136 32.0...\n",
              "117   Sterling  ...  POLYGON ((-101.26936 31.65358, -101.26656 32.0...\n",
              "\n",
              "[5 rows x 70 columns]"
            ]
          },
          "metadata": {
            "tags": []
          },
          "execution_count": 39
        }
      ]
    },
    {
      "cell_type": "code",
      "metadata": {
        "id": "5W8s71bRRW_W",
        "colab_type": "code",
        "colab": {
          "base_uri": "https://localhost:8080/",
          "height": 282
        },
        "outputId": "0aee672c-f842-4b2a-8c88-b5f50e558293"
      },
      "source": [
        "df.assign(weights = rW.sparse[100,:].toarray().flatten()).plot('weights', cmap='plasma')"
      ],
      "execution_count": 40,
      "outputs": [
        {
          "output_type": "execute_result",
          "data": {
            "text/plain": [
              "<matplotlib.axes._subplots.AxesSubplot at 0x7f31825af4a8>"
            ]
          },
          "metadata": {
            "tags": []
          },
          "execution_count": 40
        },
        {
          "output_type": "display_data",
          "data": {
            "image/png": "[encoded data removed]",
            "text/plain": [
              "<Figure size 432x288 with 1 Axes>"
            ]
          },
          "metadata": {
            "tags": []
          }
        }
      ]
    },
    {
      "cell_type": "code",
      "metadata": {
        "id": "BTKnZLK1RW_d",
        "colab_type": "code",
        "colab": {
          "base_uri": "https://localhost:8080/",
          "height": 282
        },
        "outputId": "1dd2a6a3-ccf4-43c7-c7dc-aa7028f02eee"
      },
      "source": [
        "pandas.Series(rW.cardinalities).plot.hist(bins=9)"
      ],
      "execution_count": 41,
      "outputs": [
        {
          "output_type": "execute_result",
          "data": {
            "text/plain": [
              "<matplotlib.axes._subplots.AxesSubplot at 0x7f31825acd68>"
            ]
          },
          "metadata": {
            "tags": []
          },
          "execution_count": 41
        },
        {
          "output_type": "display_data",
          "data": {
            "image/png": "[encoded data removed]",
            "text/plain": [
              "<Figure size 432x288 with 1 Axes>"
            ]
          },
          "metadata": {
            "tags": []
          }
        }
      ]
    },
    {
      "cell_type": "markdown",
      "metadata": {
        "id": "XPM5p5kTRW_r",
        "colab_type": "text"
      },
      "source": [
        "#### Bishop Weights"
      ]
    },
    {
      "cell_type": "markdown",
      "metadata": {
        "id": "9VW2vCFJRW_y",
        "colab_type": "text"
      },
      "source": [
        "In theory, a \"Bishop\" weighting scheme is one that arises when only polygons that share vertexes are considered to be neighboring. But, since Queen contiguigy requires either an edge or a vertex and Rook contiguity requires only shared edges, the following relationship is true:\n",
        "\n",
        "$$ \\mathcal{Q} = \\mathcal{R} \\cup \\mathcal{B} $$\n",
        "\n",
        "where $\\mathcal{Q}$ is the set of neighbor pairs *via* queen contiguity, $\\mathcal{R}$ is the set of neighbor pairs *via* Rook contiguity, and $\\mathcal{B}$ *via* Bishop contiguity. Thus:\n",
        "\n",
        "$$ \\mathcal{Q} \\setminus \\mathcal{R} = \\mathcal{B}$$\n",
        "\n",
        "Bishop weights entail all Queen neighbor pairs that are not also Rook neighbors.\n",
        "\n",
        "PySAL does not have a dedicated bishop weights constructor, but you can construct very easily using the `w_difference` function. This function is one of a family of tools to work with weights, all defined in `libpysal.weights`, that conduct these types of set operations between weight objects."
      ]
    },
    {
      "cell_type": "code",
      "metadata": {
        "id": "s5L1TIjQRW_1",
        "colab_type": "code",
        "colab": {
          "base_uri": "https://localhost:8080/",
          "height": 105
        },
        "outputId": "4d58fa1d-87fd-4cfa-d5cb-cdbfb429f28e"
      },
      "source": [
        "bW = libpysal.weights.w_difference(qW, rW, constrained=False)"
      ],
      "execution_count": 42,
      "outputs": [
        {
          "output_type": "stream",
          "text": [
            "/usr/local/lib/python3.6/dist-packages/libpysal/weights/weights.py:167: UserWarning: The weights matrix is not fully connected: \n",
            " There are 183 disconnected components.\n",
            " There are 161 islands with ids: 19, 20, 21, 22, 23, 24, 25, 26, 34, 36, 37, 39, 40, 42, 52, 54, 55, 56, 57, 58, 59, 69, 70, 71, 72, 73, 74, 75, 76, 77, 78, 79, 80, 81, 87, 89, 90, 91, 92, 93, 94, 95, 96, 97, 98, 102, 103, 107, 108, 109, 112, 113, 114, 115, 116, 117, 120, 121, 122, 123, 124, 125, 127, 129, 130, 131, 133, 134, 135, 136, 137, 138, 139, 141, 142, 143, 147, 148, 150, 151, 152, 153, 154, 155, 156, 157, 159, 160, 161, 162, 163, 164, 168, 169, 170, 171, 173, 174, 175, 176, 177, 178, 179, 180, 181, 182, 184, 185, 186, 187, 188, 189, 190, 192, 193, 194, 195, 196, 197, 198, 199, 201, 202, 203, 204, 206, 207, 208, 209, 210, 211, 213, 215, 216, 219, 220, 221, 222, 223, 225, 226, 227, 231, 232, 233, 236, 237, 238, 240, 241, 243, 244, 245, 246, 247, 248, 249, 250, 251, 252, 253.\n",
            "  warnings.warn(message)\n"
          ],
          "name": "stderr"
        }
      ]
    },
    {
      "cell_type": "code",
      "metadata": {
        "id": "-sUMyjj_RXAC",
        "colab_type": "code",
        "colab": {
          "base_uri": "https://localhost:8080/",
          "height": 105
        },
        "outputId": "41b64d81-8087-4ef6-88be-d97396d6cd01"
      },
      "source": [
        "bW = libpysal.weights.w_difference(qW, rW, constrained=False)"
      ],
      "execution_count": 43,
      "outputs": [
        {
          "output_type": "stream",
          "text": [
            "/usr/local/lib/python3.6/dist-packages/libpysal/weights/weights.py:167: UserWarning: The weights matrix is not fully connected: \n",
            " There are 183 disconnected components.\n",
            " There are 161 islands with ids: 19, 20, 21, 22, 23, 24, 25, 26, 34, 36, 37, 39, 40, 42, 52, 54, 55, 56, 57, 58, 59, 69, 70, 71, 72, 73, 74, 75, 76, 77, 78, 79, 80, 81, 87, 89, 90, 91, 92, 93, 94, 95, 96, 97, 98, 102, 103, 107, 108, 109, 112, 113, 114, 115, 116, 117, 120, 121, 122, 123, 124, 125, 127, 129, 130, 131, 133, 134, 135, 136, 137, 138, 139, 141, 142, 143, 147, 148, 150, 151, 152, 153, 154, 155, 156, 157, 159, 160, 161, 162, 163, 164, 168, 169, 170, 171, 173, 174, 175, 176, 177, 178, 179, 180, 181, 182, 184, 185, 186, 187, 188, 189, 190, 192, 193, 194, 195, 196, 197, 198, 199, 201, 202, 203, 204, 206, 207, 208, 209, 210, 211, 213, 215, 216, 219, 220, 221, 222, 223, 225, 226, 227, 231, 232, 233, 236, 237, 238, 240, 241, 243, 244, 245, 246, 247, 248, 249, 250, 251, 252, 253.\n",
            "  warnings.warn(message)\n"
          ],
          "name": "stderr"
        }
      ]
    },
    {
      "cell_type": "code",
      "metadata": {
        "id": "vxNOIPyZRXAN",
        "colab_type": "code",
        "colab": {
          "base_uri": "https://localhost:8080/",
          "height": 282
        },
        "outputId": "cf50998b-be49-40e5-f43f-d6b79ff97047"
      },
      "source": [
        "df.assign(weights = bW.sparse[100,:].toarray().flatten()).plot('weights', cmap='plasma')"
      ],
      "execution_count": 44,
      "outputs": [
        {
          "output_type": "execute_result",
          "data": {
            "text/plain": [
              "<matplotlib.axes._subplots.AxesSubplot at 0x7f31825513c8>"
            ]
          },
          "metadata": {
            "tags": []
          },
          "execution_count": 44
        },
        {
          "output_type": "display_data",
          "data": {
            "image/png": "[encoded data removed]",
            "text/plain": [
              "<Figure size 432x288 with 1 Axes>"
            ]
          },
          "metadata": {
            "tags": []
          }
        }
      ]
    },
    {
      "cell_type": "code",
      "metadata": {
        "id": "1100L8ijRXAW",
        "colab_type": "code",
        "colab": {
          "base_uri": "https://localhost:8080/",
          "height": 34
        },
        "outputId": "86209996-85f9-4a6f-a289-f9ae311e758b"
      },
      "source": [
        "bW.histogram"
      ],
      "execution_count": 45,
      "outputs": [
        {
          "output_type": "execute_result",
          "data": {
            "text/plain": [
              "[(0, 161), (1, 48), (2, 33), (3, 8), (4, 4)]"
            ]
          },
          "metadata": {
            "tags": []
          },
          "execution_count": 45
        }
      ]
    },
    {
      "cell_type": "markdown",
      "metadata": {
        "id": "CP-Xw2CJRXAd",
        "colab_type": "text"
      },
      "source": [
        "Thus, the vast majority of counties have no bishop neighbors. But, a few do. A simple way to see these observations in the dataframe is to find all elements of the dataframe that are not \"islands,\" the term for an observation with no neighbors:"
      ]
    },
    {
      "cell_type": "code",
      "metadata": {
        "id": "Dhxo-X2YRXAh",
        "colab_type": "code",
        "colab": {}
      },
      "source": [
        "islands = bW.islands"
      ],
      "execution_count": 0,
      "outputs": []
    },
    {
      "cell_type": "code",
      "metadata": {
        "id": "j72Hm7NqRXA3",
        "colab_type": "code",
        "colab": {
          "base_uri": "https://localhost:8080/",
          "height": 34
        },
        "outputId": "4ac06cda-b4c6-425e-e38c-136dca01a827"
      },
      "source": [
        "bW"
      ],
      "execution_count": 47,
      "outputs": [
        {
          "output_type": "execute_result",
          "data": {
            "text/plain": [
              "<libpysal.weights.weights.W at 0x7f31825493c8>"
            ]
          },
          "metadata": {
            "tags": []
          },
          "execution_count": 47
        }
      ]
    },
    {
      "cell_type": "code",
      "metadata": {
        "id": "u1wJQ0h6RXBD",
        "colab_type": "code",
        "colab": {
          "base_uri": "https://localhost:8080/",
          "height": 564
        },
        "outputId": "ba841bbd-4ab5-413c-e212-68b8362d2145"
      },
      "source": [
        "# Using `.head()` to limit the number of rows printed\n",
        "df.query('FIPS not in @islands').head()"
      ],
      "execution_count": 48,
      "outputs": [
        {
          "output_type": "execute_result",
          "data": {
            "text/html": [
              "<div>\n",
              "<style scoped>\n",
              "    .dataframe tbody tr th:only-of-type {\n",
              "        vertical-align: middle;\n",
              "    }\n",
              "\n",
              "    .dataframe tbody tr th {\n",
              "        vertical-align: top;\n",
              "    }\n",
              "\n",
              "    .dataframe thead th {\n",
              "        text-align: right;\n",
              "    }\n",
              "</style>\n",
              "<table border=\"1\" class=\"dataframe\">\n",
              "  <thead>\n",
              "    <tr style=\"text-align: right;\">\n",
              "      <th></th>\n",
              "      <th>NAME</th>\n",
              "      <th>STATE_NAME</th>\n",
              "      <th>STATE_FIPS</th>\n",
              "      <th>CNTY_FIPS</th>\n",
              "      <th>FIPS</th>\n",
              "      <th>STFIPS</th>\n",
              "      <th>COFIPS</th>\n",
              "      <th>FIPSNO</th>\n",
              "      <th>SOUTH</th>\n",
              "      <th>HR60</th>\n",
              "      <th>HR70</th>\n",
              "      <th>HR80</th>\n",
              "      <th>HR90</th>\n",
              "      <th>HC60</th>\n",
              "      <th>HC70</th>\n",
              "      <th>HC80</th>\n",
              "      <th>HC90</th>\n",
              "      <th>PO60</th>\n",
              "      <th>PO70</th>\n",
              "      <th>PO80</th>\n",
              "      <th>PO90</th>\n",
              "      <th>RD60</th>\n",
              "      <th>RD70</th>\n",
              "      <th>RD80</th>\n",
              "      <th>RD90</th>\n",
              "      <th>PS60</th>\n",
              "      <th>PS70</th>\n",
              "      <th>PS80</th>\n",
              "      <th>PS90</th>\n",
              "      <th>UE60</th>\n",
              "      <th>UE70</th>\n",
              "      <th>UE80</th>\n",
              "      <th>UE90</th>\n",
              "      <th>DV60</th>\n",
              "      <th>DV70</th>\n",
              "      <th>DV80</th>\n",
              "      <th>DV90</th>\n",
              "      <th>MA60</th>\n",
              "      <th>MA70</th>\n",
              "      <th>MA80</th>\n",
              "      <th>MA90</th>\n",
              "      <th>POL60</th>\n",
              "      <th>POL70</th>\n",
              "      <th>POL80</th>\n",
              "      <th>POL90</th>\n",
              "      <th>DNL60</th>\n",
              "      <th>DNL70</th>\n",
              "      <th>DNL80</th>\n",
              "      <th>DNL90</th>\n",
              "      <th>MFIL59</th>\n",
              "      <th>MFIL69</th>\n",
              "      <th>MFIL79</th>\n",
              "      <th>MFIL89</th>\n",
              "      <th>FP59</th>\n",
              "      <th>FP69</th>\n",
              "      <th>FP79</th>\n",
              "      <th>FP89</th>\n",
              "      <th>BLK60</th>\n",
              "      <th>BLK70</th>\n",
              "      <th>BLK80</th>\n",
              "      <th>BLK90</th>\n",
              "      <th>GI59</th>\n",
              "      <th>GI69</th>\n",
              "      <th>GI79</th>\n",
              "      <th>GI89</th>\n",
              "      <th>FH60</th>\n",
              "      <th>FH70</th>\n",
              "      <th>FH80</th>\n",
              "      <th>FH90</th>\n",
              "      <th>geometry</th>\n",
              "    </tr>\n",
              "  </thead>\n",
              "  <tbody>\n",
              "    <tr>\n",
              "      <th>0</th>\n",
              "      <td>Lipscomb</td>\n",
              "      <td>Texas</td>\n",
              "      <td>48</td>\n",
              "      <td>295</td>\n",
              "      <td>48295</td>\n",
              "      <td>48</td>\n",
              "      <td>295</td>\n",
              "      <td>48295</td>\n",
              "      <td>1</td>\n",
              "      <td>0.0</td>\n",
              "      <td>0.000000</td>\n",
              "      <td>0.000000</td>\n",
              "      <td>0.000000</td>\n",
              "      <td>0.0</td>\n",
              "      <td>0.000000</td>\n",
              "      <td>0.000000</td>\n",
              "      <td>0.000000</td>\n",
              "      <td>3406</td>\n",
              "      <td>3486</td>\n",
              "      <td>3766</td>\n",
              "      <td>3143</td>\n",
              "      <td>-0.917852</td>\n",
              "      <td>-0.602338</td>\n",
              "      <td>-0.355503</td>\n",
              "      <td>-0.605607</td>\n",
              "      <td>-1.514026</td>\n",
              "      <td>-1.449058</td>\n",
              "      <td>-1.476411</td>\n",
              "      <td>-1.571799</td>\n",
              "      <td>2.0</td>\n",
              "      <td>1.7</td>\n",
              "      <td>1.941176</td>\n",
              "      <td>1.732852</td>\n",
              "      <td>1.494886</td>\n",
              "      <td>2.270948</td>\n",
              "      <td>3.516484</td>\n",
              "      <td>6.101695</td>\n",
              "      <td>32.4</td>\n",
              "      <td>34.3</td>\n",
              "      <td>31.0</td>\n",
              "      <td>35.8</td>\n",
              "      <td>8.133294</td>\n",
              "      <td>8.156510</td>\n",
              "      <td>8.233769</td>\n",
              "      <td>8.052933</td>\n",
              "      <td>1.293817</td>\n",
              "      <td>1.317034</td>\n",
              "      <td>1.395364</td>\n",
              "      <td>1.215386</td>\n",
              "      <td>8.531885</td>\n",
              "      <td>8.970432</td>\n",
              "      <td>9.802064</td>\n",
              "      <td>10.252241</td>\n",
              "      <td>22.4</td>\n",
              "      <td>12.1</td>\n",
              "      <td>10.851263</td>\n",
              "      <td>9.140370</td>\n",
              "      <td>0.029360</td>\n",
              "      <td>0.028686</td>\n",
              "      <td>0.026553</td>\n",
              "      <td>0.031817</td>\n",
              "      <td>0.286929</td>\n",
              "      <td>0.378219</td>\n",
              "      <td>0.407005</td>\n",
              "      <td>0.373005</td>\n",
              "      <td>6.724512</td>\n",
              "      <td>4.5</td>\n",
              "      <td>3.835360</td>\n",
              "      <td>6.093580</td>\n",
              "      <td>POLYGON ((-100.00687 36.49388, -100.00114 36.4...</td>\n",
              "    </tr>\n",
              "    <tr>\n",
              "      <th>1</th>\n",
              "      <td>Sherman</td>\n",
              "      <td>Texas</td>\n",
              "      <td>48</td>\n",
              "      <td>421</td>\n",
              "      <td>48421</td>\n",
              "      <td>48</td>\n",
              "      <td>421</td>\n",
              "      <td>48421</td>\n",
              "      <td>1</td>\n",
              "      <td>0.0</td>\n",
              "      <td>18.229879</td>\n",
              "      <td>10.501995</td>\n",
              "      <td>0.000000</td>\n",
              "      <td>0.0</td>\n",
              "      <td>0.666667</td>\n",
              "      <td>0.333333</td>\n",
              "      <td>0.000000</td>\n",
              "      <td>2605</td>\n",
              "      <td>3657</td>\n",
              "      <td>3174</td>\n",
              "      <td>2858</td>\n",
              "      <td>-1.113594</td>\n",
              "      <td>-1.081211</td>\n",
              "      <td>-0.492131</td>\n",
              "      <td>-0.519201</td>\n",
              "      <td>-1.714700</td>\n",
              "      <td>-1.407486</td>\n",
              "      <td>-1.597010</td>\n",
              "      <td>-1.635240</td>\n",
              "      <td>3.6</td>\n",
              "      <td>3.6</td>\n",
              "      <td>1.230349</td>\n",
              "      <td>3.343239</td>\n",
              "      <td>2.297593</td>\n",
              "      <td>2.511774</td>\n",
              "      <td>3.807947</td>\n",
              "      <td>5.968779</td>\n",
              "      <td>29.6</td>\n",
              "      <td>26.3</td>\n",
              "      <td>31.7</td>\n",
              "      <td>34.4</td>\n",
              "      <td>7.865188</td>\n",
              "      <td>8.204398</td>\n",
              "      <td>8.062748</td>\n",
              "      <td>7.957877</td>\n",
              "      <td>1.045172</td>\n",
              "      <td>1.384382</td>\n",
              "      <td>1.235227</td>\n",
              "      <td>1.130140</td>\n",
              "      <td>8.666130</td>\n",
              "      <td>9.038840</td>\n",
              "      <td>9.854087</td>\n",
              "      <td>10.178274</td>\n",
              "      <td>20.1</td>\n",
              "      <td>7.7</td>\n",
              "      <td>8.459870</td>\n",
              "      <td>10.761790</td>\n",
              "      <td>0.000000</td>\n",
              "      <td>0.464862</td>\n",
              "      <td>0.126024</td>\n",
              "      <td>0.139958</td>\n",
              "      <td>0.288976</td>\n",
              "      <td>0.359377</td>\n",
              "      <td>0.415453</td>\n",
              "      <td>0.378041</td>\n",
              "      <td>5.665722</td>\n",
              "      <td>1.7</td>\n",
              "      <td>3.253796</td>\n",
              "      <td>3.869407</td>\n",
              "      <td>POLYGON ((-102.16757 36.05463, -102.16522 36.4...</td>\n",
              "    </tr>\n",
              "    <tr>\n",
              "      <th>2</th>\n",
              "      <td>Dallam</td>\n",
              "      <td>Texas</td>\n",
              "      <td>48</td>\n",
              "      <td>111</td>\n",
              "      <td>48111</td>\n",
              "      <td>48</td>\n",
              "      <td>111</td>\n",
              "      <td>48111</td>\n",
              "      <td>1</td>\n",
              "      <td>0.0</td>\n",
              "      <td>11.088933</td>\n",
              "      <td>5.103864</td>\n",
              "      <td>18.311665</td>\n",
              "      <td>0.0</td>\n",
              "      <td>0.666667</td>\n",
              "      <td>0.333333</td>\n",
              "      <td>1.000000</td>\n",
              "      <td>6302</td>\n",
              "      <td>6012</td>\n",
              "      <td>6531</td>\n",
              "      <td>5461</td>\n",
              "      <td>-0.470982</td>\n",
              "      <td>-0.175927</td>\n",
              "      <td>0.139469</td>\n",
              "      <td>0.258405</td>\n",
              "      <td>-1.200047</td>\n",
              "      <td>-1.204341</td>\n",
              "      <td>-1.234283</td>\n",
              "      <td>-1.338314</td>\n",
              "      <td>2.4</td>\n",
              "      <td>4.5</td>\n",
              "      <td>2.239602</td>\n",
              "      <td>2.276423</td>\n",
              "      <td>3.446752</td>\n",
              "      <td>3.973820</td>\n",
              "      <td>4.849785</td>\n",
              "      <td>8.396560</td>\n",
              "      <td>31.3</td>\n",
              "      <td>30.2</td>\n",
              "      <td>29.0</td>\n",
              "      <td>32.6</td>\n",
              "      <td>8.748622</td>\n",
              "      <td>8.701513</td>\n",
              "      <td>8.784315</td>\n",
              "      <td>8.605387</td>\n",
              "      <td>1.439410</td>\n",
              "      <td>1.392300</td>\n",
              "      <td>1.467435</td>\n",
              "      <td>1.288972</td>\n",
              "      <td>8.454466</td>\n",
              "      <td>8.861208</td>\n",
              "      <td>9.571784</td>\n",
              "      <td>10.062285</td>\n",
              "      <td>29.9</td>\n",
              "      <td>14.7</td>\n",
              "      <td>14.922907</td>\n",
              "      <td>15.994962</td>\n",
              "      <td>0.920343</td>\n",
              "      <td>1.829674</td>\n",
              "      <td>2.526412</td>\n",
              "      <td>2.050906</td>\n",
              "      <td>0.331667</td>\n",
              "      <td>0.385996</td>\n",
              "      <td>0.370037</td>\n",
              "      <td>0.376015</td>\n",
              "      <td>7.546049</td>\n",
              "      <td>7.2</td>\n",
              "      <td>9.471366</td>\n",
              "      <td>14.231738</td>\n",
              "      <td>POLYGON ((-102.16757 36.05463, -103.02356 36.0...</td>\n",
              "    </tr>\n",
              "    <tr>\n",
              "      <th>3</th>\n",
              "      <td>Hansford</td>\n",
              "      <td>Texas</td>\n",
              "      <td>48</td>\n",
              "      <td>195</td>\n",
              "      <td>48195</td>\n",
              "      <td>48</td>\n",
              "      <td>195</td>\n",
              "      <td>48195</td>\n",
              "      <td>1</td>\n",
              "      <td>0.0</td>\n",
              "      <td>0.000000</td>\n",
              "      <td>0.000000</td>\n",
              "      <td>0.000000</td>\n",
              "      <td>0.0</td>\n",
              "      <td>0.000000</td>\n",
              "      <td>0.000000</td>\n",
              "      <td>0.000000</td>\n",
              "      <td>6208</td>\n",
              "      <td>6351</td>\n",
              "      <td>6209</td>\n",
              "      <td>5848</td>\n",
              "      <td>-1.248299</td>\n",
              "      <td>-0.896143</td>\n",
              "      <td>-0.684286</td>\n",
              "      <td>-0.521268</td>\n",
              "      <td>-1.039568</td>\n",
              "      <td>-0.999173</td>\n",
              "      <td>-1.109016</td>\n",
              "      <td>-1.132594</td>\n",
              "      <td>1.0</td>\n",
              "      <td>3.8</td>\n",
              "      <td>1.818806</td>\n",
              "      <td>4.007634</td>\n",
              "      <td>2.479733</td>\n",
              "      <td>3.466907</td>\n",
              "      <td>4.626027</td>\n",
              "      <td>6.238185</td>\n",
              "      <td>25.6</td>\n",
              "      <td>27.5</td>\n",
              "      <td>29.9</td>\n",
              "      <td>32.9</td>\n",
              "      <td>8.733594</td>\n",
              "      <td>8.756368</td>\n",
              "      <td>8.733755</td>\n",
              "      <td>8.673855</td>\n",
              "      <td>1.923452</td>\n",
              "      <td>1.946225</td>\n",
              "      <td>1.908512</td>\n",
              "      <td>1.849590</td>\n",
              "      <td>8.686261</td>\n",
              "      <td>9.041093</td>\n",
              "      <td>9.958165</td>\n",
              "      <td>10.320585</td>\n",
              "      <td>15.1</td>\n",
              "      <td>8.2</td>\n",
              "      <td>8.371041</td>\n",
              "      <td>9.683313</td>\n",
              "      <td>0.112758</td>\n",
              "      <td>0.000000</td>\n",
              "      <td>0.032211</td>\n",
              "      <td>0.000000</td>\n",
              "      <td>0.253527</td>\n",
              "      <td>0.357813</td>\n",
              "      <td>0.393938</td>\n",
              "      <td>0.383924</td>\n",
              "      <td>7.591786</td>\n",
              "      <td>4.7</td>\n",
              "      <td>5.542986</td>\n",
              "      <td>7.125457</td>\n",
              "      <td>POLYGON ((-101.61950 36.05471, -101.62032 36.4...</td>\n",
              "    </tr>\n",
              "    <tr>\n",
              "      <th>4</th>\n",
              "      <td>Ochiltree</td>\n",
              "      <td>Texas</td>\n",
              "      <td>48</td>\n",
              "      <td>357</td>\n",
              "      <td>48357</td>\n",
              "      <td>48</td>\n",
              "      <td>357</td>\n",
              "      <td>48357</td>\n",
              "      <td>1</td>\n",
              "      <td>0.0</td>\n",
              "      <td>6.870019</td>\n",
              "      <td>10.429704</td>\n",
              "      <td>3.651767</td>\n",
              "      <td>0.0</td>\n",
              "      <td>0.666667</td>\n",
              "      <td>1.000000</td>\n",
              "      <td>0.333333</td>\n",
              "      <td>9380</td>\n",
              "      <td>9704</td>\n",
              "      <td>9588</td>\n",
              "      <td>9128</td>\n",
              "      <td>-1.565398</td>\n",
              "      <td>-1.125893</td>\n",
              "      <td>-1.330064</td>\n",
              "      <td>-0.463557</td>\n",
              "      <td>-0.720305</td>\n",
              "      <td>-0.688084</td>\n",
              "      <td>-0.792819</td>\n",
              "      <td>-0.819903</td>\n",
              "      <td>2.4</td>\n",
              "      <td>4.1</td>\n",
              "      <td>2.162044</td>\n",
              "      <td>4.874067</td>\n",
              "      <td>2.364439</td>\n",
              "      <td>3.163235</td>\n",
              "      <td>5.366528</td>\n",
              "      <td>7.104154</td>\n",
              "      <td>25.1</td>\n",
              "      <td>27.0</td>\n",
              "      <td>28.2</td>\n",
              "      <td>31.5</td>\n",
              "      <td>9.146335</td>\n",
              "      <td>9.180293</td>\n",
              "      <td>9.168268</td>\n",
              "      <td>9.119102</td>\n",
              "      <td>2.336193</td>\n",
              "      <td>2.370151</td>\n",
              "      <td>2.345090</td>\n",
              "      <td>2.297340</td>\n",
              "      <td>8.715388</td>\n",
              "      <td>9.153453</td>\n",
              "      <td>10.011490</td>\n",
              "      <td>10.317086</td>\n",
              "      <td>11.1</td>\n",
              "      <td>6.7</td>\n",
              "      <td>5.459240</td>\n",
              "      <td>10.735736</td>\n",
              "      <td>0.000000</td>\n",
              "      <td>0.000000</td>\n",
              "      <td>0.020859</td>\n",
              "      <td>0.021911</td>\n",
              "      <td>0.236998</td>\n",
              "      <td>0.352940</td>\n",
              "      <td>0.343949</td>\n",
              "      <td>0.374461</td>\n",
              "      <td>5.172414</td>\n",
              "      <td>4.0</td>\n",
              "      <td>4.758392</td>\n",
              "      <td>9.159159</td>\n",
              "      <td>POLYGON ((-101.08231 36.05626, -101.08967 36.4...</td>\n",
              "    </tr>\n",
              "  </tbody>\n",
              "</table>\n",
              "</div>"
            ],
            "text/plain": [
              "        NAME  ...                                           geometry\n",
              "0   Lipscomb  ...  POLYGON ((-100.00687 36.49388, -100.00114 36.4...\n",
              "1    Sherman  ...  POLYGON ((-102.16757 36.05463, -102.16522 36.4...\n",
              "2     Dallam  ...  POLYGON ((-102.16757 36.05463, -103.02356 36.0...\n",
              "3   Hansford  ...  POLYGON ((-101.61950 36.05471, -101.62032 36.4...\n",
              "4  Ochiltree  ...  POLYGON ((-101.08231 36.05626, -101.08967 36.4...\n",
              "\n",
              "[5 rows x 70 columns]"
            ]
          },
          "metadata": {
            "tags": []
          },
          "execution_count": 48
        }
      ]
    },
    {
      "cell_type": "markdown",
      "metadata": {
        "id": "cMTbrZvSRXBM",
        "colab_type": "text"
      },
      "source": [
        "## Distance"
      ]
    },
    {
      "cell_type": "markdown",
      "metadata": {
        "id": "uoHwZXj3RXBO",
        "colab_type": "text"
      },
      "source": [
        "There are many other kinds of weighting functions in PySAL. Another separate type use a continuous measure of distance to define neighborhoods. "
      ]
    },
    {
      "cell_type": "code",
      "metadata": {
        "id": "od4BDUdXRXBP",
        "colab_type": "code",
        "colab": {
          "base_uri": "https://localhost:8080/",
          "height": 34
        },
        "outputId": "a08d2a81-3dab-41f4-8bdd-c5bbf44bf98d"
      },
      "source": [
        "radius_mile = libpysal.cg.sphere.RADIUS_EARTH_MILES\n",
        "radius_mile"
      ],
      "execution_count": 49,
      "outputs": [
        {
          "output_type": "execute_result",
          "data": {
            "text/plain": [
              "3958.755865744055"
            ]
          },
          "metadata": {
            "tags": []
          },
          "execution_count": 49
        }
      ]
    },
    {
      "cell_type": "markdown",
      "metadata": {
        "id": "iBS5WEQRRXBb",
        "colab_type": "text"
      },
      "source": [
        "great circle (arc) distance -  maximum nearest neighbor distance in miles between the $n$ observations"
      ]
    },
    {
      "cell_type": "code",
      "metadata": {
        "id": "h76235KyRXBd",
        "colab_type": "code",
        "colab": {}
      },
      "source": [
        "threshold = libpysal.weights.min_threshold_dist_from_shapefile(\"pysalnarsc19/content/data/texas.shp\",\n",
        "                                                               radius=radius_mile) "
      ],
      "execution_count": 0,
      "outputs": []
    },
    {
      "cell_type": "code",
      "metadata": {
        "id": "sCU9hDrkRXBn",
        "colab_type": "code",
        "colab": {
          "base_uri": "https://localhost:8080/",
          "height": 34
        },
        "outputId": "304a71bc-e7c8-43e5-8c1e-fddd98da56f7"
      },
      "source": [
        "threshold"
      ],
      "execution_count": 53,
      "outputs": [
        {
          "output_type": "execute_result",
          "data": {
            "text/plain": [
              "60.47758554135752"
            ]
          },
          "metadata": {
            "tags": []
          },
          "execution_count": 53
        }
      ]
    },
    {
      "cell_type": "code",
      "metadata": {
        "id": "DV_lTpoGRXB0",
        "colab_type": "code",
        "colab": {
          "base_uri": "https://localhost:8080/",
          "height": 34
        },
        "outputId": "c1986ac8-658c-48d7-adc7-df2b748f1d88"
      },
      "source": [
        "radius_km = libpysal.cg.sphere.RADIUS_EARTH_KM\n",
        "radius_km"
      ],
      "execution_count": 54,
      "outputs": [
        {
          "output_type": "execute_result",
          "data": {
            "text/plain": [
              "6371.0"
            ]
          },
          "metadata": {
            "tags": []
          },
          "execution_count": 54
        }
      ]
    },
    {
      "cell_type": "code",
      "metadata": {
        "id": "58oeKFn_RXCA",
        "colab_type": "code",
        "colab": {
          "base_uri": "https://localhost:8080/",
          "height": 34
        },
        "outputId": "4088f771-ef1c-4cc1-c1ff-df0a549c72df"
      },
      "source": [
        "libpysal.weights.min_threshold_dist_from_shapefile(\"pysalnarsc19/content/data/texas.shp\",\n",
        "                                                               radius=radius_km) "
      ],
      "execution_count": 56,
      "outputs": [
        {
          "output_type": "execute_result",
          "data": {
            "text/plain": [
              "97.32923942547046"
            ]
          },
          "metadata": {
            "tags": []
          },
          "execution_count": 56
        }
      ]
    },
    {
      "cell_type": "code",
      "metadata": {
        "id": "efuT7HykRXCR",
        "colab_type": "code",
        "colab": {
          "base_uri": "https://localhost:8080/",
          "height": 34
        },
        "outputId": "55d6c736-b98b-4cea-b32e-9a5646e1cc91"
      },
      "source": [
        "libpysal.weights.min_threshold_dist_from_shapefile(\"pysalnarsc19/content/data/texas.shp\")"
      ],
      "execution_count": 57,
      "outputs": [
        {
          "output_type": "execute_result",
          "data": {
            "text/plain": [
              "1.0040319244447573"
            ]
          },
          "metadata": {
            "tags": []
          },
          "execution_count": 57
        }
      ]
    },
    {
      "cell_type": "markdown",
      "metadata": {
        "id": "IIzVtloARXCV",
        "colab_type": "text"
      },
      "source": [
        "### knn defined weights"
      ]
    },
    {
      "cell_type": "code",
      "metadata": {
        "id": "gv-qkKkcRXCX",
        "colab_type": "code",
        "colab": {}
      },
      "source": [
        "knn4_bad = KNN.from_dataframe(df, k=4) # ignore curvature of the earth"
      ],
      "execution_count": 0,
      "outputs": []
    },
    {
      "cell_type": "code",
      "metadata": {
        "id": "TmFYl-33RXCf",
        "colab_type": "code",
        "colab": {
          "base_uri": "https://localhost:8080/",
          "height": 34
        },
        "outputId": "32e58f5a-d562-4699-e18f-90109f7d973f"
      },
      "source": [
        "knn4_bad.histogram"
      ],
      "execution_count": 59,
      "outputs": [
        {
          "output_type": "execute_result",
          "data": {
            "text/plain": [
              "[(4, 254)]"
            ]
          },
          "metadata": {
            "tags": []
          },
          "execution_count": 59
        }
      ]
    },
    {
      "cell_type": "code",
      "metadata": {
        "id": "C8Hp9V-4RXCp",
        "colab_type": "code",
        "colab": {}
      },
      "source": [
        "knn4 = KNN.from_dataframe(df, k=4, radius=radius_mile)"
      ],
      "execution_count": 0,
      "outputs": []
    },
    {
      "cell_type": "code",
      "metadata": {
        "id": "mYEwi6ClRXCt",
        "colab_type": "code",
        "colab": {
          "base_uri": "https://localhost:8080/",
          "height": 34
        },
        "outputId": "f15ec4db-6a10-4c18-d18c-10088087f8c4"
      },
      "source": [
        "knn4.histogram"
      ],
      "execution_count": 61,
      "outputs": [
        {
          "output_type": "execute_result",
          "data": {
            "text/plain": [
              "[(4, 254)]"
            ]
          },
          "metadata": {
            "tags": []
          },
          "execution_count": 61
        }
      ]
    },
    {
      "cell_type": "code",
      "metadata": {
        "id": "Hw3PmMIrRXCx",
        "colab_type": "code",
        "colab": {
          "base_uri": "https://localhost:8080/",
          "height": 34
        },
        "outputId": "b0053959-5f8c-444a-f48e-226e4f848366"
      },
      "source": [
        "knn4[0]"
      ],
      "execution_count": 62,
      "outputs": [
        {
          "output_type": "execute_result",
          "data": {
            "text/plain": [
              "{3: 1.0, 4: 1.0, 5: 1.0, 6: 1.0}"
            ]
          },
          "metadata": {
            "tags": []
          },
          "execution_count": 62
        }
      ]
    },
    {
      "cell_type": "code",
      "metadata": {
        "id": "QTq1tjbJRXC1",
        "colab_type": "code",
        "colab": {
          "base_uri": "https://localhost:8080/",
          "height": 34
        },
        "outputId": "87ca13e2-763b-4985-c96d-532c5937a554"
      },
      "source": [
        "knn4_bad[0]"
      ],
      "execution_count": 63,
      "outputs": [
        {
          "output_type": "execute_result",
          "data": {
            "text/plain": [
              "{4: 1.0, 5: 1.0, 6: 1.0, 13: 1.0}"
            ]
          },
          "metadata": {
            "tags": []
          },
          "execution_count": 63
        }
      ]
    },
    {
      "cell_type": "code",
      "metadata": {
        "id": "rrjEomAvRXC6",
        "colab_type": "code",
        "colab": {
          "base_uri": "https://localhost:8080/",
          "height": 34
        },
        "outputId": "4e4e8216-3863-4482-aaa9-ec73a66f0a81"
      },
      "source": [
        "knn4_bad.neighbors == knn4.neighbors"
      ],
      "execution_count": 64,
      "outputs": [
        {
          "output_type": "execute_result",
          "data": {
            "text/plain": [
              "False"
            ]
          },
          "metadata": {
            "tags": []
          },
          "execution_count": 64
        }
      ]
    },
    {
      "cell_type": "code",
      "metadata": {
        "id": "29x7LV3ORXC-",
        "colab_type": "code",
        "colab": {
          "base_uri": "https://localhost:8080/",
          "height": 282
        },
        "outputId": "7888fdf1-c4a6-4b93-a2e1-2f78e8b99df3"
      },
      "source": [
        "\n",
        "df.assign(weights = \n",
        "          knn4_bad.sparse[0,:].toarray().flatten()).plot('weights', \n",
        "                                                           cmap='plasma')"
      ],
      "execution_count": 65,
      "outputs": [
        {
          "output_type": "execute_result",
          "data": {
            "text/plain": [
              "<matplotlib.axes._subplots.AxesSubplot at 0x7f3182507780>"
            ]
          },
          "metadata": {
            "tags": []
          },
          "execution_count": 65
        },
        {
          "output_type": "display_data",
          "data": {
            "image/png": "[encoded data removed]",
            "text/plain": [
              "<Figure size 432x288 with 1 Axes>"
            ]
          },
          "metadata": {
            "tags": []
          }
        }
      ]
    },
    {
      "cell_type": "code",
      "metadata": {
        "id": "137HnHpbRXDD",
        "colab_type": "code",
        "colab": {
          "base_uri": "https://localhost:8080/",
          "height": 282
        },
        "outputId": "5402555d-e0a4-401a-e0a5-e33b0a776076"
      },
      "source": [
        "\n",
        "df.assign(weights = \n",
        "          knn4.sparse[0,:].toarray().flatten()).plot('weights', \n",
        "                                                           cmap='plasma')"
      ],
      "execution_count": 66,
      "outputs": [
        {
          "output_type": "execute_result",
          "data": {
            "text/plain": [
              "<matplotlib.axes._subplots.AxesSubplot at 0x7f3182511a58>"
            ]
          },
          "metadata": {
            "tags": []
          },
          "execution_count": 66
        },
        {
          "output_type": "display_data",
          "data": {
            "image/png": "[encoded data removed]",
            "text/plain": [
              "<Figure size 432x288 with 1 Axes>"
            ]
          },
          "metadata": {
            "tags": []
          }
        }
      ]
    },
    {
      "cell_type": "markdown",
      "metadata": {
        "id": "_cZmbFD3RXDH",
        "colab_type": "text"
      },
      "source": [
        "<div class=\"alert alert-success\" style=\"font-size:120%\">\n",
        "<b>Exercise</b>: <br>\n",
        "Enumerate the counties for which ignoring curvature results in an incorrect neighbor set for knn.\n",
        "</div>"
      ]
    },
    {
      "cell_type": "code",
      "metadata": {
        "id": "MWOrDcudRXDJ",
        "colab_type": "code",
        "colab": {}
      },
      "source": [
        "# %load solutions/300_1.py"
      ],
      "execution_count": 0,
      "outputs": []
    },
    {
      "cell_type": "markdown",
      "metadata": {
        "id": "fYkgJzCeRXDX",
        "colab_type": "text"
      },
      "source": [
        "### Kernel W"
      ]
    },
    {
      "cell_type": "markdown",
      "metadata": {
        "id": "5FLOCk2SRXDd",
        "colab_type": "text"
      },
      "source": [
        "Kernel Weights are continuous distance-based weights that use kernel densities to define the neighbor relationship.\n",
        "Typically, they estimate a `bandwidth`, which is a parameter governing how far out observations should be considered neighboring. Then, using this bandwidth, they evaluate a continuous kernel function to provide a weight between 0 and 1.\n",
        "\n",
        "Many different choices of kernel functions are supported, and bandwidths can either be fixed (constant over all units) or adaptive in function of unit density.\n",
        "\n",
        "For example, if we want to use **adaptive bandwidths for the map and weight according to a gaussian kernel**:"
      ]
    },
    {
      "cell_type": "markdown",
      "metadata": {
        "id": "v-yc4ZPGRXDf",
        "colab_type": "text"
      },
      "source": [
        "#### Adaptive gaussian kernel weights\n",
        "\n",
        "bandwidth = the distance to the kth nearest neighbor for each\n",
        "                  observation\n",
        "   \n",
        "bandwith is changing across observations"
      ]
    },
    {
      "cell_type": "code",
      "metadata": {
        "id": "VSin11LHRXDi",
        "colab_type": "code",
        "colab": {
          "base_uri": "https://localhost:8080/",
          "height": 282
        },
        "outputId": "afe4bd00-17a5-43dc-bb1c-c9267cf5487e"
      },
      "source": [
        "kernelWa = Kernel.from_dataframe(df, k=10, fixed=False, function='gaussian')\n",
        "df.assign(weights = \n",
        "          kernelWa.sparse[100,:].toarray().flatten()).plot('weights', \n",
        "                                                           cmap='plasma')"
      ],
      "execution_count": 67,
      "outputs": [
        {
          "output_type": "execute_result",
          "data": {
            "text/plain": [
              "<matplotlib.axes._subplots.AxesSubplot at 0x7f31825194a8>"
            ]
          },
          "metadata": {
            "tags": []
          },
          "execution_count": 67
        },
        {
          "output_type": "display_data",
          "data": {
            "image/png": "[encoded data removed]",
            "text/plain": [
              "<Figure size 432x288 with 1 Axes>"
            ]
          },
          "metadata": {
            "tags": []
          }
        }
      ]
    },
    {
      "cell_type": "code",
      "metadata": {
        "id": "DnJeZnOzRXDp",
        "colab_type": "code",
        "colab": {
          "base_uri": "https://localhost:8080/",
          "height": 1000
        },
        "outputId": "35920e3b-17d9-41ee-d84a-c47b99c0d7cc"
      },
      "source": [
        "kernelWa.bandwidth"
      ],
      "execution_count": 68,
      "outputs": [
        {
          "output_type": "execute_result",
          "data": {
            "text/plain": [
              "array([[1.41792307],\n",
              "       [1.16186765],\n",
              "       [1.51532266],\n",
              "       [1.16706641],\n",
              "       [1.16051064],\n",
              "       [1.02910576],\n",
              "       [1.17033966],\n",
              "       [1.02887826],\n",
              "       [1.31356614],\n",
              "       [1.0256787 ],\n",
              "       [0.88773322],\n",
              "       [0.88526614],\n",
              "       [0.88179061],\n",
              "       [1.08662339],\n",
              "       [1.22270045],\n",
              "       [0.89732036],\n",
              "       [0.89442955],\n",
              "       [1.0327589 ],\n",
              "       [0.88819223],\n",
              "       [1.12280474],\n",
              "       [1.05295281],\n",
              "       [0.94862185],\n",
              "       [0.95000665],\n",
              "       [0.92211746],\n",
              "       [1.00000484],\n",
              "       [0.92083932],\n",
              "       [1.05944729],\n",
              "       [1.05898297],\n",
              "       [0.9017759 ],\n",
              "       [0.90650946],\n",
              "       [0.90032068],\n",
              "       [0.89957   ],\n",
              "       [0.92902449],\n",
              "       [1.09851391],\n",
              "       [0.98062729],\n",
              "       [1.08796014],\n",
              "       [1.07679596],\n",
              "       [1.05234301],\n",
              "       [0.88935744],\n",
              "       [1.05377653],\n",
              "       [1.04809952],\n",
              "       [0.90585612],\n",
              "       [1.0087307 ],\n",
              "       [0.88937573],\n",
              "       [0.92083932],\n",
              "       [0.92211746],\n",
              "       [0.92258946],\n",
              "       [0.96578054],\n",
              "       [0.9231942 ],\n",
              "       [0.87525624],\n",
              "       [0.88758983],\n",
              "       [1.08870385],\n",
              "       [1.04771351],\n",
              "       [0.79507109],\n",
              "       [0.91935536],\n",
              "       [0.88100231],\n",
              "       [0.86501321],\n",
              "       [0.77468581],\n",
              "       [0.83933425],\n",
              "       [0.71666489],\n",
              "       [0.89021471],\n",
              "       [0.89984243],\n",
              "       [0.85576364],\n",
              "       [0.9017759 ],\n",
              "       [0.90650946],\n",
              "       [0.64869191],\n",
              "       [0.90032068],\n",
              "       [0.92180651],\n",
              "       [0.94487843],\n",
              "       [1.09315687],\n",
              "       [0.69813818],\n",
              "       [0.6833925 ],\n",
              "       [0.88894741],\n",
              "       [0.64803103],\n",
              "       [0.66248989],\n",
              "       [0.84306397],\n",
              "       [0.88762214],\n",
              "       [0.83316272],\n",
              "       [0.85350008],\n",
              "       [0.77092927],\n",
              "       [0.71778381],\n",
              "       [0.94731774],\n",
              "       [0.91169473],\n",
              "       [0.88937573],\n",
              "       [0.9146686 ],\n",
              "       [0.88379806],\n",
              "       [0.88286054],\n",
              "       [0.88991819],\n",
              "       [0.98147029],\n",
              "       [0.65612228],\n",
              "       [0.79885702],\n",
              "       [0.90464285],\n",
              "       [0.81750889],\n",
              "       [0.89856801],\n",
              "       [0.71778381],\n",
              "       [0.7288985 ],\n",
              "       [0.86192409],\n",
              "       [0.82022755],\n",
              "       [0.89787771],\n",
              "       [0.94502883],\n",
              "       [0.93988917],\n",
              "       [0.94668903],\n",
              "       [0.8667141 ],\n",
              "       [0.89048078],\n",
              "       [0.93898733],\n",
              "       [0.9180431 ],\n",
              "       [0.89684979],\n",
              "       [0.8317206 ],\n",
              "       [0.86574285],\n",
              "       [0.92430268],\n",
              "       [0.8846525 ],\n",
              "       [0.85304646],\n",
              "       [0.83262756],\n",
              "       [0.82022755],\n",
              "       [0.84306397],\n",
              "       [0.88762214],\n",
              "       [0.92430268],\n",
              "       [0.98183081],\n",
              "       [0.96456739],\n",
              "       [0.98183081],\n",
              "       [0.93271426],\n",
              "       [1.12306966],\n",
              "       [1.04137542],\n",
              "       [0.95436523],\n",
              "       [0.9085652 ],\n",
              "       [0.95056467],\n",
              "       [0.89191499],\n",
              "       [0.90088781],\n",
              "       [0.90609517],\n",
              "       [2.00658015],\n",
              "       [1.44121135],\n",
              "       [1.36961463],\n",
              "       [2.74437178],\n",
              "       [3.64914991],\n",
              "       [1.02846798],\n",
              "       [0.8824523 ],\n",
              "       [0.8580386 ],\n",
              "       [0.87506115],\n",
              "       [0.8317206 ],\n",
              "       [0.87449073],\n",
              "       [1.00661499],\n",
              "       [1.31028838],\n",
              "       [0.92956775],\n",
              "       [1.08379591],\n",
              "       [1.07156547],\n",
              "       [1.05794044],\n",
              "       [0.88549317],\n",
              "       [1.15035675],\n",
              "       [0.8245694 ],\n",
              "       [0.97364284],\n",
              "       [1.05876368],\n",
              "       [0.80949181],\n",
              "       [0.90027022],\n",
              "       [0.89091756],\n",
              "       [0.88605596],\n",
              "       [0.93302778],\n",
              "       [0.86897721],\n",
              "       [1.32201085],\n",
              "       [0.82463294],\n",
              "       [0.89065799],\n",
              "       [1.08811263],\n",
              "       [0.99049458],\n",
              "       [0.83185117],\n",
              "       [0.81503814],\n",
              "       [1.77988091],\n",
              "       [0.83838348],\n",
              "       [1.07262563],\n",
              "       [0.95844224],\n",
              "       [1.16494355],\n",
              "       [0.81334529],\n",
              "       [0.84612514],\n",
              "       [0.81350732],\n",
              "       [0.75425554],\n",
              "       [0.93743505],\n",
              "       [0.91329453],\n",
              "       [0.84386312],\n",
              "       [0.81712271],\n",
              "       [0.75336518],\n",
              "       [0.80199274],\n",
              "       [0.88059591],\n",
              "       [1.07353746],\n",
              "       [2.0542869 ],\n",
              "       [1.63661078],\n",
              "       [2.1955847 ],\n",
              "       [0.81865837],\n",
              "       [0.86897721],\n",
              "       [0.81865837],\n",
              "       [0.9536037 ],\n",
              "       [0.90064001],\n",
              "       [0.88320468],\n",
              "       [0.9211666 ],\n",
              "       [0.81506476],\n",
              "       [0.82463294],\n",
              "       [0.77480132],\n",
              "       [1.06787956],\n",
              "       [1.48115259],\n",
              "       [0.94734321],\n",
              "       [0.79553323],\n",
              "       [1.28083793],\n",
              "       [1.21517582],\n",
              "       [0.90630208],\n",
              "       [0.90150984],\n",
              "       [0.8440661 ],\n",
              "       [0.80966433],\n",
              "       [1.0051964 ],\n",
              "       [0.8134799 ],\n",
              "       [0.8642116 ],\n",
              "       [0.88301306],\n",
              "       [0.96760155],\n",
              "       [1.05432016],\n",
              "       [0.8174802 ],\n",
              "       [0.93262003],\n",
              "       [0.81057327],\n",
              "       [0.83067486],\n",
              "       [0.94138523],\n",
              "       [0.83141708],\n",
              "       [0.90720352],\n",
              "       [0.93824769],\n",
              "       [1.28586711],\n",
              "       [1.14382025],\n",
              "       [1.1945812 ],\n",
              "       [0.84489018],\n",
              "       [0.7970945 ],\n",
              "       [0.9268526 ],\n",
              "       [0.92296612],\n",
              "       [1.14206335],\n",
              "       [0.89611891],\n",
              "       [0.88543293],\n",
              "       [1.18139052],\n",
              "       [1.06565946],\n",
              "       [1.38408067],\n",
              "       [0.81057327],\n",
              "       [0.82877434],\n",
              "       [0.83532516],\n",
              "       [1.1771308 ],\n",
              "       [0.96262592],\n",
              "       [1.30856474],\n",
              "       [0.91512444],\n",
              "       [0.98495213],\n",
              "       [1.32551219],\n",
              "       [0.96928862],\n",
              "       [1.03444678],\n",
              "       [0.94993168],\n",
              "       [0.91695874],\n",
              "       [0.90870187],\n",
              "       [1.00790706],\n",
              "       [1.17400061],\n",
              "       [1.47507148],\n",
              "       [0.94706634],\n",
              "       [1.09176907],\n",
              "       [1.336009  ],\n",
              "       [1.33352328],\n",
              "       [1.47047952],\n",
              "       [1.82975152]])"
            ]
          },
          "metadata": {
            "tags": []
          },
          "execution_count": 68
        }
      ]
    },
    {
      "cell_type": "code",
      "metadata": {
        "id": "i1HN_ut8RXDu",
        "colab_type": "code",
        "colab": {
          "base_uri": "https://localhost:8080/",
          "height": 282
        },
        "outputId": "252dcc95-b7ef-4444-cbfa-c73dee2bb144"
      },
      "source": [
        "df.assign(bw=kernelWa.bandwidth.flatten()).plot('bw', cmap='Reds')"
      ],
      "execution_count": 69,
      "outputs": [
        {
          "output_type": "execute_result",
          "data": {
            "text/plain": [
              "<matplotlib.axes._subplots.AxesSubplot at 0x7f31825283c8>"
            ]
          },
          "metadata": {
            "tags": []
          },
          "execution_count": 69
        },
        {
          "output_type": "display_data",
          "data": {
            "image/png": "[encoded data removed]",
            "text/plain": [
              "<Figure size 432x288 with 1 Axes>"
            ]
          },
          "metadata": {
            "tags": []
          }
        }
      ]
    },
    {
      "cell_type": "markdown",
      "metadata": {
        "id": "qTGD6uRdRXD4",
        "colab_type": "text"
      },
      "source": [
        "**fixed bandwidths for the map and weight according to a gaussian kernel**\n",
        "\n",
        "bandwidth = maximum of (the distances to the kth nearest neighbor for all observations)"
      ]
    },
    {
      "cell_type": "code",
      "metadata": {
        "id": "q0koMPSxRXD5",
        "colab_type": "code",
        "colab": {
          "base_uri": "https://localhost:8080/",
          "height": 282
        },
        "outputId": "2ec1f02e-7856-4209-a473-1febf76c7616"
      },
      "source": [
        "kernelWa = Kernel.from_dataframe(df, k=2, fixed=True, function='gaussian')\n",
        "\n",
        "df.assign(weights=kernelWa.sparse[100,:].toarray().flatten()).plot('weights', cmap='plasma')\n"
      ],
      "execution_count": 70,
      "outputs": [
        {
          "output_type": "execute_result",
          "data": {
            "text/plain": [
              "<matplotlib.axes._subplots.AxesSubplot at 0x7f318250c048>"
            ]
          },
          "metadata": {
            "tags": []
          },
          "execution_count": 70
        },
        {
          "output_type": "display_data",
          "data": {
            "image/png": "[encoded data removed]",
            "text/plain": [
              "<Figure size 432x288 with 1 Axes>"
            ]
          },
          "metadata": {
            "tags": []
          }
        }
      ]
    },
    {
      "cell_type": "code",
      "metadata": {
        "id": "tEONysi5RXD_",
        "colab_type": "code",
        "colab": {
          "base_uri": "https://localhost:8080/",
          "height": 282
        },
        "outputId": "2367584f-8605-4dbc-8572-b07b8738769c"
      },
      "source": [
        "kernelWa = Kernel.from_dataframe(df, k=2, fixed=True, function='gaussian')\n",
        "\n",
        "df.assign(weights=kernelWa.sparse[1,:].toarray().flatten()).plot('weights', cmap='plasma')"
      ],
      "execution_count": 71,
      "outputs": [
        {
          "output_type": "execute_result",
          "data": {
            "text/plain": [
              "<matplotlib.axes._subplots.AxesSubplot at 0x7f31824d8780>"
            ]
          },
          "metadata": {
            "tags": []
          },
          "execution_count": 71
        },
        {
          "output_type": "display_data",
          "data": {
            "image/png": "[encoded data removed]",
            "text/plain": [
              "<Figure size 432x288 with 1 Axes>"
            ]
          },
          "metadata": {
            "tags": []
          }
        }
      ]
    },
    {
      "cell_type": "code",
      "metadata": {
        "id": "msu-6QkARXEH",
        "colab_type": "code",
        "colab": {
          "base_uri": "https://localhost:8080/",
          "height": 1000
        },
        "outputId": "b25fd373-0a27-46eb-d178-2a63580e821a"
      },
      "source": [
        "kernelWa.bandwidth"
      ],
      "execution_count": 72,
      "outputs": [
        {
          "output_type": "execute_result",
          "data": {
            "text/plain": [
              "array([[1.75504473],\n",
              "       [1.75504473],\n",
              "       [1.75504473],\n",
              "       [1.75504473],\n",
              "       [1.75504473],\n",
              "       [1.75504473],\n",
              "       [1.75504473],\n",
              "       [1.75504473],\n",
              "       [1.75504473],\n",
              "       [1.75504473],\n",
              "       [1.75504473],\n",
              "       [1.75504473],\n",
              "       [1.75504473],\n",
              "       [1.75504473],\n",
              "       [1.75504473],\n",
              "       [1.75504473],\n",
              "       [1.75504473],\n",
              "       [1.75504473],\n",
              "       [1.75504473],\n",
              "       [1.75504473],\n",
              "       [1.75504473],\n",
              "       [1.75504473],\n",
              "       [1.75504473],\n",
              "       [1.75504473],\n",
              "       [1.75504473],\n",
              "       [1.75504473],\n",
              "       [1.75504473],\n",
              "       [1.75504473],\n",
              "       [1.75504473],\n",
              "       [1.75504473],\n",
              "       [1.75504473],\n",
              "       [1.75504473],\n",
              "       [1.75504473],\n",
              "       [1.75504473],\n",
              "       [1.75504473],\n",
              "       [1.75504473],\n",
              "       [1.75504473],\n",
              "       [1.75504473],\n",
              "       [1.75504473],\n",
              "       [1.75504473],\n",
              "       [1.75504473],\n",
              "       [1.75504473],\n",
              "       [1.75504473],\n",
              "       [1.75504473],\n",
              "       [1.75504473],\n",
              "       [1.75504473],\n",
              "       [1.75504473],\n",
              "       [1.75504473],\n",
              "       [1.75504473],\n",
              "       [1.75504473],\n",
              "       [1.75504473],\n",
              "       [1.75504473],\n",
              "       [1.75504473],\n",
              "       [1.75504473],\n",
              "       [1.75504473],\n",
              "       [1.75504473],\n",
              "       [1.75504473],\n",
              "       [1.75504473],\n",
              "       [1.75504473],\n",
              "       [1.75504473],\n",
              "       [1.75504473],\n",
              "       [1.75504473],\n",
              "       [1.75504473],\n",
              "       [1.75504473],\n",
              "       [1.75504473],\n",
              "       [1.75504473],\n",
              "       [1.75504473],\n",
              "       [1.75504473],\n",
              "       [1.75504473],\n",
              "       [1.75504473],\n",
              "       [1.75504473],\n",
              "       [1.75504473],\n",
              "       [1.75504473],\n",
              "       [1.75504473],\n",
              "       [1.75504473],\n",
              "       [1.75504473],\n",
              "       [1.75504473],\n",
              "       [1.75504473],\n",
              "       [1.75504473],\n",
              "       [1.75504473],\n",
              "       [1.75504473],\n",
              "       [1.75504473],\n",
              "       [1.75504473],\n",
              "       [1.75504473],\n",
              "       [1.75504473],\n",
              "       [1.75504473],\n",
              "       [1.75504473],\n",
              "       [1.75504473],\n",
              "       [1.75504473],\n",
              "       [1.75504473],\n",
              "       [1.75504473],\n",
              "       [1.75504473],\n",
              "       [1.75504473],\n",
              "       [1.75504473],\n",
              "       [1.75504473],\n",
              "       [1.75504473],\n",
              "       [1.75504473],\n",
              "       [1.75504473],\n",
              "       [1.75504473],\n",
              "       [1.75504473],\n",
              "       [1.75504473],\n",
              "       [1.75504473],\n",
              "       [1.75504473],\n",
              "       [1.75504473],\n",
              "       [1.75504473],\n",
              "       [1.75504473],\n",
              "       [1.75504473],\n",
              "       [1.75504473],\n",
              "       [1.75504473],\n",
              "       [1.75504473],\n",
              "       [1.75504473],\n",
              "       [1.75504473],\n",
              "       [1.75504473],\n",
              "       [1.75504473],\n",
              "       [1.75504473],\n",
              "       [1.75504473],\n",
              "       [1.75504473],\n",
              "       [1.75504473],\n",
              "       [1.75504473],\n",
              "       [1.75504473],\n",
              "       [1.75504473],\n",
              "       [1.75504473],\n",
              "       [1.75504473],\n",
              "       [1.75504473],\n",
              "       [1.75504473],\n",
              "       [1.75504473],\n",
              "       [1.75504473],\n",
              "       [1.75504473],\n",
              "       [1.75504473],\n",
              "       [1.75504473],\n",
              "       [1.75504473],\n",
              "       [1.75504473],\n",
              "       [1.75504473],\n",
              "       [1.75504473],\n",
              "       [1.75504473],\n",
              "       [1.75504473],\n",
              "       [1.75504473],\n",
              "       [1.75504473],\n",
              "       [1.75504473],\n",
              "       [1.75504473],\n",
              "       [1.75504473],\n",
              "       [1.75504473],\n",
              "       [1.75504473],\n",
              "       [1.75504473],\n",
              "       [1.75504473],\n",
              "       [1.75504473],\n",
              "       [1.75504473],\n",
              "       [1.75504473],\n",
              "       [1.75504473],\n",
              "       [1.75504473],\n",
              "       [1.75504473],\n",
              "       [1.75504473],\n",
              "       [1.75504473],\n",
              "       [1.75504473],\n",
              "       [1.75504473],\n",
              "       [1.75504473],\n",
              "       [1.75504473],\n",
              "       [1.75504473],\n",
              "       [1.75504473],\n",
              "       [1.75504473],\n",
              "       [1.75504473],\n",
              "       [1.75504473],\n",
              "       [1.75504473],\n",
              "       [1.75504473],\n",
              "       [1.75504473],\n",
              "       [1.75504473],\n",
              "       [1.75504473],\n",
              "       [1.75504473],\n",
              "       [1.75504473],\n",
              "       [1.75504473],\n",
              "       [1.75504473],\n",
              "       [1.75504473],\n",
              "       [1.75504473],\n",
              "       [1.75504473],\n",
              "       [1.75504473],\n",
              "       [1.75504473],\n",
              "       [1.75504473],\n",
              "       [1.75504473],\n",
              "       [1.75504473],\n",
              "       [1.75504473],\n",
              "       [1.75504473],\n",
              "       [1.75504473],\n",
              "       [1.75504473],\n",
              "       [1.75504473],\n",
              "       [1.75504473],\n",
              "       [1.75504473],\n",
              "       [1.75504473],\n",
              "       [1.75504473],\n",
              "       [1.75504473],\n",
              "       [1.75504473],\n",
              "       [1.75504473],\n",
              "       [1.75504473],\n",
              "       [1.75504473],\n",
              "       [1.75504473],\n",
              "       [1.75504473],\n",
              "       [1.75504473],\n",
              "       [1.75504473],\n",
              "       [1.75504473],\n",
              "       [1.75504473],\n",
              "       [1.75504473],\n",
              "       [1.75504473],\n",
              "       [1.75504473],\n",
              "       [1.75504473],\n",
              "       [1.75504473],\n",
              "       [1.75504473],\n",
              "       [1.75504473],\n",
              "       [1.75504473],\n",
              "       [1.75504473],\n",
              "       [1.75504473],\n",
              "       [1.75504473],\n",
              "       [1.75504473],\n",
              "       [1.75504473],\n",
              "       [1.75504473],\n",
              "       [1.75504473],\n",
              "       [1.75504473],\n",
              "       [1.75504473],\n",
              "       [1.75504473],\n",
              "       [1.75504473],\n",
              "       [1.75504473],\n",
              "       [1.75504473],\n",
              "       [1.75504473],\n",
              "       [1.75504473],\n",
              "       [1.75504473],\n",
              "       [1.75504473],\n",
              "       [1.75504473],\n",
              "       [1.75504473],\n",
              "       [1.75504473],\n",
              "       [1.75504473],\n",
              "       [1.75504473],\n",
              "       [1.75504473],\n",
              "       [1.75504473],\n",
              "       [1.75504473],\n",
              "       [1.75504473],\n",
              "       [1.75504473],\n",
              "       [1.75504473],\n",
              "       [1.75504473],\n",
              "       [1.75504473],\n",
              "       [1.75504473],\n",
              "       [1.75504473],\n",
              "       [1.75504473],\n",
              "       [1.75504473],\n",
              "       [1.75504473],\n",
              "       [1.75504473],\n",
              "       [1.75504473],\n",
              "       [1.75504473],\n",
              "       [1.75504473],\n",
              "       [1.75504473],\n",
              "       [1.75504473],\n",
              "       [1.75504473],\n",
              "       [1.75504473],\n",
              "       [1.75504473],\n",
              "       [1.75504473],\n",
              "       [1.75504473],\n",
              "       [1.75504473]])"
            ]
          },
          "metadata": {
            "tags": []
          },
          "execution_count": 72
        }
      ]
    },
    {
      "cell_type": "code",
      "metadata": {
        "id": "owObAbJ5RXEO",
        "colab_type": "code",
        "colab": {
          "base_uri": "https://localhost:8080/",
          "height": 282
        },
        "outputId": "bea361cc-5bde-4c26-ea35-b7c450e795ad"
      },
      "source": [
        "df.assign(bw=kernelWa.bandwidth.flatten()).plot('bw', cmap='Reds')"
      ],
      "execution_count": 73,
      "outputs": [
        {
          "output_type": "execute_result",
          "data": {
            "text/plain": [
              "<matplotlib.axes._subplots.AxesSubplot at 0x7f3182485278>"
            ]
          },
          "metadata": {
            "tags": []
          },
          "execution_count": 73
        },
        {
          "output_type": "display_data",
          "data": {
            "image/png": "[encoded data removed]",
            "text/plain": [
              "<Figure size 432x288 with 1 Axes>"
            ]
          },
          "metadata": {
            "tags": []
          }
        }
      ]
    },
    {
      "cell_type": "markdown",
      "metadata": {
        "id": "rBBWxY3cRXET",
        "colab_type": "text"
      },
      "source": [
        "## Block Weights"
      ]
    },
    {
      "cell_type": "code",
      "metadata": {
        "id": "JFdwNZBYRXEU",
        "colab_type": "code",
        "colab": {}
      },
      "source": [
        "w,s,e,n = df.total_bounds"
      ],
      "execution_count": 0,
      "outputs": []
    },
    {
      "cell_type": "code",
      "metadata": {
        "id": "UIiEvCKCRXEY",
        "colab_type": "code",
        "colab": {}
      },
      "source": [
        "mx = (w+e)/2\n",
        "my = (n+s)/2"
      ],
      "execution_count": 0,
      "outputs": []
    },
    {
      "cell_type": "code",
      "metadata": {
        "id": "KdJZSDPSRXEb",
        "colab_type": "code",
        "colab": {}
      },
      "source": [
        "# import shapely"
      ],
      "execution_count": 0,
      "outputs": []
    },
    {
      "cell_type": "code",
      "metadata": {
        "id": "RZbJUxr5RXEi",
        "colab_type": "code",
        "colab": {}
      },
      "source": [
        "centroids = df.geometry.centroid"
      ],
      "execution_count": 0,
      "outputs": []
    },
    {
      "cell_type": "code",
      "metadata": {
        "id": "mYdxKcF1RXEm",
        "colab_type": "code",
        "colab": {}
      },
      "source": [
        "lon = centroids.apply(lambda p: p.x).values\n",
        "lat = centroids.apply(lambda p: p.y).values"
      ],
      "execution_count": 0,
      "outputs": []
    },
    {
      "cell_type": "code",
      "metadata": {
        "id": "9fHH1aWVRXEx",
        "colab_type": "code",
        "colab": {}
      },
      "source": [
        "north = lat > my\n",
        "south = lat <= my\n",
        "east = lon > mx\n",
        "west = lon <= mx"
      ],
      "execution_count": 0,
      "outputs": []
    },
    {
      "cell_type": "code",
      "metadata": {
        "id": "Y2aNDH_6RXE5",
        "colab_type": "code",
        "colab": {}
      },
      "source": [
        "nw = west * north * 2\n",
        "ne = east * north * 1\n",
        "sw = west * south * 3\n",
        "se = east * south *4\n",
        "quad = nw + ne + sw + se"
      ],
      "execution_count": 0,
      "outputs": []
    },
    {
      "cell_type": "code",
      "metadata": {
        "id": "LxLaKLngRXFB",
        "colab_type": "code",
        "colab": {
          "base_uri": "https://localhost:8080/",
          "height": 221
        },
        "outputId": "777287d8-b931-47bb-dee4-7a9c70f751a6"
      },
      "source": [
        "quad"
      ],
      "execution_count": 82,
      "outputs": [
        {
          "output_type": "execute_result",
          "data": {
            "text/plain": [
              "array([2, 2, 2, 2, 2, 2, 2, 2, 2, 2, 2, 2, 2, 2, 2, 2, 2, 2, 2, 2, 2, 2,\n",
              "       2, 2, 2, 2, 1, 1, 2, 2, 2, 2, 2, 2, 1, 1, 1, 1, 1, 1, 1, 1, 1, 2,\n",
              "       2, 2, 2, 1, 2, 1, 1, 2, 1, 1, 1, 1, 1, 1, 1, 1, 1, 1, 1, 2, 2, 1,\n",
              "       2, 2, 2, 2, 1, 1, 1, 1, 1, 1, 1, 1, 1, 1, 1, 1, 1, 2, 2, 2, 2, 1,\n",
              "       2, 1, 1, 1, 1, 1, 1, 1, 1, 1, 1, 1, 2, 2, 1, 1, 2, 2, 2, 1, 1, 1,\n",
              "       1, 1, 1, 1, 1, 1, 1, 2, 2, 2, 2, 2, 2, 1, 1, 1, 1, 1, 1, 2, 2, 2,\n",
              "       2, 2, 1, 1, 1, 1, 1, 1, 2, 2, 1, 2, 2, 2, 1, 1, 1, 1, 2, 1, 1, 1,\n",
              "       4, 1, 4, 3, 4, 4, 4, 4, 4, 4, 3, 4, 3, 4, 3, 4, 4, 4, 4, 4, 4, 4,\n",
              "       4, 4, 4, 4, 3, 3, 3, 3, 4, 4, 4, 4, 4, 4, 4, 4, 4, 4, 3, 3, 4, 4,\n",
              "       4, 4, 4, 4, 4, 4, 4, 4, 4, 4, 4, 4, 4, 4, 4, 4, 4, 4, 4, 4, 3, 4,\n",
              "       4, 4, 4, 4, 4, 4, 4, 4, 4, 4, 3, 4, 4, 4, 4, 4, 4, 4, 4, 4, 4, 4,\n",
              "       4, 4, 4, 4, 4, 4, 4, 4, 4, 4, 4, 4])"
            ]
          },
          "metadata": {
            "tags": []
          },
          "execution_count": 82
        }
      ]
    },
    {
      "cell_type": "code",
      "metadata": {
        "id": "XCY-l5h_RXFI",
        "colab_type": "code",
        "colab": {
          "base_uri": "https://localhost:8080/",
          "height": 282
        },
        "outputId": "7e2a73c2-c2e0-4aa1-b120-2ebfee2e3445"
      },
      "source": [
        "df['quad'] = quad\n",
        "df.plot(column=\"quad\", categorical=True)"
      ],
      "execution_count": 83,
      "outputs": [
        {
          "output_type": "execute_result",
          "data": {
            "text/plain": [
              "<matplotlib.axes._subplots.AxesSubplot at 0x7f31825689e8>"
            ]
          },
          "metadata": {
            "tags": []
          },
          "execution_count": 83
        },
        {
          "output_type": "display_data",
          "data": {
            "image/png": "[encoded data removed]",
            "text/plain": [
              "<Figure size 432x288 with 1 Axes>"
            ]
          },
          "metadata": {
            "tags": []
          }
        }
      ]
    },
    {
      "cell_type": "code",
      "metadata": {
        "id": "UxWnpDhvRXFL",
        "colab_type": "code",
        "colab": {
          "base_uri": "https://localhost:8080/",
          "height": 88
        },
        "outputId": "33647430-1253-4133-f98a-34798535d03e"
      },
      "source": [
        "blockW = libpysal.weights.block_weights(df[\"quad\"])"
      ],
      "execution_count": 84,
      "outputs": [
        {
          "output_type": "stream",
          "text": [
            "/usr/local/lib/python3.6/dist-packages/libpysal/weights/weights.py:167: UserWarning: The weights matrix is not fully connected: \n",
            " There are 4 disconnected components.\n",
            "  warnings.warn(message)\n"
          ],
          "name": "stderr"
        }
      ]
    },
    {
      "cell_type": "code",
      "metadata": {
        "id": "QpEdZDp1RXFT",
        "colab_type": "code",
        "colab": {
          "base_uri": "https://localhost:8080/",
          "height": 34
        },
        "outputId": "4dc4e411-8a59-4339-a158-ab36d94dd007"
      },
      "source": [
        "blockW.n"
      ],
      "execution_count": 85,
      "outputs": [
        {
          "output_type": "execute_result",
          "data": {
            "text/plain": [
              "254"
            ]
          },
          "metadata": {
            "tags": []
          },
          "execution_count": 85
        }
      ]
    },
    {
      "cell_type": "code",
      "metadata": {
        "id": "S28SKd61RXFY",
        "colab_type": "code",
        "colab": {
          "base_uri": "https://localhost:8080/",
          "height": 34
        },
        "outputId": "0efcb3e3-1ae5-45f9-9f20-d6756e79d3d0"
      },
      "source": [
        "blockW.pct_nonzero"
      ],
      "execution_count": 86,
      "outputs": [
        {
          "output_type": "execute_result",
          "data": {
            "text/plain": [
              "30.31186062372125"
            ]
          },
          "metadata": {
            "tags": []
          },
          "execution_count": 86
        }
      ]
    },
    {
      "cell_type": "code",
      "metadata": {
        "id": "KJAHvKuORXFd",
        "colab_type": "code",
        "colab": {
          "base_uri": "https://localhost:8080/",
          "height": 282
        },
        "outputId": "5d9439d6-c1d9-4ed5-c97b-10f4f3d7b919"
      },
      "source": [
        "pandas.Series(blockW.cardinalities).plot.hist()"
      ],
      "execution_count": 87,
      "outputs": [
        {
          "output_type": "execute_result",
          "data": {
            "text/plain": [
              "<matplotlib.axes._subplots.AxesSubplot at 0x7f3182443a20>"
            ]
          },
          "metadata": {
            "tags": []
          },
          "execution_count": 87
        },
        {
          "output_type": "display_data",
          "data": {
            "image/png": "[encoded data removed]",
            "text/plain": [
              "<Figure size 432x288 with 1 Axes>"
            ]
          },
          "metadata": {
            "tags": []
          }
        }
      ]
    },
    {
      "cell_type": "code",
      "metadata": {
        "id": "Ptx4AWUYRXFg",
        "colab_type": "code",
        "colab": {
          "base_uri": "https://localhost:8080/",
          "height": 224
        },
        "outputId": "c8597be1-9f2a-4d95-8659-31b92e93356d"
      },
      "source": [
        "df.groupby(by='quad').count()"
      ],
      "execution_count": 88,
      "outputs": [
        {
          "output_type": "execute_result",
          "data": {
            "text/html": [
              "<div>\n",
              "<style scoped>\n",
              "    .dataframe tbody tr th:only-of-type {\n",
              "        vertical-align: middle;\n",
              "    }\n",
              "\n",
              "    .dataframe tbody tr th {\n",
              "        vertical-align: top;\n",
              "    }\n",
              "\n",
              "    .dataframe thead th {\n",
              "        text-align: right;\n",
              "    }\n",
              "</style>\n",
              "<table border=\"1\" class=\"dataframe\">\n",
              "  <thead>\n",
              "    <tr style=\"text-align: right;\">\n",
              "      <th></th>\n",
              "      <th>NAME</th>\n",
              "      <th>STATE_NAME</th>\n",
              "      <th>STATE_FIPS</th>\n",
              "      <th>CNTY_FIPS</th>\n",
              "      <th>FIPS</th>\n",
              "      <th>STFIPS</th>\n",
              "      <th>COFIPS</th>\n",
              "      <th>FIPSNO</th>\n",
              "      <th>SOUTH</th>\n",
              "      <th>HR60</th>\n",
              "      <th>HR70</th>\n",
              "      <th>HR80</th>\n",
              "      <th>HR90</th>\n",
              "      <th>HC60</th>\n",
              "      <th>HC70</th>\n",
              "      <th>HC80</th>\n",
              "      <th>HC90</th>\n",
              "      <th>PO60</th>\n",
              "      <th>PO70</th>\n",
              "      <th>PO80</th>\n",
              "      <th>PO90</th>\n",
              "      <th>RD60</th>\n",
              "      <th>RD70</th>\n",
              "      <th>RD80</th>\n",
              "      <th>RD90</th>\n",
              "      <th>PS60</th>\n",
              "      <th>PS70</th>\n",
              "      <th>PS80</th>\n",
              "      <th>PS90</th>\n",
              "      <th>UE60</th>\n",
              "      <th>UE70</th>\n",
              "      <th>UE80</th>\n",
              "      <th>UE90</th>\n",
              "      <th>DV60</th>\n",
              "      <th>DV70</th>\n",
              "      <th>DV80</th>\n",
              "      <th>DV90</th>\n",
              "      <th>MA60</th>\n",
              "      <th>MA70</th>\n",
              "      <th>MA80</th>\n",
              "      <th>MA90</th>\n",
              "      <th>POL60</th>\n",
              "      <th>POL70</th>\n",
              "      <th>POL80</th>\n",
              "      <th>POL90</th>\n",
              "      <th>DNL60</th>\n",
              "      <th>DNL70</th>\n",
              "      <th>DNL80</th>\n",
              "      <th>DNL90</th>\n",
              "      <th>MFIL59</th>\n",
              "      <th>MFIL69</th>\n",
              "      <th>MFIL79</th>\n",
              "      <th>MFIL89</th>\n",
              "      <th>FP59</th>\n",
              "      <th>FP69</th>\n",
              "      <th>FP79</th>\n",
              "      <th>FP89</th>\n",
              "      <th>BLK60</th>\n",
              "      <th>BLK70</th>\n",
              "      <th>BLK80</th>\n",
              "      <th>BLK90</th>\n",
              "      <th>GI59</th>\n",
              "      <th>GI69</th>\n",
              "      <th>GI79</th>\n",
              "      <th>GI89</th>\n",
              "      <th>FH60</th>\n",
              "      <th>FH70</th>\n",
              "      <th>FH80</th>\n",
              "      <th>FH90</th>\n",
              "      <th>geometry</th>\n",
              "    </tr>\n",
              "    <tr>\n",
              "      <th>quad</th>\n",
              "      <th></th>\n",
              "      <th></th>\n",
              "      <th></th>\n",
              "      <th></th>\n",
              "      <th></th>\n",
              "      <th></th>\n",
              "      <th></th>\n",
              "      <th></th>\n",
              "      <th></th>\n",
              "      <th></th>\n",
              "      <th></th>\n",
              "      <th></th>\n",
              "      <th></th>\n",
              "      <th></th>\n",
              "      <th></th>\n",
              "      <th></th>\n",
              "      <th></th>\n",
              "      <th></th>\n",
              "      <th></th>\n",
              "      <th></th>\n",
              "      <th></th>\n",
              "      <th></th>\n",
              "      <th></th>\n",
              "      <th></th>\n",
              "      <th></th>\n",
              "      <th></th>\n",
              "      <th></th>\n",
              "      <th></th>\n",
              "      <th></th>\n",
              "      <th></th>\n",
              "      <th></th>\n",
              "      <th></th>\n",
              "      <th></th>\n",
              "      <th></th>\n",
              "      <th></th>\n",
              "      <th></th>\n",
              "      <th></th>\n",
              "      <th></th>\n",
              "      <th></th>\n",
              "      <th></th>\n",
              "      <th></th>\n",
              "      <th></th>\n",
              "      <th></th>\n",
              "      <th></th>\n",
              "      <th></th>\n",
              "      <th></th>\n",
              "      <th></th>\n",
              "      <th></th>\n",
              "      <th></th>\n",
              "      <th></th>\n",
              "      <th></th>\n",
              "      <th></th>\n",
              "      <th></th>\n",
              "      <th></th>\n",
              "      <th></th>\n",
              "      <th></th>\n",
              "      <th></th>\n",
              "      <th></th>\n",
              "      <th></th>\n",
              "      <th></th>\n",
              "      <th></th>\n",
              "      <th></th>\n",
              "      <th></th>\n",
              "      <th></th>\n",
              "      <th></th>\n",
              "      <th></th>\n",
              "      <th></th>\n",
              "      <th></th>\n",
              "      <th></th>\n",
              "      <th></th>\n",
              "    </tr>\n",
              "  </thead>\n",
              "  <tbody>\n",
              "    <tr>\n",
              "      <th>1</th>\n",
              "      <td>84</td>\n",
              "      <td>84</td>\n",
              "      <td>84</td>\n",
              "      <td>84</td>\n",
              "      <td>84</td>\n",
              "      <td>84</td>\n",
              "      <td>84</td>\n",
              "      <td>84</td>\n",
              "      <td>84</td>\n",
              "      <td>84</td>\n",
              "      <td>84</td>\n",
              "      <td>84</td>\n",
              "      <td>84</td>\n",
              "      <td>84</td>\n",
              "      <td>84</td>\n",
              "      <td>84</td>\n",
              "      <td>84</td>\n",
              "      <td>84</td>\n",
              "      <td>84</td>\n",
              "      <td>84</td>\n",
              "      <td>84</td>\n",
              "      <td>84</td>\n",
              "      <td>84</td>\n",
              "      <td>84</td>\n",
              "      <td>84</td>\n",
              "      <td>84</td>\n",
              "      <td>84</td>\n",
              "      <td>84</td>\n",
              "      <td>84</td>\n",
              "      <td>84</td>\n",
              "      <td>84</td>\n",
              "      <td>84</td>\n",
              "      <td>84</td>\n",
              "      <td>84</td>\n",
              "      <td>84</td>\n",
              "      <td>84</td>\n",
              "      <td>84</td>\n",
              "      <td>84</td>\n",
              "      <td>84</td>\n",
              "      <td>84</td>\n",
              "      <td>84</td>\n",
              "      <td>84</td>\n",
              "      <td>84</td>\n",
              "      <td>84</td>\n",
              "      <td>84</td>\n",
              "      <td>84</td>\n",
              "      <td>84</td>\n",
              "      <td>84</td>\n",
              "      <td>84</td>\n",
              "      <td>84</td>\n",
              "      <td>84</td>\n",
              "      <td>84</td>\n",
              "      <td>84</td>\n",
              "      <td>84</td>\n",
              "      <td>84</td>\n",
              "      <td>84</td>\n",
              "      <td>84</td>\n",
              "      <td>84</td>\n",
              "      <td>84</td>\n",
              "      <td>84</td>\n",
              "      <td>84</td>\n",
              "      <td>84</td>\n",
              "      <td>84</td>\n",
              "      <td>84</td>\n",
              "      <td>84</td>\n",
              "      <td>84</td>\n",
              "      <td>84</td>\n",
              "      <td>84</td>\n",
              "      <td>84</td>\n",
              "      <td>84</td>\n",
              "    </tr>\n",
              "    <tr>\n",
              "      <th>2</th>\n",
              "      <td>71</td>\n",
              "      <td>71</td>\n",
              "      <td>71</td>\n",
              "      <td>71</td>\n",
              "      <td>71</td>\n",
              "      <td>71</td>\n",
              "      <td>71</td>\n",
              "      <td>71</td>\n",
              "      <td>71</td>\n",
              "      <td>71</td>\n",
              "      <td>71</td>\n",
              "      <td>71</td>\n",
              "      <td>71</td>\n",
              "      <td>71</td>\n",
              "      <td>71</td>\n",
              "      <td>71</td>\n",
              "      <td>71</td>\n",
              "      <td>71</td>\n",
              "      <td>71</td>\n",
              "      <td>71</td>\n",
              "      <td>71</td>\n",
              "      <td>71</td>\n",
              "      <td>71</td>\n",
              "      <td>71</td>\n",
              "      <td>71</td>\n",
              "      <td>71</td>\n",
              "      <td>71</td>\n",
              "      <td>71</td>\n",
              "      <td>71</td>\n",
              "      <td>71</td>\n",
              "      <td>71</td>\n",
              "      <td>71</td>\n",
              "      <td>71</td>\n",
              "      <td>71</td>\n",
              "      <td>71</td>\n",
              "      <td>71</td>\n",
              "      <td>71</td>\n",
              "      <td>71</td>\n",
              "      <td>71</td>\n",
              "      <td>71</td>\n",
              "      <td>71</td>\n",
              "      <td>71</td>\n",
              "      <td>71</td>\n",
              "      <td>71</td>\n",
              "      <td>71</td>\n",
              "      <td>71</td>\n",
              "      <td>71</td>\n",
              "      <td>71</td>\n",
              "      <td>71</td>\n",
              "      <td>71</td>\n",
              "      <td>71</td>\n",
              "      <td>71</td>\n",
              "      <td>71</td>\n",
              "      <td>71</td>\n",
              "      <td>71</td>\n",
              "      <td>71</td>\n",
              "      <td>71</td>\n",
              "      <td>71</td>\n",
              "      <td>71</td>\n",
              "      <td>71</td>\n",
              "      <td>71</td>\n",
              "      <td>71</td>\n",
              "      <td>71</td>\n",
              "      <td>71</td>\n",
              "      <td>71</td>\n",
              "      <td>71</td>\n",
              "      <td>71</td>\n",
              "      <td>71</td>\n",
              "      <td>71</td>\n",
              "      <td>71</td>\n",
              "    </tr>\n",
              "    <tr>\n",
              "      <th>3</th>\n",
              "      <td>12</td>\n",
              "      <td>12</td>\n",
              "      <td>12</td>\n",
              "      <td>12</td>\n",
              "      <td>12</td>\n",
              "      <td>12</td>\n",
              "      <td>12</td>\n",
              "      <td>12</td>\n",
              "      <td>12</td>\n",
              "      <td>12</td>\n",
              "      <td>12</td>\n",
              "      <td>12</td>\n",
              "      <td>12</td>\n",
              "      <td>12</td>\n",
              "      <td>12</td>\n",
              "      <td>12</td>\n",
              "      <td>12</td>\n",
              "      <td>12</td>\n",
              "      <td>12</td>\n",
              "      <td>12</td>\n",
              "      <td>12</td>\n",
              "      <td>12</td>\n",
              "      <td>12</td>\n",
              "      <td>12</td>\n",
              "      <td>12</td>\n",
              "      <td>12</td>\n",
              "      <td>12</td>\n",
              "      <td>12</td>\n",
              "      <td>12</td>\n",
              "      <td>12</td>\n",
              "      <td>12</td>\n",
              "      <td>12</td>\n",
              "      <td>12</td>\n",
              "      <td>12</td>\n",
              "      <td>12</td>\n",
              "      <td>12</td>\n",
              "      <td>12</td>\n",
              "      <td>12</td>\n",
              "      <td>12</td>\n",
              "      <td>12</td>\n",
              "      <td>12</td>\n",
              "      <td>12</td>\n",
              "      <td>12</td>\n",
              "      <td>12</td>\n",
              "      <td>12</td>\n",
              "      <td>12</td>\n",
              "      <td>12</td>\n",
              "      <td>12</td>\n",
              "      <td>12</td>\n",
              "      <td>12</td>\n",
              "      <td>12</td>\n",
              "      <td>12</td>\n",
              "      <td>12</td>\n",
              "      <td>12</td>\n",
              "      <td>12</td>\n",
              "      <td>12</td>\n",
              "      <td>12</td>\n",
              "      <td>12</td>\n",
              "      <td>12</td>\n",
              "      <td>12</td>\n",
              "      <td>12</td>\n",
              "      <td>12</td>\n",
              "      <td>12</td>\n",
              "      <td>12</td>\n",
              "      <td>12</td>\n",
              "      <td>12</td>\n",
              "      <td>12</td>\n",
              "      <td>12</td>\n",
              "      <td>12</td>\n",
              "      <td>12</td>\n",
              "    </tr>\n",
              "    <tr>\n",
              "      <th>4</th>\n",
              "      <td>87</td>\n",
              "      <td>87</td>\n",
              "      <td>87</td>\n",
              "      <td>87</td>\n",
              "      <td>87</td>\n",
              "      <td>87</td>\n",
              "      <td>87</td>\n",
              "      <td>87</td>\n",
              "      <td>87</td>\n",
              "      <td>87</td>\n",
              "      <td>87</td>\n",
              "      <td>87</td>\n",
              "      <td>87</td>\n",
              "      <td>87</td>\n",
              "      <td>87</td>\n",
              "      <td>87</td>\n",
              "      <td>87</td>\n",
              "      <td>87</td>\n",
              "      <td>87</td>\n",
              "      <td>87</td>\n",
              "      <td>87</td>\n",
              "      <td>87</td>\n",
              "      <td>87</td>\n",
              "      <td>87</td>\n",
              "      <td>87</td>\n",
              "      <td>87</td>\n",
              "      <td>87</td>\n",
              "      <td>87</td>\n",
              "      <td>87</td>\n",
              "      <td>87</td>\n",
              "      <td>87</td>\n",
              "      <td>87</td>\n",
              "      <td>87</td>\n",
              "      <td>87</td>\n",
              "      <td>87</td>\n",
              "      <td>87</td>\n",
              "      <td>87</td>\n",
              "      <td>87</td>\n",
              "      <td>87</td>\n",
              "      <td>87</td>\n",
              "      <td>87</td>\n",
              "      <td>87</td>\n",
              "      <td>87</td>\n",
              "      <td>87</td>\n",
              "      <td>87</td>\n",
              "      <td>87</td>\n",
              "      <td>87</td>\n",
              "      <td>87</td>\n",
              "      <td>87</td>\n",
              "      <td>87</td>\n",
              "      <td>87</td>\n",
              "      <td>87</td>\n",
              "      <td>87</td>\n",
              "      <td>87</td>\n",
              "      <td>87</td>\n",
              "      <td>87</td>\n",
              "      <td>87</td>\n",
              "      <td>87</td>\n",
              "      <td>87</td>\n",
              "      <td>87</td>\n",
              "      <td>87</td>\n",
              "      <td>87</td>\n",
              "      <td>87</td>\n",
              "      <td>87</td>\n",
              "      <td>87</td>\n",
              "      <td>87</td>\n",
              "      <td>87</td>\n",
              "      <td>87</td>\n",
              "      <td>87</td>\n",
              "      <td>87</td>\n",
              "    </tr>\n",
              "  </tbody>\n",
              "</table>\n",
              "</div>"
            ],
            "text/plain": [
              "      NAME  STATE_NAME  STATE_FIPS  CNTY_FIPS  ...  FH70  FH80  FH90  geometry\n",
              "quad                                           ...                            \n",
              "1       84          84          84         84  ...    84    84    84        84\n",
              "2       71          71          71         71  ...    71    71    71        71\n",
              "3       12          12          12         12  ...    12    12    12        12\n",
              "4       87          87          87         87  ...    87    87    87        87\n",
              "\n",
              "[4 rows x 70 columns]"
            ]
          },
          "metadata": {
            "tags": []
          },
          "execution_count": 88
        }
      ]
    },
    {
      "cell_type": "code",
      "metadata": {
        "id": "KGIRHk8HRXFl",
        "colab_type": "code",
        "colab": {
          "base_uri": "https://localhost:8080/",
          "height": 299
        },
        "outputId": "edbe4712-c658-4113-c942-b9a3241ba5ca"
      },
      "source": [
        "rW.plot(df)"
      ],
      "execution_count": 89,
      "outputs": [
        {
          "output_type": "execute_result",
          "data": {
            "text/plain": [
              "(<Figure size 432x288 with 1 Axes>,\n",
              " <matplotlib.axes._subplots.AxesSubplot at 0x7f3182454780>)"
            ]
          },
          "metadata": {
            "tags": []
          },
          "execution_count": 89
        },
        {
          "output_type": "display_data",
          "data": {
            "image/png": "[encoded data removed]",
            "text/plain": [
              "<Figure size 432x288 with 1 Axes>"
            ]
          },
          "metadata": {
            "tags": []
          }
        }
      ]
    },
    {
      "cell_type": "code",
      "metadata": {
        "id": "TxjJbLcBRXFq",
        "colab_type": "code",
        "colab": {
          "base_uri": "https://localhost:8080/",
          "height": 299
        },
        "outputId": "826fbe23-e7cb-474d-a103-68ac0a8d491e"
      },
      "source": [
        "qW.plot(df)"
      ],
      "execution_count": 90,
      "outputs": [
        {
          "output_type": "execute_result",
          "data": {
            "text/plain": [
              "(<Figure size 432x288 with 1 Axes>,\n",
              " <matplotlib.axes._subplots.AxesSubplot at 0x7f3182448160>)"
            ]
          },
          "metadata": {
            "tags": []
          },
          "execution_count": 90
        },
        {
          "output_type": "display_data",
          "data": {
            "image/png": "[encoded data removed]",
            "text/plain": [
              "<Figure size 432x288 with 1 Axes>"
            ]
          },
          "metadata": {
            "tags": []
          }
        }
      ]
    },
    {
      "cell_type": "markdown",
      "metadata": {
        "id": "zjMBmpfrRXFt",
        "colab_type": "text"
      },
      "source": [
        "<div class=\"alert alert-success\" style=\"font-size:120%\">\n",
        "<b>Exercise</b>: <br>\n",
        "    Which spatial weights structure would be more dense, Texas counties based on rook contiguity or Texas counties based on knn with k=4?\n",
        "</div>"
      ]
    },
    {
      "cell_type": "code",
      "metadata": {
        "id": "s6iJf4mGRXFt",
        "colab_type": "code",
        "colab": {}
      },
      "source": [
        "# %load solutions/300_2.py"
      ],
      "execution_count": 0,
      "outputs": []
    },
    {
      "cell_type": "markdown",
      "metadata": {
        "id": "MBzLAytSRXFw",
        "colab_type": "text"
      },
      "source": [
        "<div class=\"alert alert-success\" style=\"font-size:120%\">\n",
        "<b>Exercise</b>: <br>\n",
        "    Which counties have fewer neighbors under rook contiguity relative to knn4?\n",
        "</div>"
      ]
    },
    {
      "cell_type": "code",
      "metadata": {
        "id": "hFco0rN5RXFy",
        "colab_type": "code",
        "colab": {}
      },
      "source": [
        "# %load solutions/300_3.py"
      ],
      "execution_count": 0,
      "outputs": []
    },
    {
      "cell_type": "markdown",
      "metadata": {
        "id": "HxPcYvuRRXF2",
        "colab_type": "text"
      },
      "source": [
        "<div class=\"alert alert-success\" style=\"font-size:120%\">\n",
        "<b>Exercise</b>: <br>\n",
        "    Which counties have identicical neighbors under queen contiguity and queen rook contiguity?\n",
        "</div>"
      ]
    },
    {
      "cell_type": "code",
      "metadata": {
        "id": "F0JnBeAERXF3",
        "colab_type": "code",
        "colab": {}
      },
      "source": [
        "# %load solutions/300_4.py"
      ],
      "execution_count": 0,
      "outputs": []
    },
    {
      "cell_type": "markdown",
      "metadata": {
        "id": "bjS10_1fRXF8",
        "colab_type": "text"
      },
      "source": [
        "---\n",
        "\n",
        "<a rel=\"license\" href=\"http://creativecommons.org/licenses/by-nc-\n",
        "sa/4.0/\"><img alt=\"Creative Commons License\" style=\"border-width:0\"\n",
        "src=\"https://i.creativecommons.org/l/by-nc-sa/4.0/88x31.png\" /></a><br /><span\n",
        "xmlns:dct=\"http://purl.org/dc/terms/\" property=\"dct:title\">Spatial Weights</span> by <a xmlns:cc=\"http://creativecommons.org/ns#\"\n",
        "href=\"http://sergerey.org\" property=\"cc:attributionName\"\n",
        "rel=\"cc:attributionURL\">Serge Rey</a> is licensed under a <a\n",
        "rel=\"license\" href=\"http://creativecommons.org/licenses/by-nc-sa/4.0/\">Creative\n",
        "Commons Attribution-NonCommercial-ShareAlike 4.0 International License</a>."
      ]
    }
  ]
}